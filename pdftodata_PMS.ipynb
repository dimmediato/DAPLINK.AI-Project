{
 "cells": [
  {
   "cell_type": "markdown",
   "id": "022a715c-c088-4b22-8200-439946e97d0f",
   "metadata": {},
   "source": [
    "# pipeline for one pdf"
   ]
  },
  {
   "cell_type": "code",
   "execution_count": 2,
   "id": "67e02091-f3dd-432c-b94b-131767a60198",
   "metadata": {},
   "outputs": [
    {
     "name": "stdout",
     "output_type": "stream",
     "text": [
      "OCR Output: TESSERACT 17\n",
      "\n"
     ]
    }
   ],
   "source": [
    "pytesseract.pytesseract.tesseract_cmd = r\"C:\\Program Files\\Tesseract\\tesseract.exe\"\n",
    "import pytesseract\n",
    "from PIL import Image\n",
    "from io import BytesIO\n",
    "import numpy as np\n",
    "import cv2\n",
    "\n",
    "# Simple test image\n",
    "img = np.ones((100, 300), dtype=np.uint8) * 255\n",
    "cv2.putText(img, \"TESSERACT TEST\", (5, 60), cv2.FONT_HERSHEY_SIMPLEX, 1.5, (0), 2)\n",
    "\n",
    "# Run OCR\n",
    "text = pytesseract.image_to_string(img)\n",
    "print(\"OCR Output:\", text)"
   ]
  },
  {
   "cell_type": "code",
   "execution_count": 3,
   "id": "fd79d839-6562-43a0-84c9-904798bf072e",
   "metadata": {},
   "outputs": [
    {
     "name": "stdout",
     "output_type": "stream",
     "text": [
      "Saved C:\\Users\\immed\\Documents\\NYCDSA\\DAPLINK.AI-Project\\PDF Images\\page_001.png\n",
      "PDF pages converted to images.\n"
     ]
    }
   ],
   "source": [
    "#Goal is to convert PDF file into image before converting into CSV file. \n",
    "import fitz  # PyMuPDF\n",
    "from pathlib import Path\n",
    "\n",
    "BASE_DIR = Path(r\"C:\\Users\\immed\\Documents\\NYCDSA\\DAPLINK.AI-Project\")\n",
    "PDF_PATH = BASE_DIR / \"Roselle Dental Provider Productivity Jan 2022- Dec 2022.pdf\"\n",
    "IMG_DIR = BASE_DIR / 'PDF Images'\n",
    "\n",
    "IMG_DIR.mkdir(exist_ok=True)\n",
    "\n",
    "doc = fitz.open(PDF_PATH)\n",
    "\n",
    "for i, page in enumerate(doc):\n",
    "    pix = page.get_pixmap(dpi=300)\n",
    "    img_path = IMG_DIR / f\"page_{i+1:03}.png\"\n",
    "    pix.save(str(img_path))\n",
    "    print(f\"Saved {img_path}\")\n",
    "\n",
    "print(\"PDF pages converted to images.\")"
   ]
  },
  {
   "cell_type": "code",
   "execution_count": 24,
   "id": "76764e44-c5be-4dd2-83ce-34e41ee748f4",
   "metadata": {},
   "outputs": [
    {
     "name": "stdout",
     "output_type": "stream",
     "text": [
      "\n",
      "--- OCR lines from page_001.png ---\n",
      "01: TIME 2:30 PM Roselle Dental Center DATE 5/29/2025\n",
      "02: PROVIDER PRODUCTIVITY\n",
      "03: From EOD: Jan 03, 22 (01/03/22) To EOD: Dec 30, 22 (12/30/22)\n",
      "04: S Patients Avg. Ts ees\n",
      "05: Seen Visit Production Collection Adjustments\n",
      "06: Harvey Seybold, DDS - Dentist 2152 $170.51 $366,940.53 $644,938.06 ($68,140.36)\n",
      "07: Emily Hawkins RDH - Hygienist 728 $156.95 $114,256.95 $402.70 ($62.00)\n",
      "08: Farah Rahman RDH- Hygienist 1325 $139.81 $185,252.20 $0.00 $0.00\n",
      "09: Hyg Hyg - Hygienist 239 $139.37 $33,310.40 7 55-3 2} $0.00 $0.00\n",
      "10: IC - Dentist 100 $1,338.51 $133,851.00 $126,709.34 ($20,040.06)\n",
      "11: Jacqueline Hassenplug, DMI- Dentist 2103 $197.53 $415,411.10 $353,429.40 ($66,030.19)\n",
      "12: Michele Chiafulio-Zasada, RI- Hygienist 83 $142.71 $11,844.60 $0.00 $0.00\n",
      "13: Peter S. Chang, DDS - Dentist 57 $310.11 $17,676.10 ... ;  $$9,175.42 ($8,424.32)\n",
      "14: Roselle Dental Center - Office Staff 0 $0.00 “te $0.00 $0.00\n",
      "15: Yzabelle Tud - Hygienist £2 0 $0.00 “$0.00 $0.00\n",
      "16: Totals 4750 $269.17 $1 278,542.88 $1,134,654.92 ($162,696.93)\n",
      "17: “ Note - Total patients seen is the total for the system, the total for each provider may include patients. seen by multiple providers.\n",
      "18: “““ Note - Adjustments Total _ is the total of the providers other debits minus the providers other credits.\n",
      "19: Page 1 of 1 oe 23 a\n",
      "Not enough usable numeric fields: S Patients Avg. Ts ees\n",
      "Not enough usable numeric fields: Seen Visit Production Collection Adjustments\n",
      "Done! 11 rows written to C:\\Users\\immed\\Documents\\NYCDSA\\DAPLINK.AI-Project\\Productivity_full.csv\n"
     ]
    }
   ],
   "source": [
    "import os\n",
    "import cv2\n",
    "import pytesseract\n",
    "import re\n",
    "import pandas as pd\n",
    "from pathlib import Path\n",
    "\n",
    "BASE_DIR = Path(r\"C:\\Users\\immed\\Documents\\NYCDSA\\DAPLINK.AI-Project\")\n",
    "IMG_DIR = BASE_DIR / 'PDF Images'\n",
    "OUTPUT_CSV = BASE_DIR / 'Productivity_full.csv'\n",
    "\n",
    "# Match provider lines\n",
    "provider_decl = re.compile(r\"^(.+?),\\s*(DDS|RDH)$\")\n",
    "\n",
    "# Match service + 5 numbers\n",
    "row_pattern = re.compile(\n",
    "    r\"^(.+?,\\s*(DDS|RDH)[^$]*?)\\s+(\\d+)\\s+\\$?([\\d,.]+)\\s+\\$?([\\d,.]+)\\s+\\$?([\\d,.]+)\\s+\\(?\\$?([\\d,.]+)\\)?\"\n",
    ")\n",
    "\n",
    "records = []\n",
    "last_provider = None\n",
    "\n",
    "for img_file in sorted(os.listdir(IMG_DIR)):\n",
    "    if not img_file.lower().endswith(('.png', '.jpg', '.jpeg')):\n",
    "        continue\n",
    "\n",
    "    img_path = os.path.join(IMG_DIR, img_file)\n",
    "    img = cv2.imread(img_path)\n",
    "    if img is None:\n",
    "        print(f\"Warning: Cannot load image: {img_file}\")\n",
    "        continue\n",
    "\n",
    "    gray = cv2.cvtColor(img, cv2.COLOR_BGR2GRAY)\n",
    "    full_text = pytesseract.image_to_string(gray, lang='eng', config='--psm 6')\n",
    "    lines = [ln.strip() for ln in full_text.splitlines() if ln.strip()]\n",
    "    print(f\"\\n--- OCR lines from {img_file} ---\")\n",
    "for i, ln in enumerate(lines):\n",
    "    print(f\"{i+1:02}: {ln}\")\n",
    "    current_provider = last_provider or 'Unknown'\n",
    "\n",
    "for ln in lines:\n",
    "    if any(skip in ln for skip in ['TIME', 'DATE', 'Totals', 'Page', 'Note', 'PROVIDER PRODUCTIVITY']):\n",
    "        continue\n",
    "\n",
    "    # Extract numeric-like tokens using regex (allows for OCR errors)\n",
    "    nums = re.findall(r\"[-\\($]?\\$?\\d[\\d,]*\\.?\\d{0,2}[\\)$]?\", ln)\n",
    "\n",
    "    if len(nums) < 3:\n",
    "        print(f\"Not enough usable numeric fields: {ln}\")\n",
    "        continue\n",
    "\n",
    "    # Attempt to get provider name using the first numeric match\n",
    "    provider_split = re.split(r\"\\$?\\d\", ln, maxsplit=1)\n",
    "    provider_raw = provider_split[0].strip()\n",
    "\n",
    "    if not provider_raw or provider_raw.lower().startswith(\"totals\"):\n",
    "        continue\n",
    "\n",
    "    # Pad with '0.00' if we got fewer than 5 numbers\n",
    "    while len(nums) < 5:\n",
    "        nums.append('0.00')\n",
    "\n",
    "    try:\n",
    "        patients = int(re.sub(r\"[^\\d]\", \"\", nums[0]) or 0)\n",
    "        avg_visit = float(re.sub(r\"[^\\d.]\", \"\", nums[1]) or 0)\n",
    "        prod = float(re.sub(r\"[^\\d.]\", \"\", nums[2]) or 0)\n",
    "        coll = float(re.sub(r\"[^\\d.]\", \"\", nums[3]) or 0)\n",
    "        adj = float(re.sub(r\"[^\\d.]\", \"\", nums[4]) or 0)\n",
    "\n",
    "        records.append({\n",
    "            'Provider': provider_raw,\n",
    "            'Patients Seen': patients,\n",
    "            'Avg Visit Fee': avg_visit,\n",
    "            'Production': prod,\n",
    "            'Collection': coll,\n",
    "            'Adjustments': adj\n",
    "        })\n",
    "\n",
    "    except Exception as e:\n",
    "        print(f\"Final parse error on line: {ln}\\n   Reason: {e}\")\n",
    "        continue\n",
    "\n",
    "df = pd.DataFrame(records)\n",
    "\n",
    "def split_provider_field(provider):\n",
    "    if '-' in provider:\n",
    "        parts = provider.rsplit('-', 1)\n",
    "        return pd.Series([parts[0].strip(), parts[1].strip()])\n",
    "    else:\n",
    "        return pd.Series([provider.strip(), \"\"])\n",
    "\n",
    "df[['Provider Name', 'Service Role']] = df['Provider'].apply(split_provider_field)\n",
    "\n",
    "# Optional: Drop original 'Provider' and reorder columns\n",
    "df = df[['Provider Name', 'Service Role', 'Patients Seen', 'Avg Visit Fee', 'Production', 'Collection', 'Adjustments']]\n",
    "        \n",
    "df.to_csv(OUTPUT_CSV, index=False, encoding='utf-8-sig')\n",
    "print(f'Done! {len(df)} rows written to {OUTPUT_CSV}')\n"
   ]
  },
  {
   "cell_type": "markdown",
   "id": "1f6e6bd3-72f2-4030-bda6-5f06b9df3225",
   "metadata": {},
   "source": [
    "# loop all pdf"
   ]
  },
  {
   "cell_type": "code",
   "execution_count": null,
   "id": "459f0288-dfd0-49b0-8fc2-324fcc896dc2",
   "metadata": {},
   "outputs": [],
   "source": []
  }
 ],
 "metadata": {
  "kernelspec": {
   "display_name": "Python 3 (ipykernel)",
   "language": "python",
   "name": "python3"
  },
  "language_info": {
   "codemirror_mode": {
    "name": "ipython",
    "version": 3
   },
   "file_extension": ".py",
   "mimetype": "text/x-python",
   "name": "python",
   "nbconvert_exporter": "python",
   "pygments_lexer": "ipython3",
   "version": "3.11.7"
  }
 },
 "nbformat": 4,
 "nbformat_minor": 5
}
