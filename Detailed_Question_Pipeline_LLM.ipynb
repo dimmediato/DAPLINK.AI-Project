{
 "cells": [
  {
   "cell_type": "code",
   "execution_count": 12,
   "id": "5cbe2ca2-59bb-4024-857c-985a290e46cd",
   "metadata": {},
   "outputs": [
    {
     "name": "stdout",
     "output_type": "stream",
     "text": [
      "Libraries imported successfully!\n"
     ]
    }
   ],
   "source": [
    "# Enhanced Dental Practice Valuation Q&A Pipeline\n",
    "# With Productivity and Procedures Data Integration\n",
    "\n",
    "# ============================================================================\n",
    "# CELL 1: Import Required Libraries\n",
    "# ============================================================================\n",
    "\n",
    "import json\n",
    "import pandas as pd\n",
    "import numpy as np\n",
    "import matplotlib.pyplot as plt\n",
    "import plotly.graph_objects as go\n",
    "import plotly.express as px\n",
    "from plotly.subplots import make_subplots\n",
    "import requests\n",
    "from typing import Dict, List, Optional, Tuple, Any\n",
    "import warnings\n",
    "import re\n",
    "from datetime import datetime\n",
    "import os\n",
    "warnings.filterwarnings('ignore')\n",
    "\n",
    "# Set style for matplotlib\n",
    "plt.style.use('seaborn-v0_8-darkgrid')\n",
    "\n",
    "print(\"Libraries imported successfully!\")"
   ]
  },
  {
   "cell_type": "code",
   "execution_count": 13,
   "id": "8c259543-b3c1-4168-8b22-92dd58a4308d",
   "metadata": {},
   "outputs": [
    {
     "name": "stdout",
     "output_type": "stream",
     "text": [
      "API configured with model: deepseek/deepseek-chat-v3-0324:free\n"
     ]
    }
   ],
   "source": [
    "# ============================================================================\n",
    "# CELL 2: Configuration and API Setup\n",
    "# ============================================================================\n",
    "\n",
    "# OpenRouter API Configuration\n",
    "OPENROUTER_API_KEY = \"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\"  # Replace with actual key\n",
    "OPENROUTER_URL = \"https://openrouter.ai/api/v1/chat/completions\"\n",
    "\n",
    "# Model selection (free tier)\n",
    "MODEL = \"deepseek/deepseek-chat-v3-0324:free\"  # Free model\n",
    "\n",
    "# Headers for API requests\n",
    "headers = {\n",
    "    \"Authorization\": f\"Bearer {OPENROUTER_API_KEY}\",\n",
    "    \"Content-Type\": \"application/json\",\n",
    "    \"HTTP-Referer\": \"http://localhost:3000\",\n",
    "    \"X-Title\": \"Dental Practice Valuation Q&A\"\n",
    "}\n",
    "\n",
    "print(f\"API configured with model: {MODEL}\")"
   ]
  },
  {
   "cell_type": "code",
   "execution_count": 31,
   "id": "bfe3aed2-64b6-4666-8a7e-161ec8df2110",
   "metadata": {},
   "outputs": [],
   "source": [
    "# ============================================================================\n",
    "# CELL 3: Enhanced Data Loading and Validation Functions\n",
    "# ============================================================================\n",
    "\n",
    "class DentalPracticeData:\n",
    "    \"\"\"Enhanced class to handle dental practice data from multiple sources\"\"\"\n",
    "    \n",
    "    def __init__(self, json_file_path: Optional[str] = None, \n",
    "                 productivity_csv: Optional[str] = None,\n",
    "                 procedures_csv: Optional[str] = None,\n",
    "                 data_dict: Optional[Dict] = None):\n",
    "        \"\"\"\n",
    "        Initialize with JSON data and optional CSV files\n",
    "        \n",
    "        Args:\n",
    "            json_file_path: Path to JSON file with financial data\n",
    "            productivity_csv: Path to productivity CSV file\n",
    "            procedures_csv: Path to procedures CSV file\n",
    "            data_dict: Direct dictionary input (alternative to file)\n",
    "        \"\"\"\n",
    "        # Load base financial data\n",
    "        if json_file_path:\n",
    "            with open(json_file_path, 'r') as f:\n",
    "                self.data = json.load(f)\n",
    "        elif data_dict:\n",
    "            self.data = data_dict\n",
    "        else:\n",
    "            raise ValueError(\"Must provide either json_file_path or data_dict\")\n",
    "        \n",
    "        # Load productivity data if provided\n",
    "        self.productivity_data = None\n",
    "        if productivity_csv:\n",
    "            self.productivity_data = self._load_productivity_data(productivity_csv)\n",
    "            \n",
    "        # Load procedures data if provided\n",
    "        self.procedures_data = None\n",
    "        if procedures_csv:\n",
    "            self.procedures_data = self._load_procedures_data(procedures_csv)\n",
    "            \n",
    "        # Validate and calculate metrics\n",
    "        self._validate_required_fields()\n",
    "        self._calculate_derived_metrics()\n",
    "        self._add_simulated_data()\n",
    "        \n",
    "    def _load_productivity_data(self, csv_path: str) -> pd.DataFrame:\n",
    "        \"\"\"Load and process productivity CSV data\"\"\"\n",
    "        try:\n",
    "            df = pd.read_csv(csv_path)\n",
    "            \n",
    "            # Handle column name variations\n",
    "            # Rename provider_name to provider for consistency\n",
    "            if 'provider_name' in df.columns and 'provider' not in df.columns:\n",
    "                df = df.rename(columns={'provider_name': 'provider'})\n",
    "            \n",
    "            # Print actual columns for debugging\n",
    "            print(f\"Productivity CSV columns: {list(df.columns)}\")\n",
    "            \n",
    "            # Clean numeric columns\n",
    "            numeric_cols = ['patients_seen', 'avg_visit_fee', 'production', \n",
    "                           'collection', 'adjustments']\n",
    "            for col in numeric_cols:\n",
    "                if col in df.columns:\n",
    "                    df[col] = pd.to_numeric(df[col].astype(str).str.replace('$', '').str.replace(',', ''), errors='coerce')\n",
    "            \n",
    "            print(f\"Loaded productivity data: {len(df)} records\")\n",
    "            return df\n",
    "        except Exception as e:\n",
    "            print(f\"Error loading productivity data: {e}\")\n",
    "            return None\n",
    "    \n",
    "    def _load_procedures_data(self, csv_path: str) -> pd.DataFrame:\n",
    "        \"\"\"Load and process procedures CSV data with regex cleaning\"\"\"\n",
    "        try:\n",
    "            df = pd.read_csv(csv_path)\n",
    "            \n",
    "            # Print actual columns for debugging\n",
    "            print(f\"Procedures CSV columns: {list(df.columns)}\")\n",
    "            \n",
    "            # Clean service names using regex patterns\n",
    "            if 'service' in df.columns:\n",
    "                # Common cleaning patterns\n",
    "                df['service_clean'] = df['service'].apply(self._clean_service_name)\n",
    "                \n",
    "                # Categorize services\n",
    "                df['service_category'] = df['service_clean'].apply(self._categorize_service)\n",
    "            \n",
    "            # Clean numeric columns\n",
    "            numeric_cols = ['number', 'amount']\n",
    "            for col in numeric_cols:\n",
    "                if col in df.columns:\n",
    "                    df[col] = pd.to_numeric(df[col].astype(str).str.replace('$', '').str.replace(',', ''), errors='coerce')\n",
    "            \n",
    "            print(f\"Loaded procedures data: {len(df)} records\")\n",
    "            return df\n",
    "        except Exception as e:\n",
    "            print(f\"Error loading procedures data: {e}\")\n",
    "            return None\n",
    "    \n",
    "    def _clean_service_name(self, service: str) -> str:\n",
    "        \"\"\"Clean service names using regex patterns\"\"\"\n",
    "        if pd.isna(service):\n",
    "            return \"Unknown\"\n",
    "        \n",
    "        service = str(service).strip()\n",
    "        \n",
    "        # Common patterns to clean\n",
    "        patterns = [\n",
    "            (r'^D\\d{4}\\s*-?\\s*', ''),  # Remove procedure codes at start\n",
    "            (r'\\s+', ' '),  # Multiple spaces to single\n",
    "            (r'[^\\w\\s-]', ''),  # Remove special characters except dash\n",
    "            (r'^\\s*-\\s*', ''),  # Remove leading dashes\n",
    "        ]\n",
    "        \n",
    "        for pattern, replacement in patterns:\n",
    "            service = re.sub(pattern, replacement, service)\n",
    "        \n",
    "        # Standardize common terms\n",
    "        replacements = {\n",
    "            'xray': 'X-Ray',\n",
    "            'x ray': 'X-Ray',\n",
    "            'bitewing': 'Bitewing',\n",
    "            'bw': 'Bitewing',\n",
    "            'prophy': 'Prophylaxis',\n",
    "            'exam': 'Examination',\n",
    "            'perio': 'Periodontal',\n",
    "        }\n",
    "        \n",
    "        service_lower = service.lower()\n",
    "        for old, new in replacements.items():\n",
    "            if old in service_lower:\n",
    "                service = service.replace(service_lower, service_lower.replace(old, new.lower()))\n",
    "                service = service.title()\n",
    "                break\n",
    "        \n",
    "        return service if service else \"Unknown\"\n",
    "    \n",
    "    def _categorize_service(self, service: str) -> str:\n",
    "        \"\"\"Categorize services into major groups\"\"\"\n",
    "        service_lower = service.lower()\n",
    "        \n",
    "        categories = {\n",
    "            'Diagnostic': ['exam', 'x-ray', 'bitewing', 'panoramic', 'consult'],\n",
    "            'Preventive': ['prophy', 'clean', 'fluoride', 'sealant'],\n",
    "            'Restorative': ['filling', 'crown', 'bridge', 'composite', 'amalgam'],\n",
    "            'Endodontic': ['root canal', 'endo', 'pulp'],\n",
    "            'Periodontal': ['perio', 'scaling', 'root planing', 'gum'],\n",
    "            'Oral Surgery': ['extraction', 'surgery', 'implant'],\n",
    "            'Prosthodontic': ['denture', 'partial', 'prosth'],\n",
    "            'Orthodontic': ['ortho', 'braces', 'aligner'],\n",
    "        }\n",
    "        \n",
    "        for category, keywords in categories.items():\n",
    "            if any(keyword in service_lower for keyword in keywords):\n",
    "                return category\n",
    "        \n",
    "        return 'Other'\n",
    "    \n",
    "    def _add_simulated_data(self):\n",
    "        \"\"\"Add simulated data for demonstration purposes\"\"\"\n",
    "        # Add location data (simulated)\n",
    "        self.data['Location_Analysis'] = {\n",
    "            'address': self.data.get('Practice_Overview', {}).get('Location', 'Unknown'),\n",
    "            'demographics': {\n",
    "                'population_5mi': 45000,\n",
    "                'median_income': 75000,\n",
    "                'growth_rate': '2.3%',\n",
    "                'competitor_density': 'Medium (8 practices within 5mi)'\n",
    "            },\n",
    "            'accessibility_score': 8.5,  # Out of 10\n",
    "            'visibility_score': 7.0,\n",
    "            'parking_availability': 'Excellent',\n",
    "            'public_transit': 'Good'\n",
    "        }\n",
    "        \n",
    "        # Add staffing metrics (simulated)\n",
    "        self.data['Staffing_Metrics'] = {\n",
    "            'hygienist_ratio': 2.5,  # Hygienists per dentist\n",
    "            'total_staff': 12,\n",
    "            'overtime_percentage': 8.5,\n",
    "            'staff_utilization': 85,\n",
    "            'turnover_rate': 15,\n",
    "            'satisfaction_score': 4.2  # Out of 5\n",
    "        }\n",
    "        \n",
    "        # Add survey data (simulated)\n",
    "        self.data['Survey_Data'] = {\n",
    "            'patient_satisfaction': {\n",
    "                'overall': 4.5,\n",
    "                'wait_time': 4.2,\n",
    "                'staff_friendliness': 4.7,\n",
    "                'treatment_quality': 4.6,\n",
    "                'value_for_money': 4.1\n",
    "            },\n",
    "            'doctor_feedback': {\n",
    "                'equipment_quality': 'Modern and well-maintained',\n",
    "                'practice_efficiency': 'Good, room for improvement in scheduling',\n",
    "                'growth_potential': 'High - underserved pediatric market',\n",
    "                'main_challenges': 'Staff retention, increasing competition'\n",
    "            }\n",
    "        }\n",
    "        \n",
    "        # Add P&L verification flags (simulated)\n",
    "        self.data['Financial_Verification'] = {\n",
    "            'p_and_l_verified': True,\n",
    "            'verification_method': 'Bank statements and tax returns',\n",
    "            'discrepancies_found': 'Minor - adjusted depreciation',\n",
    "            'confidence_level': 'High (95%)'\n",
    "        }\n",
    "    \n",
    "    def _validate_required_fields(self):\n",
    "        \"\"\"Validate that core required fields are present\"\"\"\n",
    "        required_fields = ['Revenue_Trailing12', 'EBITDA_Trailing12']\n",
    "        \n",
    "        for field in required_fields:\n",
    "            if field not in self.data:\n",
    "                # Try to calculate from other data if possible\n",
    "                if field == 'EBITDA_Trailing12' and 'Total_SDE' in self.data:\n",
    "                    self.data['EBITDA_Trailing12'] = self.data['Total_SDE'] * 1.2\n",
    "                else:\n",
    "                    print(f\"Warning: {field} not found in data\")\n",
    "    \n",
    "    def _calculate_derived_metrics(self):\n",
    "        \"\"\"Calculate additional metrics from the data\"\"\"\n",
    "        # Existing calculations\n",
    "        if 'Revenue_Trailing12' in self.data and 'EBITDA_Trailing12' in self.data:\n",
    "            self.data['EBITDA_Margin'] = (self.data['EBITDA_Trailing12'] / \n",
    "                                          self.data['Revenue_Trailing12']) * 100\n",
    "        \n",
    "        if 'Total_SDE' in self.data and 'Revenue_Trailing12' in self.data:\n",
    "            self.data['SDE_Margin'] = (self.data['Total_SDE'] / \n",
    "                                       self.data['Revenue_Trailing12']) * 100\n",
    "        \n",
    "        # Calculate DSCR if debt service is available\n",
    "        if 'Debt_Service_Annual' in self.data and 'EBITDA_Trailing12' in self.data:\n",
    "            self.data['DSCR'] = self.data['EBITDA_Trailing12'] / self.data['Debt_Service_Annual']\n",
    "        \n",
    "        # Calculate productivity metrics if data available\n",
    "        if self.productivity_data is not None and not self.productivity_data.empty:\n",
    "            # Summary statistics\n",
    "            self.data['Productivity_Summary'] = {\n",
    "                'total_production': self.productivity_data['production'].sum() if 'production' in self.productivity_data.columns else 0,\n",
    "                'total_collections': self.productivity_data['collection'].sum() if 'collection' in self.productivity_data.columns else 0,\n",
    "                'collection_rate': (self.productivity_data['collection'].sum() / \n",
    "                                   self.productivity_data['production'].sum() * 100) if 'collection' in self.productivity_data.columns and 'production' in self.productivity_data.columns and self.productivity_data['production'].sum() > 0 else 0,\n",
    "                'avg_patients_per_provider': self.productivity_data.groupby('provider')['patients_seen'].mean().mean() if 'provider' in self.productivity_data.columns and 'patients_seen' in self.productivity_data.columns else 0,\n",
    "                'avg_visit_fee': self.productivity_data['avg_visit_fee'].mean() if 'avg_visit_fee' in self.productivity_data.columns else 0\n",
    "            }\n",
    "        \n",
    "        # Calculate procedure metrics if data available\n",
    "        if self.procedures_data is not None and not self.procedures_data.empty:\n",
    "            # Top procedures by frequency and revenue\n",
    "            if 'service_clean' in self.procedures_data.columns:\n",
    "                if 'number' in self.procedures_data.columns:\n",
    "                    top_by_freq = self.procedures_data.groupby('service_clean')['number'].sum().nlargest(10)\n",
    "                else:\n",
    "                    top_by_freq = pd.Series()\n",
    "                    \n",
    "                if 'amount' in self.procedures_data.columns:\n",
    "                    top_by_revenue = self.procedures_data.groupby('service_clean')['amount'].sum().nlargest(10)\n",
    "                else:\n",
    "                    top_by_revenue = pd.Series()\n",
    "                \n",
    "                self.data['Procedures_Summary'] = {\n",
    "                    'total_procedures': self.procedures_data['number'].sum() if 'number' in self.procedures_data.columns else 0,\n",
    "                    'total_procedure_revenue': self.procedures_data['amount'].sum() if 'amount' in self.procedures_data.columns else 0,\n",
    "                    'top_procedures_by_frequency': top_by_freq.to_dict() if not top_by_freq.empty else {},\n",
    "                    'top_procedures_by_revenue': top_by_revenue.to_dict() if not top_by_revenue.empty else {},\n",
    "                    'procedure_categories': self.procedures_data.groupby('service_category')['amount'].sum().to_dict() if 'service_category' in self.procedures_data.columns and 'amount' in self.procedures_data.columns else {}\n",
    "                }\n",
    "    \n",
    "    def get_comprehensive_context(self) -> str:\n",
    "        \"\"\"Get all available data as a formatted string for LLM context\"\"\"\n",
    "        context = f\"\"\"\n",
    "        Practice: {self.data.get('Clinic', 'Unknown')}\n",
    "        \n",
    "        === FINANCIAL METRICS ===\n",
    "        Revenue (Trailing 12): ${self.data.get('Revenue_Trailing12', 0):,.0f}\n",
    "        EBITDA (Trailing 12): ${self.data.get('EBITDA_Trailing12', 0):,.0f}\n",
    "        Total SDE: ${self.data.get('Total_SDE', 0):,.0f}\n",
    "        EBITDA Margin: {self.data.get('EBITDA_Margin', 0):.1f}%\n",
    "        SDE Margin: {self.data.get('SDE_Margin', 0):.1f}%\n",
    "        \n",
    "        === VALUATION ===\n",
    "        EBITDA Multiple: {self.data.get('Valuation_Multiples', {}).get('EBITDA_multiple', 'N/A')}\n",
    "        Revenue Multiple: {self.data.get('Valuation_Multiples', {}).get('Revenue_multiple', 'N/A')}\n",
    "        \n",
    "        === DEBT SERVICE ===\n",
    "        Annual Debt Service: ${self.data.get('Debt_Service_Annual', 0):,.0f}\n",
    "        DSCR: {self.data.get('DSCR', 0):.2f}\n",
    "        \"\"\"\n",
    "        \n",
    "        # Add productivity context if available\n",
    "        if 'Productivity_Summary' in self.data:\n",
    "            context += f\"\"\"\n",
    "        \n",
    "        === PRODUCTIVITY METRICS ===\n",
    "        Total Production: ${self.data['Productivity_Summary']['total_production']:,.0f}\n",
    "        Total Collections: ${self.data['Productivity_Summary']['total_collections']:,.0f}\n",
    "        Collection Rate: {self.data['Productivity_Summary']['collection_rate']:.1f}%\n",
    "        Avg Patients per Provider: {self.data['Productivity_Summary']['avg_patients_per_provider']:.0f}\n",
    "        Average Visit Fee: ${self.data['Productivity_Summary']['avg_visit_fee']:.2f}\n",
    "        \"\"\"\n",
    "        \n",
    "        # Add procedures context if available\n",
    "        if 'Procedures_Summary' in self.data:\n",
    "            context += f\"\"\"\n",
    "        \n",
    "        === PROCEDURE METRICS ===\n",
    "        Total Procedures: {self.data['Procedures_Summary']['total_procedures']:,.0f}\n",
    "        Total Procedure Revenue: ${self.data['Procedures_Summary']['total_procedure_revenue']:,.0f}\n",
    "        Top Service Categories: {', '.join(list(self.data['Procedures_Summary']['procedure_categories'].keys())[:5])}\n",
    "        \"\"\"\n",
    "        \n",
    "        # Add staffing metrics\n",
    "        if 'Staffing_Metrics' in self.data:\n",
    "            context += f\"\"\"\n",
    "        \n",
    "        === STAFFING METRICS ===\n",
    "        Hygienist Ratio: {self.data['Staffing_Metrics']['hygienist_ratio']:.1f} per dentist\n",
    "        Total Staff: {self.data['Staffing_Metrics']['total_staff']}\n",
    "        Overtime Percentage: {self.data['Staffing_Metrics']['overtime_percentage']:.1f}%\n",
    "        Staff Utilization: {self.data['Staffing_Metrics']['staff_utilization']}%\n",
    "        Turnover Rate: {self.data['Staffing_Metrics']['turnover_rate']}%\n",
    "        \"\"\"\n",
    "        \n",
    "        # Add location analysis\n",
    "        if 'Location_Analysis' in self.data:\n",
    "            context += f\"\"\"\n",
    "        \n",
    "        === LOCATION ANALYSIS ===\n",
    "        Address: {self.data['Location_Analysis']['address']}\n",
    "        Population (5mi): {self.data['Location_Analysis']['demographics']['population_5mi']:,}\n",
    "        Median Income: ${self.data['Location_Analysis']['demographics']['median_income']:,}\n",
    "        Accessibility Score: {self.data['Location_Analysis']['accessibility_score']}/10\n",
    "        Competitor Density: {self.data['Location_Analysis']['demographics']['competitor_density']}\n",
    "        \"\"\"\n",
    "        \n",
    "        # Add survey data\n",
    "        if 'Survey_Data' in self.data:\n",
    "            context += f\"\"\"\n",
    "        \n",
    "        === PATIENT & DOCTOR FEEDBACK ===\n",
    "        Patient Satisfaction: {self.data['Survey_Data']['patient_satisfaction']['overall']}/5\n",
    "        Doctor Assessment: {self.data['Survey_Data']['doctor_feedback']['growth_potential']}\n",
    "        Main Challenges: {self.data['Survey_Data']['doctor_feedback']['main_challenges']}\n",
    "        \"\"\"\n",
    "        \n",
    "        # Add P&L verification\n",
    "        if 'Financial_Verification' in self.data:\n",
    "            context += f\"\"\"\n",
    "        \n",
    "        === FINANCIAL VERIFICATION ===\n",
    "        P&L Verified: {self.data['Financial_Verification']['p_and_l_verified']}\n",
    "        Verification Method: {self.data['Financial_Verification']['verification_method']}\n",
    "        Confidence Level: {self.data['Financial_Verification']['confidence_level']}\n",
    "        \"\"\"\n",
    "        \n",
    "        # Add SWOT if available\n",
    "        if 'SWOT' in self.data:\n",
    "            context += f\"\"\"\n",
    "        \n",
    "        === SWOT ANALYSIS ===\n",
    "        Strengths: {', '.join(self.data['SWOT'].get('Strengths', [])[:3])}\n",
    "        Weaknesses: {', '.join(self.data['SWOT'].get('Weaknesses', [])[:3])}\n",
    "        Opportunities: {', '.join(self.data['SWOT'].get('Opportunities', [])[:3])}\n",
    "        Threats: {', '.join(self.data['SWOT'].get('Threats', [])[:3])}\n",
    "        \"\"\"\n",
    "        \n",
    "        return context"
   ]
  },
  {
   "cell_type": "code",
   "execution_count": 33,
   "id": "4d5144ac-30f8-4042-8a89-3e41c95dcaa4",
   "metadata": {},
   "outputs": [
    {
     "name": "stdout",
     "output_type": "stream",
     "text": [
      "Productivity CSV columns: ['id', 'year', 'provider', 'service_role', 'patients_seen', 'avg_visit_fee', 'production', 'collection', 'adjustments']\n",
      "Loaded productivity data: 36 records\n",
      "Procedures CSV columns: ['id', 'year', 'provider', 'code', 'service', 'number', 'amount']\n",
      "Loaded procedures data: 1471 records\n"
     ]
    }
   ],
   "source": [
    "# ============================================================================\n",
    "# CELL 4: Enhanced LLM Interaction Functions\n",
    "# ============================================================================\n",
    "\n",
    "def categorize_question(question: str) -> str:\n",
    "    \"\"\"Enhanced question categorization with new categories\"\"\"\n",
    "    question_lower = question.lower()\n",
    "    \n",
    "    # Extended category mappings\n",
    "    category_keywords = {\n",
    "        'productivity': ['productivity', 'production', 'collection', 'efficiency', \n",
    "                        'patients seen', 'visit fee', 'utilization'],\n",
    "        'procedures': ['procedure', 'service', 'treatment', 'bitewing', 'crown',\n",
    "                      'filling', 'exam', 'frequency', 'procedure mix'],\n",
    "        'staffing': ['hygienist', 'staff', 'overtime', 'employee', 'turnover',\n",
    "                    'ratio', 'utilization', 'satisfaction'],\n",
    "        'location': ['location', 'address', 'demographics', 'population', \n",
    "                    'competition', 'accessibility', 'area'],\n",
    "        'verification': ['verify', 'real', 'authentic', 'accurate', 'p&l',\n",
    "                        'verification', 'confidence', 'discrepancy'],\n",
    "        'sde': ['sde', 'seller discretionary', 'add-back', 'adjustment'],\n",
    "        'valuation': ['valuation', 'multiple', 'worth', 'value', 'price'],\n",
    "        'tax': ['tax', 'depreciation', 'amortization', 'write'],\n",
    "        'pnl': ['p&l', 'profit', 'loss', 'income statement', 'expense'],\n",
    "        'swot': ['strength', 'weakness', 'opportunity', 'threat', 'swot'],\n",
    "        'operations': ['operations', 'patient', 'appointment', 'schedule', 'technology'],\n",
    "        'debt': ['debt', 'loan', 'dscr', 'coverage', 'service'],\n",
    "        'survey': ['survey', 'feedback', 'satisfaction', 'patient experience']\n",
    "    }\n",
    "    \n",
    "    for category, keywords in category_keywords.items():\n",
    "        if any(keyword in question_lower for keyword in keywords):\n",
    "            return category\n",
    "    \n",
    "    return 'general'\n",
    "\n",
    "def generate_llm_prompt(question: str, practice_data: DentalPracticeData, category: str) -> str:\n",
    "    \"\"\"Generate enhanced prompt based on question category and available data\"\"\"\n",
    "    \n",
    "    context = practice_data.get_comprehensive_context()\n",
    "    \n",
    "    base_prompt = f\"\"\"You are a dental practice valuation expert with access to comprehensive practice data.\n",
    "    \n",
    "Practice Data:\n",
    "{context}\n",
    "\n",
    "Question Category: {category}\n",
    "User Question: {question}\n",
    "\n",
    "Please provide a detailed, data-driven answer. \"\"\"\n",
    "\n",
    "    # Add category-specific instructions\n",
    "    category_instructions = {\n",
    "        'productivity': \"\"\"Focus on production metrics, collection rates, and provider efficiency. \n",
    "        Compare to industry benchmarks where relevant (typical collection rate: 95-98%, \n",
    "        typical patients per day: 8-12 per provider).\"\"\",\n",
    "        \n",
    "        'procedures': \"\"\"Analyze the procedure mix, frequency, and revenue contribution. \n",
    "        Highlight top procedures and any unusual patterns. Industry typical: \n",
    "        40% diagnostic/preventive, 60% treatment procedures.\"\"\",\n",
    "        \n",
    "        'staffing': \"\"\"Evaluate staffing metrics against industry standards. \n",
    "        Ideal hygienist ratio: 1.5-2 per dentist. Healthy overtime: <5%. \n",
    "        Good utilization: 85-90%.\"\"\",\n",
    "        \n",
    "        'location': \"\"\"Assess the location's strengths and challenges. \n",
    "        Consider demographics, competition, and accessibility. \n",
    "        Good accessibility score: >7/10.\"\"\",\n",
    "        \n",
    "        'verification': \"\"\"Address data authenticity and verification status. \n",
    "        Be transparent about confidence levels and any discrepancies found.\"\"\",\n",
    "        \n",
    "        'survey': \"\"\"Interpret patient and doctor feedback. \n",
    "        Benchmark: Good patient satisfaction >4.0/5. \n",
    "        Identify key improvement areas.\"\"\"\n",
    "    }\n",
    "    \n",
    "    if category in category_instructions:\n",
    "        base_prompt += f\"\\n\\nSpecific Guidance:\\n{category_instructions[category]}\"\n",
    "    \n",
    "    base_prompt += \"\\n\\nProvide specific numbers and percentages where available.\"\n",
    "    \n",
    "    return base_prompt\n",
    "\n",
    "def get_llm_response(prompt: str) -> str:\n",
    "    \"\"\"Get response from the LLM API\"\"\"\n",
    "    try:\n",
    "        response = requests.post(\n",
    "            OPENROUTER_URL,\n",
    "            headers=headers,\n",
    "            json={\n",
    "                \"model\": MODEL,\n",
    "                \"messages\": [\n",
    "                    {\"role\": \"system\", \"content\": \"You are a dental practice valuation expert.\"},\n",
    "                    {\"role\": \"user\", \"content\": prompt}\n",
    "                ],\n",
    "                \"temperature\": 0.7,\n",
    "                \"max_tokens\": 1000\n",
    "            }\n",
    "        )\n",
    "        \n",
    "        if response.status_code == 200:\n",
    "            return response.json()['choices'][0]['message']['content']\n",
    "        else:\n",
    "            return f\"Error: API returned status code {response.status_code}\"\n",
    "    \n",
    "    except Exception as e:\n",
    "        return f\"Error calling LLM API: {str(e)}\"\n",
    "\n",
    "practice_data = DentalPracticeData(\n",
    "    json_file_path=\"demo_clinic.json\",\n",
    "    productivity_csv=\"CSVs/productivity_2022_2025_all.csv\",\n",
    "    procedures_csv=\"CSVs/procedures_2022_2025_all.csv\"\n",
    ")"
   ]
  },
  {
   "cell_type": "code",
   "execution_count": 17,
   "id": "f48499ce-373d-4346-a602-268f31749ea1",
   "metadata": {},
   "outputs": [
    {
     "name": "stdout",
     "output_type": "stream",
     "text": [
      "============================================================\n",
      "🎨 TESTING VISUALIZATION FUNCTIONS\n",
      "============================================================\n",
      "\n",
      "1. Creating SDE Waterfall Chart...\n",
      "   Purpose: Shows step-by-step how Net Profit becomes SDE\n"
     ]
    },
    {
     "data": {
      "application/vnd.plotly.v1+json": {
       "config": {
        "plotlyServerURL": "https://plot.ly"
       },
       "data": [
        {
         "connector": {
          "line": {
           "color": "rgb(63, 63, 63)"
          }
         },
         "decreasing": {
          "marker": {
           "color": "#C73E1D"
          }
         },
         "increasing": {
          "marker": {
           "color": "#F18F01"
          }
         },
         "measure": [
          "absolute",
          "relative",
          "relative",
          "relative",
          "relative",
          "relative",
          "relative",
          "total"
         ],
         "name": "SDE Build-up",
         "orientation": "v",
         "text": [
          "$350,000",
          "+$60,000",
          "+$18,000",
          "+$12,000",
          "+$9,000",
          "+$4,000",
          "+$7,000",
          "$460,000"
         ],
         "textposition": "outside",
         "totals": {
          "marker": {
           "color": "#2E86AB"
          }
         },
         "type": "waterfall",
         "x": [
          "Net Profit (Pre-tax)",
          "Owner Salary Adjustment",
          "Owner Perks",
          "Interest",
          "Depreciation",
          "Amortization",
          "Non-Recurring",
          "Total SDE"
         ],
         "y": [
          350000,
          60000,
          18000,
          12000,
          9000,
          4000,
          7000,
          null
         ]
        }
       ],
       "layout": {
        "autosize": true,
        "hovermode": "x unified",
        "plot_bgcolor": "white",
        "showlegend": false,
        "template": {
         "data": {
          "bar": [
           {
            "error_x": {
             "color": "#2a3f5f"
            },
            "error_y": {
             "color": "#2a3f5f"
            },
            "marker": {
             "line": {
              "color": "#E5ECF6",
              "width": 0.5
             },
             "pattern": {
              "fillmode": "overlay",
              "size": 10,
              "solidity": 0.2
             }
            },
            "type": "bar"
           }
          ],
          "barpolar": [
           {
            "marker": {
             "line": {
              "color": "#E5ECF6",
              "width": 0.5
             },
             "pattern": {
              "fillmode": "overlay",
              "size": 10,
              "solidity": 0.2
             }
            },
            "type": "barpolar"
           }
          ],
          "carpet": [
           {
            "aaxis": {
             "endlinecolor": "#2a3f5f",
             "gridcolor": "white",
             "linecolor": "white",
             "minorgridcolor": "white",
             "startlinecolor": "#2a3f5f"
            },
            "baxis": {
             "endlinecolor": "#2a3f5f",
             "gridcolor": "white",
             "linecolor": "white",
             "minorgridcolor": "white",
             "startlinecolor": "#2a3f5f"
            },
            "type": "carpet"
           }
          ],
          "choropleth": [
           {
            "colorbar": {
             "outlinewidth": 0,
             "ticks": ""
            },
            "type": "choropleth"
           }
          ],
          "contour": [
           {
            "colorbar": {
             "outlinewidth": 0,
             "ticks": ""
            },
            "colorscale": [
             [
              0,
              "#0d0887"
             ],
             [
              0.1111111111111111,
              "#46039f"
             ],
             [
              0.2222222222222222,
              "#7201a8"
             ],
             [
              0.3333333333333333,
              "#9c179e"
             ],
             [
              0.4444444444444444,
              "#bd3786"
             ],
             [
              0.5555555555555556,
              "#d8576b"
             ],
             [
              0.6666666666666666,
              "#ed7953"
             ],
             [
              0.7777777777777778,
              "#fb9f3a"
             ],
             [
              0.8888888888888888,
              "#fdca26"
             ],
             [
              1,
              "#f0f921"
             ]
            ],
            "type": "contour"
           }
          ],
          "contourcarpet": [
           {
            "colorbar": {
             "outlinewidth": 0,
             "ticks": ""
            },
            "type": "contourcarpet"
           }
          ],
          "heatmap": [
           {
            "colorbar": {
             "outlinewidth": 0,
             "ticks": ""
            },
            "colorscale": [
             [
              0,
              "#0d0887"
             ],
             [
              0.1111111111111111,
              "#46039f"
             ],
             [
              0.2222222222222222,
              "#7201a8"
             ],
             [
              0.3333333333333333,
              "#9c179e"
             ],
             [
              0.4444444444444444,
              "#bd3786"
             ],
             [
              0.5555555555555556,
              "#d8576b"
             ],
             [
              0.6666666666666666,
              "#ed7953"
             ],
             [
              0.7777777777777778,
              "#fb9f3a"
             ],
             [
              0.8888888888888888,
              "#fdca26"
             ],
             [
              1,
              "#f0f921"
             ]
            ],
            "type": "heatmap"
           }
          ],
          "heatmapgl": [
           {
            "colorbar": {
             "outlinewidth": 0,
             "ticks": ""
            },
            "colorscale": [
             [
              0,
              "#0d0887"
             ],
             [
              0.1111111111111111,
              "#46039f"
             ],
             [
              0.2222222222222222,
              "#7201a8"
             ],
             [
              0.3333333333333333,
              "#9c179e"
             ],
             [
              0.4444444444444444,
              "#bd3786"
             ],
             [
              0.5555555555555556,
              "#d8576b"
             ],
             [
              0.6666666666666666,
              "#ed7953"
             ],
             [
              0.7777777777777778,
              "#fb9f3a"
             ],
             [
              0.8888888888888888,
              "#fdca26"
             ],
             [
              1,
              "#f0f921"
             ]
            ],
            "type": "heatmapgl"
           }
          ],
          "histogram": [
           {
            "marker": {
             "pattern": {
              "fillmode": "overlay",
              "size": 10,
              "solidity": 0.2
             }
            },
            "type": "histogram"
           }
          ],
          "histogram2d": [
           {
            "colorbar": {
             "outlinewidth": 0,
             "ticks": ""
            },
            "colorscale": [
             [
              0,
              "#0d0887"
             ],
             [
              0.1111111111111111,
              "#46039f"
             ],
             [
              0.2222222222222222,
              "#7201a8"
             ],
             [
              0.3333333333333333,
              "#9c179e"
             ],
             [
              0.4444444444444444,
              "#bd3786"
             ],
             [
              0.5555555555555556,
              "#d8576b"
             ],
             [
              0.6666666666666666,
              "#ed7953"
             ],
             [
              0.7777777777777778,
              "#fb9f3a"
             ],
             [
              0.8888888888888888,
              "#fdca26"
             ],
             [
              1,
              "#f0f921"
             ]
            ],
            "type": "histogram2d"
           }
          ],
          "histogram2dcontour": [
           {
            "colorbar": {
             "outlinewidth": 0,
             "ticks": ""
            },
            "colorscale": [
             [
              0,
              "#0d0887"
             ],
             [
              0.1111111111111111,
              "#46039f"
             ],
             [
              0.2222222222222222,
              "#7201a8"
             ],
             [
              0.3333333333333333,
              "#9c179e"
             ],
             [
              0.4444444444444444,
              "#bd3786"
             ],
             [
              0.5555555555555556,
              "#d8576b"
             ],
             [
              0.6666666666666666,
              "#ed7953"
             ],
             [
              0.7777777777777778,
              "#fb9f3a"
             ],
             [
              0.8888888888888888,
              "#fdca26"
             ],
             [
              1,
              "#f0f921"
             ]
            ],
            "type": "histogram2dcontour"
           }
          ],
          "mesh3d": [
           {
            "colorbar": {
             "outlinewidth": 0,
             "ticks": ""
            },
            "type": "mesh3d"
           }
          ],
          "parcoords": [
           {
            "line": {
             "colorbar": {
              "outlinewidth": 0,
              "ticks": ""
             }
            },
            "type": "parcoords"
           }
          ],
          "pie": [
           {
            "automargin": true,
            "type": "pie"
           }
          ],
          "scatter": [
           {
            "fillpattern": {
             "fillmode": "overlay",
             "size": 10,
             "solidity": 0.2
            },
            "type": "scatter"
           }
          ],
          "scatter3d": [
           {
            "line": {
             "colorbar": {
              "outlinewidth": 0,
              "ticks": ""
             }
            },
            "marker": {
             "colorbar": {
              "outlinewidth": 0,
              "ticks": ""
             }
            },
            "type": "scatter3d"
           }
          ],
          "scattercarpet": [
           {
            "marker": {
             "colorbar": {
              "outlinewidth": 0,
              "ticks": ""
             }
            },
            "type": "scattercarpet"
           }
          ],
          "scattergeo": [
           {
            "marker": {
             "colorbar": {
              "outlinewidth": 0,
              "ticks": ""
             }
            },
            "type": "scattergeo"
           }
          ],
          "scattergl": [
           {
            "marker": {
             "colorbar": {
              "outlinewidth": 0,
              "ticks": ""
             }
            },
            "type": "scattergl"
           }
          ],
          "scattermapbox": [
           {
            "marker": {
             "colorbar": {
              "outlinewidth": 0,
              "ticks": ""
             }
            },
            "type": "scattermapbox"
           }
          ],
          "scatterpolar": [
           {
            "marker": {
             "colorbar": {
              "outlinewidth": 0,
              "ticks": ""
             }
            },
            "type": "scatterpolar"
           }
          ],
          "scatterpolargl": [
           {
            "marker": {
             "colorbar": {
              "outlinewidth": 0,
              "ticks": ""
             }
            },
            "type": "scatterpolargl"
           }
          ],
          "scatterternary": [
           {
            "marker": {
             "colorbar": {
              "outlinewidth": 0,
              "ticks": ""
             }
            },
            "type": "scatterternary"
           }
          ],
          "surface": [
           {
            "colorbar": {
             "outlinewidth": 0,
             "ticks": ""
            },
            "colorscale": [
             [
              0,
              "#0d0887"
             ],
             [
              0.1111111111111111,
              "#46039f"
             ],
             [
              0.2222222222222222,
              "#7201a8"
             ],
             [
              0.3333333333333333,
              "#9c179e"
             ],
             [
              0.4444444444444444,
              "#bd3786"
             ],
             [
              0.5555555555555556,
              "#d8576b"
             ],
             [
              0.6666666666666666,
              "#ed7953"
             ],
             [
              0.7777777777777778,
              "#fb9f3a"
             ],
             [
              0.8888888888888888,
              "#fdca26"
             ],
             [
              1,
              "#f0f921"
             ]
            ],
            "type": "surface"
           }
          ],
          "table": [
           {
            "cells": {
             "fill": {
              "color": "#EBF0F8"
             },
             "line": {
              "color": "white"
             }
            },
            "header": {
             "fill": {
              "color": "#C8D4E3"
             },
             "line": {
              "color": "white"
             }
            },
            "type": "table"
           }
          ]
         },
         "layout": {
          "annotationdefaults": {
           "arrowcolor": "#2a3f5f",
           "arrowhead": 0,
           "arrowwidth": 1
          },
          "autotypenumbers": "strict",
          "coloraxis": {
           "colorbar": {
            "outlinewidth": 0,
            "ticks": ""
           }
          },
          "colorscale": {
           "diverging": [
            [
             0,
             "#8e0152"
            ],
            [
             0.1,
             "#c51b7d"
            ],
            [
             0.2,
             "#de77ae"
            ],
            [
             0.3,
             "#f1b6da"
            ],
            [
             0.4,
             "#fde0ef"
            ],
            [
             0.5,
             "#f7f7f7"
            ],
            [
             0.6,
             "#e6f5d0"
            ],
            [
             0.7,
             "#b8e186"
            ],
            [
             0.8,
             "#7fbc41"
            ],
            [
             0.9,
             "#4d9221"
            ],
            [
             1,
             "#276419"
            ]
           ],
           "sequential": [
            [
             0,
             "#0d0887"
            ],
            [
             0.1111111111111111,
             "#46039f"
            ],
            [
             0.2222222222222222,
             "#7201a8"
            ],
            [
             0.3333333333333333,
             "#9c179e"
            ],
            [
             0.4444444444444444,
             "#bd3786"
            ],
            [
             0.5555555555555556,
             "#d8576b"
            ],
            [
             0.6666666666666666,
             "#ed7953"
            ],
            [
             0.7777777777777778,
             "#fb9f3a"
            ],
            [
             0.8888888888888888,
             "#fdca26"
            ],
            [
             1,
             "#f0f921"
            ]
           ],
           "sequentialminus": [
            [
             0,
             "#0d0887"
            ],
            [
             0.1111111111111111,
             "#46039f"
            ],
            [
             0.2222222222222222,
             "#7201a8"
            ],
            [
             0.3333333333333333,
             "#9c179e"
            ],
            [
             0.4444444444444444,
             "#bd3786"
            ],
            [
             0.5555555555555556,
             "#d8576b"
            ],
            [
             0.6666666666666666,
             "#ed7953"
            ],
            [
             0.7777777777777778,
             "#fb9f3a"
            ],
            [
             0.8888888888888888,
             "#fdca26"
            ],
            [
             1,
             "#f0f921"
            ]
           ]
          },
          "colorway": [
           "#636efa",
           "#EF553B",
           "#00cc96",
           "#ab63fa",
           "#FFA15A",
           "#19d3f3",
           "#FF6692",
           "#B6E880",
           "#FF97FF",
           "#FECB52"
          ],
          "font": {
           "color": "#2a3f5f"
          },
          "geo": {
           "bgcolor": "white",
           "lakecolor": "white",
           "landcolor": "#E5ECF6",
           "showlakes": true,
           "showland": true,
           "subunitcolor": "white"
          },
          "hoverlabel": {
           "align": "left"
          },
          "hovermode": "closest",
          "mapbox": {
           "style": "light"
          },
          "paper_bgcolor": "white",
          "plot_bgcolor": "#E5ECF6",
          "polar": {
           "angularaxis": {
            "gridcolor": "white",
            "linecolor": "white",
            "ticks": ""
           },
           "bgcolor": "#E5ECF6",
           "radialaxis": {
            "gridcolor": "white",
            "linecolor": "white",
            "ticks": ""
           }
          },
          "scene": {
           "xaxis": {
            "backgroundcolor": "#E5ECF6",
            "gridcolor": "white",
            "gridwidth": 2,
            "linecolor": "white",
            "showbackground": true,
            "ticks": "",
            "zerolinecolor": "white"
           },
           "yaxis": {
            "backgroundcolor": "#E5ECF6",
            "gridcolor": "white",
            "gridwidth": 2,
            "linecolor": "white",
            "showbackground": true,
            "ticks": "",
            "zerolinecolor": "white"
           },
           "zaxis": {
            "backgroundcolor": "#E5ECF6",
            "gridcolor": "white",
            "gridwidth": 2,
            "linecolor": "white",
            "showbackground": true,
            "ticks": "",
            "zerolinecolor": "white"
           }
          },
          "shapedefaults": {
           "line": {
            "color": "#2a3f5f"
           }
          },
          "ternary": {
           "aaxis": {
            "gridcolor": "white",
            "linecolor": "white",
            "ticks": ""
           },
           "baxis": {
            "gridcolor": "white",
            "linecolor": "white",
            "ticks": ""
           },
           "bgcolor": "#E5ECF6",
           "caxis": {
            "gridcolor": "white",
            "linecolor": "white",
            "ticks": ""
           }
          },
          "title": {
           "x": 0.05
          },
          "xaxis": {
           "automargin": true,
           "gridcolor": "white",
           "linecolor": "white",
           "ticks": "",
           "title": {
            "standoff": 15
           },
           "zerolinecolor": "white",
           "zerolinewidth": 2
          },
          "yaxis": {
           "automargin": true,
           "gridcolor": "white",
           "linecolor": "white",
           "ticks": "",
           "title": {
            "standoff": 15
           },
           "zerolinecolor": "white",
           "zerolinewidth": 2
          }
         }
        },
        "title": {
         "text": "SDE Build-up Analysis - Demo Dental NYC",
         "x": 0.5,
         "xanchor": "center"
        },
        "xaxis": {
         "autorange": false,
         "range": [
          -4.5,
          11.5
         ],
         "title": {
          "text": ""
         },
         "type": "category"
        },
        "yaxis": {
         "autorange": false,
         "gridcolor": "lightgray",
         "range": [
          -242105.26315789475,
          726315.7894736843
         ],
         "tickformat": "$,.0f",
         "title": {
          "text": "Amount ($)"
         },
         "type": "linear"
        }
       }
      },
      "image/png": "[encoded data removed]",
      "text/html": [
       "<div>                            <div id=\"a702f294-32dd-4cc2-ae40-4d94f731bb28\" class=\"plotly-graph-div\" style=\"height:500px; width:100%;\"></div>            <script type=\"text/javascript\">                require([\"plotly\"], function(Plotly) {                    window.PLOTLYENV=window.PLOTLYENV || {};                                    if (document.getElementById(\"a702f294-32dd-4cc2-ae40-4d94f731bb28\")) {                    Plotly.newPlot(                        \"a702f294-32dd-4cc2-ae40-4d94f731bb28\",                        [{\"connector\":{\"line\":{\"color\":\"rgb(63, 63, 63)\"}},\"decreasing\":{\"marker\":{\"color\":\"#C73E1D\"}},\"increasing\":{\"marker\":{\"color\":\"#F18F01\"}},\"measure\":[\"absolute\",\"relative\",\"relative\",\"relative\",\"relative\",\"relative\",\"relative\",\"total\"],\"name\":\"SDE Build-up\",\"orientation\":\"v\",\"text\":[\"$350,000\",\"+$60,000\",\"+$18,000\",\"+$12,000\",\"+$9,000\",\"+$4,000\",\"+$7,000\",\"$460,000\"],\"textposition\":\"outside\",\"totals\":{\"marker\":{\"color\":\"#2E86AB\"}},\"x\":[\"Net Profit (Pre-tax)\",\"Owner Salary Adjustment\",\"Owner Perks\",\"Interest\",\"Depreciation\",\"Amortization\",\"Non-Recurring\",\"Total SDE\"],\"y\":[350000,60000,18000,12000,9000,4000,7000,null],\"type\":\"waterfall\"}],                        {\"template\":{\"data\":{\"histogram2dcontour\":[{\"type\":\"histogram2dcontour\",\"colorbar\":{\"outlinewidth\":0,\"ticks\":\"\"},\"colorscale\":[[0.0,\"#0d0887\"],[0.1111111111111111,\"#46039f\"],[0.2222222222222222,\"#7201a8\"],[0.3333333333333333,\"#9c179e\"],[0.4444444444444444,\"#bd3786\"],[0.5555555555555556,\"#d8576b\"],[0.6666666666666666,\"#ed7953\"],[0.7777777777777778,\"#fb9f3a\"],[0.8888888888888888,\"#fdca26\"],[1.0,\"#f0f921\"]]}],\"choropleth\":[{\"type\":\"choropleth\",\"colorbar\":{\"outlinewidth\":0,\"ticks\":\"\"}}],\"histogram2d\":[{\"type\":\"histogram2d\",\"colorbar\":{\"outlinewidth\":0,\"ticks\":\"\"},\"colorscale\":[[0.0,\"#0d0887\"],[0.1111111111111111,\"#46039f\"],[0.2222222222222222,\"#7201a8\"],[0.3333333333333333,\"#9c179e\"],[0.4444444444444444,\"#bd3786\"],[0.5555555555555556,\"#d8576b\"],[0.6666666666666666,\"#ed7953\"],[0.7777777777777778,\"#fb9f3a\"],[0.8888888888888888,\"#fdca26\"],[1.0,\"#f0f921\"]]}],\"heatmap\":[{\"type\":\"heatmap\",\"colorbar\":{\"outlinewidth\":0,\"ticks\":\"\"},\"colorscale\":[[0.0,\"#0d0887\"],[0.1111111111111111,\"#46039f\"],[0.2222222222222222,\"#7201a8\"],[0.3333333333333333,\"#9c179e\"],[0.4444444444444444,\"#bd3786\"],[0.5555555555555556,\"#d8576b\"],[0.6666666666666666,\"#ed7953\"],[0.7777777777777778,\"#fb9f3a\"],[0.8888888888888888,\"#fdca26\"],[1.0,\"#f0f921\"]]}],\"heatmapgl\":[{\"type\":\"heatmapgl\",\"colorbar\":{\"outlinewidth\":0,\"ticks\":\"\"},\"colorscale\":[[0.0,\"#0d0887\"],[0.1111111111111111,\"#46039f\"],[0.2222222222222222,\"#7201a8\"],[0.3333333333333333,\"#9c179e\"],[0.4444444444444444,\"#bd3786\"],[0.5555555555555556,\"#d8576b\"],[0.6666666666666666,\"#ed7953\"],[0.7777777777777778,\"#fb9f3a\"],[0.8888888888888888,\"#fdca26\"],[1.0,\"#f0f921\"]]}],\"contourcarpet\":[{\"type\":\"contourcarpet\",\"colorbar\":{\"outlinewidth\":0,\"ticks\":\"\"}}],\"contour\":[{\"type\":\"contour\",\"colorbar\":{\"outlinewidth\":0,\"ticks\":\"\"},\"colorscale\":[[0.0,\"#0d0887\"],[0.1111111111111111,\"#46039f\"],[0.2222222222222222,\"#7201a8\"],[0.3333333333333333,\"#9c179e\"],[0.4444444444444444,\"#bd3786\"],[0.5555555555555556,\"#d8576b\"],[0.6666666666666666,\"#ed7953\"],[0.7777777777777778,\"#fb9f3a\"],[0.8888888888888888,\"#fdca26\"],[1.0,\"#f0f921\"]]}],\"surface\":[{\"type\":\"surface\",\"colorbar\":{\"outlinewidth\":0,\"ticks\":\"\"},\"colorscale\":[[0.0,\"#0d0887\"],[0.1111111111111111,\"#46039f\"],[0.2222222222222222,\"#7201a8\"],[0.3333333333333333,\"#9c179e\"],[0.4444444444444444,\"#bd3786\"],[0.5555555555555556,\"#d8576b\"],[0.6666666666666666,\"#ed7953\"],[0.7777777777777778,\"#fb9f3a\"],[0.8888888888888888,\"#fdca26\"],[1.0,\"#f0f921\"]]}],\"mesh3d\":[{\"type\":\"mesh3d\",\"colorbar\":{\"outlinewidth\":0,\"ticks\":\"\"}}],\"scatter\":[{\"fillpattern\":{\"fillmode\":\"overlay\",\"size\":10,\"solidity\":0.2},\"type\":\"scatter\"}],\"parcoords\":[{\"type\":\"parcoords\",\"line\":{\"colorbar\":{\"outlinewidth\":0,\"ticks\":\"\"}}}],\"scatterpolargl\":[{\"type\":\"scatterpolargl\",\"marker\":{\"colorbar\":{\"outlinewidth\":0,\"ticks\":\"\"}}}],\"bar\":[{\"error_x\":{\"color\":\"#2a3f5f\"},\"error_y\":{\"color\":\"#2a3f5f\"},\"marker\":{\"line\":{\"color\":\"#E5ECF6\",\"width\":0.5},\"pattern\":{\"fillmode\":\"overlay\",\"size\":10,\"solidity\":0.2}},\"type\":\"bar\"}],\"scattergeo\":[{\"type\":\"scattergeo\",\"marker\":{\"colorbar\":{\"outlinewidth\":0,\"ticks\":\"\"}}}],\"scatterpolar\":[{\"type\":\"scatterpolar\",\"marker\":{\"colorbar\":{\"outlinewidth\":0,\"ticks\":\"\"}}}],\"histogram\":[{\"marker\":{\"pattern\":{\"fillmode\":\"overlay\",\"size\":10,\"solidity\":0.2}},\"type\":\"histogram\"}],\"scattergl\":[{\"type\":\"scattergl\",\"marker\":{\"colorbar\":{\"outlinewidth\":0,\"ticks\":\"\"}}}],\"scatter3d\":[{\"type\":\"scatter3d\",\"line\":{\"colorbar\":{\"outlinewidth\":0,\"ticks\":\"\"}},\"marker\":{\"colorbar\":{\"outlinewidth\":0,\"ticks\":\"\"}}}],\"scattermapbox\":[{\"type\":\"scattermapbox\",\"marker\":{\"colorbar\":{\"outlinewidth\":0,\"ticks\":\"\"}}}],\"scatterternary\":[{\"type\":\"scatterternary\",\"marker\":{\"colorbar\":{\"outlinewidth\":0,\"ticks\":\"\"}}}],\"scattercarpet\":[{\"type\":\"scattercarpet\",\"marker\":{\"colorbar\":{\"outlinewidth\":0,\"ticks\":\"\"}}}],\"carpet\":[{\"aaxis\":{\"endlinecolor\":\"#2a3f5f\",\"gridcolor\":\"white\",\"linecolor\":\"white\",\"minorgridcolor\":\"white\",\"startlinecolor\":\"#2a3f5f\"},\"baxis\":{\"endlinecolor\":\"#2a3f5f\",\"gridcolor\":\"white\",\"linecolor\":\"white\",\"minorgridcolor\":\"white\",\"startlinecolor\":\"#2a3f5f\"},\"type\":\"carpet\"}],\"table\":[{\"cells\":{\"fill\":{\"color\":\"#EBF0F8\"},\"line\":{\"color\":\"white\"}},\"header\":{\"fill\":{\"color\":\"#C8D4E3\"},\"line\":{\"color\":\"white\"}},\"type\":\"table\"}],\"barpolar\":[{\"marker\":{\"line\":{\"color\":\"#E5ECF6\",\"width\":0.5},\"pattern\":{\"fillmode\":\"overlay\",\"size\":10,\"solidity\":0.2}},\"type\":\"barpolar\"}],\"pie\":[{\"automargin\":true,\"type\":\"pie\"}]},\"layout\":{\"autotypenumbers\":\"strict\",\"colorway\":[\"#636efa\",\"#EF553B\",\"#00cc96\",\"#ab63fa\",\"#FFA15A\",\"#19d3f3\",\"#FF6692\",\"#B6E880\",\"#FF97FF\",\"#FECB52\"],\"font\":{\"color\":\"#2a3f5f\"},\"hovermode\":\"closest\",\"hoverlabel\":{\"align\":\"left\"},\"paper_bgcolor\":\"white\",\"plot_bgcolor\":\"#E5ECF6\",\"polar\":{\"bgcolor\":\"#E5ECF6\",\"angularaxis\":{\"gridcolor\":\"white\",\"linecolor\":\"white\",\"ticks\":\"\"},\"radialaxis\":{\"gridcolor\":\"white\",\"linecolor\":\"white\",\"ticks\":\"\"}},\"ternary\":{\"bgcolor\":\"#E5ECF6\",\"aaxis\":{\"gridcolor\":\"white\",\"linecolor\":\"white\",\"ticks\":\"\"},\"baxis\":{\"gridcolor\":\"white\",\"linecolor\":\"white\",\"ticks\":\"\"},\"caxis\":{\"gridcolor\":\"white\",\"linecolor\":\"white\",\"ticks\":\"\"}},\"coloraxis\":{\"colorbar\":{\"outlinewidth\":0,\"ticks\":\"\"}},\"colorscale\":{\"sequential\":[[0.0,\"#0d0887\"],[0.1111111111111111,\"#46039f\"],[0.2222222222222222,\"#7201a8\"],[0.3333333333333333,\"#9c179e\"],[0.4444444444444444,\"#bd3786\"],[0.5555555555555556,\"#d8576b\"],[0.6666666666666666,\"#ed7953\"],[0.7777777777777778,\"#fb9f3a\"],[0.8888888888888888,\"#fdca26\"],[1.0,\"#f0f921\"]],\"sequentialminus\":[[0.0,\"#0d0887\"],[0.1111111111111111,\"#46039f\"],[0.2222222222222222,\"#7201a8\"],[0.3333333333333333,\"#9c179e\"],[0.4444444444444444,\"#bd3786\"],[0.5555555555555556,\"#d8576b\"],[0.6666666666666666,\"#ed7953\"],[0.7777777777777778,\"#fb9f3a\"],[0.8888888888888888,\"#fdca26\"],[1.0,\"#f0f921\"]],\"diverging\":[[0,\"#8e0152\"],[0.1,\"#c51b7d\"],[0.2,\"#de77ae\"],[0.3,\"#f1b6da\"],[0.4,\"#fde0ef\"],[0.5,\"#f7f7f7\"],[0.6,\"#e6f5d0\"],[0.7,\"#b8e186\"],[0.8,\"#7fbc41\"],[0.9,\"#4d9221\"],[1,\"#276419\"]]},\"xaxis\":{\"gridcolor\":\"white\",\"linecolor\":\"white\",\"ticks\":\"\",\"title\":{\"standoff\":15},\"zerolinecolor\":\"white\",\"automargin\":true,\"zerolinewidth\":2},\"yaxis\":{\"gridcolor\":\"white\",\"linecolor\":\"white\",\"ticks\":\"\",\"title\":{\"standoff\":15},\"zerolinecolor\":\"white\",\"automargin\":true,\"zerolinewidth\":2},\"scene\":{\"xaxis\":{\"backgroundcolor\":\"#E5ECF6\",\"gridcolor\":\"white\",\"linecolor\":\"white\",\"showbackground\":true,\"ticks\":\"\",\"zerolinecolor\":\"white\",\"gridwidth\":2},\"yaxis\":{\"backgroundcolor\":\"#E5ECF6\",\"gridcolor\":\"white\",\"linecolor\":\"white\",\"showbackground\":true,\"ticks\":\"\",\"zerolinecolor\":\"white\",\"gridwidth\":2},\"zaxis\":{\"backgroundcolor\":\"#E5ECF6\",\"gridcolor\":\"white\",\"linecolor\":\"white\",\"showbackground\":true,\"ticks\":\"\",\"zerolinecolor\":\"white\",\"gridwidth\":2}},\"shapedefaults\":{\"line\":{\"color\":\"#2a3f5f\"}},\"annotationdefaults\":{\"arrowcolor\":\"#2a3f5f\",\"arrowhead\":0,\"arrowwidth\":1},\"geo\":{\"bgcolor\":\"white\",\"landcolor\":\"#E5ECF6\",\"subunitcolor\":\"white\",\"showland\":true,\"showlakes\":true,\"lakecolor\":\"white\"},\"title\":{\"x\":0.05},\"mapbox\":{\"style\":\"light\"}}},\"title\":{\"text\":\"SDE Build-up Analysis - Demo Dental NYC\",\"x\":0.5,\"xanchor\":\"center\"},\"yaxis\":{\"title\":{\"text\":\"Amount ($)\"},\"gridcolor\":\"lightgray\",\"tickformat\":\"$,.0f\"},\"xaxis\":{\"title\":{\"text\":\"\"}},\"height\":500,\"showlegend\":false,\"hovermode\":\"x unified\",\"plot_bgcolor\":\"white\"},                        {\"responsive\": true}                    ).then(function(){\n",
       "                            \n",
       "var gd = document.getElementById('a702f294-32dd-4cc2-ae40-4d94f731bb28');\n",
       "var x = new MutationObserver(function (mutations, observer) {{\n",
       "        var display = window.getComputedStyle(gd).display;\n",
       "        if (!display || display === 'none') {{\n",
       "            console.log([gd, 'removed!']);\n",
       "            Plotly.purge(gd);\n",
       "            observer.disconnect();\n",
       "        }}\n",
       "}});\n",
       "\n",
       "// Listen for the removal of the full notebook cells\n",
       "var notebookContainer = gd.closest('#notebook-container');\n",
       "if (notebookContainer) {{\n",
       "    x.observe(notebookContainer, {childList: true});\n",
       "}}\n",
       "\n",
       "// Listen for the clearing of the current output cell\n",
       "var outputEl = gd.closest('.output');\n",
       "if (outputEl) {{\n",
       "    x.observe(outputEl, {childList: true});\n",
       "}}\n",
       "\n",
       "                        })                };                });            </script>        </div>"
      ]
     },
     "metadata": {},
     "output_type": "display_data"
    },
    {
     "name": "stdout",
     "output_type": "stream",
     "text": [
      "   ✅ SDE Waterfall created\n",
      "\n",
      "2. Creating Valuation Comparison Chart...\n",
      "   Purpose: Shows practice value using different methods\n"
     ]
    },
    {
     "data": {
      "application/vnd.plotly.v1+json": {
       "config": {
        "plotlyServerURL": "https://plot.ly"
       },
       "data": [
        {
         "marker": {
          "color": [
           "#2E86AB",
           "#A23B72"
          ]
         },
         "name": "Valuation",
         "text": [
          "$2,453,854",
          "$1,237,357"
         ],
         "textposition": "outside",
         "type": "bar",
         "x": [
          "EBITDA-Based",
          "Revenue-Based"
         ],
         "y": [
          2453854.5,
          1237356.8
         ]
        }
       ],
       "layout": {
        "annotations": [
         {
          "showarrow": false,
          "text": "Average: $1,845,606",
          "x": 1,
          "xanchor": "left",
          "xref": "x domain",
          "y": 1845605.65,
          "yanchor": "middle",
          "yref": "y"
         },
         {
          "bgcolor": "white",
          "bordercolor": "gray",
          "borderwidth": 1,
          "showarrow": false,
          "text": "EBITDA Multiple: 4.5x<br>Revenue Multiple: 0.8x",
          "x": 0.02,
          "xref": "paper",
          "y": 0.98,
          "yref": "paper"
         }
        ],
        "autosize": true,
        "bargap": 0.3,
        "plot_bgcolor": "white",
        "shapes": [
         {
          "line": {
           "color": "gray",
           "dash": "dash"
          },
          "type": "line",
          "x0": 0,
          "x1": 1,
          "xref": "x domain",
          "y0": 1845605.65,
          "y1": 1845605.65,
          "yref": "y"
         }
        ],
        "showlegend": false,
        "template": {
         "data": {
          "bar": [
           {
            "error_x": {
             "color": "#2a3f5f"
            },
            "error_y": {
             "color": "#2a3f5f"
            },
            "marker": {
             "line": {
              "color": "#E5ECF6",
              "width": 0.5
             },
             "pattern": {
              "fillmode": "overlay",
              "size": 10,
              "solidity": 0.2
             }
            },
            "type": "bar"
           }
          ],
          "barpolar": [
           {
            "marker": {
             "line": {
              "color": "#E5ECF6",
              "width": 0.5
             },
             "pattern": {
              "fillmode": "overlay",
              "size": 10,
              "solidity": 0.2
             }
            },
            "type": "barpolar"
           }
          ],
          "carpet": [
           {
            "aaxis": {
             "endlinecolor": "#2a3f5f",
             "gridcolor": "white",
             "linecolor": "white",
             "minorgridcolor": "white",
             "startlinecolor": "#2a3f5f"
            },
            "baxis": {
             "endlinecolor": "#2a3f5f",
             "gridcolor": "white",
             "linecolor": "white",
             "minorgridcolor": "white",
             "startlinecolor": "#2a3f5f"
            },
            "type": "carpet"
           }
          ],
          "choropleth": [
           {
            "colorbar": {
             "outlinewidth": 0,
             "ticks": ""
            },
            "type": "choropleth"
           }
          ],
          "contour": [
           {
            "colorbar": {
             "outlinewidth": 0,
             "ticks": ""
            },
            "colorscale": [
             [
              0,
              "#0d0887"
             ],
             [
              0.1111111111111111,
              "#46039f"
             ],
             [
              0.2222222222222222,
              "#7201a8"
             ],
             [
              0.3333333333333333,
              "#9c179e"
             ],
             [
              0.4444444444444444,
              "#bd3786"
             ],
             [
              0.5555555555555556,
              "#d8576b"
             ],
             [
              0.6666666666666666,
              "#ed7953"
             ],
             [
              0.7777777777777778,
              "#fb9f3a"
             ],
             [
              0.8888888888888888,
              "#fdca26"
             ],
             [
              1,
              "#f0f921"
             ]
            ],
            "type": "contour"
           }
          ],
          "contourcarpet": [
           {
            "colorbar": {
             "outlinewidth": 0,
             "ticks": ""
            },
            "type": "contourcarpet"
           }
          ],
          "heatmap": [
           {
            "colorbar": {
             "outlinewidth": 0,
             "ticks": ""
            },
            "colorscale": [
             [
              0,
              "#0d0887"
             ],
             [
              0.1111111111111111,
              "#46039f"
             ],
             [
              0.2222222222222222,
              "#7201a8"
             ],
             [
              0.3333333333333333,
              "#9c179e"
             ],
             [
              0.4444444444444444,
              "#bd3786"
             ],
             [
              0.5555555555555556,
              "#d8576b"
             ],
             [
              0.6666666666666666,
              "#ed7953"
             ],
             [
              0.7777777777777778,
              "#fb9f3a"
             ],
             [
              0.8888888888888888,
              "#fdca26"
             ],
             [
              1,
              "#f0f921"
             ]
            ],
            "type": "heatmap"
           }
          ],
          "heatmapgl": [
           {
            "colorbar": {
             "outlinewidth": 0,
             "ticks": ""
            },
            "colorscale": [
             [
              0,
              "#0d0887"
             ],
             [
              0.1111111111111111,
              "#46039f"
             ],
             [
              0.2222222222222222,
              "#7201a8"
             ],
             [
              0.3333333333333333,
              "#9c179e"
             ],
             [
              0.4444444444444444,
              "#bd3786"
             ],
             [
              0.5555555555555556,
              "#d8576b"
             ],
             [
              0.6666666666666666,
              "#ed7953"
             ],
             [
              0.7777777777777778,
              "#fb9f3a"
             ],
             [
              0.8888888888888888,
              "#fdca26"
             ],
             [
              1,
              "#f0f921"
             ]
            ],
            "type": "heatmapgl"
           }
          ],
          "histogram": [
           {
            "marker": {
             "pattern": {
              "fillmode": "overlay",
              "size": 10,
              "solidity": 0.2
             }
            },
            "type": "histogram"
           }
          ],
          "histogram2d": [
           {
            "colorbar": {
             "outlinewidth": 0,
             "ticks": ""
            },
            "colorscale": [
             [
              0,
              "#0d0887"
             ],
             [
              0.1111111111111111,
              "#46039f"
             ],
             [
              0.2222222222222222,
              "#7201a8"
             ],
             [
              0.3333333333333333,
              "#9c179e"
             ],
             [
              0.4444444444444444,
              "#bd3786"
             ],
             [
              0.5555555555555556,
              "#d8576b"
             ],
             [
              0.6666666666666666,
              "#ed7953"
             ],
             [
              0.7777777777777778,
              "#fb9f3a"
             ],
             [
              0.8888888888888888,
              "#fdca26"
             ],
             [
              1,
              "#f0f921"
             ]
            ],
            "type": "histogram2d"
           }
          ],
          "histogram2dcontour": [
           {
            "colorbar": {
             "outlinewidth": 0,
             "ticks": ""
            },
            "colorscale": [
             [
              0,
              "#0d0887"
             ],
             [
              0.1111111111111111,
              "#46039f"
             ],
             [
              0.2222222222222222,
              "#7201a8"
             ],
             [
              0.3333333333333333,
              "#9c179e"
             ],
             [
              0.4444444444444444,
              "#bd3786"
             ],
             [
              0.5555555555555556,
              "#d8576b"
             ],
             [
              0.6666666666666666,
              "#ed7953"
             ],
             [
              0.7777777777777778,
              "#fb9f3a"
             ],
             [
              0.8888888888888888,
              "#fdca26"
             ],
             [
              1,
              "#f0f921"
             ]
            ],
            "type": "histogram2dcontour"
           }
          ],
          "mesh3d": [
           {
            "colorbar": {
             "outlinewidth": 0,
             "ticks": ""
            },
            "type": "mesh3d"
           }
          ],
          "parcoords": [
           {
            "line": {
             "colorbar": {
              "outlinewidth": 0,
              "ticks": ""
             }
            },
            "type": "parcoords"
           }
          ],
          "pie": [
           {
            "automargin": true,
            "type": "pie"
           }
          ],
          "scatter": [
           {
            "fillpattern": {
             "fillmode": "overlay",
             "size": 10,
             "solidity": 0.2
            },
            "type": "scatter"
           }
          ],
          "scatter3d": [
           {
            "line": {
             "colorbar": {
              "outlinewidth": 0,
              "ticks": ""
             }
            },
            "marker": {
             "colorbar": {
              "outlinewidth": 0,
              "ticks": ""
             }
            },
            "type": "scatter3d"
           }
          ],
          "scattercarpet": [
           {
            "marker": {
             "colorbar": {
              "outlinewidth": 0,
              "ticks": ""
             }
            },
            "type": "scattercarpet"
           }
          ],
          "scattergeo": [
           {
            "marker": {
             "colorbar": {
              "outlinewidth": 0,
              "ticks": ""
             }
            },
            "type": "scattergeo"
           }
          ],
          "scattergl": [
           {
            "marker": {
             "colorbar": {
              "outlinewidth": 0,
              "ticks": ""
             }
            },
            "type": "scattergl"
           }
          ],
          "scattermapbox": [
           {
            "marker": {
             "colorbar": {
              "outlinewidth": 0,
              "ticks": ""
             }
            },
            "type": "scattermapbox"
           }
          ],
          "scatterpolar": [
           {
            "marker": {
             "colorbar": {
              "outlinewidth": 0,
              "ticks": ""
             }
            },
            "type": "scatterpolar"
           }
          ],
          "scatterpolargl": [
           {
            "marker": {
             "colorbar": {
              "outlinewidth": 0,
              "ticks": ""
             }
            },
            "type": "scatterpolargl"
           }
          ],
          "scatterternary": [
           {
            "marker": {
             "colorbar": {
              "outlinewidth": 0,
              "ticks": ""
             }
            },
            "type": "scatterternary"
           }
          ],
          "surface": [
           {
            "colorbar": {
             "outlinewidth": 0,
             "ticks": ""
            },
            "colorscale": [
             [
              0,
              "#0d0887"
             ],
             [
              0.1111111111111111,
              "#46039f"
             ],
             [
              0.2222222222222222,
              "#7201a8"
             ],
             [
              0.3333333333333333,
              "#9c179e"
             ],
             [
              0.4444444444444444,
              "#bd3786"
             ],
             [
              0.5555555555555556,
              "#d8576b"
             ],
             [
              0.6666666666666666,
              "#ed7953"
             ],
             [
              0.7777777777777778,
              "#fb9f3a"
             ],
             [
              0.8888888888888888,
              "#fdca26"
             ],
             [
              1,
              "#f0f921"
             ]
            ],
            "type": "surface"
           }
          ],
          "table": [
           {
            "cells": {
             "fill": {
              "color": "#EBF0F8"
             },
             "line": {
              "color": "white"
             }
            },
            "header": {
             "fill": {
              "color": "#C8D4E3"
             },
             "line": {
              "color": "white"
             }
            },
            "type": "table"
           }
          ]
         },
         "layout": {
          "annotationdefaults": {
           "arrowcolor": "#2a3f5f",
           "arrowhead": 0,
           "arrowwidth": 1
          },
          "autotypenumbers": "strict",
          "coloraxis": {
           "colorbar": {
            "outlinewidth": 0,
            "ticks": ""
           }
          },
          "colorscale": {
           "diverging": [
            [
             0,
             "#8e0152"
            ],
            [
             0.1,
             "#c51b7d"
            ],
            [
             0.2,
             "#de77ae"
            ],
            [
             0.3,
             "#f1b6da"
            ],
            [
             0.4,
             "#fde0ef"
            ],
            [
             0.5,
             "#f7f7f7"
            ],
            [
             0.6,
             "#e6f5d0"
            ],
            [
             0.7,
             "#b8e186"
            ],
            [
             0.8,
             "#7fbc41"
            ],
            [
             0.9,
             "#4d9221"
            ],
            [
             1,
             "#276419"
            ]
           ],
           "sequential": [
            [
             0,
             "#0d0887"
            ],
            [
             0.1111111111111111,
             "#46039f"
            ],
            [
             0.2222222222222222,
             "#7201a8"
            ],
            [
             0.3333333333333333,
             "#9c179e"
            ],
            [
             0.4444444444444444,
             "#bd3786"
            ],
            [
             0.5555555555555556,
             "#d8576b"
            ],
            [
             0.6666666666666666,
             "#ed7953"
            ],
            [
             0.7777777777777778,
             "#fb9f3a"
            ],
            [
             0.8888888888888888,
             "#fdca26"
            ],
            [
             1,
             "#f0f921"
            ]
           ],
           "sequentialminus": [
            [
             0,
             "#0d0887"
            ],
            [
             0.1111111111111111,
             "#46039f"
            ],
            [
             0.2222222222222222,
             "#7201a8"
            ],
            [
             0.3333333333333333,
             "#9c179e"
            ],
            [
             0.4444444444444444,
             "#bd3786"
            ],
            [
             0.5555555555555556,
             "#d8576b"
            ],
            [
             0.6666666666666666,
             "#ed7953"
            ],
            [
             0.7777777777777778,
             "#fb9f3a"
            ],
            [
             0.8888888888888888,
             "#fdca26"
            ],
            [
             1,
             "#f0f921"
            ]
           ]
          },
          "colorway": [
           "#636efa",
           "#EF553B",
           "#00cc96",
           "#ab63fa",
           "#FFA15A",
           "#19d3f3",
           "#FF6692",
           "#B6E880",
           "#FF97FF",
           "#FECB52"
          ],
          "font": {
           "color": "#2a3f5f"
          },
          "geo": {
           "bgcolor": "white",
           "lakecolor": "white",
           "landcolor": "#E5ECF6",
           "showlakes": true,
           "showland": true,
           "subunitcolor": "white"
          },
          "hoverlabel": {
           "align": "left"
          },
          "hovermode": "closest",
          "mapbox": {
           "style": "light"
          },
          "paper_bgcolor": "white",
          "plot_bgcolor": "#E5ECF6",
          "polar": {
           "angularaxis": {
            "gridcolor": "white",
            "linecolor": "white",
            "ticks": ""
           },
           "bgcolor": "#E5ECF6",
           "radialaxis": {
            "gridcolor": "white",
            "linecolor": "white",
            "ticks": ""
           }
          },
          "scene": {
           "xaxis": {
            "backgroundcolor": "#E5ECF6",
            "gridcolor": "white",
            "gridwidth": 2,
            "linecolor": "white",
            "showbackground": true,
            "ticks": "",
            "zerolinecolor": "white"
           },
           "yaxis": {
            "backgroundcolor": "#E5ECF6",
            "gridcolor": "white",
            "gridwidth": 2,
            "linecolor": "white",
            "showbackground": true,
            "ticks": "",
            "zerolinecolor": "white"
           },
           "zaxis": {
            "backgroundcolor": "#E5ECF6",
            "gridcolor": "white",
            "gridwidth": 2,
            "linecolor": "white",
            "showbackground": true,
            "ticks": "",
            "zerolinecolor": "white"
           }
          },
          "shapedefaults": {
           "line": {
            "color": "#2a3f5f"
           }
          },
          "ternary": {
           "aaxis": {
            "gridcolor": "white",
            "linecolor": "white",
            "ticks": ""
           },
           "baxis": {
            "gridcolor": "white",
            "linecolor": "white",
            "ticks": ""
           },
           "bgcolor": "#E5ECF6",
           "caxis": {
            "gridcolor": "white",
            "linecolor": "white",
            "ticks": ""
           }
          },
          "title": {
           "x": 0.05
          },
          "xaxis": {
           "automargin": true,
           "gridcolor": "white",
           "linecolor": "white",
           "ticks": "",
           "title": {
            "standoff": 15
           },
           "zerolinecolor": "white",
           "zerolinewidth": 2
          },
          "yaxis": {
           "automargin": true,
           "gridcolor": "white",
           "linecolor": "white",
           "ticks": "",
           "title": {
            "standoff": 15
           },
           "zerolinecolor": "white",
           "zerolinewidth": 2
          }
         }
        },
        "title": {
         "text": "Practice Valuation Comparison - Demo Dental NYC",
         "x": 0.5,
         "xanchor": "center"
        },
        "xaxis": {
         "autorange": true,
         "range": [
          -0.5,
          1.5
         ],
         "title": {
          "text": "Valuation Method"
         },
         "type": "category"
        },
        "yaxis": {
         "autorange": true,
         "gridcolor": "lightgray",
         "range": [
          0,
          2583004.736842105
         ],
         "tickformat": "$,.0f",
         "title": {
          "text": "Valuation ($)"
         },
         "type": "linear"
        }
       }
      },
      "image/png": "[encoded data removed]",
      "text/html": [
       "<div>                            <div id=\"c422f163-f165-4007-9638-ad3c36bbbadc\" class=\"plotly-graph-div\" style=\"height:400px; width:100%;\"></div>            <script type=\"text/javascript\">                require([\"plotly\"], function(Plotly) {                    window.PLOTLYENV=window.PLOTLYENV || {};                                    if (document.getElementById(\"c422f163-f165-4007-9638-ad3c36bbbadc\")) {                    Plotly.newPlot(                        \"c422f163-f165-4007-9638-ad3c36bbbadc\",                        [{\"marker\":{\"color\":[\"#2E86AB\",\"#A23B72\"]},\"name\":\"Valuation\",\"text\":[\"$2,453,854\",\"$1,237,357\"],\"textposition\":\"outside\",\"x\":[\"EBITDA-Based\",\"Revenue-Based\"],\"y\":[2453854.5,1237356.8],\"type\":\"bar\"}],                        {\"template\":{\"data\":{\"histogram2dcontour\":[{\"type\":\"histogram2dcontour\",\"colorbar\":{\"outlinewidth\":0,\"ticks\":\"\"},\"colorscale\":[[0.0,\"#0d0887\"],[0.1111111111111111,\"#46039f\"],[0.2222222222222222,\"#7201a8\"],[0.3333333333333333,\"#9c179e\"],[0.4444444444444444,\"#bd3786\"],[0.5555555555555556,\"#d8576b\"],[0.6666666666666666,\"#ed7953\"],[0.7777777777777778,\"#fb9f3a\"],[0.8888888888888888,\"#fdca26\"],[1.0,\"#f0f921\"]]}],\"choropleth\":[{\"type\":\"choropleth\",\"colorbar\":{\"outlinewidth\":0,\"ticks\":\"\"}}],\"histogram2d\":[{\"type\":\"histogram2d\",\"colorbar\":{\"outlinewidth\":0,\"ticks\":\"\"},\"colorscale\":[[0.0,\"#0d0887\"],[0.1111111111111111,\"#46039f\"],[0.2222222222222222,\"#7201a8\"],[0.3333333333333333,\"#9c179e\"],[0.4444444444444444,\"#bd3786\"],[0.5555555555555556,\"#d8576b\"],[0.6666666666666666,\"#ed7953\"],[0.7777777777777778,\"#fb9f3a\"],[0.8888888888888888,\"#fdca26\"],[1.0,\"#f0f921\"]]}],\"heatmap\":[{\"type\":\"heatmap\",\"colorbar\":{\"outlinewidth\":0,\"ticks\":\"\"},\"colorscale\":[[0.0,\"#0d0887\"],[0.1111111111111111,\"#46039f\"],[0.2222222222222222,\"#7201a8\"],[0.3333333333333333,\"#9c179e\"],[0.4444444444444444,\"#bd3786\"],[0.5555555555555556,\"#d8576b\"],[0.6666666666666666,\"#ed7953\"],[0.7777777777777778,\"#fb9f3a\"],[0.8888888888888888,\"#fdca26\"],[1.0,\"#f0f921\"]]}],\"heatmapgl\":[{\"type\":\"heatmapgl\",\"colorbar\":{\"outlinewidth\":0,\"ticks\":\"\"},\"colorscale\":[[0.0,\"#0d0887\"],[0.1111111111111111,\"#46039f\"],[0.2222222222222222,\"#7201a8\"],[0.3333333333333333,\"#9c179e\"],[0.4444444444444444,\"#bd3786\"],[0.5555555555555556,\"#d8576b\"],[0.6666666666666666,\"#ed7953\"],[0.7777777777777778,\"#fb9f3a\"],[0.8888888888888888,\"#fdca26\"],[1.0,\"#f0f921\"]]}],\"contourcarpet\":[{\"type\":\"contourcarpet\",\"colorbar\":{\"outlinewidth\":0,\"ticks\":\"\"}}],\"contour\":[{\"type\":\"contour\",\"colorbar\":{\"outlinewidth\":0,\"ticks\":\"\"},\"colorscale\":[[0.0,\"#0d0887\"],[0.1111111111111111,\"#46039f\"],[0.2222222222222222,\"#7201a8\"],[0.3333333333333333,\"#9c179e\"],[0.4444444444444444,\"#bd3786\"],[0.5555555555555556,\"#d8576b\"],[0.6666666666666666,\"#ed7953\"],[0.7777777777777778,\"#fb9f3a\"],[0.8888888888888888,\"#fdca26\"],[1.0,\"#f0f921\"]]}],\"surface\":[{\"type\":\"surface\",\"colorbar\":{\"outlinewidth\":0,\"ticks\":\"\"},\"colorscale\":[[0.0,\"#0d0887\"],[0.1111111111111111,\"#46039f\"],[0.2222222222222222,\"#7201a8\"],[0.3333333333333333,\"#9c179e\"],[0.4444444444444444,\"#bd3786\"],[0.5555555555555556,\"#d8576b\"],[0.6666666666666666,\"#ed7953\"],[0.7777777777777778,\"#fb9f3a\"],[0.8888888888888888,\"#fdca26\"],[1.0,\"#f0f921\"]]}],\"mesh3d\":[{\"type\":\"mesh3d\",\"colorbar\":{\"outlinewidth\":0,\"ticks\":\"\"}}],\"scatter\":[{\"fillpattern\":{\"fillmode\":\"overlay\",\"size\":10,\"solidity\":0.2},\"type\":\"scatter\"}],\"parcoords\":[{\"type\":\"parcoords\",\"line\":{\"colorbar\":{\"outlinewidth\":0,\"ticks\":\"\"}}}],\"scatterpolargl\":[{\"type\":\"scatterpolargl\",\"marker\":{\"colorbar\":{\"outlinewidth\":0,\"ticks\":\"\"}}}],\"bar\":[{\"error_x\":{\"color\":\"#2a3f5f\"},\"error_y\":{\"color\":\"#2a3f5f\"},\"marker\":{\"line\":{\"color\":\"#E5ECF6\",\"width\":0.5},\"pattern\":{\"fillmode\":\"overlay\",\"size\":10,\"solidity\":0.2}},\"type\":\"bar\"}],\"scattergeo\":[{\"type\":\"scattergeo\",\"marker\":{\"colorbar\":{\"outlinewidth\":0,\"ticks\":\"\"}}}],\"scatterpolar\":[{\"type\":\"scatterpolar\",\"marker\":{\"colorbar\":{\"outlinewidth\":0,\"ticks\":\"\"}}}],\"histogram\":[{\"marker\":{\"pattern\":{\"fillmode\":\"overlay\",\"size\":10,\"solidity\":0.2}},\"type\":\"histogram\"}],\"scattergl\":[{\"type\":\"scattergl\",\"marker\":{\"colorbar\":{\"outlinewidth\":0,\"ticks\":\"\"}}}],\"scatter3d\":[{\"type\":\"scatter3d\",\"line\":{\"colorbar\":{\"outlinewidth\":0,\"ticks\":\"\"}},\"marker\":{\"colorbar\":{\"outlinewidth\":0,\"ticks\":\"\"}}}],\"scattermapbox\":[{\"type\":\"scattermapbox\",\"marker\":{\"colorbar\":{\"outlinewidth\":0,\"ticks\":\"\"}}}],\"scatterternary\":[{\"type\":\"scatterternary\",\"marker\":{\"colorbar\":{\"outlinewidth\":0,\"ticks\":\"\"}}}],\"scattercarpet\":[{\"type\":\"scattercarpet\",\"marker\":{\"colorbar\":{\"outlinewidth\":0,\"ticks\":\"\"}}}],\"carpet\":[{\"aaxis\":{\"endlinecolor\":\"#2a3f5f\",\"gridcolor\":\"white\",\"linecolor\":\"white\",\"minorgridcolor\":\"white\",\"startlinecolor\":\"#2a3f5f\"},\"baxis\":{\"endlinecolor\":\"#2a3f5f\",\"gridcolor\":\"white\",\"linecolor\":\"white\",\"minorgridcolor\":\"white\",\"startlinecolor\":\"#2a3f5f\"},\"type\":\"carpet\"}],\"table\":[{\"cells\":{\"fill\":{\"color\":\"#EBF0F8\"},\"line\":{\"color\":\"white\"}},\"header\":{\"fill\":{\"color\":\"#C8D4E3\"},\"line\":{\"color\":\"white\"}},\"type\":\"table\"}],\"barpolar\":[{\"marker\":{\"line\":{\"color\":\"#E5ECF6\",\"width\":0.5},\"pattern\":{\"fillmode\":\"overlay\",\"size\":10,\"solidity\":0.2}},\"type\":\"barpolar\"}],\"pie\":[{\"automargin\":true,\"type\":\"pie\"}]},\"layout\":{\"autotypenumbers\":\"strict\",\"colorway\":[\"#636efa\",\"#EF553B\",\"#00cc96\",\"#ab63fa\",\"#FFA15A\",\"#19d3f3\",\"#FF6692\",\"#B6E880\",\"#FF97FF\",\"#FECB52\"],\"font\":{\"color\":\"#2a3f5f\"},\"hovermode\":\"closest\",\"hoverlabel\":{\"align\":\"left\"},\"paper_bgcolor\":\"white\",\"plot_bgcolor\":\"#E5ECF6\",\"polar\":{\"bgcolor\":\"#E5ECF6\",\"angularaxis\":{\"gridcolor\":\"white\",\"linecolor\":\"white\",\"ticks\":\"\"},\"radialaxis\":{\"gridcolor\":\"white\",\"linecolor\":\"white\",\"ticks\":\"\"}},\"ternary\":{\"bgcolor\":\"#E5ECF6\",\"aaxis\":{\"gridcolor\":\"white\",\"linecolor\":\"white\",\"ticks\":\"\"},\"baxis\":{\"gridcolor\":\"white\",\"linecolor\":\"white\",\"ticks\":\"\"},\"caxis\":{\"gridcolor\":\"white\",\"linecolor\":\"white\",\"ticks\":\"\"}},\"coloraxis\":{\"colorbar\":{\"outlinewidth\":0,\"ticks\":\"\"}},\"colorscale\":{\"sequential\":[[0.0,\"#0d0887\"],[0.1111111111111111,\"#46039f\"],[0.2222222222222222,\"#7201a8\"],[0.3333333333333333,\"#9c179e\"],[0.4444444444444444,\"#bd3786\"],[0.5555555555555556,\"#d8576b\"],[0.6666666666666666,\"#ed7953\"],[0.7777777777777778,\"#fb9f3a\"],[0.8888888888888888,\"#fdca26\"],[1.0,\"#f0f921\"]],\"sequentialminus\":[[0.0,\"#0d0887\"],[0.1111111111111111,\"#46039f\"],[0.2222222222222222,\"#7201a8\"],[0.3333333333333333,\"#9c179e\"],[0.4444444444444444,\"#bd3786\"],[0.5555555555555556,\"#d8576b\"],[0.6666666666666666,\"#ed7953\"],[0.7777777777777778,\"#fb9f3a\"],[0.8888888888888888,\"#fdca26\"],[1.0,\"#f0f921\"]],\"diverging\":[[0,\"#8e0152\"],[0.1,\"#c51b7d\"],[0.2,\"#de77ae\"],[0.3,\"#f1b6da\"],[0.4,\"#fde0ef\"],[0.5,\"#f7f7f7\"],[0.6,\"#e6f5d0\"],[0.7,\"#b8e186\"],[0.8,\"#7fbc41\"],[0.9,\"#4d9221\"],[1,\"#276419\"]]},\"xaxis\":{\"gridcolor\":\"white\",\"linecolor\":\"white\",\"ticks\":\"\",\"title\":{\"standoff\":15},\"zerolinecolor\":\"white\",\"automargin\":true,\"zerolinewidth\":2},\"yaxis\":{\"gridcolor\":\"white\",\"linecolor\":\"white\",\"ticks\":\"\",\"title\":{\"standoff\":15},\"zerolinecolor\":\"white\",\"automargin\":true,\"zerolinewidth\":2},\"scene\":{\"xaxis\":{\"backgroundcolor\":\"#E5ECF6\",\"gridcolor\":\"white\",\"linecolor\":\"white\",\"showbackground\":true,\"ticks\":\"\",\"zerolinecolor\":\"white\",\"gridwidth\":2},\"yaxis\":{\"backgroundcolor\":\"#E5ECF6\",\"gridcolor\":\"white\",\"linecolor\":\"white\",\"showbackground\":true,\"ticks\":\"\",\"zerolinecolor\":\"white\",\"gridwidth\":2},\"zaxis\":{\"backgroundcolor\":\"#E5ECF6\",\"gridcolor\":\"white\",\"linecolor\":\"white\",\"showbackground\":true,\"ticks\":\"\",\"zerolinecolor\":\"white\",\"gridwidth\":2}},\"shapedefaults\":{\"line\":{\"color\":\"#2a3f5f\"}},\"annotationdefaults\":{\"arrowcolor\":\"#2a3f5f\",\"arrowhead\":0,\"arrowwidth\":1},\"geo\":{\"bgcolor\":\"white\",\"landcolor\":\"#E5ECF6\",\"subunitcolor\":\"white\",\"showland\":true,\"showlakes\":true,\"lakecolor\":\"white\"},\"title\":{\"x\":0.05},\"mapbox\":{\"style\":\"light\"}}},\"shapes\":[{\"line\":{\"color\":\"gray\",\"dash\":\"dash\"},\"type\":\"line\",\"x0\":0,\"x1\":1,\"xref\":\"x domain\",\"y0\":1845605.65,\"y1\":1845605.65,\"yref\":\"y\"}],\"annotations\":[{\"showarrow\":false,\"text\":\"Average: $1,845,606\",\"x\":1,\"xanchor\":\"left\",\"xref\":\"x domain\",\"y\":1845605.65,\"yanchor\":\"middle\",\"yref\":\"y\"},{\"bgcolor\":\"white\",\"bordercolor\":\"gray\",\"borderwidth\":1,\"showarrow\":false,\"text\":\"EBITDA Multiple: 4.5x<br>Revenue Multiple: 0.8x\",\"x\":0.02,\"xref\":\"paper\",\"y\":0.98,\"yref\":\"paper\"}],\"title\":{\"text\":\"Practice Valuation Comparison - Demo Dental NYC\",\"x\":0.5,\"xanchor\":\"center\"},\"yaxis\":{\"title\":{\"text\":\"Valuation ($)\"},\"gridcolor\":\"lightgray\",\"tickformat\":\"$,.0f\"},\"xaxis\":{\"title\":{\"text\":\"Valuation Method\"}},\"height\":400,\"showlegend\":false,\"plot_bgcolor\":\"white\",\"bargap\":0.3},                        {\"responsive\": true}                    ).then(function(){\n",
       "                            \n",
       "var gd = document.getElementById('c422f163-f165-4007-9638-ad3c36bbbadc');\n",
       "var x = new MutationObserver(function (mutations, observer) {{\n",
       "        var display = window.getComputedStyle(gd).display;\n",
       "        if (!display || display === 'none') {{\n",
       "            console.log([gd, 'removed!']);\n",
       "            Plotly.purge(gd);\n",
       "            observer.disconnect();\n",
       "        }}\n",
       "}});\n",
       "\n",
       "// Listen for the removal of the full notebook cells\n",
       "var notebookContainer = gd.closest('#notebook-container');\n",
       "if (notebookContainer) {{\n",
       "    x.observe(notebookContainer, {childList: true});\n",
       "}}\n",
       "\n",
       "// Listen for the clearing of the current output cell\n",
       "var outputEl = gd.closest('.output');\n",
       "if (outputEl) {{\n",
       "    x.observe(outputEl, {childList: true});\n",
       "}}\n",
       "\n",
       "                        })                };                });            </script>        </div>"
      ]
     },
     "metadata": {},
     "output_type": "display_data"
    },
    {
     "name": "stdout",
     "output_type": "stream",
     "text": [
      "   ✅ Valuation Comparison created\n",
      "\n",
      "3. Creating Key Metrics Dashboard...\n",
      "   Purpose: One-page overview of all key metrics\n"
     ]
    },
    {
     "data": {
      "application/vnd.plotly.v1+json": {
       "config": {
        "plotlyServerURL": "https://plot.ly"
       },
       "data": [
        {
         "marker": {
          "color": [
           "#2E86AB",
           "#A23B72",
           "#F18F01"
          ]
         },
         "text": [
          "$1,546,696",
          "$545,301",
          "$460,000"
         ],
         "textposition": "outside",
         "type": "bar",
         "x": [
          "Revenue",
          "EBITDA",
          "SDE"
         ],
         "xaxis": "x",
         "y": [
          1546696,
          545301,
          460000
         ],
         "yaxis": "y"
        },
        {
         "marker": {
          "color": [
           "#A23B72",
           "#F18F01"
          ]
         },
         "text": [
          "35.3%",
          "29.7%"
         ],
         "textposition": "outside",
         "type": "bar",
         "x": [
          "EBITDA %",
          "SDE %"
         ],
         "xaxis": "x2",
         "y": [
          35.25586152676415,
          29.740815260400232
         ],
         "yaxis": "y2"
        },
        {
         "marker": {
          "color": [
           "#2E86AB",
           "#A23B72"
          ],
          "size": 15
         },
         "mode": "markers",
         "showlegend": false,
         "text": [
          "Revenue: $1,237,357",
          "EBITDA: $2,453,854"
         ],
         "type": "scatter",
         "x": [
          1237356.8,
          2453854.5
         ],
         "xaxis": "x3",
         "y": [
          "Valuation",
          "Valuation"
         ],
         "yaxis": "y3"
        },
        {
         "domain": {
          "x": [
           0,
           0.25333333333333335
          ],
          "y": [
           0,
           0.425
          ]
         },
         "hole": 0.3,
         "labels": [
          "Net_Profit_pre_tax",
          "Owner_Salary_minus_Market",
          "Owner_Perks",
          "Interest",
          "Depreciation",
          "Amortization",
          "Non_Recurring"
         ],
         "marker": {
          "colors": [
           "#2E86AB",
           "#A23B72",
           "#F18F01",
           "#C73E1D",
           "#6A994E"
          ]
         },
         "type": "pie",
         "values": [
          350000,
          60000,
          18000,
          12000,
          9000,
          4000,
          7000
         ]
        },
        {
         "domain": {
          "x": [
           0.37333333333333335,
           0.6266666666666667
          ],
          "y": [
           0,
           0.425
          ]
         },
         "gauge": {
          "axis": {
           "range": [
            0,
            3
           ]
          },
          "bar": {
           "color": "green"
          }
         },
         "mode": "number+gauge",
         "title": {
          "text": "DSCR"
         },
         "type": "indicator",
         "value": 3.245684729298605
        },
        {
         "cells": {
          "align": "left",
          "fill": {
           "color": "lavender"
          },
          "values": [
           [
            "Revenue (TTM)",
            "EBITDA (TTM)",
            "Total SDE",
            "EBITDA Margin",
            "SDE Margin"
           ],
           [
            "$1,546,696",
            "$545,301",
            "$460,000",
            "35.3%",
            "29.7%"
           ]
          ]
         },
         "domain": {
          "x": [
           0.7466666666666667,
           1
          ],
          "y": [
           0,
           0.425
          ]
         },
         "header": {
          "align": "left",
          "fill": {
           "color": "paleturquoise"
          },
          "values": [
           "Metric",
           "Value"
          ]
         },
         "type": "table"
        }
       ],
       "layout": {
        "annotations": [
         {
          "font": {
           "size": 16
          },
          "showarrow": false,
          "text": "Revenue & Profitability",
          "x": 0.12666666666666668,
          "xanchor": "center",
          "xref": "paper",
          "y": 1,
          "yanchor": "bottom",
          "yref": "paper"
         },
         {
          "font": {
           "size": 16
          },
          "showarrow": false,
          "text": "Margins Comparison",
          "x": 0.5,
          "xanchor": "center",
          "xref": "paper",
          "y": 1,
          "yanchor": "bottom",
          "yref": "paper"
         },
         {
          "font": {
           "size": 16
          },
          "showarrow": false,
          "text": "Valuation Range",
          "x": 0.8733333333333333,
          "xanchor": "center",
          "xref": "paper",
          "y": 1,
          "yanchor": "bottom",
          "yref": "paper"
         },
         {
          "font": {
           "size": 16
          },
          "showarrow": false,
          "text": "SDE Components",
          "x": 0.12666666666666668,
          "xanchor": "center",
          "xref": "paper",
          "y": 0.425,
          "yanchor": "bottom",
          "yref": "paper"
         },
         {
          "font": {
           "size": 16
          },
          "showarrow": false,
          "text": "Debt Coverage",
          "x": 0.5,
          "xanchor": "center",
          "xref": "paper",
          "y": 0.425,
          "yanchor": "bottom",
          "yref": "paper"
         },
         {
          "font": {
           "size": 16
          },
          "showarrow": false,
          "text": "Practice Metrics",
          "x": 0.8733333333333333,
          "xanchor": "center",
          "xref": "paper",
          "y": 0.425,
          "yanchor": "bottom",
          "yref": "paper"
         }
        ],
        "autosize": true,
        "showlegend": false,
        "template": {
         "data": {
          "bar": [
           {
            "error_x": {
             "color": "#2a3f5f"
            },
            "error_y": {
             "color": "#2a3f5f"
            },
            "marker": {
             "line": {
              "color": "#E5ECF6",
              "width": 0.5
             },
             "pattern": {
              "fillmode": "overlay",
              "size": 10,
              "solidity": 0.2
             }
            },
            "type": "bar"
           }
          ],
          "barpolar": [
           {
            "marker": {
             "line": {
              "color": "#E5ECF6",
              "width": 0.5
             },
             "pattern": {
              "fillmode": "overlay",
              "size": 10,
              "solidity": 0.2
             }
            },
            "type": "barpolar"
           }
          ],
          "carpet": [
           {
            "aaxis": {
             "endlinecolor": "#2a3f5f",
             "gridcolor": "white",
             "linecolor": "white",
             "minorgridcolor": "white",
             "startlinecolor": "#2a3f5f"
            },
            "baxis": {
             "endlinecolor": "#2a3f5f",
             "gridcolor": "white",
             "linecolor": "white",
             "minorgridcolor": "white",
             "startlinecolor": "#2a3f5f"
            },
            "type": "carpet"
           }
          ],
          "choropleth": [
           {
            "colorbar": {
             "outlinewidth": 0,
             "ticks": ""
            },
            "type": "choropleth"
           }
          ],
          "contour": [
           {
            "colorbar": {
             "outlinewidth": 0,
             "ticks": ""
            },
            "colorscale": [
             [
              0,
              "#0d0887"
             ],
             [
              0.1111111111111111,
              "#46039f"
             ],
             [
              0.2222222222222222,
              "#7201a8"
             ],
             [
              0.3333333333333333,
              "#9c179e"
             ],
             [
              0.4444444444444444,
              "#bd3786"
             ],
             [
              0.5555555555555556,
              "#d8576b"
             ],
             [
              0.6666666666666666,
              "#ed7953"
             ],
             [
              0.7777777777777778,
              "#fb9f3a"
             ],
             [
              0.8888888888888888,
              "#fdca26"
             ],
             [
              1,
              "#f0f921"
             ]
            ],
            "type": "contour"
           }
          ],
          "contourcarpet": [
           {
            "colorbar": {
             "outlinewidth": 0,
             "ticks": ""
            },
            "type": "contourcarpet"
           }
          ],
          "heatmap": [
           {
            "colorbar": {
             "outlinewidth": 0,
             "ticks": ""
            },
            "colorscale": [
             [
              0,
              "#0d0887"
             ],
             [
              0.1111111111111111,
              "#46039f"
             ],
             [
              0.2222222222222222,
              "#7201a8"
             ],
             [
              0.3333333333333333,
              "#9c179e"
             ],
             [
              0.4444444444444444,
              "#bd3786"
             ],
             [
              0.5555555555555556,
              "#d8576b"
             ],
             [
              0.6666666666666666,
              "#ed7953"
             ],
             [
              0.7777777777777778,
              "#fb9f3a"
             ],
             [
              0.8888888888888888,
              "#fdca26"
             ],
             [
              1,
              "#f0f921"
             ]
            ],
            "type": "heatmap"
           }
          ],
          "heatmapgl": [
           {
            "colorbar": {
             "outlinewidth": 0,
             "ticks": ""
            },
            "colorscale": [
             [
              0,
              "#0d0887"
             ],
             [
              0.1111111111111111,
              "#46039f"
             ],
             [
              0.2222222222222222,
              "#7201a8"
             ],
             [
              0.3333333333333333,
              "#9c179e"
             ],
             [
              0.4444444444444444,
              "#bd3786"
             ],
             [
              0.5555555555555556,
              "#d8576b"
             ],
             [
              0.6666666666666666,
              "#ed7953"
             ],
             [
              0.7777777777777778,
              "#fb9f3a"
             ],
             [
              0.8888888888888888,
              "#fdca26"
             ],
             [
              1,
              "#f0f921"
             ]
            ],
            "type": "heatmapgl"
           }
          ],
          "histogram": [
           {
            "marker": {
             "pattern": {
              "fillmode": "overlay",
              "size": 10,
              "solidity": 0.2
             }
            },
            "type": "histogram"
           }
          ],
          "histogram2d": [
           {
            "colorbar": {
             "outlinewidth": 0,
             "ticks": ""
            },
            "colorscale": [
             [
              0,
              "#0d0887"
             ],
             [
              0.1111111111111111,
              "#46039f"
             ],
             [
              0.2222222222222222,
              "#7201a8"
             ],
             [
              0.3333333333333333,
              "#9c179e"
             ],
             [
              0.4444444444444444,
              "#bd3786"
             ],
             [
              0.5555555555555556,
              "#d8576b"
             ],
             [
              0.6666666666666666,
              "#ed7953"
             ],
             [
              0.7777777777777778,
              "#fb9f3a"
             ],
             [
              0.8888888888888888,
              "#fdca26"
             ],
             [
              1,
              "#f0f921"
             ]
            ],
            "type": "histogram2d"
           }
          ],
          "histogram2dcontour": [
           {
            "colorbar": {
             "outlinewidth": 0,
             "ticks": ""
            },
            "colorscale": [
             [
              0,
              "#0d0887"
             ],
             [
              0.1111111111111111,
              "#46039f"
             ],
             [
              0.2222222222222222,
              "#7201a8"
             ],
             [
              0.3333333333333333,
              "#9c179e"
             ],
             [
              0.4444444444444444,
              "#bd3786"
             ],
             [
              0.5555555555555556,
              "#d8576b"
             ],
             [
              0.6666666666666666,
              "#ed7953"
             ],
             [
              0.7777777777777778,
              "#fb9f3a"
             ],
             [
              0.8888888888888888,
              "#fdca26"
             ],
             [
              1,
              "#f0f921"
             ]
            ],
            "type": "histogram2dcontour"
           }
          ],
          "mesh3d": [
           {
            "colorbar": {
             "outlinewidth": 0,
             "ticks": ""
            },
            "type": "mesh3d"
           }
          ],
          "parcoords": [
           {
            "line": {
             "colorbar": {
              "outlinewidth": 0,
              "ticks": ""
             }
            },
            "type": "parcoords"
           }
          ],
          "pie": [
           {
            "automargin": true,
            "type": "pie"
           }
          ],
          "scatter": [
           {
            "fillpattern": {
             "fillmode": "overlay",
             "size": 10,
             "solidity": 0.2
            },
            "type": "scatter"
           }
          ],
          "scatter3d": [
           {
            "line": {
             "colorbar": {
              "outlinewidth": 0,
              "ticks": ""
             }
            },
            "marker": {
             "colorbar": {
              "outlinewidth": 0,
              "ticks": ""
             }
            },
            "type": "scatter3d"
           }
          ],
          "scattercarpet": [
           {
            "marker": {
             "colorbar": {
              "outlinewidth": 0,
              "ticks": ""
             }
            },
            "type": "scattercarpet"
           }
          ],
          "scattergeo": [
           {
            "marker": {
             "colorbar": {
              "outlinewidth": 0,
              "ticks": ""
             }
            },
            "type": "scattergeo"
           }
          ],
          "scattergl": [
           {
            "marker": {
             "colorbar": {
              "outlinewidth": 0,
              "ticks": ""
             }
            },
            "type": "scattergl"
           }
          ],
          "scattermapbox": [
           {
            "marker": {
             "colorbar": {
              "outlinewidth": 0,
              "ticks": ""
             }
            },
            "type": "scattermapbox"
           }
          ],
          "scatterpolar": [
           {
            "marker": {
             "colorbar": {
              "outlinewidth": 0,
              "ticks": ""
             }
            },
            "type": "scatterpolar"
           }
          ],
          "scatterpolargl": [
           {
            "marker": {
             "colorbar": {
              "outlinewidth": 0,
              "ticks": ""
             }
            },
            "type": "scatterpolargl"
           }
          ],
          "scatterternary": [
           {
            "marker": {
             "colorbar": {
              "outlinewidth": 0,
              "ticks": ""
             }
            },
            "type": "scatterternary"
           }
          ],
          "surface": [
           {
            "colorbar": {
             "outlinewidth": 0,
             "ticks": ""
            },
            "colorscale": [
             [
              0,
              "#0d0887"
             ],
             [
              0.1111111111111111,
              "#46039f"
             ],
             [
              0.2222222222222222,
              "#7201a8"
             ],
             [
              0.3333333333333333,
              "#9c179e"
             ],
             [
              0.4444444444444444,
              "#bd3786"
             ],
             [
              0.5555555555555556,
              "#d8576b"
             ],
             [
              0.6666666666666666,
              "#ed7953"
             ],
             [
              0.7777777777777778,
              "#fb9f3a"
             ],
             [
              0.8888888888888888,
              "#fdca26"
             ],
             [
              1,
              "#f0f921"
             ]
            ],
            "type": "surface"
           }
          ],
          "table": [
           {
            "cells": {
             "fill": {
              "color": "#EBF0F8"
             },
             "line": {
              "color": "white"
             }
            },
            "header": {
             "fill": {
              "color": "#C8D4E3"
             },
             "line": {
              "color": "white"
             }
            },
            "type": "table"
           }
          ]
         },
         "layout": {
          "annotationdefaults": {
           "arrowcolor": "#2a3f5f",
           "arrowhead": 0,
           "arrowwidth": 1
          },
          "autotypenumbers": "strict",
          "coloraxis": {
           "colorbar": {
            "outlinewidth": 0,
            "ticks": ""
           }
          },
          "colorscale": {
           "diverging": [
            [
             0,
             "#8e0152"
            ],
            [
             0.1,
             "#c51b7d"
            ],
            [
             0.2,
             "#de77ae"
            ],
            [
             0.3,
             "#f1b6da"
            ],
            [
             0.4,
             "#fde0ef"
            ],
            [
             0.5,
             "#f7f7f7"
            ],
            [
             0.6,
             "#e6f5d0"
            ],
            [
             0.7,
             "#b8e186"
            ],
            [
             0.8,
             "#7fbc41"
            ],
            [
             0.9,
             "#4d9221"
            ],
            [
             1,
             "#276419"
            ]
           ],
           "sequential": [
            [
             0,
             "#0d0887"
            ],
            [
             0.1111111111111111,
             "#46039f"
            ],
            [
             0.2222222222222222,
             "#7201a8"
            ],
            [
             0.3333333333333333,
             "#9c179e"
            ],
            [
             0.4444444444444444,
             "#bd3786"
            ],
            [
             0.5555555555555556,
             "#d8576b"
            ],
            [
             0.6666666666666666,
             "#ed7953"
            ],
            [
             0.7777777777777778,
             "#fb9f3a"
            ],
            [
             0.8888888888888888,
             "#fdca26"
            ],
            [
             1,
             "#f0f921"
            ]
           ],
           "sequentialminus": [
            [
             0,
             "#0d0887"
            ],
            [
             0.1111111111111111,
             "#46039f"
            ],
            [
             0.2222222222222222,
             "#7201a8"
            ],
            [
             0.3333333333333333,
             "#9c179e"
            ],
            [
             0.4444444444444444,
             "#bd3786"
            ],
            [
             0.5555555555555556,
             "#d8576b"
            ],
            [
             0.6666666666666666,
             "#ed7953"
            ],
            [
             0.7777777777777778,
             "#fb9f3a"
            ],
            [
             0.8888888888888888,
             "#fdca26"
            ],
            [
             1,
             "#f0f921"
            ]
           ]
          },
          "colorway": [
           "#636efa",
           "#EF553B",
           "#00cc96",
           "#ab63fa",
           "#FFA15A",
           "#19d3f3",
           "#FF6692",
           "#B6E880",
           "#FF97FF",
           "#FECB52"
          ],
          "font": {
           "color": "#2a3f5f"
          },
          "geo": {
           "bgcolor": "white",
           "lakecolor": "white",
           "landcolor": "#E5ECF6",
           "showlakes": true,
           "showland": true,
           "subunitcolor": "white"
          },
          "hoverlabel": {
           "align": "left"
          },
          "hovermode": "closest",
          "mapbox": {
           "style": "light"
          },
          "paper_bgcolor": "white",
          "plot_bgcolor": "#E5ECF6",
          "polar": {
           "angularaxis": {
            "gridcolor": "white",
            "linecolor": "white",
            "ticks": ""
           },
           "bgcolor": "#E5ECF6",
           "radialaxis": {
            "gridcolor": "white",
            "linecolor": "white",
            "ticks": ""
           }
          },
          "scene": {
           "xaxis": {
            "backgroundcolor": "#E5ECF6",
            "gridcolor": "white",
            "gridwidth": 2,
            "linecolor": "white",
            "showbackground": true,
            "ticks": "",
            "zerolinecolor": "white"
           },
           "yaxis": {
            "backgroundcolor": "#E5ECF6",
            "gridcolor": "white",
            "gridwidth": 2,
            "linecolor": "white",
            "showbackground": true,
            "ticks": "",
            "zerolinecolor": "white"
           },
           "zaxis": {
            "backgroundcolor": "#E5ECF6",
            "gridcolor": "white",
            "gridwidth": 2,
            "linecolor": "white",
            "showbackground": true,
            "ticks": "",
            "zerolinecolor": "white"
           }
          },
          "shapedefaults": {
           "line": {
            "color": "#2a3f5f"
           }
          },
          "ternary": {
           "aaxis": {
            "gridcolor": "white",
            "linecolor": "white",
            "ticks": ""
           },
           "baxis": {
            "gridcolor": "white",
            "linecolor": "white",
            "ticks": ""
           },
           "bgcolor": "#E5ECF6",
           "caxis": {
            "gridcolor": "white",
            "linecolor": "white",
            "ticks": ""
           }
          },
          "title": {
           "x": 0.05
          },
          "xaxis": {
           "automargin": true,
           "gridcolor": "white",
           "linecolor": "white",
           "ticks": "",
           "title": {
            "standoff": 15
           },
           "zerolinecolor": "white",
           "zerolinewidth": 2
          },
          "yaxis": {
           "automargin": true,
           "gridcolor": "white",
           "linecolor": "white",
           "ticks": "",
           "title": {
            "standoff": 15
           },
           "zerolinecolor": "white",
           "zerolinewidth": 2
          }
         }
        },
        "title": {
         "text": "Practice Dashboard - Demo Dental NYC",
         "x": 0.5,
         "xanchor": "center"
        },
        "xaxis": {
         "anchor": "y",
         "autorange": true,
         "domain": [
          0,
          0.25333333333333335
         ],
         "range": [
          -0.5,
          2.5
         ],
         "type": "category"
        },
        "xaxis2": {
         "anchor": "y2",
         "autorange": true,
         "domain": [
          0.37333333333333335,
          0.6266666666666667
         ],
         "range": [
          -0.5,
          1.5
         ],
         "type": "category"
        },
        "xaxis3": {
         "anchor": "y3",
         "autorange": true,
         "domain": [
          0.7466666666666667,
          1
         ],
         "range": [
          1106310.8950360755,
          2584900.4049639245
         ],
         "type": "linear"
        },
        "yaxis": {
         "anchor": "x",
         "autorange": true,
         "domain": [
          0.575,
          1
         ],
         "range": [
          0,
          1628101.0526315789
         ],
         "type": "linear"
        },
        "yaxis2": {
         "anchor": "x2",
         "autorange": true,
         "domain": [
          0.575,
          1
         ],
         "range": [
          0,
          37.11143318606753
         ],
         "type": "linear"
        },
        "yaxis3": {
         "anchor": "x3",
         "autorange": true,
         "domain": [
          0.575,
          1
         ],
         "range": [
          -1,
          1
         ],
         "type": "category"
        }
       }
      },
      "image/png": "[encoded data removed]",
      "text/html": [
       "<div>                            <div id=\"563498d7-85e0-43d5-9643-c15fa6c0237a\" class=\"plotly-graph-div\" style=\"height:700px; width:100%;\"></div>            <script type=\"text/javascript\">                require([\"plotly\"], function(Plotly) {                    window.PLOTLYENV=window.PLOTLYENV || {};                                    if (document.getElementById(\"563498d7-85e0-43d5-9643-c15fa6c0237a\")) {                    Plotly.newPlot(                        \"563498d7-85e0-43d5-9643-c15fa6c0237a\",                        [{\"marker\":{\"color\":[\"#2E86AB\",\"#A23B72\",\"#F18F01\"]},\"text\":[\"$1,546,696\",\"$545,301\",\"$460,000\"],\"textposition\":\"outside\",\"x\":[\"Revenue\",\"EBITDA\",\"SDE\"],\"y\":[1546696,545301,460000],\"type\":\"bar\",\"xaxis\":\"x\",\"yaxis\":\"y\"},{\"marker\":{\"color\":[\"#A23B72\",\"#F18F01\"]},\"text\":[\"35.3%\",\"29.7%\"],\"textposition\":\"outside\",\"x\":[\"EBITDA %\",\"SDE %\"],\"y\":[35.25586152676415,29.740815260400232],\"type\":\"bar\",\"xaxis\":\"x2\",\"yaxis\":\"y2\"},{\"marker\":{\"color\":[\"#2E86AB\",\"#A23B72\"],\"size\":15},\"mode\":\"markers\",\"showlegend\":false,\"text\":[\"Revenue: $1,237,357\",\"EBITDA: $2,453,854\"],\"x\":[1237356.8,2453854.5],\"y\":[\"Valuation\",\"Valuation\"],\"type\":\"scatter\",\"xaxis\":\"x3\",\"yaxis\":\"y3\"},{\"hole\":0.3,\"labels\":[\"Net_Profit_pre_tax\",\"Owner_Salary_minus_Market\",\"Owner_Perks\",\"Interest\",\"Depreciation\",\"Amortization\",\"Non_Recurring\"],\"marker\":{\"colors\":[\"#2E86AB\",\"#A23B72\",\"#F18F01\",\"#C73E1D\",\"#6A994E\"]},\"values\":[350000,60000,18000,12000,9000,4000,7000],\"type\":\"pie\",\"domain\":{\"x\":[0.0,0.25333333333333335],\"y\":[0.0,0.425]}},{\"gauge\":{\"axis\":{\"range\":[0,3]},\"bar\":{\"color\":\"green\"}},\"mode\":\"number+gauge\",\"title\":{\"text\":\"DSCR\"},\"value\":3.245684729298605,\"type\":\"indicator\",\"domain\":{\"x\":[0.37333333333333335,0.6266666666666667],\"y\":[0.0,0.425]}},{\"cells\":{\"align\":\"left\",\"fill\":{\"color\":\"lavender\"},\"values\":[[\"Revenue (TTM)\",\"EBITDA (TTM)\",\"Total SDE\",\"EBITDA Margin\",\"SDE Margin\"],[\"$1,546,696\",\"$545,301\",\"$460,000\",\"35.3%\",\"29.7%\"]]},\"header\":{\"align\":\"left\",\"fill\":{\"color\":\"paleturquoise\"},\"values\":[\"Metric\",\"Value\"]},\"type\":\"table\",\"domain\":{\"x\":[0.7466666666666667,1.0],\"y\":[0.0,0.425]}}],                        {\"template\":{\"data\":{\"histogram2dcontour\":[{\"type\":\"histogram2dcontour\",\"colorbar\":{\"outlinewidth\":0,\"ticks\":\"\"},\"colorscale\":[[0.0,\"#0d0887\"],[0.1111111111111111,\"#46039f\"],[0.2222222222222222,\"#7201a8\"],[0.3333333333333333,\"#9c179e\"],[0.4444444444444444,\"#bd3786\"],[0.5555555555555556,\"#d8576b\"],[0.6666666666666666,\"#ed7953\"],[0.7777777777777778,\"#fb9f3a\"],[0.8888888888888888,\"#fdca26\"],[1.0,\"#f0f921\"]]}],\"choropleth\":[{\"type\":\"choropleth\",\"colorbar\":{\"outlinewidth\":0,\"ticks\":\"\"}}],\"histogram2d\":[{\"type\":\"histogram2d\",\"colorbar\":{\"outlinewidth\":0,\"ticks\":\"\"},\"colorscale\":[[0.0,\"#0d0887\"],[0.1111111111111111,\"#46039f\"],[0.2222222222222222,\"#7201a8\"],[0.3333333333333333,\"#9c179e\"],[0.4444444444444444,\"#bd3786\"],[0.5555555555555556,\"#d8576b\"],[0.6666666666666666,\"#ed7953\"],[0.7777777777777778,\"#fb9f3a\"],[0.8888888888888888,\"#fdca26\"],[1.0,\"#f0f921\"]]}],\"heatmap\":[{\"type\":\"heatmap\",\"colorbar\":{\"outlinewidth\":0,\"ticks\":\"\"},\"colorscale\":[[0.0,\"#0d0887\"],[0.1111111111111111,\"#46039f\"],[0.2222222222222222,\"#7201a8\"],[0.3333333333333333,\"#9c179e\"],[0.4444444444444444,\"#bd3786\"],[0.5555555555555556,\"#d8576b\"],[0.6666666666666666,\"#ed7953\"],[0.7777777777777778,\"#fb9f3a\"],[0.8888888888888888,\"#fdca26\"],[1.0,\"#f0f921\"]]}],\"heatmapgl\":[{\"type\":\"heatmapgl\",\"colorbar\":{\"outlinewidth\":0,\"ticks\":\"\"},\"colorscale\":[[0.0,\"#0d0887\"],[0.1111111111111111,\"#46039f\"],[0.2222222222222222,\"#7201a8\"],[0.3333333333333333,\"#9c179e\"],[0.4444444444444444,\"#bd3786\"],[0.5555555555555556,\"#d8576b\"],[0.6666666666666666,\"#ed7953\"],[0.7777777777777778,\"#fb9f3a\"],[0.8888888888888888,\"#fdca26\"],[1.0,\"#f0f921\"]]}],\"contourcarpet\":[{\"type\":\"contourcarpet\",\"colorbar\":{\"outlinewidth\":0,\"ticks\":\"\"}}],\"contour\":[{\"type\":\"contour\",\"colorbar\":{\"outlinewidth\":0,\"ticks\":\"\"},\"colorscale\":[[0.0,\"#0d0887\"],[0.1111111111111111,\"#46039f\"],[0.2222222222222222,\"#7201a8\"],[0.3333333333333333,\"#9c179e\"],[0.4444444444444444,\"#bd3786\"],[0.5555555555555556,\"#d8576b\"],[0.6666666666666666,\"#ed7953\"],[0.7777777777777778,\"#fb9f3a\"],[0.8888888888888888,\"#fdca26\"],[1.0,\"#f0f921\"]]}],\"surface\":[{\"type\":\"surface\",\"colorbar\":{\"outlinewidth\":0,\"ticks\":\"\"},\"colorscale\":[[0.0,\"#0d0887\"],[0.1111111111111111,\"#46039f\"],[0.2222222222222222,\"#7201a8\"],[0.3333333333333333,\"#9c179e\"],[0.4444444444444444,\"#bd3786\"],[0.5555555555555556,\"#d8576b\"],[0.6666666666666666,\"#ed7953\"],[0.7777777777777778,\"#fb9f3a\"],[0.8888888888888888,\"#fdca26\"],[1.0,\"#f0f921\"]]}],\"mesh3d\":[{\"type\":\"mesh3d\",\"colorbar\":{\"outlinewidth\":0,\"ticks\":\"\"}}],\"scatter\":[{\"fillpattern\":{\"fillmode\":\"overlay\",\"size\":10,\"solidity\":0.2},\"type\":\"scatter\"}],\"parcoords\":[{\"type\":\"parcoords\",\"line\":{\"colorbar\":{\"outlinewidth\":0,\"ticks\":\"\"}}}],\"scatterpolargl\":[{\"type\":\"scatterpolargl\",\"marker\":{\"colorbar\":{\"outlinewidth\":0,\"ticks\":\"\"}}}],\"bar\":[{\"error_x\":{\"color\":\"#2a3f5f\"},\"error_y\":{\"color\":\"#2a3f5f\"},\"marker\":{\"line\":{\"color\":\"#E5ECF6\",\"width\":0.5},\"pattern\":{\"fillmode\":\"overlay\",\"size\":10,\"solidity\":0.2}},\"type\":\"bar\"}],\"scattergeo\":[{\"type\":\"scattergeo\",\"marker\":{\"colorbar\":{\"outlinewidth\":0,\"ticks\":\"\"}}}],\"scatterpolar\":[{\"type\":\"scatterpolar\",\"marker\":{\"colorbar\":{\"outlinewidth\":0,\"ticks\":\"\"}}}],\"histogram\":[{\"marker\":{\"pattern\":{\"fillmode\":\"overlay\",\"size\":10,\"solidity\":0.2}},\"type\":\"histogram\"}],\"scattergl\":[{\"type\":\"scattergl\",\"marker\":{\"colorbar\":{\"outlinewidth\":0,\"ticks\":\"\"}}}],\"scatter3d\":[{\"type\":\"scatter3d\",\"line\":{\"colorbar\":{\"outlinewidth\":0,\"ticks\":\"\"}},\"marker\":{\"colorbar\":{\"outlinewidth\":0,\"ticks\":\"\"}}}],\"scattermapbox\":[{\"type\":\"scattermapbox\",\"marker\":{\"colorbar\":{\"outlinewidth\":0,\"ticks\":\"\"}}}],\"scatterternary\":[{\"type\":\"scatterternary\",\"marker\":{\"colorbar\":{\"outlinewidth\":0,\"ticks\":\"\"}}}],\"scattercarpet\":[{\"type\":\"scattercarpet\",\"marker\":{\"colorbar\":{\"outlinewidth\":0,\"ticks\":\"\"}}}],\"carpet\":[{\"aaxis\":{\"endlinecolor\":\"#2a3f5f\",\"gridcolor\":\"white\",\"linecolor\":\"white\",\"minorgridcolor\":\"white\",\"startlinecolor\":\"#2a3f5f\"},\"baxis\":{\"endlinecolor\":\"#2a3f5f\",\"gridcolor\":\"white\",\"linecolor\":\"white\",\"minorgridcolor\":\"white\",\"startlinecolor\":\"#2a3f5f\"},\"type\":\"carpet\"}],\"table\":[{\"cells\":{\"fill\":{\"color\":\"#EBF0F8\"},\"line\":{\"color\":\"white\"}},\"header\":{\"fill\":{\"color\":\"#C8D4E3\"},\"line\":{\"color\":\"white\"}},\"type\":\"table\"}],\"barpolar\":[{\"marker\":{\"line\":{\"color\":\"#E5ECF6\",\"width\":0.5},\"pattern\":{\"fillmode\":\"overlay\",\"size\":10,\"solidity\":0.2}},\"type\":\"barpolar\"}],\"pie\":[{\"automargin\":true,\"type\":\"pie\"}]},\"layout\":{\"autotypenumbers\":\"strict\",\"colorway\":[\"#636efa\",\"#EF553B\",\"#00cc96\",\"#ab63fa\",\"#FFA15A\",\"#19d3f3\",\"#FF6692\",\"#B6E880\",\"#FF97FF\",\"#FECB52\"],\"font\":{\"color\":\"#2a3f5f\"},\"hovermode\":\"closest\",\"hoverlabel\":{\"align\":\"left\"},\"paper_bgcolor\":\"white\",\"plot_bgcolor\":\"#E5ECF6\",\"polar\":{\"bgcolor\":\"#E5ECF6\",\"angularaxis\":{\"gridcolor\":\"white\",\"linecolor\":\"white\",\"ticks\":\"\"},\"radialaxis\":{\"gridcolor\":\"white\",\"linecolor\":\"white\",\"ticks\":\"\"}},\"ternary\":{\"bgcolor\":\"#E5ECF6\",\"aaxis\":{\"gridcolor\":\"white\",\"linecolor\":\"white\",\"ticks\":\"\"},\"baxis\":{\"gridcolor\":\"white\",\"linecolor\":\"white\",\"ticks\":\"\"},\"caxis\":{\"gridcolor\":\"white\",\"linecolor\":\"white\",\"ticks\":\"\"}},\"coloraxis\":{\"colorbar\":{\"outlinewidth\":0,\"ticks\":\"\"}},\"colorscale\":{\"sequential\":[[0.0,\"#0d0887\"],[0.1111111111111111,\"#46039f\"],[0.2222222222222222,\"#7201a8\"],[0.3333333333333333,\"#9c179e\"],[0.4444444444444444,\"#bd3786\"],[0.5555555555555556,\"#d8576b\"],[0.6666666666666666,\"#ed7953\"],[0.7777777777777778,\"#fb9f3a\"],[0.8888888888888888,\"#fdca26\"],[1.0,\"#f0f921\"]],\"sequentialminus\":[[0.0,\"#0d0887\"],[0.1111111111111111,\"#46039f\"],[0.2222222222222222,\"#7201a8\"],[0.3333333333333333,\"#9c179e\"],[0.4444444444444444,\"#bd3786\"],[0.5555555555555556,\"#d8576b\"],[0.6666666666666666,\"#ed7953\"],[0.7777777777777778,\"#fb9f3a\"],[0.8888888888888888,\"#fdca26\"],[1.0,\"#f0f921\"]],\"diverging\":[[0,\"#8e0152\"],[0.1,\"#c51b7d\"],[0.2,\"#de77ae\"],[0.3,\"#f1b6da\"],[0.4,\"#fde0ef\"],[0.5,\"#f7f7f7\"],[0.6,\"#e6f5d0\"],[0.7,\"#b8e186\"],[0.8,\"#7fbc41\"],[0.9,\"#4d9221\"],[1,\"#276419\"]]},\"xaxis\":{\"gridcolor\":\"white\",\"linecolor\":\"white\",\"ticks\":\"\",\"title\":{\"standoff\":15},\"zerolinecolor\":\"white\",\"automargin\":true,\"zerolinewidth\":2},\"yaxis\":{\"gridcolor\":\"white\",\"linecolor\":\"white\",\"ticks\":\"\",\"title\":{\"standoff\":15},\"zerolinecolor\":\"white\",\"automargin\":true,\"zerolinewidth\":2},\"scene\":{\"xaxis\":{\"backgroundcolor\":\"#E5ECF6\",\"gridcolor\":\"white\",\"linecolor\":\"white\",\"showbackground\":true,\"ticks\":\"\",\"zerolinecolor\":\"white\",\"gridwidth\":2},\"yaxis\":{\"backgroundcolor\":\"#E5ECF6\",\"gridcolor\":\"white\",\"linecolor\":\"white\",\"showbackground\":true,\"ticks\":\"\",\"zerolinecolor\":\"white\",\"gridwidth\":2},\"zaxis\":{\"backgroundcolor\":\"#E5ECF6\",\"gridcolor\":\"white\",\"linecolor\":\"white\",\"showbackground\":true,\"ticks\":\"\",\"zerolinecolor\":\"white\",\"gridwidth\":2}},\"shapedefaults\":{\"line\":{\"color\":\"#2a3f5f\"}},\"annotationdefaults\":{\"arrowcolor\":\"#2a3f5f\",\"arrowhead\":0,\"arrowwidth\":1},\"geo\":{\"bgcolor\":\"white\",\"landcolor\":\"#E5ECF6\",\"subunitcolor\":\"white\",\"showland\":true,\"showlakes\":true,\"lakecolor\":\"white\"},\"title\":{\"x\":0.05},\"mapbox\":{\"style\":\"light\"}}},\"xaxis\":{\"anchor\":\"y\",\"domain\":[0.0,0.25333333333333335]},\"yaxis\":{\"anchor\":\"x\",\"domain\":[0.575,1.0]},\"xaxis2\":{\"anchor\":\"y2\",\"domain\":[0.37333333333333335,0.6266666666666667]},\"yaxis2\":{\"anchor\":\"x2\",\"domain\":[0.575,1.0]},\"xaxis3\":{\"anchor\":\"y3\",\"domain\":[0.7466666666666667,1.0]},\"yaxis3\":{\"anchor\":\"x3\",\"domain\":[0.575,1.0]},\"annotations\":[{\"font\":{\"size\":16},\"showarrow\":false,\"text\":\"Revenue & Profitability\",\"x\":0.12666666666666668,\"xanchor\":\"center\",\"xref\":\"paper\",\"y\":1.0,\"yanchor\":\"bottom\",\"yref\":\"paper\"},{\"font\":{\"size\":16},\"showarrow\":false,\"text\":\"Margins Comparison\",\"x\":0.5,\"xanchor\":\"center\",\"xref\":\"paper\",\"y\":1.0,\"yanchor\":\"bottom\",\"yref\":\"paper\"},{\"font\":{\"size\":16},\"showarrow\":false,\"text\":\"Valuation Range\",\"x\":0.8733333333333333,\"xanchor\":\"center\",\"xref\":\"paper\",\"y\":1.0,\"yanchor\":\"bottom\",\"yref\":\"paper\"},{\"font\":{\"size\":16},\"showarrow\":false,\"text\":\"SDE Components\",\"x\":0.12666666666666668,\"xanchor\":\"center\",\"xref\":\"paper\",\"y\":0.425,\"yanchor\":\"bottom\",\"yref\":\"paper\"},{\"font\":{\"size\":16},\"showarrow\":false,\"text\":\"Debt Coverage\",\"x\":0.5,\"xanchor\":\"center\",\"xref\":\"paper\",\"y\":0.425,\"yanchor\":\"bottom\",\"yref\":\"paper\"},{\"font\":{\"size\":16},\"showarrow\":false,\"text\":\"Practice Metrics\",\"x\":0.8733333333333333,\"xanchor\":\"center\",\"xref\":\"paper\",\"y\":0.425,\"yanchor\":\"bottom\",\"yref\":\"paper\"}],\"title\":{\"text\":\"Practice Dashboard - Demo Dental NYC\",\"x\":0.5,\"xanchor\":\"center\"},\"height\":700,\"showlegend\":false},                        {\"responsive\": true}                    ).then(function(){\n",
       "                            \n",
       "var gd = document.getElementById('563498d7-85e0-43d5-9643-c15fa6c0237a');\n",
       "var x = new MutationObserver(function (mutations, observer) {{\n",
       "        var display = window.getComputedStyle(gd).display;\n",
       "        if (!display || display === 'none') {{\n",
       "            console.log([gd, 'removed!']);\n",
       "            Plotly.purge(gd);\n",
       "            observer.disconnect();\n",
       "        }}\n",
       "}});\n",
       "\n",
       "// Listen for the removal of the full notebook cells\n",
       "var notebookContainer = gd.closest('#notebook-container');\n",
       "if (notebookContainer) {{\n",
       "    x.observe(notebookContainer, {childList: true});\n",
       "}}\n",
       "\n",
       "// Listen for the clearing of the current output cell\n",
       "var outputEl = gd.closest('.output');\n",
       "if (outputEl) {{\n",
       "    x.observe(outputEl, {childList: true});\n",
       "}}\n",
       "\n",
       "                        })                };                });            </script>        </div>"
      ]
     },
     "metadata": {},
     "output_type": "display_data"
    },
    {
     "name": "stdout",
     "output_type": "stream",
     "text": [
      "   ✅ Dashboard created\n",
      "\n",
      "============================================================\n",
      "✅ Visualization module ready!\n",
      "\n",
      "Available visualization types:\n",
      "  • waterfall - SDE build-up analysis (shows profit adjustments)\n",
      "  • bar_comparison - Valuation methods comparison (EBITDA vs Revenue)\n",
      "  • bar_chart - Profitability margins (practice vs industry)\n",
      "  • swot_matrix - SWOT analysis grid (strengths/weaknesses/opportunities/threats)\n",
      "  • gauge_chart - Debt coverage ratio (financial health indicator)\n",
      "  • dashboard - Complete metrics overview (6-panel summary)\n",
      "============================================================\n"
     ]
    }
   ],
   "source": [
    "# Cell 5: Visualization Generation Functions\n",
    "# ===========================================\n",
    "\n",
    "def create_sde_waterfall_chart(practice_data: DentalPracticeData):\n",
    "    \"\"\"\n",
    "    Creates a WATERFALL CHART showing how SDE (Seller's Discretionary Earnings) is calculated.\n",
    "    \n",
    "    WHAT IS SDE?\n",
    "    - SDE is the \"true\" profit available to a practice owner\n",
    "    - It's what the owner actually takes home + what they could take home\n",
    "    - Banks use SDE to determine if a buyer can afford to purchase the practice\n",
    "    \n",
    "    WHAT IS A WATERFALL CHART?\n",
    "    - Shows step-by-step how we get from one number to another\n",
    "    - Each bar adds to (green) or subtracts from (red) the total\n",
    "    - Like climbing stairs - each step takes you higher (or lower)\n",
    "    \n",
    "    HOW TO READ THIS CHART:\n",
    "    1. Start with Net Profit (what the tax return shows)\n",
    "    2. Add back owner's excess salary (owner pays themselves above market rate)\n",
    "    3. Add back owner perks (personal car, phone, etc. paid by business)\n",
    "    4. Add back interest (buyer will have different financing)\n",
    "    5. Add back depreciation (non-cash expense for tax purposes)\n",
    "    6. Add back amortization (another non-cash expense)\n",
    "    7. Add back one-time expenses (won't happen again)\n",
    "    8. Final bar shows Total SDE\n",
    "    \n",
    "    WHY THIS MATTERS:\n",
    "    - Shows the \"real\" earning power of the practice\n",
    "    - Helps buyers understand what cash flow they can expect\n",
    "    - Banks require this for loan approval\n",
    "    \n",
    "    Parameters:\n",
    "    - practice_data: The DentalPracticeData object containing all financial info\n",
    "    \n",
    "    Returns:\n",
    "    - Interactive Plotly chart that users can hover over for details\n",
    "    \"\"\"\n",
    "    \n",
    "    # Get SDE components from the data\n",
    "    sde_components = practice_data.data.get(\"SDE\", {})\n",
    "    \n",
    "    # Build the waterfall data\n",
    "    # Each item needs: name, measure type, and value\n",
    "    waterfall_data = []\n",
    "    \n",
    "    # Starting point: Net Profit (what's on the tax return)\n",
    "    waterfall_data.append({\n",
    "        'name': 'Net Profit (Pre-tax)',\n",
    "        'measure': 'absolute',  # This is our starting point\n",
    "        'value': sde_components.get('Net_Profit_pre_tax', 0),\n",
    "        'text': f\"${sde_components.get('Net_Profit_pre_tax', 0):,.0f}\"\n",
    "    })\n",
    "    \n",
    "    # Add each adjustment (these are \"add-backs\" - amounts we add back to profit)\n",
    "    adjustments = [\n",
    "        ('Owner Salary Adjustment', 'Owner_Salary_minus_Market'),  # Owner overpays themselves\n",
    "        ('Owner Perks', 'Owner_Perks'),                           # Personal expenses in business\n",
    "        ('Interest', 'Interest'),                                 # Current loan interest\n",
    "        ('Depreciation', 'Depreciation'),                        # Non-cash tax deduction\n",
    "        ('Amortization', 'Amortization'),                        # Non-cash tax deduction\n",
    "        ('Non-Recurring', 'Non_Recurring')                       # One-time expenses\n",
    "    ]\n",
    "    \n",
    "    for display_name, data_key in adjustments:\n",
    "        value = sde_components.get(data_key, 0)\n",
    "        if value > 0:  # Only add if there's a value\n",
    "            waterfall_data.append({\n",
    "                'name': display_name,\n",
    "                'measure': 'relative',  # These add to the total\n",
    "                'value': value,\n",
    "                'text': f\"+${value:,.0f}\"\n",
    "            })\n",
    "    \n",
    "    # Final total (this is what the practice really earns)\n",
    "    waterfall_data.append({\n",
    "        'name': 'Total SDE',\n",
    "        'measure': 'total',  # This shows the final sum\n",
    "        'value': practice_data.data.get('Total_SDE', 0),\n",
    "        'text': f\"${practice_data.data.get('Total_SDE', 0):,.0f}\"\n",
    "    })\n",
    "    \n",
    "    # Create the waterfall chart using Plotly\n",
    "    fig = go.Figure(go.Waterfall(\n",
    "        name=\"SDE Build-up\",\n",
    "        orientation=\"v\",  # Vertical bars\n",
    "        x=[d['name'] for d in waterfall_data],\n",
    "        y=[d['value'] if d['measure'] != 'total' else None for d in waterfall_data],\n",
    "        text=[d['text'] for d in waterfall_data],\n",
    "        textposition=\"outside\",\n",
    "        measure=[d['measure'] for d in waterfall_data],\n",
    "        connector={\"line\": {\"color\": \"rgb(63, 63, 63)\"}},  # Lines connecting bars\n",
    "        increasing={\"marker\": {\"color\": VIZ_CONFIG['color_scheme'][2]}},  # Green for additions\n",
    "        decreasing={\"marker\": {\"color\": VIZ_CONFIG['color_scheme'][3]}},  # Red for subtractions\n",
    "        totals={\"marker\": {\"color\": VIZ_CONFIG['color_scheme'][0]}}  # Blue for totals\n",
    "    ))\n",
    "    \n",
    "    # Update layout for better appearance\n",
    "    fig.update_layout(\n",
    "        title={\n",
    "            'text': f\"SDE Build-up Analysis - {practice_data.data.get('Clinic', 'Dental Practice')}\",\n",
    "            'x': 0.5,\n",
    "            'xanchor': 'center'\n",
    "        },\n",
    "        yaxis_title=\"Amount ($)\",\n",
    "        xaxis_title=\"\",\n",
    "        height=500,\n",
    "        showlegend=False,\n",
    "        hovermode='x unified',\n",
    "        plot_bgcolor='white',\n",
    "        yaxis=dict(gridcolor='lightgray', tickformat='$,.0f')\n",
    "    )\n",
    "    \n",
    "    return fig\n",
    "\n",
    "def create_valuation_comparison_chart(practice_data: DentalPracticeData):\n",
    "    \"\"\"\n",
    "    Creates a BAR CHART comparing different methods of valuing the practice.\n",
    "    \n",
    "    WHAT IS PRACTICE VALUATION?\n",
    "    - The estimated selling price of the dental practice\n",
    "    - Like appraising a house - there are different methods\n",
    "    - Usually results in a range, not a single number\n",
    "    \n",
    "    TWO MAIN VALUATION METHODS:\n",
    "    1. EBITDA Multiple Method:\n",
    "       - Takes EBITDA (earnings) × industry multiple (typically 3-6x)\n",
    "       - More accurate because it's based on profitability\n",
    "       - Preferred by sophisticated buyers\n",
    "    \n",
    "    2. Revenue Multiple Method:\n",
    "       - Takes total revenue × industry multiple (typically 0.6-1.0x)\n",
    "       - Simpler but less accurate\n",
    "       - Quick \"rule of thumb\" estimate\n",
    "    \n",
    "    HOW TO READ THIS CHART:\n",
    "    - Two bars showing the practice value using each method\n",
    "    - Dotted line shows the average of both methods\n",
    "    - Higher bar = higher valuation\n",
    "    - The gap between bars shows negotiation range\n",
    "    \n",
    "    WHY THIS MATTERS:\n",
    "    - Sellers want to know what their practice is worth\n",
    "    - Buyers need to know if the asking price is fair\n",
    "    - Banks use these multiples for loan decisions\n",
    "    - Wide gaps suggest more negotiation needed\n",
    "    \n",
    "    Parameters:\n",
    "    - practice_data: The DentalPracticeData object\n",
    "    \n",
    "    Returns:\n",
    "    - Interactive bar chart comparing valuations\n",
    "    \"\"\"\n",
    "    \n",
    "    # Get valuation data (calculated in the data loading step)\n",
    "    valuations = {\n",
    "        'EBITDA-Based': practice_data.metrics.get('Implied_Value_EBITDA', 0),\n",
    "        'Revenue-Based': practice_data.metrics.get('Implied_Value_Revenue', 0)\n",
    "    }\n",
    "    \n",
    "    # Calculate average for reference (midpoint of the range)\n",
    "    avg_valuation = sum(valuations.values()) / len(valuations)\n",
    "    \n",
    "    # Create bar chart\n",
    "    fig = go.Figure()\n",
    "    \n",
    "    # Add bars for each valuation method\n",
    "    fig.add_trace(go.Bar(\n",
    "        x=list(valuations.keys()),\n",
    "        y=list(valuations.values()),\n",
    "        text=[f\"${v:,.0f}\" for v in valuations.values()],  # Show dollar amounts on bars\n",
    "        textposition='outside',\n",
    "        marker_color=[VIZ_CONFIG['color_scheme'][0], VIZ_CONFIG['color_scheme'][1]],\n",
    "        name='Valuation'\n",
    "    ))\n",
    "    \n",
    "    # Add average line for reference (helps show the midpoint)\n",
    "    fig.add_hline(\n",
    "        y=avg_valuation, \n",
    "        line_dash=\"dash\", \n",
    "        line_color=\"gray\",\n",
    "        annotation_text=f\"Average: ${avg_valuation:,.0f}\",\n",
    "        annotation_position=\"right\"\n",
    "    )\n",
    "    \n",
    "    # Update layout\n",
    "    fig.update_layout(\n",
    "        title={\n",
    "            'text': f\"Practice Valuation Comparison - {practice_data.data.get('Clinic', 'Dental Practice')}\",\n",
    "            'x': 0.5,\n",
    "            'xanchor': 'center'\n",
    "        },\n",
    "        yaxis_title=\"Valuation ($)\",\n",
    "        xaxis_title=\"Valuation Method\",\n",
    "        height=400,\n",
    "        showlegend=False,\n",
    "        plot_bgcolor='white',\n",
    "        yaxis=dict(gridcolor='lightgray', tickformat='$,.0f'),\n",
    "        bargap=0.3  # Space between bars\n",
    "    )\n",
    "    \n",
    "    # Add annotation box explaining the multiples used\n",
    "    multiples = practice_data.data.get('Valuation_Multiples', {})\n",
    "    fig.add_annotation(\n",
    "        text=f\"EBITDA Multiple: {multiples.get('EBITDA_multiple', 0)}x<br>\" +\n",
    "             f\"Revenue Multiple: {multiples.get('Revenue_multiple', 0)}x\",\n",
    "        xref=\"paper\", yref=\"paper\",\n",
    "        x=0.02, y=0.98,\n",
    "        showarrow=False,\n",
    "        bgcolor=\"white\",\n",
    "        bordercolor=\"gray\",\n",
    "        borderwidth=1\n",
    "    )\n",
    "    \n",
    "    return fig\n",
    "\n",
    "def create_profitability_margins_chart(practice_data: DentalPracticeData):\n",
    "    \"\"\"\n",
    "    Creates a GROUPED BAR CHART showing profitability margins vs industry averages.\n",
    "    \n",
    "    WHAT ARE MARGINS?\n",
    "    - Margins show what percentage of revenue becomes profit\n",
    "    - Like a grade on efficiency - higher is better\n",
    "    - Shows how well the practice controls costs\n",
    "    \n",
    "    TWO KEY MARGINS:\n",
    "    1. EBITDA Margin:\n",
    "       - (EBITDA ÷ Revenue) × 100\n",
    "       - Shows operating efficiency\n",
    "       - Typical dental: 30-40%\n",
    "    \n",
    "    2. SDE Margin:\n",
    "       - (SDE ÷ Revenue) × 100\n",
    "       - Shows true owner benefit\n",
    "       - Typical dental: 25-35%\n",
    "    \n",
    "    HOW TO READ THIS CHART:\n",
    "    - Blue bars = This practice's actual margins\n",
    "    - Gray bars = Industry average margins\n",
    "    - Higher bars = better profitability\n",
    "    - If blue > gray, practice is above average\n",
    "    \n",
    "    WHY THIS MATTERS:\n",
    "    - High margins = well-run practice\n",
    "    - Low margins = potential problems or opportunities\n",
    "    - Buyers pay more for high-margin practices\n",
    "    - Shows where improvements can be made\n",
    "    \n",
    "    Parameters:\n",
    "    - practice_data: The DentalPracticeData object\n",
    "    \n",
    "    Returns:\n",
    "    - Grouped bar chart comparing margins\n",
    "    \"\"\"\n",
    "    \n",
    "    # Get this practice's margins\n",
    "    margins = {\n",
    "        'EBITDA Margin': practice_data.metrics.get('EBITDA_Margin', 0),\n",
    "        'SDE Margin': practice_data.metrics.get('SDE_Margin', 0)\n",
    "    }\n",
    "    \n",
    "    # Industry benchmarks for comparison (typical dental practice ranges)\n",
    "    # These are rough averages - actual benchmarks vary by location/specialty\n",
    "    benchmarks = {\n",
    "        'EBITDA Margin': 35,  # Industry average EBITDA margin\n",
    "        'SDE Margin': 30      # Industry average SDE margin\n",
    "    }\n",
    "    \n",
    "    # Create grouped bar chart\n",
    "    fig = go.Figure()\n",
    "    \n",
    "    # This practice's actual margins\n",
    "    fig.add_trace(go.Bar(\n",
    "        name='This Practice',\n",
    "        x=list(margins.keys()),\n",
    "        y=list(margins.values()),\n",
    "        text=[f\"{v:.1f}%\" for v in margins.values()],\n",
    "        textposition='outside',\n",
    "        marker_color=VIZ_CONFIG['color_scheme'][0]\n",
    "    ))\n",
    "    \n",
    "    # Industry benchmark margins\n",
    "    fig.add_trace(go.Bar(\n",
    "        name='Industry Avg',\n",
    "        x=list(benchmarks.keys()),\n",
    "        y=list(benchmarks.values()),\n",
    "        text=[f\"{v:.0f}%\" for v in benchmarks.values()],\n",
    "        textposition='outside',\n",
    "        marker_color=VIZ_CONFIG['color_scheme'][4],\n",
    "        opacity=0.6  # Make slightly transparent\n",
    "    ))\n",
    "    \n",
    "    # Update layout\n",
    "    fig.update_layout(\n",
    "        title={\n",
    "            'text': f\"Profitability Margins Analysis - {practice_data.data.get('Clinic', 'Dental Practice')}\",\n",
    "            'x': 0.5,\n",
    "            'xanchor': 'center'\n",
    "        },\n",
    "        yaxis_title=\"Margin (%)\",\n",
    "        xaxis_title=\"\",\n",
    "        height=400,\n",
    "        barmode='group',  # Put bars side by side\n",
    "        plot_bgcolor='white',\n",
    "        yaxis=dict(gridcolor='lightgray', tickformat='.0f', ticksuffix='%'),\n",
    "        legend=dict(orientation=\"h\", y=1.1, x=0.5, xanchor='center')\n",
    "    )\n",
    "    \n",
    "    return fig\n",
    "\n",
    "def create_swot_matrix(practice_data: DentalPracticeData):\n",
    "    \"\"\"\n",
    "    Creates a SWOT ANALYSIS MATRIX - a 2x2 grid showing strategic position.\n",
    "    \n",
    "    WHAT IS SWOT?\n",
    "    S.W.O.T. stands for:\n",
    "    - Strengths: What the practice does well (internal positive)\n",
    "    - Weaknesses: What needs improvement (internal negative)\n",
    "    - Opportunities: External factors that could help growth\n",
    "    - Threats: External factors that could hurt the practice\n",
    "    \n",
    "    HOW TO READ THIS CHART:\n",
    "    - Top row (Strengths & Weaknesses) = Internal factors (can control)\n",
    "    - Bottom row (Opportunities & Threats) = External factors (can't control)\n",
    "    - Left column (Strengths & Opportunities) = Positive factors\n",
    "    - Right column (Weaknesses & Threats) = Negative factors\n",
    "    \n",
    "    WHY THIS MATTERS:\n",
    "    - Buyers see the full picture of the practice\n",
    "    - Identifies growth potential (opportunities)\n",
    "    - Shows risks that need managing (threats)\n",
    "    - Helps justify the asking price\n",
    "    - Guides post-acquisition strategy\n",
    "    \n",
    "    EXAMPLE INTERPRETATIONS:\n",
    "    - Many strengths + opportunities = Premium valuation\n",
    "    - Several weaknesses = Buyer may negotiate lower price\n",
    "    - Unaddressed threats = Risk factors affecting value\n",
    "    \n",
    "    Parameters:\n",
    "    - practice_data: The DentalPracticeData object\n",
    "    \n",
    "    Returns:\n",
    "    - 2x2 matrix visualization (static matplotlib figure)\n",
    "    \"\"\"\n",
    "    \n",
    "    swot_data = practice_data.data.get('SWOT', {})\n",
    "    \n",
    "    # Create figure with 2x2 subplots (4 quadrants)\n",
    "    fig, axes = plt.subplots(2, 2, figsize=(12, 8))\n",
    "    fig.suptitle(f'SWOT Analysis - {practice_data.data.get(\"Clinic\", \"Dental Practice\")}', \n",
    "                 fontsize=16, fontweight='bold')\n",
    "    \n",
    "    # Define quadrants with their data and colors\n",
    "    # Green for strengths (positive), Red for weaknesses (negative)\n",
    "    # Blue for opportunities (potential), Orange for threats (risks)\n",
    "    quadrants = [\n",
    "        ('Strengths', swot_data.get('Strengths', []), axes[0, 0], VIZ_CONFIG['color_scheme'][2]),\n",
    "        ('Weaknesses', swot_data.get('Weaknesses', []), axes[0, 1], VIZ_CONFIG['color_scheme'][3]),\n",
    "        ('Opportunities', swot_data.get('Opportunities', []), axes[1, 0], VIZ_CONFIG['color_scheme'][1]),\n",
    "        ('Threats', swot_data.get('Threats', []), axes[1, 1], VIZ_CONFIG['color_scheme'][0])\n",
    "    ]\n",
    "    \n",
    "    # Fill each quadrant\n",
    "    for title, items, ax, color in quadrants:\n",
    "        # Set background color (light version with transparency)\n",
    "        ax.set_facecolor(color + '20')  # Add transparency\n",
    "        \n",
    "        # Add quadrant title\n",
    "        ax.text(0.5, 0.9, title, fontsize=14, fontweight='bold',\n",
    "                ha='center', transform=ax.transAxes)\n",
    "        \n",
    "        # Add items as bullet points\n",
    "        y_position = 0.7\n",
    "        for item in items[:5]:  # Limit to 5 items per quadrant for readability\n",
    "            ax.text(0.1, y_position, f'• {item}', fontsize=11,\n",
    "                   transform=ax.transAxes, wrap=True)\n",
    "            y_position -= 0.15\n",
    "        \n",
    "        # Remove axes for cleaner look\n",
    "        ax.set_xticks([])\n",
    "        ax.set_yticks([])\n",
    "        \n",
    "        # Add colored border\n",
    "        for spine in ax.spines.values():\n",
    "            spine.set_edgecolor(color)\n",
    "            spine.set_linewidth(2)\n",
    "    \n",
    "    plt.tight_layout()\n",
    "    return fig\n",
    "\n",
    "def create_debt_coverage_gauge(practice_data: DentalPracticeData):\n",
    "    \"\"\"\n",
    "    Creates a GAUGE CHART showing Debt Service Coverage Ratio (DSCR).\n",
    "    \n",
    "    WHAT IS DSCR?\n",
    "    - Debt Service Coverage Ratio\n",
    "    - Formula: EBITDA ÷ Annual Debt Payments\n",
    "    - Shows if practice generates enough cash to pay its loans\n",
    "    - Banks require minimum DSCR of 1.2-1.25 for loans\n",
    "    \n",
    "    HOW TO READ THIS GAUGE:\n",
    "    - Red Zone (0-1.0): DANGER - Cannot cover debt payments\n",
    "    - Yellow Zone (1.0-1.25): CAUTION - Tight coverage, risky\n",
    "    - Green Zone (1.25+): GOOD - Comfortable debt coverage\n",
    "    \n",
    "    WHAT THE NUMBERS MEAN:\n",
    "    - DSCR = 1.0: Breaking even on debt (no cushion)\n",
    "    - DSCR = 1.25: Have 25% cushion above debt payments\n",
    "    - DSCR = 2.0: Generate 2x the cash needed for debt\n",
    "    \n",
    "    WHY THIS MATTERS:\n",
    "    - Banks won't lend if DSCR < 1.2\n",
    "    - Low DSCR = practice is overleveraged\n",
    "    - High DSCR = room for more debt or distributions\n",
    "    - Critical metric for buyer financing approval\n",
    "    \n",
    "    BUYER IMPLICATIONS:\n",
    "    - DSCR < 1.0: Need to inject cash or renegotiate debt\n",
    "    - DSCR 1.0-1.25: Limited cash for owner or growth\n",
    "    - DSCR > 1.25: Healthy cash flow after debt service\n",
    "    \n",
    "    Parameters:\n",
    "    - practice_data: The DentalPracticeData object\n",
    "    \n",
    "    Returns:\n",
    "    - Gauge chart visualization (like a speedometer)\n",
    "    \"\"\"\n",
    "    \n",
    "    dscr = practice_data.metrics.get('DSCR', 0)\n",
    "    \n",
    "    # Create gauge chart\n",
    "    fig = go.Figure(go.Indicator(\n",
    "        mode=\"gauge+number+delta\",\n",
    "        value=dscr,\n",
    "        title={'text': \"Debt Service Coverage Ratio\"},\n",
    "        delta={'reference': 1.25, 'relative': False},  # Compare to healthy threshold\n",
    "        gauge={\n",
    "            'axis': {'range': [0, 3], 'tickwidth': 1},\n",
    "            'bar': {'color': \"darkblue\"},  # The needle color\n",
    "            'steps': [  # Background zones\n",
    "                {'range': [0, 1], 'color': \"lightgray\"},        # Can't cover debt\n",
    "                {'range': [1, 1.25], 'color': \"lightyellow\"},   # Tight coverage\n",
    "                {'range': [1.25, 3], 'color': \"lightgreen\"}     # Healthy coverage\n",
    "            ],\n",
    "            'threshold': {  # Red line at minimum viable level\n",
    "                'line': {'color': \"red\", 'width': 4},\n",
    "                'thickness': 0.75,\n",
    "                'value': 1  # Minimum viable DSCR\n",
    "            }\n",
    "        }\n",
    "    ))\n",
    "    \n",
    "    # Update layout\n",
    "    fig.update_layout(\n",
    "        height=400,\n",
    "        title={\n",
    "            'text': f\"Debt Coverage Analysis - {practice_data.data.get('Clinic', 'Dental Practice')}\",\n",
    "            'x': 0.5,\n",
    "            'xanchor': 'center'\n",
    "        }\n",
    "    )\n",
    "    \n",
    "    # Add interpretation text based on DSCR value\n",
    "    if dscr < 1:\n",
    "        interpretation = \"⚠️ Warning: Insufficient cash flow to cover debt payments\"\n",
    "    elif dscr < 1.25:\n",
    "        interpretation = \"⚡ Caution: Tight debt coverage - limited margin for error\"\n",
    "    else:\n",
    "        interpretation = \"✅ Healthy: Strong debt coverage with comfortable cushion\"\n",
    "    \n",
    "    fig.add_annotation(\n",
    "        text=interpretation,\n",
    "        xref=\"paper\", yref=\"paper\",\n",
    "        x=0.5, y=-0.1,\n",
    "        showarrow=False,\n",
    "        font=dict(size=12)\n",
    "    )\n",
    "    \n",
    "    return fig\n",
    "\n",
    "def create_key_metrics_dashboard(practice_data: DentalPracticeData):\n",
    "    \"\"\"\n",
    "    Creates a COMPREHENSIVE DASHBOARD with 6 panels of key information.\n",
    "    \n",
    "    WHAT IS THIS DASHBOARD?\n",
    "    - A one-page overview of all critical practice metrics\n",
    "    - Like a car dashboard - shows everything at a glance\n",
    "    - Used for initial assessment and presentations\n",
    "    \n",
    "    THE 6 PANELS:\n",
    "    1. Revenue & Profitability: Size and earnings of practice\n",
    "    2. Margins Comparison: Efficiency vs industry\n",
    "    3. Valuation Range: What the practice is worth\n",
    "    4. SDE Components: Where the profit comes from\n",
    "    5. Debt Coverage: Financial health indicator\n",
    "    6. Practice Metrics: Key operational data\n",
    "    \n",
    "    HOW TO USE THIS:\n",
    "    - First thing to show potential buyers\n",
    "    - Quick health check of the practice\n",
    "    - Identifies areas needing deeper analysis\n",
    "    - Executive summary for decision makers\n",
    "    \n",
    "    WHY THIS MATTERS:\n",
    "    - Saves time by showing everything at once\n",
    "    - Helps identify red flags quickly\n",
    "    - Provides context for detailed discussions\n",
    "    - Professional presentation for stakeholders\n",
    "    \n",
    "    Parameters:\n",
    "    - practice_data: The DentalPracticeData object\n",
    "    \n",
    "    Returns:\n",
    "    - Multi-panel Plotly dashboard\n",
    "    \"\"\"\n",
    "    \n",
    "    # Create subplots with different chart types\n",
    "    fig = make_subplots(\n",
    "        rows=2, cols=3,  # 2 rows, 3 columns = 6 panels\n",
    "        subplot_titles=(\n",
    "            'Revenue & Profitability',  # Shows practice size\n",
    "            'Margins Comparison',        # Shows efficiency\n",
    "            'Valuation Range',          # Shows worth\n",
    "            'SDE Components',           # Shows profit makeup\n",
    "            'Debt Coverage',            # Shows financial health\n",
    "            'Practice Metrics'          # Shows key numbers\n",
    "        ),\n",
    "        specs=[  # Define what type of chart goes in each position\n",
    "            [{'type': 'bar'}, {'type': 'bar'}, {'type': 'scatter'}],\n",
    "            [{'type': 'pie'}, {'type': 'indicator'}, {'type': 'table'}]\n",
    "        ],\n",
    "        vertical_spacing=0.15,\n",
    "        horizontal_spacing=0.12\n",
    "    )\n",
    "    \n",
    "    # 1. Revenue & Profitability bars (top-left)\n",
    "    # Shows the cascade from revenue → EBITDA → SDE\n",
    "    fig.add_trace(\n",
    "        go.Bar(\n",
    "            x=['Revenue', 'EBITDA', 'SDE'],\n",
    "            y=[\n",
    "                practice_data.data.get('Revenue_Trailing12', 0),\n",
    "                practice_data.data.get('EBITDA_Trailing12', 0),\n",
    "                practice_data.data.get('Total_SDE', 0)\n",
    "            ],\n",
    "            text=[\n",
    "                f\"${practice_data.data.get('Revenue_Trailing12', 0):,.0f}\",\n",
    "                f\"${practice_data.data.get('EBITDA_Trailing12', 0):,.0f}\",\n",
    "                f\"${practice_data.data.get('Total_SDE', 0):,.0f}\"\n",
    "            ],\n",
    "            textposition='outside',\n",
    "            marker_color=VIZ_CONFIG['color_scheme'][:3]\n",
    "        ),\n",
    "        row=1, col=1\n",
    "    )\n",
    "    \n",
    "    # 2. Margins comparison (top-middle)\n",
    "    # Shows profitability percentages\n",
    "    fig.add_trace(\n",
    "        go.Bar(\n",
    "            x=['EBITDA %', 'SDE %'],\n",
    "            y=[\n",
    "                practice_data.metrics.get('EBITDA_Margin', 0),\n",
    "                practice_data.metrics.get('SDE_Margin', 0)\n",
    "            ],\n",
    "            text=[\n",
    "                f\"{practice_data.metrics.get('EBITDA_Margin', 0):.1f}%\",\n",
    "                f\"{practice_data.metrics.get('SDE_Margin', 0):.1f}%\"\n",
    "            ],\n",
    "            textposition='outside',\n",
    "            marker_color=[VIZ_CONFIG['color_scheme'][1], VIZ_CONFIG['color_scheme'][2]]\n",
    "        ),\n",
    "        row=1, col=2\n",
    "    )\n",
    "    \n",
    "    # 3. Valuation range (top-right)\n",
    "    # Shows the spread between valuation methods\n",
    "    valuations = [\n",
    "        practice_data.metrics.get('Implied_Value_Revenue', 0),\n",
    "        practice_data.metrics.get('Implied_Value_EBITDA', 0)\n",
    "    ]\n",
    "    fig.add_trace(\n",
    "        go.Scatter(\n",
    "            x=valuations,\n",
    "            y=['Valuation', 'Valuation'],\n",
    "            mode='markers',\n",
    "            marker=dict(size=15, color=VIZ_CONFIG['color_scheme'][:2]),\n",
    "            text=[f\"Revenue: ${valuations[0]:,.0f}\", f\"EBITDA: ${valuations[1]:,.0f}\"],\n",
    "            showlegend=False\n",
    "        ),\n",
    "        row=1, col=3\n",
    "    )\n",
    "    \n",
    "    # 4. SDE Components pie chart (bottom-left)\n",
    "    # Shows what makes up the SDE\n",
    "    sde_components = practice_data.data.get('SDE', {})\n",
    "    fig.add_trace(\n",
    "        go.Pie(\n",
    "            labels=list(sde_components.keys()),\n",
    "            values=list(sde_components.values()),\n",
    "            hole=0.3,  # Donut chart\n",
    "            marker_colors=VIZ_CONFIG['color_scheme']\n",
    "        ),\n",
    "        row=2, col=1\n",
    "    )\n",
    "    \n",
    "    # 5. Debt Coverage gauge (bottom-middle)\n",
    "    # Quick visual of DSCR health\n",
    "    dscr = practice_data.metrics.get('DSCR', 0)\n",
    "    fig.add_trace(\n",
    "        go.Indicator(\n",
    "            mode=\"number+gauge\",\n",
    "            value=dscr,\n",
    "            gauge={'axis': {'range': [0, 3]},\n",
    "                   'bar': {'color': \"green\" if dscr > 1.25 else \"yellow\" if dscr > 1 else \"red\"}},\n",
    "            title={'text': \"DSCR\"}\n",
    "        ),\n",
    "        row=2, col=2\n",
    "    )\n",
    "    \n",
    "    # 6. Key metrics table (bottom-right)\n",
    "    # Quick reference for important numbers\n",
    "    summary_df = practice_data.get_summary()\n",
    "    fig.add_trace(\n",
    "        go.Table(\n",
    "            header=dict(values=['Metric', 'Value'],\n",
    "                       fill_color='paleturquoise',\n",
    "                       align='left'),\n",
    "            cells=dict(values=[summary_df['Metric'][:5], summary_df['Value'][:5]],\n",
    "                      fill_color='lavender',\n",
    "                      align='left')\n",
    "        ),\n",
    "        row=2, col=3\n",
    "    )\n",
    "    \n",
    "    # Update overall layout\n",
    "    fig.update_layout(\n",
    "        title={\n",
    "            'text': f\"Practice Dashboard - {practice_data.data.get('Clinic', 'Dental Practice')}\",\n",
    "            'x': 0.5,\n",
    "            'xanchor': 'center'\n",
    "        },\n",
    "        height=700,\n",
    "        showlegend=False\n",
    "    )\n",
    "    \n",
    "    return fig\n",
    "\n",
    "def generate_visualization(viz_type: str, practice_data: DentalPracticeData):\n",
    "    \"\"\"\n",
    "    Main routing function that generates any visualization based on type.\n",
    "    This is the function you call when you need a specific chart.\n",
    "    \n",
    "    HOW TO USE:\n",
    "    figure = generate_visualization('waterfall', practice_data)\n",
    "    figure.show()  # Display the chart\n",
    "    \n",
    "    AVAILABLE VISUALIZATION TYPES:\n",
    "    - 'waterfall': SDE build-up from Net Profit\n",
    "    - 'bar_comparison': Valuation methods comparison  \n",
    "    - 'bar_chart': Profitability margins vs industry\n",
    "    - 'swot_matrix': 2x2 SWOT analysis grid\n",
    "    - 'gauge_chart': Debt coverage ratio gauge\n",
    "    - 'dashboard': Complete 6-panel overview\n",
    "    \n",
    "    Parameters:\n",
    "    - viz_type: String specifying which chart to create\n",
    "    - practice_data: The DentalPracticeData object with all info\n",
    "    \n",
    "    Returns:\n",
    "    - Figure object that can be displayed or saved\n",
    "    - Returns None if there's an error\n",
    "    \"\"\"\n",
    "    \n",
    "    # Map visualization types to their creation functions\n",
    "    viz_functions = {\n",
    "        'waterfall': create_sde_waterfall_chart,\n",
    "        'bar_comparison': create_valuation_comparison_chart,\n",
    "        'bar_chart': create_profitability_margins_chart,\n",
    "        'swot_matrix': create_swot_matrix,\n",
    "        'gauge_chart': create_debt_coverage_gauge,\n",
    "        'dashboard': create_key_metrics_dashboard\n",
    "    }\n",
    "    \n",
    "    # Get the appropriate function for the requested type\n",
    "    viz_function = viz_functions.get(viz_type)\n",
    "    \n",
    "    if viz_function:\n",
    "        try:\n",
    "            return viz_function(practice_data)\n",
    "        except Exception as e:\n",
    "            print(f\"❌ Error creating {viz_type}: {str(e)}\")\n",
    "            return None\n",
    "    else:\n",
    "        print(f\"⚠️ Unknown visualization type: {viz_type}\")\n",
    "        return None\n",
    "\n",
    "# ===================================\n",
    "# TEST VISUALIZATIONS\n",
    "# ===================================\n",
    "\n",
    "# Make sure we have practice data loaded\n",
    "if 'practice_data' not in locals():\n",
    "    print(\"⚠️ Loading practice data first...\")\n",
    "    practice_data = DentalPracticeData(json_path=\"demo_clinic.json\")\n",
    "\n",
    "print(\"=\"*60)\n",
    "print(\"🎨 TESTING VISUALIZATION FUNCTIONS\")\n",
    "print(\"=\"*60)\n",
    "\n",
    "# Test 1: SDE Waterfall Chart\n",
    "# This shows how profit builds up to SDE\n",
    "print(\"\\n1. Creating SDE Waterfall Chart...\")\n",
    "print(\"   Purpose: Shows step-by-step how Net Profit becomes SDE\")\n",
    "fig1 = create_sde_waterfall_chart(practice_data)\n",
    "if fig1:\n",
    "    fig1.show()\n",
    "    print(\"   ✅ SDE Waterfall created\")\n",
    "\n",
    "# Test 2: Valuation Comparison\n",
    "# This compares different ways to value the practice\n",
    "print(\"\\n2. Creating Valuation Comparison Chart...\")\n",
    "print(\"   Purpose: Shows practice value using different methods\")\n",
    "fig2 = create_valuation_comparison_chart(practice_data)\n",
    "if fig2:\n",
    "    fig2.show()\n",
    "    print(\"   ✅ Valuation Comparison created\")\n",
    "\n",
    "# Test 3: Dashboard\n",
    "# This gives the complete overview in one view\n",
    "print(\"\\n3. Creating Key Metrics Dashboard...\")\n",
    "print(\"   Purpose: One-page overview of all key metrics\")\n",
    "fig3 = create_key_metrics_dashboard(practice_data)\n",
    "if fig3:\n",
    "    fig3.show()\n",
    "    print(\"   ✅ Dashboard created\")\n",
    "\n",
    "print(\"\\n\" + \"=\"*60)\n",
    "print(\"✅ Visualization module ready!\")\n",
    "print(\"\\nAvailable visualization types:\")\n",
    "print(\"  • waterfall - SDE build-up analysis (shows profit adjustments)\")\n",
    "print(\"  • bar_comparison - Valuation methods comparison (EBITDA vs Revenue)\")\n",
    "print(\"  • bar_chart - Profitability margins (practice vs industry)\")\n",
    "print(\"  • swot_matrix - SWOT analysis grid (strengths/weaknesses/opportunities/threats)\")\n",
    "print(\"  • gauge_chart - Debt coverage ratio (financial health indicator)\")\n",
    "print(\"  • dashboard - Complete metrics overview (6-panel summary)\")\n",
    "print(\"=\"*60)"
   ]
  },
  {
   "cell_type": "code",
   "execution_count": 19,
   "id": "38a3c4cc-a814-4943-aeb4-1693888a6ae7",
   "metadata": {},
   "outputs": [
    {
     "name": "stdout",
     "output_type": "stream",
     "text": [
      "\n",
      "======================================================================\n",
      "🚀 DENTAL PRACTICE VALUATION Q&A PIPELINE READY!\n",
      "======================================================================\n",
      "\n",
      "📌 DEMO: Processing a sample question...\n",
      "Question: 'What is the SDE for this practice and explain how it's calculated?'\n",
      "----------------------------------------------------------------------\n",
      "\n",
      "======================================================================\n",
      "🦷 DENTAL PRACTICE VALUATION Q&A SYSTEM\n",
      "======================================================================\n",
      "⏰ Timestamp: 2025-08-07 18:36:19\n",
      "📝 Question: What is the SDE for this practice and explain how it's calculated?\n",
      "----------------------------------------------------------------------\n",
      "📊 Category detected: SDE\n",
      "🤖 Getting AI analysis...\n",
      "🤖 Calling DeepSeek API...\n",
      "✅ Response received!\n",
      "📈 Creating 1 visualization(s)...\n",
      "   - Creating SDE Build-up Analysis...\n"
     ]
    },
    {
     "data": {
      "application/vnd.plotly.v1+json": {
       "config": {
        "plotlyServerURL": "https://plot.ly"
       },
       "data": [
        {
         "connector": {
          "line": {
           "color": "rgb(63, 63, 63)"
          }
         },
         "decreasing": {
          "marker": {
           "color": "#C73E1D"
          }
         },
         "increasing": {
          "marker": {
           "color": "#F18F01"
          }
         },
         "measure": [
          "absolute",
          "relative",
          "relative",
          "relative",
          "relative",
          "relative",
          "relative",
          "total"
         ],
         "name": "SDE Build-up",
         "orientation": "v",
         "text": [
          "$350,000",
          "+$60,000",
          "+$18,000",
          "+$12,000",
          "+$9,000",
          "+$4,000",
          "+$7,000",
          "$460,000"
         ],
         "textposition": "outside",
         "totals": {
          "marker": {
           "color": "#2E86AB"
          }
         },
         "type": "waterfall",
         "x": [
          "Net Profit (Pre-tax)",
          "Owner Salary Adjustment",
          "Owner Perks",
          "Interest",
          "Depreciation",
          "Amortization",
          "Non-Recurring",
          "Total SDE"
         ],
         "y": [
          350000,
          60000,
          18000,
          12000,
          9000,
          4000,
          7000,
          null
         ]
        }
       ],
       "layout": {
        "autosize": true,
        "hovermode": "x unified",
        "plot_bgcolor": "white",
        "showlegend": false,
        "template": {
         "data": {
          "bar": [
           {
            "error_x": {
             "color": "#2a3f5f"
            },
            "error_y": {
             "color": "#2a3f5f"
            },
            "marker": {
             "line": {
              "color": "#E5ECF6",
              "width": 0.5
             },
             "pattern": {
              "fillmode": "overlay",
              "size": 10,
              "solidity": 0.2
             }
            },
            "type": "bar"
           }
          ],
          "barpolar": [
           {
            "marker": {
             "line": {
              "color": "#E5ECF6",
              "width": 0.5
             },
             "pattern": {
              "fillmode": "overlay",
              "size": 10,
              "solidity": 0.2
             }
            },
            "type": "barpolar"
           }
          ],
          "carpet": [
           {
            "aaxis": {
             "endlinecolor": "#2a3f5f",
             "gridcolor": "white",
             "linecolor": "white",
             "minorgridcolor": "white",
             "startlinecolor": "#2a3f5f"
            },
            "baxis": {
             "endlinecolor": "#2a3f5f",
             "gridcolor": "white",
             "linecolor": "white",
             "minorgridcolor": "white",
             "startlinecolor": "#2a3f5f"
            },
            "type": "carpet"
           }
          ],
          "choropleth": [
           {
            "colorbar": {
             "outlinewidth": 0,
             "ticks": ""
            },
            "type": "choropleth"
           }
          ],
          "contour": [
           {
            "colorbar": {
             "outlinewidth": 0,
             "ticks": ""
            },
            "colorscale": [
             [
              0,
              "#0d0887"
             ],
             [
              0.1111111111111111,
              "#46039f"
             ],
             [
              0.2222222222222222,
              "#7201a8"
             ],
             [
              0.3333333333333333,
              "#9c179e"
             ],
             [
              0.4444444444444444,
              "#bd3786"
             ],
             [
              0.5555555555555556,
              "#d8576b"
             ],
             [
              0.6666666666666666,
              "#ed7953"
             ],
             [
              0.7777777777777778,
              "#fb9f3a"
             ],
             [
              0.8888888888888888,
              "#fdca26"
             ],
             [
              1,
              "#f0f921"
             ]
            ],
            "type": "contour"
           }
          ],
          "contourcarpet": [
           {
            "colorbar": {
             "outlinewidth": 0,
             "ticks": ""
            },
            "type": "contourcarpet"
           }
          ],
          "heatmap": [
           {
            "colorbar": {
             "outlinewidth": 0,
             "ticks": ""
            },
            "colorscale": [
             [
              0,
              "#0d0887"
             ],
             [
              0.1111111111111111,
              "#46039f"
             ],
             [
              0.2222222222222222,
              "#7201a8"
             ],
             [
              0.3333333333333333,
              "#9c179e"
             ],
             [
              0.4444444444444444,
              "#bd3786"
             ],
             [
              0.5555555555555556,
              "#d8576b"
             ],
             [
              0.6666666666666666,
              "#ed7953"
             ],
             [
              0.7777777777777778,
              "#fb9f3a"
             ],
             [
              0.8888888888888888,
              "#fdca26"
             ],
             [
              1,
              "#f0f921"
             ]
            ],
            "type": "heatmap"
           }
          ],
          "heatmapgl": [
           {
            "colorbar": {
             "outlinewidth": 0,
             "ticks": ""
            },
            "colorscale": [
             [
              0,
              "#0d0887"
             ],
             [
              0.1111111111111111,
              "#46039f"
             ],
             [
              0.2222222222222222,
              "#7201a8"
             ],
             [
              0.3333333333333333,
              "#9c179e"
             ],
             [
              0.4444444444444444,
              "#bd3786"
             ],
             [
              0.5555555555555556,
              "#d8576b"
             ],
             [
              0.6666666666666666,
              "#ed7953"
             ],
             [
              0.7777777777777778,
              "#fb9f3a"
             ],
             [
              0.8888888888888888,
              "#fdca26"
             ],
             [
              1,
              "#f0f921"
             ]
            ],
            "type": "heatmapgl"
           }
          ],
          "histogram": [
           {
            "marker": {
             "pattern": {
              "fillmode": "overlay",
              "size": 10,
              "solidity": 0.2
             }
            },
            "type": "histogram"
           }
          ],
          "histogram2d": [
           {
            "colorbar": {
             "outlinewidth": 0,
             "ticks": ""
            },
            "colorscale": [
             [
              0,
              "#0d0887"
             ],
             [
              0.1111111111111111,
              "#46039f"
             ],
             [
              0.2222222222222222,
              "#7201a8"
             ],
             [
              0.3333333333333333,
              "#9c179e"
             ],
             [
              0.4444444444444444,
              "#bd3786"
             ],
             [
              0.5555555555555556,
              "#d8576b"
             ],
             [
              0.6666666666666666,
              "#ed7953"
             ],
             [
              0.7777777777777778,
              "#fb9f3a"
             ],
             [
              0.8888888888888888,
              "#fdca26"
             ],
             [
              1,
              "#f0f921"
             ]
            ],
            "type": "histogram2d"
           }
          ],
          "histogram2dcontour": [
           {
            "colorbar": {
             "outlinewidth": 0,
             "ticks": ""
            },
            "colorscale": [
             [
              0,
              "#0d0887"
             ],
             [
              0.1111111111111111,
              "#46039f"
             ],
             [
              0.2222222222222222,
              "#7201a8"
             ],
             [
              0.3333333333333333,
              "#9c179e"
             ],
             [
              0.4444444444444444,
              "#bd3786"
             ],
             [
              0.5555555555555556,
              "#d8576b"
             ],
             [
              0.6666666666666666,
              "#ed7953"
             ],
             [
              0.7777777777777778,
              "#fb9f3a"
             ],
             [
              0.8888888888888888,
              "#fdca26"
             ],
             [
              1,
              "#f0f921"
             ]
            ],
            "type": "histogram2dcontour"
           }
          ],
          "mesh3d": [
           {
            "colorbar": {
             "outlinewidth": 0,
             "ticks": ""
            },
            "type": "mesh3d"
           }
          ],
          "parcoords": [
           {
            "line": {
             "colorbar": {
              "outlinewidth": 0,
              "ticks": ""
             }
            },
            "type": "parcoords"
           }
          ],
          "pie": [
           {
            "automargin": true,
            "type": "pie"
           }
          ],
          "scatter": [
           {
            "fillpattern": {
             "fillmode": "overlay",
             "size": 10,
             "solidity": 0.2
            },
            "type": "scatter"
           }
          ],
          "scatter3d": [
           {
            "line": {
             "colorbar": {
              "outlinewidth": 0,
              "ticks": ""
             }
            },
            "marker": {
             "colorbar": {
              "outlinewidth": 0,
              "ticks": ""
             }
            },
            "type": "scatter3d"
           }
          ],
          "scattercarpet": [
           {
            "marker": {
             "colorbar": {
              "outlinewidth": 0,
              "ticks": ""
             }
            },
            "type": "scattercarpet"
           }
          ],
          "scattergeo": [
           {
            "marker": {
             "colorbar": {
              "outlinewidth": 0,
              "ticks": ""
             }
            },
            "type": "scattergeo"
           }
          ],
          "scattergl": [
           {
            "marker": {
             "colorbar": {
              "outlinewidth": 0,
              "ticks": ""
             }
            },
            "type": "scattergl"
           }
          ],
          "scattermapbox": [
           {
            "marker": {
             "colorbar": {
              "outlinewidth": 0,
              "ticks": ""
             }
            },
            "type": "scattermapbox"
           }
          ],
          "scatterpolar": [
           {
            "marker": {
             "colorbar": {
              "outlinewidth": 0,
              "ticks": ""
             }
            },
            "type": "scatterpolar"
           }
          ],
          "scatterpolargl": [
           {
            "marker": {
             "colorbar": {
              "outlinewidth": 0,
              "ticks": ""
             }
            },
            "type": "scatterpolargl"
           }
          ],
          "scatterternary": [
           {
            "marker": {
             "colorbar": {
              "outlinewidth": 0,
              "ticks": ""
             }
            },
            "type": "scatterternary"
           }
          ],
          "surface": [
           {
            "colorbar": {
             "outlinewidth": 0,
             "ticks": ""
            },
            "colorscale": [
             [
              0,
              "#0d0887"
             ],
             [
              0.1111111111111111,
              "#46039f"
             ],
             [
              0.2222222222222222,
              "#7201a8"
             ],
             [
              0.3333333333333333,
              "#9c179e"
             ],
             [
              0.4444444444444444,
              "#bd3786"
             ],
             [
              0.5555555555555556,
              "#d8576b"
             ],
             [
              0.6666666666666666,
              "#ed7953"
             ],
             [
              0.7777777777777778,
              "#fb9f3a"
             ],
             [
              0.8888888888888888,
              "#fdca26"
             ],
             [
              1,
              "#f0f921"
             ]
            ],
            "type": "surface"
           }
          ],
          "table": [
           {
            "cells": {
             "fill": {
              "color": "#EBF0F8"
             },
             "line": {
              "color": "white"
             }
            },
            "header": {
             "fill": {
              "color": "#C8D4E3"
             },
             "line": {
              "color": "white"
             }
            },
            "type": "table"
           }
          ]
         },
         "layout": {
          "annotationdefaults": {
           "arrowcolor": "#2a3f5f",
           "arrowhead": 0,
           "arrowwidth": 1
          },
          "autotypenumbers": "strict",
          "coloraxis": {
           "colorbar": {
            "outlinewidth": 0,
            "ticks": ""
           }
          },
          "colorscale": {
           "diverging": [
            [
             0,
             "#8e0152"
            ],
            [
             0.1,
             "#c51b7d"
            ],
            [
             0.2,
             "#de77ae"
            ],
            [
             0.3,
             "#f1b6da"
            ],
            [
             0.4,
             "#fde0ef"
            ],
            [
             0.5,
             "#f7f7f7"
            ],
            [
             0.6,
             "#e6f5d0"
            ],
            [
             0.7,
             "#b8e186"
            ],
            [
             0.8,
             "#7fbc41"
            ],
            [
             0.9,
             "#4d9221"
            ],
            [
             1,
             "#276419"
            ]
           ],
           "sequential": [
            [
             0,
             "#0d0887"
            ],
            [
             0.1111111111111111,
             "#46039f"
            ],
            [
             0.2222222222222222,
             "#7201a8"
            ],
            [
             0.3333333333333333,
             "#9c179e"
            ],
            [
             0.4444444444444444,
             "#bd3786"
            ],
            [
             0.5555555555555556,
             "#d8576b"
            ],
            [
             0.6666666666666666,
             "#ed7953"
            ],
            [
             0.7777777777777778,
             "#fb9f3a"
            ],
            [
             0.8888888888888888,
             "#fdca26"
            ],
            [
             1,
             "#f0f921"
            ]
           ],
           "sequentialminus": [
            [
             0,
             "#0d0887"
            ],
            [
             0.1111111111111111,
             "#46039f"
            ],
            [
             0.2222222222222222,
             "#7201a8"
            ],
            [
             0.3333333333333333,
             "#9c179e"
            ],
            [
             0.4444444444444444,
             "#bd3786"
            ],
            [
             0.5555555555555556,
             "#d8576b"
            ],
            [
             0.6666666666666666,
             "#ed7953"
            ],
            [
             0.7777777777777778,
             "#fb9f3a"
            ],
            [
             0.8888888888888888,
             "#fdca26"
            ],
            [
             1,
             "#f0f921"
            ]
           ]
          },
          "colorway": [
           "#636efa",
           "#EF553B",
           "#00cc96",
           "#ab63fa",
           "#FFA15A",
           "#19d3f3",
           "#FF6692",
           "#B6E880",
           "#FF97FF",
           "#FECB52"
          ],
          "font": {
           "color": "#2a3f5f"
          },
          "geo": {
           "bgcolor": "white",
           "lakecolor": "white",
           "landcolor": "#E5ECF6",
           "showlakes": true,
           "showland": true,
           "subunitcolor": "white"
          },
          "hoverlabel": {
           "align": "left"
          },
          "hovermode": "closest",
          "mapbox": {
           "style": "light"
          },
          "paper_bgcolor": "white",
          "plot_bgcolor": "#E5ECF6",
          "polar": {
           "angularaxis": {
            "gridcolor": "white",
            "linecolor": "white",
            "ticks": ""
           },
           "bgcolor": "#E5ECF6",
           "radialaxis": {
            "gridcolor": "white",
            "linecolor": "white",
            "ticks": ""
           }
          },
          "scene": {
           "xaxis": {
            "backgroundcolor": "#E5ECF6",
            "gridcolor": "white",
            "gridwidth": 2,
            "linecolor": "white",
            "showbackground": true,
            "ticks": "",
            "zerolinecolor": "white"
           },
           "yaxis": {
            "backgroundcolor": "#E5ECF6",
            "gridcolor": "white",
            "gridwidth": 2,
            "linecolor": "white",
            "showbackground": true,
            "ticks": "",
            "zerolinecolor": "white"
           },
           "zaxis": {
            "backgroundcolor": "#E5ECF6",
            "gridcolor": "white",
            "gridwidth": 2,
            "linecolor": "white",
            "showbackground": true,
            "ticks": "",
            "zerolinecolor": "white"
           }
          },
          "shapedefaults": {
           "line": {
            "color": "#2a3f5f"
           }
          },
          "ternary": {
           "aaxis": {
            "gridcolor": "white",
            "linecolor": "white",
            "ticks": ""
           },
           "baxis": {
            "gridcolor": "white",
            "linecolor": "white",
            "ticks": ""
           },
           "bgcolor": "#E5ECF6",
           "caxis": {
            "gridcolor": "white",
            "linecolor": "white",
            "ticks": ""
           }
          },
          "title": {
           "x": 0.05
          },
          "xaxis": {
           "automargin": true,
           "gridcolor": "white",
           "linecolor": "white",
           "ticks": "",
           "title": {
            "standoff": 15
           },
           "zerolinecolor": "white",
           "zerolinewidth": 2
          },
          "yaxis": {
           "automargin": true,
           "gridcolor": "white",
           "linecolor": "white",
           "ticks": "",
           "title": {
            "standoff": 15
           },
           "zerolinecolor": "white",
           "zerolinewidth": 2
          }
         }
        },
        "title": {
         "text": "SDE Build-up Analysis - Demo Dental NYC",
         "x": 0.5,
         "xanchor": "center"
        },
        "xaxis": {
         "autorange": true,
         "range": [
          -0.5,
          7.5
         ],
         "title": {
          "text": ""
         },
         "type": "category"
        },
        "yaxis": {
         "autorange": true,
         "gridcolor": "lightgray",
         "range": [
          0,
          484210.5263157895
         ],
         "tickformat": "$,.0f",
         "title": {
          "text": "Amount ($)"
         },
         "type": "linear"
        }
       }
      },
      "image/png": "[encoded data removed]",
      "text/html": [
       "<div>                            <div id=\"8e1a29e0-14ab-4b9f-8fa5-4904a64d7b4c\" class=\"plotly-graph-div\" style=\"height:500px; width:100%;\"></div>            <script type=\"text/javascript\">                require([\"plotly\"], function(Plotly) {                    window.PLOTLYENV=window.PLOTLYENV || {};                                    if (document.getElementById(\"8e1a29e0-14ab-4b9f-8fa5-4904a64d7b4c\")) {                    Plotly.newPlot(                        \"8e1a29e0-14ab-4b9f-8fa5-4904a64d7b4c\",                        [{\"connector\":{\"line\":{\"color\":\"rgb(63, 63, 63)\"}},\"decreasing\":{\"marker\":{\"color\":\"#C73E1D\"}},\"increasing\":{\"marker\":{\"color\":\"#F18F01\"}},\"measure\":[\"absolute\",\"relative\",\"relative\",\"relative\",\"relative\",\"relative\",\"relative\",\"total\"],\"name\":\"SDE Build-up\",\"orientation\":\"v\",\"text\":[\"$350,000\",\"+$60,000\",\"+$18,000\",\"+$12,000\",\"+$9,000\",\"+$4,000\",\"+$7,000\",\"$460,000\"],\"textposition\":\"outside\",\"totals\":{\"marker\":{\"color\":\"#2E86AB\"}},\"x\":[\"Net Profit (Pre-tax)\",\"Owner Salary Adjustment\",\"Owner Perks\",\"Interest\",\"Depreciation\",\"Amortization\",\"Non-Recurring\",\"Total SDE\"],\"y\":[350000,60000,18000,12000,9000,4000,7000,null],\"type\":\"waterfall\"}],                        {\"template\":{\"data\":{\"histogram2dcontour\":[{\"type\":\"histogram2dcontour\",\"colorbar\":{\"outlinewidth\":0,\"ticks\":\"\"},\"colorscale\":[[0.0,\"#0d0887\"],[0.1111111111111111,\"#46039f\"],[0.2222222222222222,\"#7201a8\"],[0.3333333333333333,\"#9c179e\"],[0.4444444444444444,\"#bd3786\"],[0.5555555555555556,\"#d8576b\"],[0.6666666666666666,\"#ed7953\"],[0.7777777777777778,\"#fb9f3a\"],[0.8888888888888888,\"#fdca26\"],[1.0,\"#f0f921\"]]}],\"choropleth\":[{\"type\":\"choropleth\",\"colorbar\":{\"outlinewidth\":0,\"ticks\":\"\"}}],\"histogram2d\":[{\"type\":\"histogram2d\",\"colorbar\":{\"outlinewidth\":0,\"ticks\":\"\"},\"colorscale\":[[0.0,\"#0d0887\"],[0.1111111111111111,\"#46039f\"],[0.2222222222222222,\"#7201a8\"],[0.3333333333333333,\"#9c179e\"],[0.4444444444444444,\"#bd3786\"],[0.5555555555555556,\"#d8576b\"],[0.6666666666666666,\"#ed7953\"],[0.7777777777777778,\"#fb9f3a\"],[0.8888888888888888,\"#fdca26\"],[1.0,\"#f0f921\"]]}],\"heatmap\":[{\"type\":\"heatmap\",\"colorbar\":{\"outlinewidth\":0,\"ticks\":\"\"},\"colorscale\":[[0.0,\"#0d0887\"],[0.1111111111111111,\"#46039f\"],[0.2222222222222222,\"#7201a8\"],[0.3333333333333333,\"#9c179e\"],[0.4444444444444444,\"#bd3786\"],[0.5555555555555556,\"#d8576b\"],[0.6666666666666666,\"#ed7953\"],[0.7777777777777778,\"#fb9f3a\"],[0.8888888888888888,\"#fdca26\"],[1.0,\"#f0f921\"]]}],\"heatmapgl\":[{\"type\":\"heatmapgl\",\"colorbar\":{\"outlinewidth\":0,\"ticks\":\"\"},\"colorscale\":[[0.0,\"#0d0887\"],[0.1111111111111111,\"#46039f\"],[0.2222222222222222,\"#7201a8\"],[0.3333333333333333,\"#9c179e\"],[0.4444444444444444,\"#bd3786\"],[0.5555555555555556,\"#d8576b\"],[0.6666666666666666,\"#ed7953\"],[0.7777777777777778,\"#fb9f3a\"],[0.8888888888888888,\"#fdca26\"],[1.0,\"#f0f921\"]]}],\"contourcarpet\":[{\"type\":\"contourcarpet\",\"colorbar\":{\"outlinewidth\":0,\"ticks\":\"\"}}],\"contour\":[{\"type\":\"contour\",\"colorbar\":{\"outlinewidth\":0,\"ticks\":\"\"},\"colorscale\":[[0.0,\"#0d0887\"],[0.1111111111111111,\"#46039f\"],[0.2222222222222222,\"#7201a8\"],[0.3333333333333333,\"#9c179e\"],[0.4444444444444444,\"#bd3786\"],[0.5555555555555556,\"#d8576b\"],[0.6666666666666666,\"#ed7953\"],[0.7777777777777778,\"#fb9f3a\"],[0.8888888888888888,\"#fdca26\"],[1.0,\"#f0f921\"]]}],\"surface\":[{\"type\":\"surface\",\"colorbar\":{\"outlinewidth\":0,\"ticks\":\"\"},\"colorscale\":[[0.0,\"#0d0887\"],[0.1111111111111111,\"#46039f\"],[0.2222222222222222,\"#7201a8\"],[0.3333333333333333,\"#9c179e\"],[0.4444444444444444,\"#bd3786\"],[0.5555555555555556,\"#d8576b\"],[0.6666666666666666,\"#ed7953\"],[0.7777777777777778,\"#fb9f3a\"],[0.8888888888888888,\"#fdca26\"],[1.0,\"#f0f921\"]]}],\"mesh3d\":[{\"type\":\"mesh3d\",\"colorbar\":{\"outlinewidth\":0,\"ticks\":\"\"}}],\"scatter\":[{\"fillpattern\":{\"fillmode\":\"overlay\",\"size\":10,\"solidity\":0.2},\"type\":\"scatter\"}],\"parcoords\":[{\"type\":\"parcoords\",\"line\":{\"colorbar\":{\"outlinewidth\":0,\"ticks\":\"\"}}}],\"scatterpolargl\":[{\"type\":\"scatterpolargl\",\"marker\":{\"colorbar\":{\"outlinewidth\":0,\"ticks\":\"\"}}}],\"bar\":[{\"error_x\":{\"color\":\"#2a3f5f\"},\"error_y\":{\"color\":\"#2a3f5f\"},\"marker\":{\"line\":{\"color\":\"#E5ECF6\",\"width\":0.5},\"pattern\":{\"fillmode\":\"overlay\",\"size\":10,\"solidity\":0.2}},\"type\":\"bar\"}],\"scattergeo\":[{\"type\":\"scattergeo\",\"marker\":{\"colorbar\":{\"outlinewidth\":0,\"ticks\":\"\"}}}],\"scatterpolar\":[{\"type\":\"scatterpolar\",\"marker\":{\"colorbar\":{\"outlinewidth\":0,\"ticks\":\"\"}}}],\"histogram\":[{\"marker\":{\"pattern\":{\"fillmode\":\"overlay\",\"size\":10,\"solidity\":0.2}},\"type\":\"histogram\"}],\"scattergl\":[{\"type\":\"scattergl\",\"marker\":{\"colorbar\":{\"outlinewidth\":0,\"ticks\":\"\"}}}],\"scatter3d\":[{\"type\":\"scatter3d\",\"line\":{\"colorbar\":{\"outlinewidth\":0,\"ticks\":\"\"}},\"marker\":{\"colorbar\":{\"outlinewidth\":0,\"ticks\":\"\"}}}],\"scattermapbox\":[{\"type\":\"scattermapbox\",\"marker\":{\"colorbar\":{\"outlinewidth\":0,\"ticks\":\"\"}}}],\"scatterternary\":[{\"type\":\"scatterternary\",\"marker\":{\"colorbar\":{\"outlinewidth\":0,\"ticks\":\"\"}}}],\"scattercarpet\":[{\"type\":\"scattercarpet\",\"marker\":{\"colorbar\":{\"outlinewidth\":0,\"ticks\":\"\"}}}],\"carpet\":[{\"aaxis\":{\"endlinecolor\":\"#2a3f5f\",\"gridcolor\":\"white\",\"linecolor\":\"white\",\"minorgridcolor\":\"white\",\"startlinecolor\":\"#2a3f5f\"},\"baxis\":{\"endlinecolor\":\"#2a3f5f\",\"gridcolor\":\"white\",\"linecolor\":\"white\",\"minorgridcolor\":\"white\",\"startlinecolor\":\"#2a3f5f\"},\"type\":\"carpet\"}],\"table\":[{\"cells\":{\"fill\":{\"color\":\"#EBF0F8\"},\"line\":{\"color\":\"white\"}},\"header\":{\"fill\":{\"color\":\"#C8D4E3\"},\"line\":{\"color\":\"white\"}},\"type\":\"table\"}],\"barpolar\":[{\"marker\":{\"line\":{\"color\":\"#E5ECF6\",\"width\":0.5},\"pattern\":{\"fillmode\":\"overlay\",\"size\":10,\"solidity\":0.2}},\"type\":\"barpolar\"}],\"pie\":[{\"automargin\":true,\"type\":\"pie\"}]},\"layout\":{\"autotypenumbers\":\"strict\",\"colorway\":[\"#636efa\",\"#EF553B\",\"#00cc96\",\"#ab63fa\",\"#FFA15A\",\"#19d3f3\",\"#FF6692\",\"#B6E880\",\"#FF97FF\",\"#FECB52\"],\"font\":{\"color\":\"#2a3f5f\"},\"hovermode\":\"closest\",\"hoverlabel\":{\"align\":\"left\"},\"paper_bgcolor\":\"white\",\"plot_bgcolor\":\"#E5ECF6\",\"polar\":{\"bgcolor\":\"#E5ECF6\",\"angularaxis\":{\"gridcolor\":\"white\",\"linecolor\":\"white\",\"ticks\":\"\"},\"radialaxis\":{\"gridcolor\":\"white\",\"linecolor\":\"white\",\"ticks\":\"\"}},\"ternary\":{\"bgcolor\":\"#E5ECF6\",\"aaxis\":{\"gridcolor\":\"white\",\"linecolor\":\"white\",\"ticks\":\"\"},\"baxis\":{\"gridcolor\":\"white\",\"linecolor\":\"white\",\"ticks\":\"\"},\"caxis\":{\"gridcolor\":\"white\",\"linecolor\":\"white\",\"ticks\":\"\"}},\"coloraxis\":{\"colorbar\":{\"outlinewidth\":0,\"ticks\":\"\"}},\"colorscale\":{\"sequential\":[[0.0,\"#0d0887\"],[0.1111111111111111,\"#46039f\"],[0.2222222222222222,\"#7201a8\"],[0.3333333333333333,\"#9c179e\"],[0.4444444444444444,\"#bd3786\"],[0.5555555555555556,\"#d8576b\"],[0.6666666666666666,\"#ed7953\"],[0.7777777777777778,\"#fb9f3a\"],[0.8888888888888888,\"#fdca26\"],[1.0,\"#f0f921\"]],\"sequentialminus\":[[0.0,\"#0d0887\"],[0.1111111111111111,\"#46039f\"],[0.2222222222222222,\"#7201a8\"],[0.3333333333333333,\"#9c179e\"],[0.4444444444444444,\"#bd3786\"],[0.5555555555555556,\"#d8576b\"],[0.6666666666666666,\"#ed7953\"],[0.7777777777777778,\"#fb9f3a\"],[0.8888888888888888,\"#fdca26\"],[1.0,\"#f0f921\"]],\"diverging\":[[0,\"#8e0152\"],[0.1,\"#c51b7d\"],[0.2,\"#de77ae\"],[0.3,\"#f1b6da\"],[0.4,\"#fde0ef\"],[0.5,\"#f7f7f7\"],[0.6,\"#e6f5d0\"],[0.7,\"#b8e186\"],[0.8,\"#7fbc41\"],[0.9,\"#4d9221\"],[1,\"#276419\"]]},\"xaxis\":{\"gridcolor\":\"white\",\"linecolor\":\"white\",\"ticks\":\"\",\"title\":{\"standoff\":15},\"zerolinecolor\":\"white\",\"automargin\":true,\"zerolinewidth\":2},\"yaxis\":{\"gridcolor\":\"white\",\"linecolor\":\"white\",\"ticks\":\"\",\"title\":{\"standoff\":15},\"zerolinecolor\":\"white\",\"automargin\":true,\"zerolinewidth\":2},\"scene\":{\"xaxis\":{\"backgroundcolor\":\"#E5ECF6\",\"gridcolor\":\"white\",\"linecolor\":\"white\",\"showbackground\":true,\"ticks\":\"\",\"zerolinecolor\":\"white\",\"gridwidth\":2},\"yaxis\":{\"backgroundcolor\":\"#E5ECF6\",\"gridcolor\":\"white\",\"linecolor\":\"white\",\"showbackground\":true,\"ticks\":\"\",\"zerolinecolor\":\"white\",\"gridwidth\":2},\"zaxis\":{\"backgroundcolor\":\"#E5ECF6\",\"gridcolor\":\"white\",\"linecolor\":\"white\",\"showbackground\":true,\"ticks\":\"\",\"zerolinecolor\":\"white\",\"gridwidth\":2}},\"shapedefaults\":{\"line\":{\"color\":\"#2a3f5f\"}},\"annotationdefaults\":{\"arrowcolor\":\"#2a3f5f\",\"arrowhead\":0,\"arrowwidth\":1},\"geo\":{\"bgcolor\":\"white\",\"landcolor\":\"#E5ECF6\",\"subunitcolor\":\"white\",\"showland\":true,\"showlakes\":true,\"lakecolor\":\"white\"},\"title\":{\"x\":0.05},\"mapbox\":{\"style\":\"light\"}}},\"title\":{\"text\":\"SDE Build-up Analysis - Demo Dental NYC\",\"x\":0.5,\"xanchor\":\"center\"},\"yaxis\":{\"title\":{\"text\":\"Amount ($)\"},\"gridcolor\":\"lightgray\",\"tickformat\":\"$,.0f\"},\"xaxis\":{\"title\":{\"text\":\"\"}},\"height\":500,\"showlegend\":false,\"hovermode\":\"x unified\",\"plot_bgcolor\":\"white\"},                        {\"responsive\": true}                    ).then(function(){\n",
       "                            \n",
       "var gd = document.getElementById('8e1a29e0-14ab-4b9f-8fa5-4904a64d7b4c');\n",
       "var x = new MutationObserver(function (mutations, observer) {{\n",
       "        var display = window.getComputedStyle(gd).display;\n",
       "        if (!display || display === 'none') {{\n",
       "            console.log([gd, 'removed!']);\n",
       "            Plotly.purge(gd);\n",
       "            observer.disconnect();\n",
       "        }}\n",
       "}});\n",
       "\n",
       "// Listen for the removal of the full notebook cells\n",
       "var notebookContainer = gd.closest('#notebook-container');\n",
       "if (notebookContainer) {{\n",
       "    x.observe(notebookContainer, {childList: true});\n",
       "}}\n",
       "\n",
       "// Listen for the clearing of the current output cell\n",
       "var outputEl = gd.closest('.output');\n",
       "if (outputEl) {{\n",
       "    x.observe(outputEl, {childList: true});\n",
       "}}\n",
       "\n",
       "                        })                };                });            </script>        </div>"
      ]
     },
     "metadata": {},
     "output_type": "display_data"
    },
    {
     "name": "stdout",
     "output_type": "stream",
     "text": [
      "----------------------------------------------------------------------\n",
      "✅ Question processed successfully!\n",
      "======================================================================\n"
     ]
    },
    {
     "data": {
      "text/markdown": [
       "\n",
       "### 📝 Question\n",
       "**What is the SDE for this practice and explain how it's calculated?**\n",
       "\n",
       "---\n",
       "\n",
       "### 📊 Analysis Category\n",
       "`SDE`\n",
       "\n",
       "---\n",
       "\n",
       "### 💡 Answer\n",
       "### **Seller's Discretionary Earnings (SDE) Analysis for Demo Dental NYC**  \n",
       "\n",
       "#### **1. Definition of SDE**  \n",
       "Seller's Discretionary Earnings (SDE) represents the total financial benefit a single owner-operator derives from the practice, including both profits and discretionary expenses. It is a key metric for valuing small to mid-sized dental practices.  \n",
       "\n",
       "#### **2. SDE Calculation Breakdown**  \n",
       "The SDE for **Demo Dental NYC** is **$460,000**, calculated as follows:  \n",
       "\n",
       "| **Component**                     | **Amount ($)** | **Type**  | **Justification** |\n",
       "|-----------------------------------|---------------|-----------|------------------|\n",
       "| Net Profit (Pre-Tax)              | 350,000       | Cash      | Base accounting profit before tax adjustments. |\n",
       "| + Owner Salary Above Market       | 60,000        | Cash      | Portion of the owner's salary exceeding fair-market compensation for a dentist in NYC. |\n",
       "| + Owner Perks                     | 18,000        | Cash      | Clinic-paid personal expenses (auto, phone, family health insurance). |\n",
       "| + Interest Expense                | 12,000        | Cash      | Financing costs—assumed refinanced by buyer. |\n",
       "| + Depreciation                    | 9,000         | Non-Cash  | Non-cash accounting expense (equipment wear & tear). |\n",
       "| + Amortization                    | 4,000         | Non-Cash  | Non-cash expense (prior goodwill amortization). |\n",
       "| + Non-Recurring Expense           | 7,000         | Cash      | One-time legal settlement (FY 2024). |\n",
       "| **Total SDE**                     | **460,000**   |           | **Sum of all adjustments to net profit.** |\n",
       "\n",
       "#### **3. Key Observations**  \n",
       "- **Cash vs. Non-Cash Adjustments:**  \n",
       "  - **Cash Addbacks ($97,000 total):**  \n",
       "    - Owner salary above market ($60K)  \n",
       "    - Owner perks ($18K)  \n",
       "    - Interest ($12K)  \n",
       "    - Non-recurring expense ($7K)  \n",
       "  - **Non-Cash Addbacks ($13,000 total):**  \n",
       "    - Depreciation ($9K)  \n",
       "    - Amortization ($4K)  \n",
       "\n",
       "- **SDE Margin:**  \n",
       "  - **29.7%** ($460K SDE / $1,546,696 Revenue)  \n",
       "  - **Industry Benchmark:** Typically 25-40% for well-run FFS practices. Demo Dental is in the upper range, indicating strong profitability.  \n",
       "\n",
       "#### **4. Visualizations That Would Help**  \n",
       "To better illustrate the SDE composition, the following visuals would be useful:  \n",
       "1. **SDE Breakdown Pie Chart** – Showing the contribution of each addback component.  \n",
       "2. **Cash vs. Non-Cash Addbacks Bar Chart** – Highlighting the split between real cash savings and accounting adjustments.  \n",
       "3. **SDE Margin Trend (if historical data available)** – To assess profitability consistency.  \n",
       "\n",
       "#### **5. Valuation Implications**  \n",
       "- **SDE-Based Valuation:** Using a typical multiple of **4.0x–5.0x SDE**, the practice could be valued between **$1.84M–$2.3M**.  \n",
       "- **EBITDA vs. SDE:** Since SDE includes owner compensation, it is typically higher than EBITDA ($545K vs. $460K).  \n",
       "\n",
       "#### **Conclusion**  \n",
       "Demo Dental NYC generates a strong **$460K SDE**, supported by high FFS revenue and efficient operations. The addbacks are well-justified, with a healthy mix of cash and non-cash adjustments. Buyers should focus on maintaining the high SDE margin while exploring growth opportunities (e.g., expanded hours, implant services).  \n",
       "\n",
       "Would you like further breakdowns on valuation multiples or debt service coverage?\n",
       "\n",
       "---\n",
       "\n",
       "### 📈 Visualizations Generated\n",
       "- **SDE Build-up Analysis**: Shows how we get from Net Profit to SDE\n",
       "\n",
       "---\n",
       "*Generated: 2025-08-07 18:36:19*"
      ],
      "text/plain": [
       "<IPython.core.display.Markdown object>"
      ]
     },
     "metadata": {},
     "output_type": "display_data"
    },
    {
     "name": "stdout",
     "output_type": "stream",
     "text": [
      "\n",
      "======================================================================\n",
      "📚 AVAILABLE FUNCTIONS:\n",
      "======================================================================\n",
      "\n",
      "1. process_question_with_visualizations()\n",
      "   - Main pipeline function\n",
      "   - Takes question → returns answer + visualizations\n",
      "   \n",
      "2. run_interactive_qa_session()\n",
      "   - Interactive mode for multiple questions\n",
      "   - Type questions one at a time\n",
      "   \n",
      "3. batch_process_questions()\n",
      "   - Process multiple questions at once\n",
      "   - Generate comprehensive reports\n",
      "\n",
      "4. Common question examples:\n",
      "   - \"What is this practice worth?\"\n",
      "   - \"Can the practice support its debt?\"\n",
      "   - \"How does profitability compare to industry?\"\n",
      "   - \"What are the key risks and opportunities?\"\n",
      "   - \"Calculate the buyer's after-tax cash flow\"\n",
      "\n",
      "\n",
      "💡 TIP: To start an interactive session, run:\n",
      "   run_interactive_qa_session(practice_data)\n",
      "\n",
      "✅ System fully integrated and ready for use!\n",
      "======================================================================\n"
     ]
    }
   ],
   "source": [
    "# Cell 6: Main Pipeline Integration\n",
    "# ===================================\n",
    "# This cell brings everything together into a complete Q&A system\n",
    "\n",
    "def process_question_with_visualizations(\n",
    "    question: str, \n",
    "    practice_data: DentalPracticeData,\n",
    "    show_visualizations: bool = True,\n",
    "    save_outputs: bool = False,\n",
    "    output_dir: str = \"valuation_outputs\"\n",
    ") -> dict:\n",
    "    \"\"\"\n",
    "    MAIN PIPELINE FUNCTION - This is the complete system in one function.\n",
    "    Takes a question and returns an answer with relevant visualizations.\n",
    "    \n",
    "    WHAT THIS DOES:\n",
    "    1. Accepts a question about the dental practice\n",
    "    2. Categorizes the question type\n",
    "    3. Gets an intelligent answer from the LLM\n",
    "    4. Creates relevant visualizations\n",
    "    5. Optionally saves everything to files\n",
    "    \n",
    "    Parameters:\n",
    "    - question: The user's question (string)\n",
    "    - practice_data: The loaded practice data object\n",
    "    - show_visualizations: Whether to display charts (default True)\n",
    "    - save_outputs: Whether to save results to files (default False)\n",
    "    - output_dir: Directory to save outputs if save_outputs=True\n",
    "    \n",
    "    Returns:\n",
    "    - Dictionary containing:\n",
    "      - 'question': Original question\n",
    "      - 'category': Detected question type\n",
    "      - 'answer': LLM's detailed response\n",
    "      - 'visualizations': List of generated charts\n",
    "      - 'timestamp': When the question was processed\n",
    "      - 'files_saved': List of saved file paths (if save_outputs=True)\n",
    "    \"\"\"\n",
    "    \n",
    "    import os\n",
    "    from datetime import datetime\n",
    "    \n",
    "    # Record when this question was processed\n",
    "    timestamp = datetime.now().strftime(\"%Y-%m-%d %H:%M:%S\")\n",
    "    \n",
    "    print(\"\\n\" + \"=\"*70)\n",
    "    print(\"🦷 DENTAL PRACTICE VALUATION Q&A SYSTEM\")\n",
    "    print(\"=\"*70)\n",
    "    print(f\"⏰ Timestamp: {timestamp}\")\n",
    "    print(f\"📝 Question: {question}\")\n",
    "    print(\"-\"*70)\n",
    "    \n",
    "    # Step 1: Categorize the question\n",
    "    category = categorize_question(question)\n",
    "    print(f\"📊 Category detected: {category}\")\n",
    "    \n",
    "    # Step 2: Get LLM answer\n",
    "    print(\"🤖 Getting AI analysis...\")\n",
    "    prompt = create_context_prompt(practice_data, question, category)\n",
    "    answer = call_llm(prompt)\n",
    "    \n",
    "    # Step 3: Get visualization recommendations\n",
    "    viz_recommendations = get_visualization_recommendations(question, category, practice_data)\n",
    "    \n",
    "    # Step 4: Generate visualizations\n",
    "    generated_visualizations = []\n",
    "    print(f\"📈 Creating {len(viz_recommendations)} visualization(s)...\")\n",
    "    \n",
    "    for viz_rec in viz_recommendations:\n",
    "        viz_type = viz_rec['type']\n",
    "        print(f\"   - Creating {viz_rec['title']}...\")\n",
    "        \n",
    "        try:\n",
    "            fig = generate_visualization(viz_type, practice_data)\n",
    "            if fig:\n",
    "                generated_visualizations.append({\n",
    "                    'type': viz_type,\n",
    "                    'title': viz_rec['title'],\n",
    "                    'description': viz_rec['description'],\n",
    "                    'figure': fig\n",
    "                })\n",
    "                \n",
    "                # Display the visualization if requested\n",
    "                if show_visualizations:\n",
    "                    if hasattr(fig, 'show'):  # Plotly figure\n",
    "                        fig.show()\n",
    "                    else:  # Matplotlib figure\n",
    "                        plt.show()\n",
    "                        \n",
    "        except Exception as e:\n",
    "            print(f\"   ⚠️ Could not create {viz_type}: {str(e)}\")\n",
    "    \n",
    "    # Step 5: Save outputs if requested\n",
    "    files_saved = []\n",
    "    if save_outputs:\n",
    "        # Create output directory if it doesn't exist\n",
    "        os.makedirs(output_dir, exist_ok=True)\n",
    "        \n",
    "        # Generate safe filename from timestamp\n",
    "        safe_timestamp = timestamp.replace(\":\", \"-\").replace(\" \", \"_\")\n",
    "        \n",
    "        # Save the Q&A as a markdown file\n",
    "        qa_filename = os.path.join(output_dir, f\"qa_{safe_timestamp}.md\")\n",
    "        with open(qa_filename, 'w') as f:\n",
    "            f.write(f\"# Dental Practice Valuation Q&A\\n\\n\")\n",
    "            f.write(f\"**Practice:** {practice_data.data.get('Clinic', 'Unknown')}\\n\")\n",
    "            f.write(f\"**Date:** {timestamp}\\n\\n\")\n",
    "            f.write(f\"## Question\\n{question}\\n\\n\")\n",
    "            f.write(f\"**Category:** {category}\\n\\n\")\n",
    "            f.write(f\"## Answer\\n{answer}\\n\\n\")\n",
    "            f.write(f\"## Visualizations Created\\n\")\n",
    "            for viz in generated_visualizations:\n",
    "                f.write(f\"- {viz['title']}: {viz['description']}\\n\")\n",
    "        \n",
    "        files_saved.append(qa_filename)\n",
    "        print(f\"   ✅ Saved Q&A to: {qa_filename}\")\n",
    "        \n",
    "        # Save visualizations\n",
    "        for i, viz in enumerate(generated_visualizations):\n",
    "            fig = viz['figure']\n",
    "            viz_filename = os.path.join(output_dir, f\"viz_{i+1}_{viz['type']}_{safe_timestamp}\")\n",
    "            \n",
    "            if hasattr(fig, 'write_html'):  # Plotly figure\n",
    "                fig.write_html(f\"{viz_filename}.html\")\n",
    "                files_saved.append(f\"{viz_filename}.html\")\n",
    "                print(f\"   ✅ Saved {viz['title']} to: {viz_filename}.html\")\n",
    "            else:  # Matplotlib figure\n",
    "                fig.savefig(f\"{viz_filename}.png\", dpi=150, bbox_inches='tight')\n",
    "                files_saved.append(f\"{viz_filename}.png\")\n",
    "                print(f\"   ✅ Saved {viz['title']} to: {viz_filename}.png\")\n",
    "    \n",
    "    # Compile results\n",
    "    result = {\n",
    "        'question': question,\n",
    "        'category': category,\n",
    "        'answer': answer,\n",
    "        'visualizations': generated_visualizations,\n",
    "        'timestamp': timestamp,\n",
    "        'files_saved': files_saved\n",
    "    }\n",
    "    \n",
    "    print(\"-\"*70)\n",
    "    print(\"✅ Question processed successfully!\")\n",
    "    print(\"=\"*70)\n",
    "    \n",
    "    return result\n",
    "\n",
    "def display_formatted_answer(result: dict):\n",
    "    \"\"\"\n",
    "    Displays the Q&A result in a nicely formatted way for Jupyter notebooks.\n",
    "    \n",
    "    Parameters:\n",
    "    - result: The dictionary returned by process_question_with_visualizations\n",
    "    \n",
    "    This creates a clean, professional display of the answer with:\n",
    "    - Formatted markdown\n",
    "    - Highlighted key metrics\n",
    "    - Clear sections\n",
    "    \"\"\"\n",
    "    \n",
    "    from IPython.display import display, Markdown\n",
    "    \n",
    "    # Build formatted markdown output\n",
    "    output = f\"\"\"\n",
    "### 📝 Question\n",
    "**{result['question']}**\n",
    "\n",
    "---\n",
    "\n",
    "### 📊 Analysis Category\n",
    "`{result['category']}`\n",
    "\n",
    "---\n",
    "\n",
    "### 💡 Answer\n",
    "{result['answer']}\n",
    "\n",
    "---\n",
    "\n",
    "### 📈 Visualizations Generated\n",
    "\"\"\"\n",
    "    \n",
    "    for viz in result['visualizations']:\n",
    "        output += f\"- **{viz['title']}**: {viz['description']}\\n\"\n",
    "    \n",
    "    if result['files_saved']:\n",
    "        output += f\"\\n---\\n### 💾 Files Saved\\n\"\n",
    "        for file in result['files_saved']:\n",
    "            output += f\"- `{file}`\\n\"\n",
    "    \n",
    "    output += f\"\\n---\\n*Generated: {result['timestamp']}*\"\n",
    "    \n",
    "    display(Markdown(output))\n",
    "\n",
    "def run_interactive_qa_session(practice_data: DentalPracticeData):\n",
    "    \"\"\"\n",
    "    Runs an interactive Q&A session where users can ask multiple questions.\n",
    "    This is useful for demonstrations or training.\n",
    "    \n",
    "    Parameters:\n",
    "    - practice_data: The loaded practice data\n",
    "    \n",
    "    How it works:\n",
    "    - Prompts user for questions\n",
    "    - Processes each question\n",
    "    - Type 'quit' or 'exit' to stop\n",
    "    \"\"\"\n",
    "    \n",
    "    print(\"\\n\" + \"=\"*70)\n",
    "    print(\"🦷 INTERACTIVE DENTAL PRACTICE VALUATION Q&A\")\n",
    "    print(\"=\"*70)\n",
    "    print(f\"Practice: {practice_data.data.get('Clinic', 'Unknown')}\")\n",
    "    print(\"Type 'quit' or 'exit' to end the session\")\n",
    "    print(\"Type 'help' for example questions\")\n",
    "    print(\"=\"*70)\n",
    "    \n",
    "    # Example questions for users\n",
    "    example_questions = [\n",
    "        \"What is the SDE for this practice and how is it calculated?\",\n",
    "        \"What is this practice worth based on the valuation multiples?\",\n",
    "        \"How do the margins compare to industry standards?\",\n",
    "        \"Can this practice afford its debt payments?\",\n",
    "        \"What are the main strengths and weaknesses?\",\n",
    "        \"What's the after-tax cash flow for a buyer?\",\n",
    "        \"Explain the EBITDA and how it relates to practice value\",\n",
    "        \"What growth opportunities exist for this practice?\"\n",
    "    ]\n",
    "    \n",
    "    while True:\n",
    "        print(\"\\n\")\n",
    "        question = input(\"Enter your question (or 'help' for examples): \").strip()\n",
    "        \n",
    "        if question.lower() in ['quit', 'exit']:\n",
    "            print(\"\\n👋 Thank you for using the Dental Practice Valuation Q&A System!\")\n",
    "            break\n",
    "        \n",
    "        elif question.lower() == 'help':\n",
    "            print(\"\\n📚 Example Questions:\")\n",
    "            for i, q in enumerate(example_questions, 1):\n",
    "                print(f\"   {i}. {q}\")\n",
    "            continue\n",
    "        \n",
    "        elif question == \"\":\n",
    "            print(\"⚠️ Please enter a question.\")\n",
    "            continue\n",
    "        \n",
    "        else:\n",
    "            # Process the question\n",
    "            result = process_question_with_visualizations(\n",
    "                question=question,\n",
    "                practice_data=practice_data,\n",
    "                show_visualizations=True,\n",
    "                save_outputs=False  # Change to True to save files\n",
    "            )\n",
    "            \n",
    "            # Display formatted answer\n",
    "            display_formatted_answer(result)\n",
    "\n",
    "def batch_process_questions(\n",
    "    questions: list,\n",
    "    practice_data: DentalPracticeData,\n",
    "    save_report: bool = True\n",
    ") -> list:\n",
    "    \"\"\"\n",
    "    Processes multiple questions at once and optionally creates a report.\n",
    "    Useful for generating comprehensive practice assessments.\n",
    "    \n",
    "    Parameters:\n",
    "    - questions: List of questions to process\n",
    "    - practice_data: The loaded practice data\n",
    "    - save_report: Whether to save a combined report\n",
    "    \n",
    "    Returns:\n",
    "    - List of results for each question\n",
    "    \n",
    "    Use case:\n",
    "    - Generate a standard report for every practice\n",
    "    - Answer common buyer questions all at once\n",
    "    - Create documentation for due diligence\n",
    "    \"\"\"\n",
    "    \n",
    "    results = []\n",
    "    \n",
    "    print(\"\\n\" + \"=\"*70)\n",
    "    print(\"📋 BATCH PROCESSING QUESTIONS\")\n",
    "    print(\"=\"*70)\n",
    "    print(f\"Processing {len(questions)} questions...\")\n",
    "    \n",
    "    for i, question in enumerate(questions, 1):\n",
    "        print(f\"\\n[{i}/{len(questions)}] Processing: {question[:50]}...\")\n",
    "        \n",
    "        result = process_question_with_visualizations(\n",
    "            question=question,\n",
    "            practice_data=practice_data,\n",
    "            show_visualizations=False,  # Don't show each chart\n",
    "            save_outputs=False  # We'll save combined report instead\n",
    "        )\n",
    "        results.append(result)\n",
    "    \n",
    "    if save_report:\n",
    "        # Create comprehensive report\n",
    "        timestamp = datetime.now().strftime(\"%Y-%m-%d_%H-%M-%S\")\n",
    "        report_filename = f\"valuation_report_{timestamp}.md\"\n",
    "        \n",
    "        with open(report_filename, 'w') as f:\n",
    "            f.write(f\"# Dental Practice Valuation Report\\n\\n\")\n",
    "            f.write(f\"**Practice:** {practice_data.data.get('Clinic', 'Unknown')}\\n\")\n",
    "            f.write(f\"**Report Date:** {datetime.now().strftime('%Y-%m-%d %H:%M:%S')}\\n\\n\")\n",
    "            f.write(f\"---\\n\\n\")\n",
    "            \n",
    "            # Add summary metrics\n",
    "            f.write(f\"## Executive Summary\\n\\n\")\n",
    "            f.write(f\"- **Revenue (TTM):** ${practice_data.data.get('Revenue_Trailing12', 0):,.0f}\\n\")\n",
    "            f.write(f\"- **EBITDA (TTM):** ${practice_data.data.get('EBITDA_Trailing12', 0):,.0f}\\n\")\n",
    "            f.write(f\"- **Total SDE:** ${practice_data.data.get('Total_SDE', 0):,.0f}\\n\")\n",
    "            f.write(f\"- **EBITDA Margin:** {practice_data.metrics.get('EBITDA_Margin', 0):.1f}%\\n\")\n",
    "            f.write(f\"- **Implied Value (EBITDA):** ${practice_data.metrics.get('Implied_Value_EBITDA', 0):,.0f}\\n\")\n",
    "            f.write(f\"\\n---\\n\\n\")\n",
    "            \n",
    "            # Add each Q&A\n",
    "            for i, result in enumerate(results, 1):\n",
    "                f.write(f\"## Question {i}\\n\\n\")\n",
    "                f.write(f\"**{result['question']}**\\n\\n\")\n",
    "                f.write(f\"### Answer\\n{result['answer']}\\n\\n\")\n",
    "                f.write(f\"---\\n\\n\")\n",
    "        \n",
    "        print(f\"\\n✅ Report saved to: {report_filename}\")\n",
    "    \n",
    "    print(\"\\n\" + \"=\"*70)\n",
    "    print(f\"✅ Processed {len(results)} questions successfully!\")\n",
    "    \n",
    "    return results\n",
    "\n",
    "# ===================================\n",
    "# DEMONSTRATION AND TESTING\n",
    "# ===================================\n",
    "\n",
    "# Make sure we have practice data loaded\n",
    "if 'practice_data' not in locals():\n",
    "    print(\"⚠️ Loading practice data first...\")\n",
    "    practice_data = DentalPracticeData(json_path=\"demo_clinic.json\")\n",
    "\n",
    "print(\"\\n\" + \"=\"*70)\n",
    "print(\"🚀 DENTAL PRACTICE VALUATION Q&A PIPELINE READY!\")\n",
    "print(\"=\"*70)\n",
    "\n",
    "# Demonstrate with a sample question\n",
    "demo_question = \"What is the SDE for this practice and explain how it's calculated?\"\n",
    "\n",
    "print(\"\\n📌 DEMO: Processing a sample question...\")\n",
    "print(f\"Question: '{demo_question}'\")\n",
    "print(\"-\"*70)\n",
    "\n",
    "# Process the question\n",
    "demo_result = process_question_with_visualizations(\n",
    "    question=demo_question,\n",
    "    practice_data=practice_data,\n",
    "    show_visualizations=True,\n",
    "    save_outputs=False  # Set to True to save files\n",
    ")\n",
    "\n",
    "# Display the formatted answer\n",
    "display_formatted_answer(demo_result)\n",
    "\n",
    "# Show available functions\n",
    "print(\"\\n\" + \"=\"*70)\n",
    "print(\"📚 AVAILABLE FUNCTIONS:\")\n",
    "print(\"=\"*70)\n",
    "print(\"\"\"\n",
    "1. process_question_with_visualizations()\n",
    "   - Main pipeline function\n",
    "   - Takes question → returns answer + visualizations\n",
    "   \n",
    "2. run_interactive_qa_session()\n",
    "   - Interactive mode for multiple questions\n",
    "   - Type questions one at a time\n",
    "   \n",
    "3. batch_process_questions()\n",
    "   - Process multiple questions at once\n",
    "   - Generate comprehensive reports\n",
    "\n",
    "4. Common question examples:\n",
    "   - \"What is this practice worth?\"\n",
    "   - \"Can the practice support its debt?\"\n",
    "   - \"How does profitability compare to industry?\"\n",
    "   - \"What are the key risks and opportunities?\"\n",
    "   - \"Calculate the buyer's after-tax cash flow\"\n",
    "\"\"\")\n",
    "\n",
    "print(\"\\n💡 TIP: To start an interactive session, run:\")\n",
    "print(\"   run_interactive_qa_session(practice_data)\")\n",
    "print(\"\\n✅ System fully integrated and ready for use!\")\n",
    "print(\"=\"*70)"
   ]
  },
  {
   "cell_type": "code",
   "execution_count": null,
   "id": "ad2d5a40-03e1-4da8-8ee9-923b718ec43c",
   "metadata": {},
   "outputs": [],
   "source": []
  }
 ],
 "metadata": {
  "kernelspec": {
   "display_name": "Python 3 (ipykernel)",
   "language": "python",
   "name": "python3"
  },
  "language_info": {
   "codemirror_mode": {
    "name": "ipython",
    "version": 3
   },
   "file_extension": ".py",
   "mimetype": "text/x-python",
   "name": "python",
   "nbconvert_exporter": "python",
   "pygments_lexer": "ipython3",
   "version": "3.11.7"
  }
 },
 "nbformat": 4,
 "nbformat_minor": 5
}
