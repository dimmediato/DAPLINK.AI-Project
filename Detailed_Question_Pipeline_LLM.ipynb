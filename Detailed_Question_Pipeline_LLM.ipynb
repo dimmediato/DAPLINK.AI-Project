{
 "cells": [
  {
   "cell_type": "code",
   "execution_count": 1,
   "id": "5cbe2ca2-59bb-4024-857c-985a290e46cd",
   "metadata": {},
   "outputs": [
    {
     "name": "stdout",
     "output_type": "stream",
     "text": [
      "Libraries imported successfully!\n"
     ]
    }
   ],
   "source": [
    "# ============================================================================\n",
    "# CELL 1: Import Required Libraries\n",
    "## Enhanced Dental Practice Valuation Q&A Pipeline\n",
    "# With Productivity and Procedures Data Integration\n",
    "\n",
    "# ============================================================================\n",
    "# CELL 1: Import Required Libraries\n",
    "# ============================================================================\n",
    "\n",
    "import json\n",
    "import pandas as pd\n",
    "import numpy as np\n",
    "import matplotlib.pyplot as plt\n",
    "import plotly.graph_objects as go\n",
    "import plotly.express as px\n",
    "from plotly.subplots import make_subplots\n",
    "import requests\n",
    "from typing import Dict, List, Optional, Tuple, Any\n",
    "import warnings\n",
    "import re\n",
    "from datetime import datetime\n",
    "import os\n",
    "warnings.filterwarnings('ignore')\n",
    "\n",
    "# Set style for matplotlib\n",
    "plt.style.use('seaborn-v0_8-darkgrid')\n",
    "\n",
    "print(\"Libraries imported successfully!\")"
   ]
  },
  {
   "cell_type": "code",
   "execution_count": 9,
   "id": "8c259543-b3c1-4168-8b22-92dd58a4308d",
   "metadata": {},
   "outputs": [
    {
     "name": "stdout",
     "output_type": "stream",
     "text": [
      "============================================================\n",
      "OpenRouter API Configuration Test\n",
      "============================================================\n",
      "Testing API connection with key: sk-or-v1...a26f\n",
      "Response status: 200\n",
      "✓ API configured successfully with model: deepseek/deepseek-chat-v3.1:free\n",
      "✓ Test message received: connected\n",
      "\n",
      "============================================================\n",
      "SYSTEM READY\n",
      "============================================================\n",
      "LLM features are enabled and working!\n"
     ]
    }
   ],
   "source": [
    "# ============================================================================\n",
    "# CELL 2: Configuration and API Setup\n",
    "# ============================================================================\n",
    "\n",
    "# OpenRouter API Configuration\n",
    "OPENROUTER_API_KEY = \"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\"  # Replace with actual key (format: sk-or-v1-...)\n",
    "OPENROUTER_URL = \"https://openrouter.ai/api/v1/chat/completions\"\n",
    "\n",
    "# Model selection (free tier)\n",
    "MODEL = \"deepseek/deepseek-chat-v3.1:free\"  # Free model\n",
    "# Alternative free models if needed:\n",
    "# MODEL = \"mistralai/mistral-7b-instruct:free\"\n",
    "# MODEL = \"huggingfaceh4/zephyr-7b-beta:free\"\n",
    "\n",
    "# Headers for API requests - Updated for better compatibility\n",
    "def get_headers():\n",
    "    \"\"\"Get headers with proper API key format\"\"\"\n",
    "    return {\n",
    "        \"Authorization\": f\"Bearer {OPENROUTER_API_KEY}\",\n",
    "        \"HTTP-Referer\": \"http://localhost:3000\",  # Optional but recommended\n",
    "        \"X-Title\": \"Dental Practice Q&A\",  # Optional\n",
    "        \"Content-Type\": \"application/json\"\n",
    "    }\n",
    "\n",
    "headers = get_headers()\n",
    "\n",
    "# Test API connection with better error reporting\n",
    "def test_api_connection():\n",
    "    \"\"\"Test if the API key is valid and connection works\"\"\"\n",
    "    if OPENROUTER_API_KEY == \"your-api-key-here\":\n",
    "        print(\"⚠️ WARNING: API key not set! Please replace 'your-api-key-here' with your actual OpenRouter API key\")\n",
    "        print(\"Get your free API key from: https://openrouter.ai/keys\")\n",
    "        print(\"Format should be: sk-or-v1-xxxxxxxxxxxxx\")\n",
    "        return False\n",
    "    \n",
    "    if not OPENROUTER_API_KEY.startswith(\"sk-or-\"):\n",
    "        print(\"⚠️ WARNING: API key format might be incorrect.\")\n",
    "        print(\"OpenRouter keys typically start with 'sk-or-v1-'\")\n",
    "        print(f\"Your key starts with: {OPENROUTER_API_KEY[:8]}...\")\n",
    "    \n",
    "    try:\n",
    "        print(f\"Testing API connection with key: {OPENROUTER_API_KEY[:8]}...{OPENROUTER_API_KEY[-4:]}\")\n",
    "        \n",
    "        test_response = requests.post(\n",
    "            OPENROUTER_URL,\n",
    "            headers=headers,\n",
    "            json={\n",
    "                \"model\": MODEL,\n",
    "                \"messages\": [{\"role\": \"user\", \"content\": \"Say 'connected'\"}],\n",
    "                \"max_tokens\": 10,\n",
    "                \"stream\": False\n",
    "            },\n",
    "            timeout=10\n",
    "        )\n",
    "        \n",
    "        print(f\"Response status: {test_response.status_code}\")\n",
    "        \n",
    "        if test_response.status_code == 200:\n",
    "            print(f\"✓ API configured successfully with model: {MODEL}\")\n",
    "            response_json = test_response.json()\n",
    "            if 'choices' in response_json:\n",
    "                print(f\"✓ Test message received: {response_json['choices'][0]['message']['content']}\")\n",
    "            return True\n",
    "        elif test_response.status_code == 401:\n",
    "            print(f\"✗ Authentication failed (401)\")\n",
    "            print(f\"Response: {test_response.text}\")\n",
    "            print(\"\\nTroubleshooting steps:\")\n",
    "            print(\"1. Check your API key is correct at: https://openrouter.ai/keys\")\n",
    "            print(\"2. Make sure the key is active and has credits\")\n",
    "            print(\"3. Try regenerating the key if it's not working\")\n",
    "            return False\n",
    "        elif test_response.status_code == 402:\n",
    "            print(f\"✗ Insufficient credits (402)\")\n",
    "            print(\"Add credits at: https://openrouter.ai/credits\")\n",
    "            return False\n",
    "        else:\n",
    "            print(f\"✗ API error: Status {test_response.status_code}\")\n",
    "            print(f\"Response: {test_response.text}\")\n",
    "            return False\n",
    "            \n",
    "    except requests.exceptions.Timeout:\n",
    "        print(f\"✗ Connection timeout - API might be slow\")\n",
    "        return False\n",
    "    except Exception as e:\n",
    "        print(f\"✗ Connection error: {e}\")\n",
    "        print(\"\\nMake sure you have an internet connection and OpenRouter is accessible\")\n",
    "        return False\n",
    "\n",
    "# Run the test\n",
    "print(\"=\"*60)\n",
    "print(\"OpenRouter API Configuration Test\")\n",
    "print(\"=\"*60)\n",
    "api_connected = test_api_connection()\n",
    "\n",
    "if not api_connected:\n",
    "    print(\"\\n\" + \"=\"*60)\n",
    "    print(\"FALLBACK MODE ACTIVE\")\n",
    "    print(\"=\"*60)\n",
    "    print(\"The system will work without the LLM and provide data-based analysis.\")\n",
    "    print(\"To enable LLM features:\")\n",
    "    print(\"1. Get a free API key from: https://openrouter.ai/keys\")\n",
    "    print(\"2. Replace 'your-api-key-here' with your actual key above\")\n",
    "    print(\"3. Run this cell again\")\n",
    "else:\n",
    "    print(\"\\n\" + \"=\"*60)\n",
    "    print(\"SYSTEM READY\")\n",
    "    print(\"=\"*60)\n",
    "    print(\"LLM features are enabled and working!\")"
   ]
  },
  {
   "cell_type": "code",
   "execution_count": 23,
   "id": "bfe3aed2-64b6-4666-8a7e-161ec8df2110",
   "metadata": {},
   "outputs": [],
   "source": [
    "# ============================================================================\n",
    "# CELL 3: Enhanced Data Loading and Validation Functions\n",
    "# ============================================================================\n",
    "\n",
    "class DentalPracticeData:\n",
    "    \"\"\"Enhanced class to handle dental practice data from multiple sources\"\"\"\n",
    "    \n",
    "    def __init__(self, \n",
    "                 productivity_csv: Optional[str] = None,\n",
    "                 taxes_sde_csv: Optional[str] = None,\n",
    "                 pnl_sde_csv: Optional[str] = None,\n",
    "                 procedures_csv: Optional[str] = None):\n",
    "        \"\"\"\n",
    "        Initialize with CSV files for productivity and SDE calculations\n",
    "        \n",
    "        Args:\n",
    "            productivity_csv: Path to productivity CSV file\n",
    "            taxes_sde_csv: Path to tax-based SDE calculation CSV (2022-2024)\n",
    "            pnl_sde_csv: Path to P&L-based SDE calculation CSV (2022-2025)\n",
    "            procedures_csv: Path to procedures CSV file (optional, on hold)\n",
    "        \"\"\"\n",
    "        # Initialize data storage\n",
    "        self.data = {}\n",
    "        \n",
    "        # Load productivity data if provided\n",
    "        self.productivity_data = None\n",
    "        if productivity_csv:\n",
    "            self.productivity_data = self._load_productivity_data(productivity_csv)\n",
    "            \n",
    "        # Load SDE data from taxes if provided\n",
    "        self.taxes_sde_data = None\n",
    "        if taxes_sde_csv:\n",
    "            self.taxes_sde_data = self._load_taxes_sde_data(taxes_sde_csv)\n",
    "            \n",
    "        # Load SDE data from P&L if provided\n",
    "        self.pnl_sde_data = None\n",
    "        if pnl_sde_csv:\n",
    "            self.pnl_sde_data = self._load_pnl_sde_data(pnl_sde_csv)\n",
    "            \n",
    "        # Load procedures data if provided (on hold for now)\n",
    "        self.procedures_data = None\n",
    "        if procedures_csv:\n",
    "            self.procedures_data = self._load_procedures_data(procedures_csv)\n",
    "            \n",
    "        # Calculate derived metrics and prepare valuation data\n",
    "        self._calculate_sde_metrics()\n",
    "        self._calculate_derived_metrics()\n",
    "        self._prepare_valuation_data()\n",
    "        \n",
    "    def _load_productivity_data(self, csv_path: str) -> pd.DataFrame:\n",
    "        \"\"\"Load and process productivity CSV data\"\"\"\n",
    "        try:\n",
    "            df = pd.read_csv(csv_path)\n",
    "            \n",
    "            # Handle column name variations\n",
    "            if 'provider_name' in df.columns and 'provider' not in df.columns:\n",
    "                df = df.rename(columns={'provider_name': 'provider'})\n",
    "            \n",
    "            print(f\"Productivity CSV columns: {list(df.columns)}\")\n",
    "            \n",
    "            # Clean numeric columns\n",
    "            numeric_cols = ['patients_seen', 'avg_visit_fee', 'production', \n",
    "                           'collection', 'adjustments']\n",
    "            for col in numeric_cols:\n",
    "                if col in df.columns:\n",
    "                    df[col] = pd.to_numeric(df[col].astype(str).str.replace('$', '').str.replace(',', ''), errors='coerce')\n",
    "            \n",
    "            print(f\"Loaded productivity data: {len(df)} records\")\n",
    "            return df\n",
    "        except Exception as e:\n",
    "            print(f\"Error loading productivity data: {e}\")\n",
    "            return None\n",
    "    \n",
    "    def _load_taxes_sde_data(self, csv_path: str) -> pd.DataFrame:\n",
    "        \"\"\"Load and process tax-based SDE calculation data\"\"\"\n",
    "        try:\n",
    "            df = pd.read_csv(csv_path)\n",
    "            print(f\"Taxes SDE CSV columns: {list(df.columns)}\")\n",
    "            \n",
    "            # Clean numeric columns - handle various formats\n",
    "            for col in df.columns:\n",
    "                if col not in ['Year', 'year']:\n",
    "                    # Try to convert to numeric, handling currency symbols\n",
    "                    df[col] = pd.to_numeric(\n",
    "                        df[col].astype(str).str.replace('$', '').str.replace(',', '').str.replace('(', '-').str.replace(')', ''),\n",
    "                        errors='coerce'\n",
    "                    )\n",
    "            \n",
    "            print(f\"Loaded taxes SDE data: {len(df)} records for years {df.get('Year', df.get('year', [])).unique()}\")\n",
    "            return df\n",
    "        except Exception as e:\n",
    "            print(f\"Error loading taxes SDE data: {e}\")\n",
    "            return None\n",
    "    \n",
    "    def _load_pnl_sde_data(self, csv_path: str) -> pd.DataFrame:\n",
    "        \"\"\"Load and process P&L-based SDE calculation data\"\"\"\n",
    "        try:\n",
    "            df = pd.read_csv(csv_path)\n",
    "            print(f\"P&L SDE CSV columns: {list(df.columns)}\")\n",
    "            \n",
    "            # Clean numeric columns\n",
    "            numeric_columns = ['Automobile', 'Contributions', 'Legal Fees', 'Miscellaneous',\n",
    "                              'Travel & Entertainment', 'Owner Excess Compensation', \n",
    "                              'Debit', 'Credit', 'Net', 'Total Discretionary Earnings']\n",
    "            \n",
    "            for col in numeric_columns:\n",
    "                if col in df.columns:\n",
    "                    df[col] = pd.to_numeric(\n",
    "                        df[col].astype(str).str.replace('$', '').str.replace(',', '').str.replace('(', '-').str.replace(')', ''),\n",
    "                        errors='coerce'\n",
    "                    ).fillna(0)\n",
    "            \n",
    "            print(f\"Loaded P&L SDE data: {len(df)} records for years {df.get('Year', df.get('year', [])).unique()}\")\n",
    "            return df\n",
    "        except Exception as e:\n",
    "            print(f\"Error loading P&L SDE data: {e}\")\n",
    "            return None\n",
    "    \n",
    "    def _load_procedures_data(self, csv_path: str) -> pd.DataFrame:\n",
    "        \"\"\"Load and process procedures CSV data (keeping existing logic)\"\"\"\n",
    "        try:\n",
    "            df = pd.read_csv(csv_path)\n",
    "            print(f\"Procedures CSV columns: {list(df.columns)}\")\n",
    "            \n",
    "            # Clean service names if present\n",
    "            if 'service' in df.columns:\n",
    "                df['service_clean'] = df['service'].apply(self._clean_service_name)\n",
    "                df['service_category'] = df['service_clean'].apply(self._categorize_service)\n",
    "            \n",
    "            # Clean numeric columns\n",
    "            numeric_cols = ['number', 'amount']\n",
    "            for col in numeric_cols:\n",
    "                if col in df.columns:\n",
    "                    df[col] = pd.to_numeric(df[col].astype(str).str.replace('$', '').str.replace(',', ''), errors='coerce')\n",
    "            \n",
    "            print(f\"Loaded procedures data: {len(df)} records\")\n",
    "            return df\n",
    "        except Exception as e:\n",
    "            print(f\"Error loading procedures data: {e}\")\n",
    "            return None\n",
    "    \n",
    "    def _clean_service_name(self, service: str) -> str:\n",
    "        \"\"\"Clean service names using regex patterns (keeping existing logic)\"\"\"\n",
    "        if pd.isna(service):\n",
    "            return \"Unknown\"\n",
    "        \n",
    "        service = str(service).strip()\n",
    "        \n",
    "        # Common patterns to clean\n",
    "        patterns = [\n",
    "            (r'^D\\d{4}\\s*-?\\s*', ''),  # Remove procedure codes at start\n",
    "            (r'\\s+', ' '),  # Multiple spaces to single\n",
    "            (r'[^\\w\\s-]', ''),  # Remove special characters except dash\n",
    "            (r'^\\s*-\\s*', ''),  # Remove leading dashes\n",
    "        ]\n",
    "        \n",
    "        for pattern, replacement in patterns:\n",
    "            service = re.sub(pattern, replacement, service)\n",
    "        \n",
    "        return service if service else \"Unknown\"\n",
    "    \n",
    "    def _categorize_service(self, service: str) -> str:\n",
    "        \"\"\"Categorize services into major groups (keeping existing logic)\"\"\"\n",
    "        service_lower = service.lower()\n",
    "        \n",
    "        categories = {\n",
    "            'Diagnostic': ['exam', 'x-ray', 'bitewing', 'panoramic', 'consult'],\n",
    "            'Preventive': ['prophy', 'clean', 'fluoride', 'sealant'],\n",
    "            'Restorative': ['filling', 'crown', 'bridge', 'composite', 'amalgam'],\n",
    "            'Endodontic': ['root canal', 'endo', 'pulp'],\n",
    "            'Periodontal': ['perio', 'scaling', 'root planing', 'gum'],\n",
    "            'Oral Surgery': ['extraction', 'surgery', 'implant'],\n",
    "            'Prosthodontic': ['denture', 'partial', 'prosth'],\n",
    "            'Orthodontic': ['ortho', 'braces', 'aligner'],\n",
    "        }\n",
    "        \n",
    "        for category, keywords in categories.items():\n",
    "            if any(keyword in service_lower for keyword in keywords):\n",
    "                return category\n",
    "        \n",
    "        return 'Other'\n",
    "    \n",
    "    def _calculate_sde_metrics(self):\n",
    "        \"\"\"Calculate SDE metrics from available data\"\"\"\n",
    "        # Use P&L data as primary source (more comprehensive)\n",
    "        if self.pnl_sde_data is not None:\n",
    "            # Get year column name\n",
    "            year_col = 'Year' if 'Year' in self.pnl_sde_data.columns else 'year'\n",
    "            \n",
    "            latest_year = self.pnl_sde_data[year_col].max()\n",
    "            latest_data = self.pnl_sde_data[\n",
    "                self.pnl_sde_data[year_col] == latest_year\n",
    "            ].iloc[0] if not self.pnl_sde_data.empty else None\n",
    "            \n",
    "            if latest_data is not None:\n",
    "                # Extract SDE components\n",
    "                self.data['SDE_Components'] = {\n",
    "                    'Owner_Excess_Compensation': float(latest_data.get('Owner Excess Compensation', 0)),\n",
    "                    'Automobile': float(latest_data.get('Automobile', 0)),\n",
    "                    'Contributions': float(latest_data.get('Contributions', 0)),\n",
    "                    'Legal_Fees': float(latest_data.get('Legal Fees', 0)),\n",
    "                    'Miscellaneous': float(latest_data.get('Miscellaneous', 0)),\n",
    "                    'Travel_Entertainment': float(latest_data.get('Travel & Entertainment', 0)),\n",
    "                }\n",
    "                \n",
    "                # Calculate total SDE\n",
    "                self.data['Total_SDE'] = float(latest_data.get('Total Discretionary Earnings', \n",
    "                                                               sum(self.data['SDE_Components'].values())))\n",
    "                \n",
    "                # Store historical SDE for trending\n",
    "                self.data['SDE_Historical'] = {}\n",
    "                for _, row in self.pnl_sde_data.iterrows():\n",
    "                    year = int(row[year_col]) if row[year_col] > 0 else None\n",
    "                    if year:\n",
    "                        self.data['SDE_Historical'][year] = float(row.get('Total Discretionary Earnings', 0))\n",
    "        \n",
    "        # Supplement with tax data if available\n",
    "        elif self.taxes_sde_data is not None:\n",
    "            latest_year = self.taxes_sde_data.get('Year', self.taxes_sde_data.get('year', pd.Series())).max()\n",
    "            latest_data = self.taxes_sde_data[\n",
    "                self.taxes_sde_data.get('Year', self.taxes_sde_data.get('year')) == latest_year\n",
    "            ].iloc[0] if not self.taxes_sde_data.empty else None\n",
    "            \n",
    "            if latest_data is not None:\n",
    "                # Map tax categories to SDE components\n",
    "                self.data['SDE_Components'] = {\n",
    "                    'Owner_Excess_Compensation': float(latest_data.get('Compensation (Excess over market)', 0)),\n",
    "                    'Automobile': float(latest_data.get('Automobile (25% personal use)', 0)),\n",
    "                    'Depreciation': float(latest_data.get('Depreciation Officer', 0) + \n",
    "                                        latest_data.get('Section179', 0)),\n",
    "                    'Meals_Charitable': float(latest_data.get('Meals Charitable', 0)),\n",
    "                }\n",
    "                \n",
    "                self.data['Total_SDE'] = sum(self.data['SDE_Components'].values())\n",
    "    \n",
    "    def _calculate_derived_metrics(self):\n",
    "        \"\"\"Calculate additional metrics from the data\"\"\"\n",
    "        # Calculate Adjusted Net Income (which is effectively the revenue metric we care about)\n",
    "        if 'Net_Income_Total' in self.data and 'Total_Addbacks' in self.data:\n",
    "            # Adjusted Net Income = Net Income + Addbacks\n",
    "            self.data['Adjusted_Net_Income'] = self.data['Net_Income_Total'] + self.data['Total_Addbacks']\n",
    "            \n",
    "            # For valuation purposes, we might want to use the average of recent years\n",
    "            if 'SDE_Historical' in self.data and self.data['SDE_Historical']:\n",
    "                recent_years = sorted(self.data['SDE_Historical'].keys())[-3:]  # Last 3 years\n",
    "                if recent_years:\n",
    "                    recent_sde_values = [self.data['SDE_Historical'][year] for year in recent_years]\n",
    "                    self.data['Average_SDE_Recent'] = sum(recent_sde_values) / len(recent_sde_values)\n",
    "        \n",
    "        # If we have P&L data, get revenue/collections info\n",
    "        if self.pnl_sde_data is not None and not self.pnl_sde_data.empty:\n",
    "            # Get Debit/Credit for gross revenue understanding\n",
    "            if 'Debit' in self.pnl_sde_data.columns:\n",
    "                self.data['Total_Debit'] = self.pnl_sde_data['Debit'].sum()\n",
    "            if 'Credit' in self.pnl_sde_data.columns:\n",
    "                self.data['Total_Credit'] = self.pnl_sde_data['Credit'].sum()\n",
    "            \n",
    "            # For trailing 12 months, use the most recent year's data\n",
    "            year_col = 'Year' if 'Year' in self.pnl_sde_data.columns else 'year'\n",
    "            latest_year = self.pnl_sde_data[year_col].max()\n",
    "            latest_year_data = self.pnl_sde_data[self.pnl_sde_data[year_col] == latest_year]\n",
    "            \n",
    "            if not latest_year_data.empty:\n",
    "                latest_row = latest_year_data.iloc[0]\n",
    "                # Use Net Income for the latest year as base\n",
    "                self.data['Net_Income_Trailing12'] = float(latest_row.get('Net', 0))\n",
    "                \n",
    "                # Calculate SDE for trailing 12 months\n",
    "                latest_sde_components = float(latest_row.get('Owner Excess Compensation', 0)) + \\\n",
    "                                       float(latest_row.get('Automobile', 0)) + \\\n",
    "                                       float(latest_row.get('Contributions', 0)) + \\\n",
    "                                       float(latest_row.get('Legal Fees', 0)) + \\\n",
    "                                       float(latest_row.get('Miscellaneous', 0)) + \\\n",
    "                                       float(latest_row.get('Travel & Entertainment', 0))\n",
    "                \n",
    "                # Add tax-based items for the latest year if available\n",
    "                if self.taxes_sde_data is not None:\n",
    "                    tax_year_col = 'Year' if 'Year' in self.taxes_sde_data.columns else 'year'\n",
    "                    latest_tax_data = self.taxes_sde_data[self.taxes_sde_data[tax_year_col] == latest_year]\n",
    "                    if not latest_tax_data.empty:\n",
    "                        tax_row = latest_tax_data.iloc[0]\n",
    "                        latest_sde_components += float(tax_row.get('Depreciation Officer', 0)) + \\\n",
    "                                                float(tax_row.get('Section179', 0))\n",
    "                \n",
    "                self.data['SDE_Trailing12'] = self.data['Net_Income_Trailing12'] + latest_sde_components\n",
    "                \n",
    "                # EBITDA approximation (SDE minus owner compensation)\n",
    "                owner_comp = float(latest_row.get('Owner Excess Compensation', 0))\n",
    "                self.data['EBITDA_Trailing12'] = self.data['SDE_Trailing12'] - (owner_comp * 0.5)  # Rough adjustment\n",
    "        \n",
    "        # Use productivity data for actual collections/production if available\n",
    "        if self.productivity_data is not None and 'production' in self.productivity_data.columns:\n",
    "            latest_year = self.productivity_data['year'].max() if 'year' in self.productivity_data.columns else None\n",
    "            if latest_year:\n",
    "                latest_year_data = self.productivity_data[self.productivity_data['year'] == latest_year]\n",
    "                self.data['Production_Trailing12'] = latest_year_data['production'].sum()\n",
    "                \n",
    "                if 'collection' in latest_year_data.columns:\n",
    "                    self.data['Collections_Trailing12'] = latest_year_data['collection'].sum()\n",
    "                    self.data['Collection_Rate'] = (self.data['Collections_Trailing12'] / \n",
    "                                                   self.data['Production_Trailing12'] * 100) if self.data['Production_Trailing12'] > 0 else 0\n",
    "        \n",
    "        # For display purposes, use SDE_Trailing12 as the primary \"Revenue\" metric for valuation\n",
    "        # This is because dental practice valuations are typically based on SDE\n",
    "        if 'SDE_Trailing12' in self.data:\n",
    "            self.data['Revenue_Trailing12'] = self.data.get('Production_Trailing12', self.data['SDE_Trailing12'])\n",
    "        \n",
    "        # Calculate margins if we have the data\n",
    "        if 'SDE_Trailing12' in self.data and 'Production_Trailing12' in self.data:\n",
    "            self.data['SDE_Margin'] = (self.data['SDE_Trailing12'] / \n",
    "                                      self.data['Production_Trailing12'] * 100) if self.data['Production_Trailing12'] > 0 else 0\n",
    "        \n",
    "        if 'EBITDA_Trailing12' in self.data and 'Production_Trailing12' in self.data:\n",
    "            self.data['EBITDA_Margin'] = (self.data['EBITDA_Trailing12'] / \n",
    "                                         self.data['Production_Trailing12'] * 100) if self.data['Production_Trailing12'] > 0 else 0\n",
    "    \n",
    "    def _prepare_valuation_data(self):\n",
    "        \"\"\"Prepare data specifically for valuation report generation\"\"\"\n",
    "        # Set practice information\n",
    "        self.data['Practice_Overview'] = {\n",
    "            'Name': 'Demo Dental Practice',  # This should be configurable\n",
    "            'Location': 'Location TBD',\n",
    "            'Valuation_Date': datetime.now().strftime('%Y-%m-%d'),\n",
    "            'Operatories': 6,  # Default, should be configurable\n",
    "        }\n",
    "        \n",
    "        # Calculate valuation multiples\n",
    "        if 'Total_SDE' in self.data:\n",
    "            # Industry standard multiples\n",
    "            self.data['Valuation_Multiples'] = {\n",
    "                'SDE_Multiple_Low': 3.5,\n",
    "                'SDE_Multiple_High': 5.5,\n",
    "                'SDE_Multiple_Mid': 4.5,\n",
    "                'EBITDA_Multiple': 4.5,\n",
    "                'Revenue_Multiple': 0.8\n",
    "            }\n",
    "            \n",
    "            # Calculate implied valuations\n",
    "            self.data['Implied_Valuations'] = {\n",
    "                'SDE_Low': self.data['Total_SDE'] * self.data['Valuation_Multiples']['SDE_Multiple_Low'],\n",
    "                'SDE_High': self.data['Total_SDE'] * self.data['Valuation_Multiples']['SDE_Multiple_High'],\n",
    "                'SDE_Mid': self.data['Total_SDE'] * self.data['Valuation_Multiples']['SDE_Multiple_Mid'],\n",
    "            }\n",
    "            \n",
    "            if 'EBITDA_Trailing12' in self.data:\n",
    "                self.data['Implied_Valuations']['EBITDA'] = (\n",
    "                    self.data['EBITDA_Trailing12'] * self.data['Valuation_Multiples']['EBITDA_Multiple']\n",
    "                )\n",
    "            \n",
    "            if 'Revenue_Trailing12' in self.data:\n",
    "                self.data['Implied_Valuations']['Revenue'] = (\n",
    "                    self.data['Revenue_Trailing12'] * self.data['Valuation_Multiples']['Revenue_Multiple']\n",
    "                )\n",
    "    \n",
    "    def get_comprehensive_context(self) -> str:\n",
    "        \"\"\"Get all available data as a formatted string for LLM context\"\"\"\n",
    "        context = f\"\"\"\n",
    "        === PRACTICE INFORMATION ===\n",
    "        Name: {self.data.get('Practice_Overview', {}).get('Name', 'Unknown')}\n",
    "        Location: {self.data.get('Practice_Overview', {}).get('Location', 'Unknown')}\n",
    "        Valuation Date: {self.data.get('Practice_Overview', {}).get('Valuation_Date', 'Unknown')}\n",
    "        \n",
    "        === FINANCIAL METRICS ===\n",
    "        Revenue (Trailing 12): ${self.data.get('Revenue_Trailing12', 0):,.0f}\n",
    "        Collections (Trailing 12): ${self.data.get('Collections_Trailing12', 0):,.0f}\n",
    "        Collection Rate: {self.data.get('Collection_Rate', 0):.1f}%\n",
    "        EBITDA (Trailing 12): ${self.data.get('EBITDA_Trailing12', 0):,.0f}\n",
    "        Total SDE: ${self.data.get('Total_SDE', 0):,.0f}\n",
    "        EBITDA Margin: {self.data.get('EBITDA_Margin', 0):.1f}%\n",
    "        SDE Margin: {self.data.get('SDE_Margin', 0):.1f}%\n",
    "        \n",
    "        === SDE COMPONENTS ===\"\"\"\n",
    "        \n",
    "        if 'SDE_Components' in self.data:\n",
    "            for component, value in self.data['SDE_Components'].items():\n",
    "                context += f\"\\n        {component.replace('_', ' ')}: ${value:,.0f}\"\n",
    "        \n",
    "        context += f\"\"\"\n",
    "        \n",
    "        === VALUATION ===\n",
    "        SDE Multiple Range: {self.data.get('Valuation_Multiples', {}).get('SDE_Multiple_Low', 0)}-{self.data.get('Valuation_Multiples', {}).get('SDE_Multiple_High', 0)}x\n",
    "        Implied Valuation (Low): ${self.data.get('Implied_Valuations', {}).get('SDE_Low', 0):,.0f}\n",
    "        Implied Valuation (High): ${self.data.get('Implied_Valuations', {}).get('SDE_High', 0):,.0f}\n",
    "        \"\"\"\n",
    "        \n",
    "        # Add productivity context if available\n",
    "        if self.productivity_data is not None and not self.productivity_data.empty:\n",
    "            context += f\"\"\"\n",
    "        \n",
    "        === PRODUCTIVITY METRICS ===\n",
    "        Total Providers: {self.productivity_data['provider'].nunique() if 'provider' in self.productivity_data.columns else 0}\n",
    "        Total Patients Seen: {self.productivity_data['patients_seen'].sum() if 'patients_seen' in self.productivity_data.columns else 0:,.0f}\n",
    "        Average Visit Fee: ${self.productivity_data['avg_visit_fee'].mean() if 'avg_visit_fee' in self.productivity_data.columns else 0:.2f}\n",
    "        \"\"\"\n",
    "        \n",
    "        # Add historical SDE trend if available\n",
    "        if 'SDE_Historical' in self.data and self.data['SDE_Historical']:\n",
    "            context += \"\\n\\n        === SDE TREND ===\"\n",
    "            for year, sde in sorted(self.data['SDE_Historical'].items()):\n",
    "                context += f\"\\n        {year}: ${sde:,.0f}\"\n",
    "        \n",
    "        return context"
   ]
  },
  {
   "cell_type": "code",
   "execution_count": 24,
   "id": "4d5144ac-30f8-4042-8a89-3e41c95dcaa4",
   "metadata": {},
   "outputs": [],
   "source": [
    "# ============================================================================\n",
    "# CELL 4: Enhanced LLM Interaction Functions with Valuation Report Generation\n",
    "# ============================================================================\n",
    "\n",
    "def categorize_question(question: str) -> str:\n",
    "    \"\"\"Enhanced question categorization with valuation categories\"\"\"\n",
    "    question_lower = question.lower()\n",
    "    \n",
    "    # Extended category mappings\n",
    "    category_keywords = {\n",
    "        'valuation': ['valuation', 'value', 'worth', 'sde', 'ebitda', 'multiple', \n",
    "                     'price', 'asking', 'offer', 'appraisal', 'assessment'],\n",
    "        'sde': ['sde', 'seller discretionary', 'add-back', 'adjustment', \n",
    "                'discretionary earnings', 'owner benefit'],\n",
    "        'financial': ['revenue', 'profit', 'ebitda', 'margin', 'collection', \n",
    "                     'financial', 'p&l', 'income', 'expense'],\n",
    "        'productivity': ['productivity', 'production', 'collection', 'efficiency', \n",
    "                        'patients seen', 'visit fee', 'utilization'],\n",
    "        'procedures': ['procedure', 'service', 'treatment', 'bitewing', 'crown',\n",
    "                      'filling', 'exam', 'frequency', 'procedure mix'],\n",
    "        'report': ['report', 'summary', 'comprehensive', 'full analysis', \n",
    "                  'detailed', 'complete'],\n",
    "        'staffing': ['hygienist', 'staff', 'overtime', 'employee', 'turnover',\n",
    "                    'ratio', 'utilization', 'satisfaction'],\n",
    "        'location': ['location', 'address', 'demographics', 'population', \n",
    "                    'competition', 'accessibility', 'area'],\n",
    "        'tax': ['tax', 'depreciation', 'amortization', 'write'],\n",
    "        'trend': ['trend', 'historical', 'growth', 'decline', 'change', 'year over year']\n",
    "    }\n",
    "    \n",
    "    for category, keywords in category_keywords.items():\n",
    "        if any(keyword in question_lower for keyword in keywords):\n",
    "            return category\n",
    "    \n",
    "    return 'general'\n",
    "\n",
    "def detect_provider_in_question(question: str, practice_data: DentalPracticeData) -> Optional[str]:\n",
    "    \"\"\"Detect if a specific provider is mentioned in the question\"\"\"\n",
    "    if practice_data.productivity_data is None:\n",
    "        return None\n",
    "    \n",
    "    # Get list of all providers from available data\n",
    "    providers = set()\n",
    "    if practice_data.productivity_data is not None and 'provider' in practice_data.productivity_data.columns:\n",
    "        providers.update(practice_data.productivity_data['provider'].dropna().unique())\n",
    "    \n",
    "    question_lower = question.lower()\n",
    "    best_match = None\n",
    "    best_score = 0\n",
    "    \n",
    "    # Check each provider for matches\n",
    "    for provider in providers:\n",
    "        provider_lower = provider.lower()\n",
    "        score = 0\n",
    "        \n",
    "        # Check for full name match\n",
    "        if provider_lower in question_lower:\n",
    "            return provider\n",
    "        \n",
    "        # Check for partial matches\n",
    "        provider_parts = provider.split()\n",
    "        for part in provider_parts:\n",
    "            if len(part) > 2:\n",
    "                import re\n",
    "                pattern = r'\\b' + re.escape(part.lower()) + r'\\b'\n",
    "                if re.search(pattern, question_lower):\n",
    "                    score += 1\n",
    "        \n",
    "        if score > best_score:\n",
    "            best_score = score\n",
    "            best_match = provider\n",
    "    \n",
    "    # Return best match if we found at least 2 matching parts\n",
    "    if best_score >= 2:\n",
    "        return best_match\n",
    "    \n",
    "    return None\n",
    "\n",
    "def generate_valuation_report_prompt(practice_data: DentalPracticeData) -> str:\n",
    "    \"\"\"Generate a prompt for creating a comprehensive valuation report\"\"\"\n",
    "    \n",
    "    context = practice_data.get_comprehensive_context()\n",
    "    \n",
    "    prompt = f\"\"\"You are an expert dental practice valuation analyst. Generate a comprehensive valuation report based on the following practice data.\n",
    "\n",
    "{context}\n",
    "\n",
    "Create a professional valuation report that includes:\n",
    "\n",
    "## Executive Summary\n",
    "- Brief overview of the practice\n",
    "- Key financial indicators (Revenue, EBITDA, SDE)\n",
    "- Valuation range based on SDE multiples\n",
    "- Investment highlights\n",
    "\n",
    "## Practice Overview\n",
    "- Practice name and location\n",
    "- Key operational metrics\n",
    "- Service offerings (if productivity data available)\n",
    "\n",
    "## Financial Analysis\n",
    "### Trailing Twelve-Month Performance\n",
    "- Revenue and collections\n",
    "- EBITDA and margins\n",
    "\n",
    "### Seller's Discretionary Earnings (SDE) Calculation\n",
    "- Detailed breakdown of SDE components\n",
    "- Justification for each add-back\n",
    "- Total SDE calculation\n",
    "\n",
    "## Valuation Methodology\n",
    "- Explanation of SDE multiple approach\n",
    "- Applied multiples and rationale (use {practice_data.data.get('Valuation_Multiples', {}).get('SDE_Multiple_Low', 3.5)}-{practice_data.data.get('Valuation_Multiples', {}).get('SDE_Multiple_High', 5.5)}x range)\n",
    "- Calculation of valuation range\n",
    "- Cross-validation with EBITDA and Revenue multiples if available\n",
    "\n",
    "## Key Value Drivers\n",
    "- Strong financial performance metrics\n",
    "- Collection rate efficiency\n",
    "- Growth trends\n",
    "- Operational strengths\n",
    "\n",
    "## Risk Factors\n",
    "- Industry-specific risks\n",
    "- Practice-specific considerations\n",
    "- Market conditions\n",
    "\n",
    "## Conclusion\n",
    "- Summary of valuation range\n",
    "- Investment thesis\n",
    "- Next steps for potential buyers\n",
    "\n",
    "Format the report in clean markdown with proper headers, tables where appropriate, and professional language suitable for presentation to potential buyers or lenders.\"\"\"\n",
    "    \n",
    "    return prompt\n",
    "\n",
    "def generate_llm_prompt(question: str, practice_data: DentalPracticeData, category: str, provider_name: Optional[str] = None) -> str:\n",
    "    \"\"\"Generate a prompt based on question category and available data\"\"\"\n",
    "    \n",
    "    # Check if this is a valuation report request\n",
    "    if category == 'report' or 'valuation report' in question.lower():\n",
    "        return generate_valuation_report_prompt(practice_data)\n",
    "    \n",
    "    # For SDE or valuation specific questions\n",
    "    if category in ['valuation', 'sde', 'financial']:\n",
    "        prompt = f\"\"\"You are an expert dental practice valuation analyst. Answer the following question using the practice's financial and SDE data.\n",
    "\n",
    "=== PRACTICE FINANCIAL DATA ===\n",
    "{practice_data.get_comprehensive_context()}\n",
    "\n",
    "Question: {question}\n",
    "\n",
    "Provide a detailed answer that:\n",
    "1. Directly addresses the question with specific numbers from the data\n",
    "2. Explains the methodology or calculation if applicable\n",
    "3. Provides context about what the numbers mean for practice valuation\n",
    "4. Suggests relevant follow-up considerations\n",
    "\n",
    "Use professional language suitable for practice owners and potential buyers.\"\"\"\n",
    "        return prompt\n",
    "    \n",
    "    # For productivity questions (existing functionality)\n",
    "    prompt = \"You are an expert dental practice analyst providing insights to practice owners and potential buyers.\\n\\n\"\n",
    "    \n",
    "    # Add comprehensive context\n",
    "    prompt += \"=== COMPLETE PRACTICE DATA ===\\n\\n\"\n",
    "    prompt += practice_data.get_comprehensive_context()\n",
    "    prompt += \"\\n\\n\"\n",
    "    \n",
    "    # Add productivity data if available and relevant\n",
    "    if practice_data.productivity_data is not None and not practice_data.productivity_data.empty:\n",
    "        if provider_name:\n",
    "            prompt += f\"=== SPECIFIC DATA FOR {provider_name.upper()} ===\\n\"\n",
    "            provider_data = practice_data.productivity_data[\n",
    "                practice_data.productivity_data['provider'] == provider_name\n",
    "            ]\n",
    "            if not provider_data.empty:\n",
    "                prompt += \"DETAILED RECORDS:\\n\"\n",
    "                prompt += provider_data.to_string(index=False)\n",
    "                prompt += \"\\n\\n\"\n",
    "        else:\n",
    "            prompt += \"=== PRODUCTIVITY DATA ===\\n\"\n",
    "            summary = practice_data.productivity_data.groupby(['provider', 'year']).agg({\n",
    "                'production': 'sum',\n",
    "                'collection': 'sum',\n",
    "                'patients_seen': 'sum',\n",
    "                'avg_visit_fee': 'mean'\n",
    "            }).round(2)\n",
    "            prompt += summary.to_string()\n",
    "            prompt += \"\\n\\n\"\n",
    "    \n",
    "    # Add the question\n",
    "    prompt += f\"=== QUESTION ===\\n{question}\\n\\n\"\n",
    "    \n",
    "    # Instructions based on category\n",
    "    if category == 'productivity':\n",
    "        prompt += \"\"\"=== INSTRUCTIONS ===\n",
    "Focus on the specific metric asked about. Structure your response as:\n",
    "1. **Direct Answer**: The specific metric with year-over-year changes\n",
    "2. **Comparative Context**: How this compares to others or benchmarks\n",
    "3. **Key Insights**: What the trend means for the practice\n",
    "4. **Suggested Follow-ups**: Related questions to explore\"\"\"\n",
    "    else:\n",
    "        prompt += \"\"\"=== INSTRUCTIONS ===\n",
    "Provide a comprehensive answer that:\n",
    "1. Uses specific data from the information provided\n",
    "2. Includes relevant calculations or comparisons\n",
    "3. Offers actionable insights\n",
    "4. Maintains professional tone suitable for practice valuation context\"\"\"\n",
    "    \n",
    "    return prompt\n",
    "\n",
    "def get_llm_response(prompt: str, max_retries: int = 3) -> str:\n",
    "    \"\"\"Get response from the LLM API with retry logic\"\"\"\n",
    "    # Check if API key is set\n",
    "    if OPENROUTER_API_KEY == \"your-api-key-here\":\n",
    "        return \"⚠️ API key not configured. Please set your OpenRouter API key in Cell 2.\"\n",
    "    \n",
    "    import time\n",
    "    \n",
    "    # Get fresh headers for each request\n",
    "    headers = get_headers()\n",
    "    \n",
    "    for attempt in range(max_retries):\n",
    "        try:\n",
    "            print(f\"Calling LLM API (attempt {attempt + 1}/{max_retries})...\")\n",
    "            \n",
    "            response = requests.post(\n",
    "                OPENROUTER_URL,\n",
    "                headers=headers,\n",
    "                json={\n",
    "                    \"model\": MODEL,\n",
    "                    \"messages\": [\n",
    "                        {\"role\": \"system\", \"content\": \"You are an expert dental practice valuation analyst with deep knowledge of practice financials, SDE calculations, and industry valuation multiples.\"},\n",
    "                        {\"role\": \"user\", \"content\": prompt}\n",
    "                    ],\n",
    "                    \"temperature\": 0.3,  # Lower temperature for factual responses\n",
    "                    \"max_tokens\": 4000,  # Increased for comprehensive reports\n",
    "                    \"stream\": False\n",
    "                },\n",
    "                timeout=30\n",
    "            )\n",
    "            \n",
    "            print(f\"API Response Status: {response.status_code}\")\n",
    "            \n",
    "            if response.status_code == 200:\n",
    "                response_json = response.json()\n",
    "                if 'choices' in response_json and len(response_json['choices']) > 0:\n",
    "                    full_response = response_json['choices'][0]['message']['content']\n",
    "                    if 'finish_reason' in response_json['choices'][0]:\n",
    "                        if response_json['choices'][0]['finish_reason'] == 'length':\n",
    "                            full_response += \"\\n\\n[Note: Response was truncated due to length limit]\"\n",
    "                    return full_response\n",
    "                else:\n",
    "                    return f\"Error: Unexpected API response format. Response: {response_json}\"\n",
    "            \n",
    "            elif response.status_code == 401:\n",
    "                return f\"Authentication Error: Please check your API key in Cell 2.\"\n",
    "            \n",
    "            elif response.status_code == 402:\n",
    "                return f\"Insufficient Credits: Please add credits to your OpenRouter account.\"\n",
    "            \n",
    "            elif response.status_code == 429:\n",
    "                wait_time = (attempt + 1) * 2\n",
    "                print(f\"Rate limited. Waiting {wait_time} seconds before retry...\")\n",
    "                time.sleep(wait_time)\n",
    "                continue\n",
    "                \n",
    "            elif response.status_code == 502 or response.status_code == 503:\n",
    "                wait_time = (attempt + 1) * 2\n",
    "                print(f\"Server error. Waiting {wait_time} seconds before retry...\")\n",
    "                time.sleep(wait_time)\n",
    "                continue\n",
    "                \n",
    "            else:\n",
    "                return f\"Error: API returned status code {response.status_code}. Response: {response.text}\"\n",
    "        \n",
    "        except requests.exceptions.Timeout:\n",
    "            print(f\"Request timed out on attempt {attempt + 1}\")\n",
    "            if attempt < max_retries - 1:\n",
    "                time.sleep(2)\n",
    "                continue\n",
    "            else:\n",
    "                return \"Error: Request timed out after multiple attempts.\"\n",
    "        \n",
    "        except requests.exceptions.ConnectionError as e:\n",
    "            print(f\"Connection error on attempt {attempt + 1}: {str(e)}\")\n",
    "            if attempt < max_retries - 1:\n",
    "                time.sleep(2)\n",
    "                continue\n",
    "            else:\n",
    "                return f\"Error: Connection failed after {max_retries} attempts.\"\n",
    "        \n",
    "        except Exception as e:\n",
    "            print(f\"Unexpected error on attempt {attempt + 1}: {str(e)}\")\n",
    "            if attempt < max_retries - 1:\n",
    "                time.sleep(2)\n",
    "                continue\n",
    "            else:\n",
    "                return f\"Error calling LLM API: {str(e)}\"\n",
    "    \n",
    "    return \"Error: Failed to get LLM response after all retries.\""
   ]
  },
  {
   "cell_type": "code",
   "execution_count": 25,
   "id": "f48499ce-373d-4346-a602-268f31749ea1",
   "metadata": {},
   "outputs": [],
   "source": [
    "# ============================================================================\n",
    "# CELL 5: Enhanced Visualization Generation Functions\n",
    "# ============================================================================\n",
    "\n",
    "def create_sde_trend_visualization(practice_data: DentalPracticeData) -> go.Figure:\n",
    "    \"\"\"Create SDE trend visualization over years\"\"\"\n",
    "    if 'SDE_Historical' not in practice_data.data or not practice_data.data['SDE_Historical']:\n",
    "        return None\n",
    "    \n",
    "    years = sorted(practice_data.data['SDE_Historical'].keys())\n",
    "    sde_values = [practice_data.data['SDE_Historical'][year] for year in years]\n",
    "    \n",
    "    fig = go.Figure()\n",
    "    \n",
    "    # Add SDE trend line\n",
    "    fig.add_trace(go.Scatter(\n",
    "        x=years,\n",
    "        y=sde_values,\n",
    "        mode='lines+markers',\n",
    "        name='SDE',\n",
    "        line=dict(color='green', width=3),\n",
    "        marker=dict(size=10),\n",
    "        text=[f\"${val:,.0f}\" for val in sde_values],\n",
    "        textposition=\"top center\"\n",
    "    ))\n",
    "    \n",
    "    # Add revenue trend if available\n",
    "    if practice_data.productivity_data is not None and 'year' in practice_data.productivity_data.columns:\n",
    "        revenue_by_year = practice_data.productivity_data.groupby('year')['production'].sum()\n",
    "        fig.add_trace(go.Scatter(\n",
    "            x=revenue_by_year.index,\n",
    "            y=revenue_by_year.values,\n",
    "            mode='lines+markers',\n",
    "            name='Revenue',\n",
    "            line=dict(color='blue', width=2, dash='dash'),\n",
    "            marker=dict(size=8)\n",
    "        ))\n",
    "    \n",
    "    fig.update_layout(\n",
    "        title=\"SDE and Revenue Trends\",\n",
    "        xaxis_title=\"Year\",\n",
    "        yaxis_title=\"Amount ($)\",\n",
    "        template='plotly_white',\n",
    "        height=400,\n",
    "        hovermode='x unified'\n",
    "    )\n",
    "    \n",
    "    return fig\n",
    "\n",
    "def create_valuation_range_chart(practice_data: DentalPracticeData) -> go.Figure:\n",
    "    \"\"\"Create visualization of valuation ranges\"\"\"\n",
    "    if 'Implied_Valuations' not in practice_data.data:\n",
    "        return None\n",
    "    \n",
    "    valuations = practice_data.data['Implied_Valuations']\n",
    "    \n",
    "    # Prepare data for bar chart\n",
    "    methods = []\n",
    "    values = []\n",
    "    colors = []\n",
    "    \n",
    "    if 'SDE_Low' in valuations:\n",
    "        methods.extend(['SDE Low (3.5x)', 'SDE Mid (4.5x)', 'SDE High (5.5x)'])\n",
    "        values.extend([valuations.get('SDE_Low', 0), \n",
    "                      valuations.get('SDE_Mid', 0), \n",
    "                      valuations.get('SDE_High', 0)])\n",
    "        colors.extend(['lightcoral', 'yellow', 'lightgreen'])\n",
    "    \n",
    "    if 'EBITDA' in valuations:\n",
    "        methods.append('EBITDA (4.5x)')\n",
    "        values.append(valuations['EBITDA'])\n",
    "        colors.append('lightblue')\n",
    "    \n",
    "    if 'Revenue' in valuations:\n",
    "        methods.append('Revenue (0.8x)')\n",
    "        values.append(valuations['Revenue'])\n",
    "        colors.append('gray')\n",
    "    \n",
    "    fig = go.Figure()\n",
    "    \n",
    "    fig.add_trace(go.Bar(\n",
    "        x=methods,\n",
    "        y=values,\n",
    "        marker_color=colors,\n",
    "        text=[f\"${val:,.0f}\" for val in values],\n",
    "        textposition='auto'\n",
    "    ))\n",
    "    \n",
    "    fig.update_layout(\n",
    "        title=\"Practice Valuation Range by Method\",\n",
    "        xaxis_title=\"Valuation Method\",\n",
    "        yaxis_title=\"Implied Value ($)\",\n",
    "        template='plotly_white',\n",
    "        height=400\n",
    "    )\n",
    "    \n",
    "    return fig\n",
    "\n",
    "def create_sde_components_chart(practice_data: DentalPracticeData) -> go.Figure:\n",
    "    \"\"\"Create breakdown of SDE components\"\"\"\n",
    "    if 'SDE_Components' not in practice_data.data:\n",
    "        return None\n",
    "    \n",
    "    components = practice_data.data['SDE_Components']\n",
    "    \n",
    "    # Filter out zero values and prepare data\n",
    "    labels = []\n",
    "    values = []\n",
    "    for key, value in components.items():\n",
    "        if value > 0:\n",
    "            labels.append(key.replace('_', ' '))\n",
    "            values.append(value)\n",
    "    \n",
    "    if not labels:\n",
    "        return None\n",
    "    \n",
    "    fig = go.Figure()\n",
    "    \n",
    "    fig.add_trace(go.Pie(\n",
    "        labels=labels,\n",
    "        values=values,\n",
    "        hole=0.3,\n",
    "        textinfo='label+percent',\n",
    "        textposition='auto'\n",
    "    ))\n",
    "    \n",
    "    fig.update_layout(\n",
    "        title=f\"SDE Components Breakdown (Total: ${sum(values):,.0f})\",\n",
    "        template='plotly_white',\n",
    "        height=400\n",
    "    )\n",
    "    \n",
    "    return fig\n",
    "\n",
    "def create_financial_metrics_dashboard(practice_data: DentalPracticeData) -> go.Figure:\n",
    "    \"\"\"Create comprehensive financial metrics dashboard\"\"\"\n",
    "    from plotly.subplots import make_subplots\n",
    "    \n",
    "    fig = make_subplots(\n",
    "        rows=2, cols=2,\n",
    "        subplot_titles=('Revenue & SDE Trend', 'Margin Analysis', \n",
    "                       'SDE Components', 'Collection Performance'),\n",
    "        specs=[[{'type': 'scatter'}, {'type': 'bar'}],\n",
    "               [{'type': 'pie'}, {'type': 'indicator'}]]\n",
    "    )\n",
    "    \n",
    "    # 1. Revenue & SDE Trend (if historical data available)\n",
    "    if 'SDE_Historical' in practice_data.data:\n",
    "        years = sorted(practice_data.data['SDE_Historical'].keys())\n",
    "        sde_values = [practice_data.data['SDE_Historical'][year] for year in years]\n",
    "        \n",
    "        fig.add_trace(\n",
    "            go.Scatter(x=years, y=sde_values, mode='lines+markers', name='SDE'),\n",
    "            row=1, col=1\n",
    "        )\n",
    "    \n",
    "    # 2. Margin Analysis\n",
    "    margins = {\n",
    "        'EBITDA Margin': practice_data.data.get('EBITDA_Margin', 0),\n",
    "        'SDE Margin': practice_data.data.get('SDE_Margin', 0),\n",
    "        'Collection Rate': practice_data.data.get('Collection_Rate', 0)\n",
    "    }\n",
    "    \n",
    "    fig.add_trace(\n",
    "        go.Bar(x=list(margins.keys()), y=list(margins.values()),\n",
    "               text=[f\"{v:.1f}%\" for v in margins.values()],\n",
    "               textposition='auto'),\n",
    "        row=1, col=2\n",
    "    )\n",
    "    \n",
    "    # 3. SDE Components\n",
    "    if 'SDE_Components' in practice_data.data:\n",
    "        components = {k: v for k, v in practice_data.data['SDE_Components'].items() if v > 0}\n",
    "        if components:\n",
    "            fig.add_trace(\n",
    "                go.Pie(labels=[k.replace('_', ' ') for k in components.keys()], \n",
    "                       values=list(components.values()),\n",
    "                       hole=0.3),\n",
    "                row=2, col=1\n",
    "            )\n",
    "    \n",
    "    # 4. Collection Rate Indicator\n",
    "    collection_rate = practice_data.data.get('Collection_Rate', 0)\n",
    "    fig.add_trace(\n",
    "        go.Indicator(\n",
    "            mode=\"gauge+number\",\n",
    "            value=collection_rate,\n",
    "            title={'text': \"Collection Rate %\"},\n",
    "            gauge={'axis': {'range': [None, 100]},\n",
    "                   'bar': {'color': \"darkgreen\"},\n",
    "                   'steps': [\n",
    "                       {'range': [0, 85], 'color': \"lightgray\"},\n",
    "                       {'range': [85, 95], 'color': \"yellow\"},\n",
    "                       {'range': [95, 100], 'color': \"lightgreen\"}],\n",
    "                   'threshold': {'line': {'color': \"red\", 'width': 4},\n",
    "                                'thickness': 0.75, 'value': 95}}),\n",
    "        row=2, col=2\n",
    "    )\n",
    "    \n",
    "    fig.update_layout(\n",
    "        title_text=\"Financial Performance Dashboard\",\n",
    "        showlegend=False,\n",
    "        height=700,\n",
    "        template='plotly_white'\n",
    "    )\n",
    "    \n",
    "    return fig\n",
    "\n",
    "def create_smart_visualization(practice_data: DentalPracticeData, question: str, answer: str = \"\") -> go.Figure:\n",
    "    \"\"\"Create visualization based on question context\"\"\"\n",
    "    \n",
    "    question_lower = question.lower()\n",
    "    \n",
    "    # Detect visualization type based on question\n",
    "    if 'valuation' in question_lower or 'value' in question_lower or 'worth' in question_lower:\n",
    "        return create_valuation_range_chart(practice_data)\n",
    "    \n",
    "    elif 'sde' in question_lower and 'trend' in question_lower:\n",
    "        return create_sde_trend_visualization(practice_data)\n",
    "    \n",
    "    elif 'sde' in question_lower and ('component' in question_lower or 'breakdown' in question_lower):\n",
    "        return create_sde_components_chart(practice_data)\n",
    "    \n",
    "    elif 'financial' in question_lower or 'dashboard' in question_lower:\n",
    "        return create_financial_metrics_dashboard(practice_data)\n",
    "    \n",
    "    # For provider-specific questions (existing functionality)\n",
    "    provider_name = detect_provider_in_question(question, practice_data)\n",
    "    \n",
    "    if provider_name and practice_data.productivity_data is not None:\n",
    "        df = practice_data.productivity_data[practice_data.productivity_data['provider'] == provider_name]\n",
    "        \n",
    "        if df.empty:\n",
    "            return None\n",
    "        \n",
    "        # Determine metric to visualize\n",
    "        metric = None\n",
    "        title = None\n",
    "        \n",
    "        if 'visit fee' in question_lower or 'avg' in question_lower:\n",
    "            metric = 'avg_visit_fee'\n",
    "            title = 'Average Visit Fee'\n",
    "        elif 'production' in question_lower or 'productivity' in question_lower:\n",
    "            metric = 'production'\n",
    "            title = 'Production'\n",
    "        elif 'collection' in question_lower:\n",
    "            metric = 'collection'\n",
    "            title = 'Collections'\n",
    "        elif 'patient' in question_lower:\n",
    "            metric = 'patients_seen'\n",
    "            title = 'Patients Seen'\n",
    "        \n",
    "        if metric and metric in df.columns and 'year' in df.columns:\n",
    "            # Aggregate by year\n",
    "            if metric in ['production', 'collection', 'patients_seen']:\n",
    "                yearly_data = df.groupby('year')[metric].sum().sort_index()\n",
    "            else:\n",
    "                yearly_data = df.groupby('year')[metric].mean().sort_index()\n",
    "            \n",
    "            fig = go.Figure()\n",
    "            \n",
    "            # Create appropriate chart type\n",
    "            if 'trend' in question_lower or len(yearly_data) > 2:\n",
    "                fig.add_trace(go.Scatter(\n",
    "                    x=yearly_data.index,\n",
    "                    y=yearly_data.values,\n",
    "                    mode='lines+markers',\n",
    "                    line=dict(width=3),\n",
    "                    marker=dict(size=10),\n",
    "                    text=[f\"${val:,.2f}\" if metric != 'patients_seen' else f\"{val:,.0f}\" \n",
    "                          for val in yearly_data.values],\n",
    "                    textposition=\"top center\"\n",
    "                ))\n",
    "            else:\n",
    "                fig.add_trace(go.Bar(\n",
    "                    x=yearly_data.index,\n",
    "                    y=yearly_data.values,\n",
    "                    text=[f\"${val:,.2f}\" if metric != 'patients_seen' else f\"{val:,.0f}\" \n",
    "                          for val in yearly_data.values],\n",
    "                    textposition='auto'\n",
    "                ))\n",
    "            \n",
    "            fig.update_layout(\n",
    "                title=f\"{title} - {provider_name}\",\n",
    "                xaxis_title=\"Year\",\n",
    "                yaxis_title=title,\n",
    "                template='plotly_white',\n",
    "                height=400\n",
    "            )\n",
    "            \n",
    "            return fig\n",
    "    \n",
    "    # Default: try to create a relevant chart based on available data\n",
    "    if 'SDE_Historical' in practice_data.data:\n",
    "        return create_sde_trend_visualization(practice_data)\n",
    "    \n",
    "    return None\n",
    "\n",
    "# Keep existing visualization functions for backward compatibility\n",
    "def create_productivity_dashboard(practice_data: DentalPracticeData) -> go.Figure:\n",
    "    \"\"\"Create comprehensive productivity dashboard (existing function)\"\"\"\n",
    "    if practice_data.productivity_data is None:\n",
    "        return None\n",
    "    \n",
    "    df = practice_data.productivity_data\n",
    "    \n",
    "    # Check available columns\n",
    "    has_year = 'year' in df.columns\n",
    "    has_provider = 'provider' in df.columns\n",
    "    has_production = 'production' in df.columns\n",
    "    has_collection = 'collection' in df.columns\n",
    "    has_patients = 'patients_seen' in df.columns\n",
    "    has_visit_fee = 'avg_visit_fee' in df.columns\n",
    "    \n",
    "    from plotly.subplots import make_subplots\n",
    "    \n",
    "    fig = make_subplots(\n",
    "        rows=2, cols=3,\n",
    "        subplot_titles=('Production by Year', 'Collection Rate Trend', \n",
    "                       'Provider Performance', 'Patients Seen Trend',\n",
    "                       'Production vs Collections', 'Average Visit Fee'),\n",
    "        specs=[[{'type': 'bar'}, {'type': 'scatter'}, {'type': 'bar'}],\n",
    "               [{'type': 'scatter'}, {'type': 'scatter'}, {'type': 'box'}]]\n",
    "    )\n",
    "    \n",
    "    # 1. Production by Year\n",
    "    if has_year and has_production:\n",
    "        yearly_prod = df.groupby('year')['production'].sum()\n",
    "        fig.add_trace(\n",
    "            go.Bar(x=yearly_prod.index, y=yearly_prod.values, name='Production',\n",
    "                   marker_color='lightblue'),\n",
    "            row=1, col=1\n",
    "        )\n",
    "    \n",
    "    # 2. Collection Rate Trend\n",
    "    if has_year and has_production and has_collection:\n",
    "        yearly_stats = df.groupby('year').agg({\n",
    "            'production': 'sum',\n",
    "            'collection': 'sum'\n",
    "        })\n",
    "        yearly_stats['collection_rate'] = (yearly_stats['collection'] / \n",
    "                                           yearly_stats['production'] * 100)\n",
    "        fig.add_trace(\n",
    "            go.Scatter(x=yearly_stats.index, y=yearly_stats['collection_rate'],\n",
    "                      mode='lines+markers', name='Collection %',\n",
    "                      line=dict(color='green', width=2)),\n",
    "            row=1, col=2\n",
    "        )\n",
    "    \n",
    "    # 3. Provider Performance\n",
    "    if has_provider and has_production:\n",
    "        provider_prod = df.groupby('provider')['production'].sum().nlargest(10)\n",
    "        fig.add_trace(\n",
    "            go.Bar(x=provider_prod.values, y=provider_prod.index,\n",
    "                   orientation='h', name='Provider Production',\n",
    "                   marker_color='coral'),\n",
    "            row=1, col=3\n",
    "        )\n",
    "    \n",
    "    # 4. Patients Seen Trend\n",
    "    if has_year and has_patients:\n",
    "        yearly_patients = df.groupby('year')['patients_seen'].sum()\n",
    "        fig.add_trace(\n",
    "            go.Scatter(x=yearly_patients.index, y=yearly_patients.values,\n",
    "                      mode='lines+markers', name='Patients',\n",
    "                      line=dict(color='purple', width=2)),\n",
    "            row=2, col=1\n",
    "        )\n",
    "    \n",
    "    # 5. Production vs Collections\n",
    "    if has_production and has_collection:\n",
    "        fig.add_trace(\n",
    "            go.Scatter(x=df['production'], y=df['collection'],\n",
    "                      mode='markers', name='Prod vs Coll',\n",
    "                      marker=dict(size=5, color='orange')),\n",
    "            row=2, col=2\n",
    "        )\n",
    "    \n",
    "    # 6. Average Visit Fee Distribution\n",
    "    if has_visit_fee:\n",
    "        fig.add_trace(\n",
    "            go.Box(y=df['avg_visit_fee'], name='Visit Fee',\n",
    "                   marker_color='lightgreen'),\n",
    "            row=2, col=3\n",
    "        )\n",
    "    \n",
    "    fig.update_layout(\n",
    "        title_text=\"Productivity Analysis Dashboard\",\n",
    "        showlegend=False,\n",
    "        height=700,\n",
    "        template='plotly_white'\n",
    "    )\n",
    "    \n",
    "    return fig"
   ]
  },
  {
   "cell_type": "code",
   "execution_count": 27,
   "id": "38a3c4cc-a814-4943-aeb4-1693888a6ae7",
   "metadata": {},
   "outputs": [
    {
     "name": "stdout",
     "output_type": "stream",
     "text": [
      "Productivity CSV columns: ['id', 'year', 'provider', 'service_role', 'patients_seen', 'avg_visit_fee', 'production', 'collection', 'adjustments']\n",
      "Loaded productivity data: 36 records\n",
      "Taxes SDE CSV columns: ['Year', 'Depreciation', 'Section179']\n",
      "Loaded taxes SDE data: 3 records for years [2022 2023 2024]\n",
      "P&L SDE CSV columns: ['Year', 'Automobile', 'Contributions', 'Legal Fees', 'Miscellaneous', 'Travel & Entertainment', 'Owner Excess Compensation', 'Debit', 'Credit', 'Net', 'Total Discretionary Earnings']\n",
      "Loaded P&L SDE data: 5 records for years [2022. 2023. 2024. 2025.   nan]\n",
      "Data loaded successfully!\n",
      "Total SDE: $-27,166\n",
      "Revenue (TTM): $473,576\n"
     ]
    }
   ],
   "source": [
    "# ============================================================================\n",
    "# CELL 6: Main Pipeline - Separate Report Generation and Q&A Functions\n",
    "# ============================================================================\n",
    "\n",
    "def generate_valuation_report(practice_data: DentalPracticeData) -> Dict[str, Any]:\n",
    "    \"\"\"\n",
    "    Generate a comprehensive valuation report automatically.\n",
    "    This is called when documents are uploaded, NOT from a question.\n",
    "    \n",
    "    Args:\n",
    "        practice_data: DentalPracticeData object with all practice information\n",
    "    \n",
    "    Returns:\n",
    "        Dictionary with report text and associated visualizations\n",
    "    \"\"\"\n",
    "    print(\"Generating comprehensive valuation report...\")\n",
    "    \n",
    "    # Generate the valuation report prompt\n",
    "    prompt = generate_valuation_report_prompt(practice_data)\n",
    "    \n",
    "    # Get the full report from LLM\n",
    "    report_text = get_llm_response(prompt)\n",
    "    \n",
    "    # Generate relevant visualizations for the report\n",
    "    visualizations = {\n",
    "        'sde_trend': create_sde_trend_visualization(practice_data),\n",
    "        'valuation_range': create_valuation_range_chart(practice_data),\n",
    "        'sde_components': create_sde_components_chart(practice_data),\n",
    "        'financial_dashboard': create_financial_metrics_dashboard(practice_data)\n",
    "    }\n",
    "    \n",
    "    # Remove None visualizations\n",
    "    visualizations = {k: v for k, v in visualizations.items() if v is not None}\n",
    "    \n",
    "    return {\n",
    "        'report': report_text,\n",
    "        'visualizations': visualizations,\n",
    "        'practice_data': {\n",
    "            'total_sde': practice_data.data.get('Total_SDE', 0),\n",
    "            'revenue': practice_data.data.get('Revenue_Trailing12', 0),\n",
    "            'valuation_low': practice_data.data.get('Implied_Valuations', {}).get('SDE_Low', 0),\n",
    "            'valuation_high': practice_data.data.get('Implied_Valuations', {}).get('SDE_High', 0),\n",
    "        }\n",
    "    }\n",
    "\n",
    "def process_question_with_visualizations(\n",
    "    question: str,\n",
    "    practice_data: DentalPracticeData,\n",
    "    show_visualization: bool = True\n",
    ") -> Dict[str, Any]:\n",
    "    \"\"\"\n",
    "    Process Q&A questions about the practice (existing functionality).\n",
    "    This is for the Q&A tab, NOT for generating the valuation report.\n",
    "    \n",
    "    Args:\n",
    "        question: User's question about the practice\n",
    "        practice_data: DentalPracticeData object with all practice information\n",
    "        show_visualization: Whether to generate and display visualizations\n",
    "    \n",
    "    Returns:\n",
    "        Dictionary with answer and optional visualization\n",
    "    \"\"\"\n",
    "    \n",
    "    # Detect if a specific provider is mentioned\n",
    "    provider_name = detect_provider_in_question(question, practice_data)\n",
    "    if provider_name:\n",
    "        print(f\"Detected Provider: {provider_name}\")\n",
    "    \n",
    "    # Determine general category for context\n",
    "    category = categorize_question(question)\n",
    "    print(f\"Question Category: {category}\")\n",
    "    \n",
    "    # IMPORTANT: Check if user is asking for a full report via question\n",
    "    # If so, redirect them to use the report generation function\n",
    "    if category == 'report' or 'valuation report' in question.lower() or 'generate report' in question.lower():\n",
    "        return {\n",
    "            'question': question,\n",
    "            'provider': None,\n",
    "            'answer': \"To generate a comprehensive valuation report, please use the report generation function or the Report tab in the web application. This Q&A interface is for specific questions about the practice data.\",\n",
    "            'visualization': None,\n",
    "            'redirect_to_report': True\n",
    "        }\n",
    "    \n",
    "    # Generate prompt with actual data for Q&A\n",
    "    prompt = generate_llm_prompt(question, practice_data, category, provider_name)\n",
    "    \n",
    "    # Get LLM response\n",
    "    print(\"Getting LLM analysis...\")\n",
    "    answer = get_llm_response(prompt)\n",
    "    \n",
    "    # If LLM failed, provide fallback\n",
    "    if \"Error\" in answer or \"API key not configured\" in answer:\n",
    "        print(\"LLM unavailable, using data-based fallback...\")\n",
    "        answer = generate_data_based_answer(question, practice_data, provider_name)\n",
    "    \n",
    "    # Generate a simple visualization if relevant\n",
    "    visualization = None\n",
    "    if show_visualization:\n",
    "        visualization = create_smart_visualization(practice_data, question, answer)\n",
    "        if visualization:\n",
    "            visualization.show()\n",
    "    \n",
    "    return {\n",
    "        'question': question,\n",
    "        'provider': provider_name,\n",
    "        'category': category,\n",
    "        'answer': answer,\n",
    "        'visualization': visualization\n",
    "    }\n",
    "\n",
    "def generate_data_based_answer(question: str, practice_data: DentalPracticeData, provider_name: Optional[str]) -> str:\n",
    "    \"\"\"Generate a data-based answer when LLM is not available (fallback)\"\"\"\n",
    "    answer = \"\"\n",
    "    \n",
    "    # Check if asking about financial/valuation metrics\n",
    "    question_lower = question.lower()\n",
    "    if any(term in question_lower for term in ['sde', 'valuation', 'worth', 'value', 'ebitda']):\n",
    "        answer = f\"\"\"Based on the available data:\n",
    "\n",
    "**Financial Metrics:**\n",
    "- Total SDE: ${practice_data.data.get('Total_SDE', 0):,.0f}\n",
    "- Revenue (TTM): ${practice_data.data.get('Revenue_Trailing12', 0):,.0f}\n",
    "- EBITDA (TTM): ${practice_data.data.get('EBITDA_Trailing12', 0):,.0f}\n",
    "\n",
    "**Valuation Range:**\n",
    "- Low (3.5x SDE): ${practice_data.data.get('Implied_Valuations', {}).get('SDE_Low', 0):,.0f}\n",
    "- Mid (4.5x SDE): ${practice_data.data.get('Implied_Valuations', {}).get('SDE_Mid', 0):,.0f}\n",
    "- High (5.5x SDE): ${practice_data.data.get('Implied_Valuations', {}).get('SDE_High', 0):,.0f}\n",
    "\n",
    "**SDE Components:**\"\"\"\n",
    "        \n",
    "        if 'SDE_Components' in practice_data.data:\n",
    "            for component, value in practice_data.data['SDE_Components'].items():\n",
    "                answer += f\"\\n- {component.replace('_', ' ')}: ${value:,.0f}\"\n",
    "        \n",
    "        return answer\n",
    "    \n",
    "    # Handle provider-specific questions (existing functionality)\n",
    "    if provider_name:\n",
    "        has_productivity_data = False\n",
    "        \n",
    "        if practice_data.productivity_data is not None:\n",
    "            provider_prod_data = practice_data.productivity_data[\n",
    "                practice_data.productivity_data['provider'] == provider_name\n",
    "            ]\n",
    "            has_productivity_data = not provider_prod_data.empty\n",
    "        \n",
    "        if has_productivity_data:\n",
    "            answer += f\"Analysis for {provider_name}:\\n\\n\"\n",
    "            \n",
    "            # Provide metrics based on question type\n",
    "            if 'average visit fee' in question_lower or 'avg visit fee' in question_lower:\n",
    "                if 'avg_visit_fee' in provider_prod_data.columns:\n",
    "                    avg_fee_overall = provider_prod_data['avg_visit_fee'].mean()\n",
    "                    by_year = provider_prod_data.groupby('year')['avg_visit_fee'].mean().sort_index()\n",
    "                    \n",
    "                    answer += f\"**Average Visit Fee**: ${avg_fee_overall:.2f}\\n\\n\"\n",
    "                    answer += \"**Breakdown by Year**:\\n\"\n",
    "                    for year, fee in by_year.items():\n",
    "                        answer += f\"• {year}: ${fee:.2f}\\n\"\n",
    "            \n",
    "            elif 'productivity' in question_lower or 'production' in question_lower:\n",
    "                if 'production' in provider_prod_data.columns:\n",
    "                    total_prod = provider_prod_data['production'].sum()\n",
    "                    by_year = provider_prod_data.groupby('year')['production'].sum().sort_index()\n",
    "                    \n",
    "                    answer += f\"**Total Production**: ${total_prod:,.0f}\\n\\n\"\n",
    "                    answer += \"**Year-by-Year Production**:\\n\"\n",
    "                    for year, prod in by_year.items():\n",
    "                        answer += f\"• {year}: ${prod:,.0f}\\n\"\n",
    "            \n",
    "            else:\n",
    "                # General summary\n",
    "                latest_year = provider_prod_data['year'].max() if 'year' in provider_prod_data.columns else None\n",
    "                if latest_year:\n",
    "                    latest = provider_prod_data[provider_prod_data['year'] == latest_year]\n",
    "                    answer += f\"**{latest_year} Performance**:\\n\"\n",
    "                    if 'production' in latest.columns:\n",
    "                        answer += f\"• Production: ${latest['production'].sum():,.0f}\\n\"\n",
    "                    if 'collection' in latest.columns:\n",
    "                        answer += f\"• Collections: ${latest['collection'].sum():,.0f}\\n\"\n",
    "                    if 'patients_seen' in latest.columns:\n",
    "                        answer += f\"• Patients Seen: {latest['patients_seen'].sum():,}\\n\"\n",
    "                    if 'avg_visit_fee' in latest.columns:\n",
    "                        answer += f\"• Average Visit Fee: ${latest['avg_visit_fee'].mean():.2f}\\n\"\n",
    "        else:\n",
    "            answer = f\"No data found for provider: {provider_name}\"\n",
    "    else:\n",
    "        answer = \"Please specify a provider name or ask about financial/valuation metrics for detailed analysis.\"\n",
    "    \n",
    "    return answer\n",
    "\n",
    "def run_interactive_qa_session(practice_data: DentalPracticeData):\n",
    "    \"\"\"Run an interactive Q&A session (for testing purposes)\"\"\"\n",
    "    print(\"\\n=== Dental Practice Q&A System ===\")\n",
    "    print(\"Commands:\")\n",
    "    print(\"  'report' - Generate full valuation report\")\n",
    "    print(\"  'quit' - Exit the system\")\n",
    "    print(\"\\nExample questions:\")\n",
    "    print(\"- What's the practice valuation?\")\n",
    "    print(\"- Show me the SDE breakdown\")\n",
    "    print(\"- What is the average visit fee for [Provider Name]?\")\n",
    "    print(\"- How's the productivity trending for [Provider Name]?\")\n",
    "    print(\"-\" * 50)\n",
    "    \n",
    "    while True:\n",
    "        question = input(\"\\nYour question: \").strip()\n",
    "        \n",
    "        if question.lower() in ['quit', 'exit', 'q']:\n",
    "            print(\"Thank you for using the Q&A system!\")\n",
    "            break\n",
    "        \n",
    "        if question.lower() == 'report':\n",
    "            print(\"\\nGenerating valuation report...\")\n",
    "            report_data = generate_valuation_report(practice_data)\n",
    "            print(\"\\n\" + \"=\"*60)\n",
    "            print(\"VALUATION REPORT\")\n",
    "            print(\"=\"*60)\n",
    "            print(report_data['report'])\n",
    "            print(\"=\"*60)\n",
    "            print(f\"\\nGenerated {len(report_data['visualizations'])} visualizations\")\n",
    "            continue\n",
    "        \n",
    "        if not question:\n",
    "            continue\n",
    "        \n",
    "        try:\n",
    "            result = process_question_with_visualizations(question, practice_data)\n",
    "            print(f\"\\n{'='*50}\")\n",
    "            print(f\"Category: {result.get('category', 'N/A')}\")\n",
    "            if result.get('provider'):\n",
    "                print(f\"Provider: {result['provider']}\")\n",
    "            print(f\"{'='*50}\")\n",
    "            print(f\"\\nAnswer:\\n{result['answer']}\")\n",
    "            print(f\"{'='*50}\")\n",
    "            \n",
    "        except Exception as e:\n",
    "            print(f\"Error processing question: {e}\")\n",
    "\n",
    "# ============================================================================\n",
    "# Example Usage - How to integrate with web application\n",
    "# ============================================================================\n",
    "\n",
    "if __name__ == \"__main__\":\n",
    "    # Load practice data with the new CSV files\n",
    "    practice_data = DentalPracticeData(\n",
    "        productivity_csv=\"CSVs/productivity_2022_2025_all.csv\",\n",
    "        taxes_sde_csv=\"CSVs/Taxes_addback_analysis_all.csv\",\n",
    "        pnl_sde_csv=\"CSVs/P&L_2022_2025_addbacks.csv\"\n",
    "    )\n",
    "    \n",
    "    print(\"Data loaded successfully!\")\n",
    "    print(f\"Total SDE: ${practice_data.data.get('Total_SDE', 0):,.0f}\")\n",
    "    print(f\"Revenue (TTM): ${practice_data.data.get('Revenue_Trailing12', 0):,.0f}\")\n",
    "    \n",
    "    # Example 1: Generate valuation report (for Report tab in web app)\n",
    "    # Uncomment to test:\n",
    "    # report_data = generate_valuation_report(practice_data)\n",
    "    # print(report_data['report'][:2000])  # Print first 2000 chars\n",
    "    \n",
    "    # Example 2: Process Q&A (for Questions tab in web app)\n",
    "    # Uncomment to test:\n",
    "    # question = \"What is the average visit fee for Emily Hawkins, RDH?\"\n",
    "    # result = process_question_with_visualizations(question, practice_data)\n",
    "    # print(result['answer'])"
   ]
  },
  {
   "cell_type": "code",
   "execution_count": 9,
   "id": "ad2d5a40-03e1-4da8-8ee9-923b718ec43c",
   "metadata": {},
   "outputs": [
    {
     "name": "stdout",
     "output_type": "stream",
     "text": [
      "Productivity CSV columns: ['id', 'year', 'provider', 'service_role', 'patients_seen', 'avg_visit_fee', 'production', 'collection', 'adjustments']\n",
      "Loaded productivity data: 36 records\n",
      "Procedures CSV columns: ['id', 'year', 'provider', 'code', 'service', 'number', 'amount']\n",
      "Loaded procedures data: 1471 records\n",
      "\n",
      "============================================================\n",
      "Question: What is the average visit fee for Emily Hawkins, RDH?\n",
      "Detected Provider: Emily Hawkins, RDH\n",
      "Question Category: productivity\n",
      "Getting LLM analysis...\n",
      "Calling LLM API (attempt 1/3)...\n",
      "API Response Status: 200\n"
     ]
    },
    {
     "data": {
      "application/vnd.plotly.v1+json": {
       "config": {
        "plotlyServerURL": "https://plot.ly"
       },
       "data": [
        {
         "line": {
          "width": 3
         },
         "marker": {
          "size": 10
         },
         "mode": "lines+markers",
         "type": "scatter",
         "x": [
          2022,
          2023,
          2024
         ],
         "y": [
          156.95,
          148.26,
          164.42
         ]
        }
       ],
       "layout": {
        "autosize": true,
        "template": {
         "data": {
          "bar": [
           {
            "error_x": {
             "color": "#2a3f5f"
            },
            "error_y": {
             "color": "#2a3f5f"
            },
            "marker": {
             "line": {
              "color": "white",
              "width": 0.5
             },
             "pattern": {
              "fillmode": "overlay",
              "size": 10,
              "solidity": 0.2
             }
            },
            "type": "bar"
           }
          ],
          "barpolar": [
           {
            "marker": {
             "line": {
              "color": "white",
              "width": 0.5
             },
             "pattern": {
              "fillmode": "overlay",
              "size": 10,
              "solidity": 0.2
             }
            },
            "type": "barpolar"
           }
          ],
          "carpet": [
           {
            "aaxis": {
             "endlinecolor": "#2a3f5f",
             "gridcolor": "#C8D4E3",
             "linecolor": "#C8D4E3",
             "minorgridcolor": "#C8D4E3",
             "startlinecolor": "#2a3f5f"
            },
            "baxis": {
             "endlinecolor": "#2a3f5f",
             "gridcolor": "#C8D4E3",
             "linecolor": "#C8D4E3",
             "minorgridcolor": "#C8D4E3",
             "startlinecolor": "#2a3f5f"
            },
            "type": "carpet"
           }
          ],
          "choropleth": [
           {
            "colorbar": {
             "outlinewidth": 0,
             "ticks": ""
            },
            "type": "choropleth"
           }
          ],
          "contour": [
           {
            "colorbar": {
             "outlinewidth": 0,
             "ticks": ""
            },
            "colorscale": [
             [
              0,
              "#0d0887"
             ],
             [
              0.1111111111111111,
              "#46039f"
             ],
             [
              0.2222222222222222,
              "#7201a8"
             ],
             [
              0.3333333333333333,
              "#9c179e"
             ],
             [
              0.4444444444444444,
              "#bd3786"
             ],
             [
              0.5555555555555556,
              "#d8576b"
             ],
             [
              0.6666666666666666,
              "#ed7953"
             ],
             [
              0.7777777777777778,
              "#fb9f3a"
             ],
             [
              0.8888888888888888,
              "#fdca26"
             ],
             [
              1,
              "#f0f921"
             ]
            ],
            "type": "contour"
           }
          ],
          "contourcarpet": [
           {
            "colorbar": {
             "outlinewidth": 0,
             "ticks": ""
            },
            "type": "contourcarpet"
           }
          ],
          "heatmap": [
           {
            "colorbar": {
             "outlinewidth": 0,
             "ticks": ""
            },
            "colorscale": [
             [
              0,
              "#0d0887"
             ],
             [
              0.1111111111111111,
              "#46039f"
             ],
             [
              0.2222222222222222,
              "#7201a8"
             ],
             [
              0.3333333333333333,
              "#9c179e"
             ],
             [
              0.4444444444444444,
              "#bd3786"
             ],
             [
              0.5555555555555556,
              "#d8576b"
             ],
             [
              0.6666666666666666,
              "#ed7953"
             ],
             [
              0.7777777777777778,
              "#fb9f3a"
             ],
             [
              0.8888888888888888,
              "#fdca26"
             ],
             [
              1,
              "#f0f921"
             ]
            ],
            "type": "heatmap"
           }
          ],
          "heatmapgl": [
           {
            "colorbar": {
             "outlinewidth": 0,
             "ticks": ""
            },
            "colorscale": [
             [
              0,
              "#0d0887"
             ],
             [
              0.1111111111111111,
              "#46039f"
             ],
             [
              0.2222222222222222,
              "#7201a8"
             ],
             [
              0.3333333333333333,
              "#9c179e"
             ],
             [
              0.4444444444444444,
              "#bd3786"
             ],
             [
              0.5555555555555556,
              "#d8576b"
             ],
             [
              0.6666666666666666,
              "#ed7953"
             ],
             [
              0.7777777777777778,
              "#fb9f3a"
             ],
             [
              0.8888888888888888,
              "#fdca26"
             ],
             [
              1,
              "#f0f921"
             ]
            ],
            "type": "heatmapgl"
           }
          ],
          "histogram": [
           {
            "marker": {
             "pattern": {
              "fillmode": "overlay",
              "size": 10,
              "solidity": 0.2
             }
            },
            "type": "histogram"
           }
          ],
          "histogram2d": [
           {
            "colorbar": {
             "outlinewidth": 0,
             "ticks": ""
            },
            "colorscale": [
             [
              0,
              "#0d0887"
             ],
             [
              0.1111111111111111,
              "#46039f"
             ],
             [
              0.2222222222222222,
              "#7201a8"
             ],
             [
              0.3333333333333333,
              "#9c179e"
             ],
             [
              0.4444444444444444,
              "#bd3786"
             ],
             [
              0.5555555555555556,
              "#d8576b"
             ],
             [
              0.6666666666666666,
              "#ed7953"
             ],
             [
              0.7777777777777778,
              "#fb9f3a"
             ],
             [
              0.8888888888888888,
              "#fdca26"
             ],
             [
              1,
              "#f0f921"
             ]
            ],
            "type": "histogram2d"
           }
          ],
          "histogram2dcontour": [
           {
            "colorbar": {
             "outlinewidth": 0,
             "ticks": ""
            },
            "colorscale": [
             [
              0,
              "#0d0887"
             ],
             [
              0.1111111111111111,
              "#46039f"
             ],
             [
              0.2222222222222222,
              "#7201a8"
             ],
             [
              0.3333333333333333,
              "#9c179e"
             ],
             [
              0.4444444444444444,
              "#bd3786"
             ],
             [
              0.5555555555555556,
              "#d8576b"
             ],
             [
              0.6666666666666666,
              "#ed7953"
             ],
             [
              0.7777777777777778,
              "#fb9f3a"
             ],
             [
              0.8888888888888888,
              "#fdca26"
             ],
             [
              1,
              "#f0f921"
             ]
            ],
            "type": "histogram2dcontour"
           }
          ],
          "mesh3d": [
           {
            "colorbar": {
             "outlinewidth": 0,
             "ticks": ""
            },
            "type": "mesh3d"
           }
          ],
          "parcoords": [
           {
            "line": {
             "colorbar": {
              "outlinewidth": 0,
              "ticks": ""
             }
            },
            "type": "parcoords"
           }
          ],
          "pie": [
           {
            "automargin": true,
            "type": "pie"
           }
          ],
          "scatter": [
           {
            "fillpattern": {
             "fillmode": "overlay",
             "size": 10,
             "solidity": 0.2
            },
            "type": "scatter"
           }
          ],
          "scatter3d": [
           {
            "line": {
             "colorbar": {
              "outlinewidth": 0,
              "ticks": ""
             }
            },
            "marker": {
             "colorbar": {
              "outlinewidth": 0,
              "ticks": ""
             }
            },
            "type": "scatter3d"
           }
          ],
          "scattercarpet": [
           {
            "marker": {
             "colorbar": {
              "outlinewidth": 0,
              "ticks": ""
             }
            },
            "type": "scattercarpet"
           }
          ],
          "scattergeo": [
           {
            "marker": {
             "colorbar": {
              "outlinewidth": 0,
              "ticks": ""
             }
            },
            "type": "scattergeo"
           }
          ],
          "scattergl": [
           {
            "marker": {
             "colorbar": {
              "outlinewidth": 0,
              "ticks": ""
             }
            },
            "type": "scattergl"
           }
          ],
          "scattermapbox": [
           {
            "marker": {
             "colorbar": {
              "outlinewidth": 0,
              "ticks": ""
             }
            },
            "type": "scattermapbox"
           }
          ],
          "scatterpolar": [
           {
            "marker": {
             "colorbar": {
              "outlinewidth": 0,
              "ticks": ""
             }
            },
            "type": "scatterpolar"
           }
          ],
          "scatterpolargl": [
           {
            "marker": {
             "colorbar": {
              "outlinewidth": 0,
              "ticks": ""
             }
            },
            "type": "scatterpolargl"
           }
          ],
          "scatterternary": [
           {
            "marker": {
             "colorbar": {
              "outlinewidth": 0,
              "ticks": ""
             }
            },
            "type": "scatterternary"
           }
          ],
          "surface": [
           {
            "colorbar": {
             "outlinewidth": 0,
             "ticks": ""
            },
            "colorscale": [
             [
              0,
              "#0d0887"
             ],
             [
              0.1111111111111111,
              "#46039f"
             ],
             [
              0.2222222222222222,
              "#7201a8"
             ],
             [
              0.3333333333333333,
              "#9c179e"
             ],
             [
              0.4444444444444444,
              "#bd3786"
             ],
             [
              0.5555555555555556,
              "#d8576b"
             ],
             [
              0.6666666666666666,
              "#ed7953"
             ],
             [
              0.7777777777777778,
              "#fb9f3a"
             ],
             [
              0.8888888888888888,
              "#fdca26"
             ],
             [
              1,
              "#f0f921"
             ]
            ],
            "type": "surface"
           }
          ],
          "table": [
           {
            "cells": {
             "fill": {
              "color": "#EBF0F8"
             },
             "line": {
              "color": "white"
             }
            },
            "header": {
             "fill": {
              "color": "#C8D4E3"
             },
             "line": {
              "color": "white"
             }
            },
            "type": "table"
           }
          ]
         },
         "layout": {
          "annotationdefaults": {
           "arrowcolor": "#2a3f5f",
           "arrowhead": 0,
           "arrowwidth": 1
          },
          "autotypenumbers": "strict",
          "coloraxis": {
           "colorbar": {
            "outlinewidth": 0,
            "ticks": ""
           }
          },
          "colorscale": {
           "diverging": [
            [
             0,
             "#8e0152"
            ],
            [
             0.1,
             "#c51b7d"
            ],
            [
             0.2,
             "#de77ae"
            ],
            [
             0.3,
             "#f1b6da"
            ],
            [
             0.4,
             "#fde0ef"
            ],
            [
             0.5,
             "#f7f7f7"
            ],
            [
             0.6,
             "#e6f5d0"
            ],
            [
             0.7,
             "#b8e186"
            ],
            [
             0.8,
             "#7fbc41"
            ],
            [
             0.9,
             "#4d9221"
            ],
            [
             1,
             "#276419"
            ]
           ],
           "sequential": [
            [
             0,
             "#0d0887"
            ],
            [
             0.1111111111111111,
             "#46039f"
            ],
            [
             0.2222222222222222,
             "#7201a8"
            ],
            [
             0.3333333333333333,
             "#9c179e"
            ],
            [
             0.4444444444444444,
             "#bd3786"
            ],
            [
             0.5555555555555556,
             "#d8576b"
            ],
            [
             0.6666666666666666,
             "#ed7953"
            ],
            [
             0.7777777777777778,
             "#fb9f3a"
            ],
            [
             0.8888888888888888,
             "#fdca26"
            ],
            [
             1,
             "#f0f921"
            ]
           ],
           "sequentialminus": [
            [
             0,
             "#0d0887"
            ],
            [
             0.1111111111111111,
             "#46039f"
            ],
            [
             0.2222222222222222,
             "#7201a8"
            ],
            [
             0.3333333333333333,
             "#9c179e"
            ],
            [
             0.4444444444444444,
             "#bd3786"
            ],
            [
             0.5555555555555556,
             "#d8576b"
            ],
            [
             0.6666666666666666,
             "#ed7953"
            ],
            [
             0.7777777777777778,
             "#fb9f3a"
            ],
            [
             0.8888888888888888,
             "#fdca26"
            ],
            [
             1,
             "#f0f921"
            ]
           ]
          },
          "colorway": [
           "#636efa",
           "#EF553B",
           "#00cc96",
           "#ab63fa",
           "#FFA15A",
           "#19d3f3",
           "#FF6692",
           "#B6E880",
           "#FF97FF",
           "#FECB52"
          ],
          "font": {
           "color": "#2a3f5f"
          },
          "geo": {
           "bgcolor": "white",
           "lakecolor": "white",
           "landcolor": "white",
           "showlakes": true,
           "showland": true,
           "subunitcolor": "#C8D4E3"
          },
          "hoverlabel": {
           "align": "left"
          },
          "hovermode": "closest",
          "mapbox": {
           "style": "light"
          },
          "paper_bgcolor": "white",
          "plot_bgcolor": "white",
          "polar": {
           "angularaxis": {
            "gridcolor": "#EBF0F8",
            "linecolor": "#EBF0F8",
            "ticks": ""
           },
           "bgcolor": "white",
           "radialaxis": {
            "gridcolor": "#EBF0F8",
            "linecolor": "#EBF0F8",
            "ticks": ""
           }
          },
          "scene": {
           "xaxis": {
            "backgroundcolor": "white",
            "gridcolor": "#DFE8F3",
            "gridwidth": 2,
            "linecolor": "#EBF0F8",
            "showbackground": true,
            "ticks": "",
            "zerolinecolor": "#EBF0F8"
           },
           "yaxis": {
            "backgroundcolor": "white",
            "gridcolor": "#DFE8F3",
            "gridwidth": 2,
            "linecolor": "#EBF0F8",
            "showbackground": true,
            "ticks": "",
            "zerolinecolor": "#EBF0F8"
           },
           "zaxis": {
            "backgroundcolor": "white",
            "gridcolor": "#DFE8F3",
            "gridwidth": 2,
            "linecolor": "#EBF0F8",
            "showbackground": true,
            "ticks": "",
            "zerolinecolor": "#EBF0F8"
           }
          },
          "shapedefaults": {
           "line": {
            "color": "#2a3f5f"
           }
          },
          "ternary": {
           "aaxis": {
            "gridcolor": "#DFE8F3",
            "linecolor": "#A2B1C6",
            "ticks": ""
           },
           "baxis": {
            "gridcolor": "#DFE8F3",
            "linecolor": "#A2B1C6",
            "ticks": ""
           },
           "bgcolor": "white",
           "caxis": {
            "gridcolor": "#DFE8F3",
            "linecolor": "#A2B1C6",
            "ticks": ""
           }
          },
          "title": {
           "x": 0.05
          },
          "xaxis": {
           "automargin": true,
           "gridcolor": "#EBF0F8",
           "linecolor": "#EBF0F8",
           "ticks": "",
           "title": {
            "standoff": 15
           },
           "zerolinecolor": "#EBF0F8",
           "zerolinewidth": 2
          },
          "yaxis": {
           "automargin": true,
           "gridcolor": "#EBF0F8",
           "linecolor": "#EBF0F8",
           "ticks": "",
           "title": {
            "standoff": 15
           },
           "zerolinecolor": "#EBF0F8",
           "zerolinewidth": 2
          }
         }
        },
        "title": {
         "text": "Average Visit Fee - Emily Hawkins, RDH"
        },
        "xaxis": {
         "autorange": true,
         "range": [
          2021.872543250559,
          2024.127456749441
         ],
         "title": {
          "text": "Year"
         },
         "type": "linear"
        },
        "yaxis": {
         "autorange": true,
         "range": [
          146.75725067385443,
          165.92274932614555
         ],
         "title": {
          "text": "Average Visit Fee"
         },
         "type": "linear"
        }
       }
      },
      "image/png": "[encoded data removed]",
      "text/html": [
       "<div>                            <div id=\"0226063b-b3e2-46cc-8db5-4b90c7739037\" class=\"plotly-graph-div\" style=\"height:400px; width:100%;\"></div>            <script type=\"text/javascript\">                require([\"plotly\"], function(Plotly) {                    window.PLOTLYENV=window.PLOTLYENV || {};                                    if (document.getElementById(\"0226063b-b3e2-46cc-8db5-4b90c7739037\")) {                    Plotly.newPlot(                        \"0226063b-b3e2-46cc-8db5-4b90c7739037\",                        [{\"line\":{\"width\":3},\"marker\":{\"size\":10},\"mode\":\"lines+markers\",\"x\":[2022,2023,2024],\"y\":[156.95,148.26,164.42],\"type\":\"scatter\"}],                        {\"template\":{\"data\":{\"barpolar\":[{\"marker\":{\"line\":{\"color\":\"white\",\"width\":0.5},\"pattern\":{\"fillmode\":\"overlay\",\"size\":10,\"solidity\":0.2}},\"type\":\"barpolar\"}],\"bar\":[{\"error_x\":{\"color\":\"#2a3f5f\"},\"error_y\":{\"color\":\"#2a3f5f\"},\"marker\":{\"line\":{\"color\":\"white\",\"width\":0.5},\"pattern\":{\"fillmode\":\"overlay\",\"size\":10,\"solidity\":0.2}},\"type\":\"bar\"}],\"carpet\":[{\"aaxis\":{\"endlinecolor\":\"#2a3f5f\",\"gridcolor\":\"#C8D4E3\",\"linecolor\":\"#C8D4E3\",\"minorgridcolor\":\"#C8D4E3\",\"startlinecolor\":\"#2a3f5f\"},\"baxis\":{\"endlinecolor\":\"#2a3f5f\",\"gridcolor\":\"#C8D4E3\",\"linecolor\":\"#C8D4E3\",\"minorgridcolor\":\"#C8D4E3\",\"startlinecolor\":\"#2a3f5f\"},\"type\":\"carpet\"}],\"choropleth\":[{\"colorbar\":{\"outlinewidth\":0,\"ticks\":\"\"},\"type\":\"choropleth\"}],\"contourcarpet\":[{\"colorbar\":{\"outlinewidth\":0,\"ticks\":\"\"},\"type\":\"contourcarpet\"}],\"contour\":[{\"colorbar\":{\"outlinewidth\":0,\"ticks\":\"\"},\"colorscale\":[[0.0,\"#0d0887\"],[0.1111111111111111,\"#46039f\"],[0.2222222222222222,\"#7201a8\"],[0.3333333333333333,\"#9c179e\"],[0.4444444444444444,\"#bd3786\"],[0.5555555555555556,\"#d8576b\"],[0.6666666666666666,\"#ed7953\"],[0.7777777777777778,\"#fb9f3a\"],[0.8888888888888888,\"#fdca26\"],[1.0,\"#f0f921\"]],\"type\":\"contour\"}],\"heatmapgl\":[{\"colorbar\":{\"outlinewidth\":0,\"ticks\":\"\"},\"colorscale\":[[0.0,\"#0d0887\"],[0.1111111111111111,\"#46039f\"],[0.2222222222222222,\"#7201a8\"],[0.3333333333333333,\"#9c179e\"],[0.4444444444444444,\"#bd3786\"],[0.5555555555555556,\"#d8576b\"],[0.6666666666666666,\"#ed7953\"],[0.7777777777777778,\"#fb9f3a\"],[0.8888888888888888,\"#fdca26\"],[1.0,\"#f0f921\"]],\"type\":\"heatmapgl\"}],\"heatmap\":[{\"colorbar\":{\"outlinewidth\":0,\"ticks\":\"\"},\"colorscale\":[[0.0,\"#0d0887\"],[0.1111111111111111,\"#46039f\"],[0.2222222222222222,\"#7201a8\"],[0.3333333333333333,\"#9c179e\"],[0.4444444444444444,\"#bd3786\"],[0.5555555555555556,\"#d8576b\"],[0.6666666666666666,\"#ed7953\"],[0.7777777777777778,\"#fb9f3a\"],[0.8888888888888888,\"#fdca26\"],[1.0,\"#f0f921\"]],\"type\":\"heatmap\"}],\"histogram2dcontour\":[{\"colorbar\":{\"outlinewidth\":0,\"ticks\":\"\"},\"colorscale\":[[0.0,\"#0d0887\"],[0.1111111111111111,\"#46039f\"],[0.2222222222222222,\"#7201a8\"],[0.3333333333333333,\"#9c179e\"],[0.4444444444444444,\"#bd3786\"],[0.5555555555555556,\"#d8576b\"],[0.6666666666666666,\"#ed7953\"],[0.7777777777777778,\"#fb9f3a\"],[0.8888888888888888,\"#fdca26\"],[1.0,\"#f0f921\"]],\"type\":\"histogram2dcontour\"}],\"histogram2d\":[{\"colorbar\":{\"outlinewidth\":0,\"ticks\":\"\"},\"colorscale\":[[0.0,\"#0d0887\"],[0.1111111111111111,\"#46039f\"],[0.2222222222222222,\"#7201a8\"],[0.3333333333333333,\"#9c179e\"],[0.4444444444444444,\"#bd3786\"],[0.5555555555555556,\"#d8576b\"],[0.6666666666666666,\"#ed7953\"],[0.7777777777777778,\"#fb9f3a\"],[0.8888888888888888,\"#fdca26\"],[1.0,\"#f0f921\"]],\"type\":\"histogram2d\"}],\"histogram\":[{\"marker\":{\"pattern\":{\"fillmode\":\"overlay\",\"size\":10,\"solidity\":0.2}},\"type\":\"histogram\"}],\"mesh3d\":[{\"colorbar\":{\"outlinewidth\":0,\"ticks\":\"\"},\"type\":\"mesh3d\"}],\"parcoords\":[{\"line\":{\"colorbar\":{\"outlinewidth\":0,\"ticks\":\"\"}},\"type\":\"parcoords\"}],\"pie\":[{\"automargin\":true,\"type\":\"pie\"}],\"scatter3d\":[{\"line\":{\"colorbar\":{\"outlinewidth\":0,\"ticks\":\"\"}},\"marker\":{\"colorbar\":{\"outlinewidth\":0,\"ticks\":\"\"}},\"type\":\"scatter3d\"}],\"scattercarpet\":[{\"marker\":{\"colorbar\":{\"outlinewidth\":0,\"ticks\":\"\"}},\"type\":\"scattercarpet\"}],\"scattergeo\":[{\"marker\":{\"colorbar\":{\"outlinewidth\":0,\"ticks\":\"\"}},\"type\":\"scattergeo\"}],\"scattergl\":[{\"marker\":{\"colorbar\":{\"outlinewidth\":0,\"ticks\":\"\"}},\"type\":\"scattergl\"}],\"scattermapbox\":[{\"marker\":{\"colorbar\":{\"outlinewidth\":0,\"ticks\":\"\"}},\"type\":\"scattermapbox\"}],\"scatterpolargl\":[{\"marker\":{\"colorbar\":{\"outlinewidth\":0,\"ticks\":\"\"}},\"type\":\"scatterpolargl\"}],\"scatterpolar\":[{\"marker\":{\"colorbar\":{\"outlinewidth\":0,\"ticks\":\"\"}},\"type\":\"scatterpolar\"}],\"scatter\":[{\"fillpattern\":{\"fillmode\":\"overlay\",\"size\":10,\"solidity\":0.2},\"type\":\"scatter\"}],\"scatterternary\":[{\"marker\":{\"colorbar\":{\"outlinewidth\":0,\"ticks\":\"\"}},\"type\":\"scatterternary\"}],\"surface\":[{\"colorbar\":{\"outlinewidth\":0,\"ticks\":\"\"},\"colorscale\":[[0.0,\"#0d0887\"],[0.1111111111111111,\"#46039f\"],[0.2222222222222222,\"#7201a8\"],[0.3333333333333333,\"#9c179e\"],[0.4444444444444444,\"#bd3786\"],[0.5555555555555556,\"#d8576b\"],[0.6666666666666666,\"#ed7953\"],[0.7777777777777778,\"#fb9f3a\"],[0.8888888888888888,\"#fdca26\"],[1.0,\"#f0f921\"]],\"type\":\"surface\"}],\"table\":[{\"cells\":{\"fill\":{\"color\":\"#EBF0F8\"},\"line\":{\"color\":\"white\"}},\"header\":{\"fill\":{\"color\":\"#C8D4E3\"},\"line\":{\"color\":\"white\"}},\"type\":\"table\"}]},\"layout\":{\"annotationdefaults\":{\"arrowcolor\":\"#2a3f5f\",\"arrowhead\":0,\"arrowwidth\":1},\"autotypenumbers\":\"strict\",\"coloraxis\":{\"colorbar\":{\"outlinewidth\":0,\"ticks\":\"\"}},\"colorscale\":{\"diverging\":[[0,\"#8e0152\"],[0.1,\"#c51b7d\"],[0.2,\"#de77ae\"],[0.3,\"#f1b6da\"],[0.4,\"#fde0ef\"],[0.5,\"#f7f7f7\"],[0.6,\"#e6f5d0\"],[0.7,\"#b8e186\"],[0.8,\"#7fbc41\"],[0.9,\"#4d9221\"],[1,\"#276419\"]],\"sequential\":[[0.0,\"#0d0887\"],[0.1111111111111111,\"#46039f\"],[0.2222222222222222,\"#7201a8\"],[0.3333333333333333,\"#9c179e\"],[0.4444444444444444,\"#bd3786\"],[0.5555555555555556,\"#d8576b\"],[0.6666666666666666,\"#ed7953\"],[0.7777777777777778,\"#fb9f3a\"],[0.8888888888888888,\"#fdca26\"],[1.0,\"#f0f921\"]],\"sequentialminus\":[[0.0,\"#0d0887\"],[0.1111111111111111,\"#46039f\"],[0.2222222222222222,\"#7201a8\"],[0.3333333333333333,\"#9c179e\"],[0.4444444444444444,\"#bd3786\"],[0.5555555555555556,\"#d8576b\"],[0.6666666666666666,\"#ed7953\"],[0.7777777777777778,\"#fb9f3a\"],[0.8888888888888888,\"#fdca26\"],[1.0,\"#f0f921\"]]},\"colorway\":[\"#636efa\",\"#EF553B\",\"#00cc96\",\"#ab63fa\",\"#FFA15A\",\"#19d3f3\",\"#FF6692\",\"#B6E880\",\"#FF97FF\",\"#FECB52\"],\"font\":{\"color\":\"#2a3f5f\"},\"geo\":{\"bgcolor\":\"white\",\"lakecolor\":\"white\",\"landcolor\":\"white\",\"showlakes\":true,\"showland\":true,\"subunitcolor\":\"#C8D4E3\"},\"hoverlabel\":{\"align\":\"left\"},\"hovermode\":\"closest\",\"mapbox\":{\"style\":\"light\"},\"paper_bgcolor\":\"white\",\"plot_bgcolor\":\"white\",\"polar\":{\"angularaxis\":{\"gridcolor\":\"#EBF0F8\",\"linecolor\":\"#EBF0F8\",\"ticks\":\"\"},\"bgcolor\":\"white\",\"radialaxis\":{\"gridcolor\":\"#EBF0F8\",\"linecolor\":\"#EBF0F8\",\"ticks\":\"\"}},\"scene\":{\"xaxis\":{\"backgroundcolor\":\"white\",\"gridcolor\":\"#DFE8F3\",\"gridwidth\":2,\"linecolor\":\"#EBF0F8\",\"showbackground\":true,\"ticks\":\"\",\"zerolinecolor\":\"#EBF0F8\"},\"yaxis\":{\"backgroundcolor\":\"white\",\"gridcolor\":\"#DFE8F3\",\"gridwidth\":2,\"linecolor\":\"#EBF0F8\",\"showbackground\":true,\"ticks\":\"\",\"zerolinecolor\":\"#EBF0F8\"},\"zaxis\":{\"backgroundcolor\":\"white\",\"gridcolor\":\"#DFE8F3\",\"gridwidth\":2,\"linecolor\":\"#EBF0F8\",\"showbackground\":true,\"ticks\":\"\",\"zerolinecolor\":\"#EBF0F8\"}},\"shapedefaults\":{\"line\":{\"color\":\"#2a3f5f\"}},\"ternary\":{\"aaxis\":{\"gridcolor\":\"#DFE8F3\",\"linecolor\":\"#A2B1C6\",\"ticks\":\"\"},\"baxis\":{\"gridcolor\":\"#DFE8F3\",\"linecolor\":\"#A2B1C6\",\"ticks\":\"\"},\"bgcolor\":\"white\",\"caxis\":{\"gridcolor\":\"#DFE8F3\",\"linecolor\":\"#A2B1C6\",\"ticks\":\"\"}},\"title\":{\"x\":0.05},\"xaxis\":{\"automargin\":true,\"gridcolor\":\"#EBF0F8\",\"linecolor\":\"#EBF0F8\",\"ticks\":\"\",\"title\":{\"standoff\":15},\"zerolinecolor\":\"#EBF0F8\",\"zerolinewidth\":2},\"yaxis\":{\"automargin\":true,\"gridcolor\":\"#EBF0F8\",\"linecolor\":\"#EBF0F8\",\"ticks\":\"\",\"title\":{\"standoff\":15},\"zerolinecolor\":\"#EBF0F8\",\"zerolinewidth\":2}}},\"title\":{\"text\":\"Average Visit Fee - Emily Hawkins, RDH\"},\"xaxis\":{\"title\":{\"text\":\"Year\"}},\"yaxis\":{\"title\":{\"text\":\"Average Visit Fee\"}},\"height\":400},                        {\"responsive\": true}                    ).then(function(){\n",
       "                            \n",
       "var gd = document.getElementById('0226063b-b3e2-46cc-8db5-4b90c7739037');\n",
       "var x = new MutationObserver(function (mutations, observer) {{\n",
       "        var display = window.getComputedStyle(gd).display;\n",
       "        if (!display || display === 'none') {{\n",
       "            console.log([gd, 'removed!']);\n",
       "            Plotly.purge(gd);\n",
       "            observer.disconnect();\n",
       "        }}\n",
       "}});\n",
       "\n",
       "// Listen for the removal of the full notebook cells\n",
       "var notebookContainer = gd.closest('#notebook-container');\n",
       "if (notebookContainer) {{\n",
       "    x.observe(notebookContainer, {childList: true});\n",
       "}}\n",
       "\n",
       "// Listen for the clearing of the current output cell\n",
       "var outputEl = gd.closest('.output');\n",
       "if (outputEl) {{\n",
       "    x.observe(outputEl, {childList: true});\n",
       "}}\n",
       "\n",
       "                        })                };                });            </script>        </div>"
      ]
     },
     "metadata": {},
     "output_type": "display_data"
    },
    {
     "name": "stdout",
     "output_type": "stream",
     "text": [
      "\n",
      "Answer: ### 1. **Direct Answer**:  \n",
      "The average visit fee for Emily Hawkins, RDH:  \n",
      "- **2022**: $156.95  \n",
      "- **2023**: $148.26 (**-5.5%** decrease from 2022)  \n",
      "- **2024**: $164.42 (**+10.9%** increase from 2023).  \n",
      "\n",
      "### 2. **Comparative Context**:  \n",
      "- **Vs. Other Hygienists**:  \n",
      "  - Farah Rahman, RDH: $139–$160 (Emily’s fees are **higher** every year).  \n",
      "  - \"Hyg Hyg\": $138–$167 (Emily’s 2024 fee is slightly below their peak).  \n",
      "- **Vs. Practice Average**:  \n",
      "  - Emily’s fees are **above the hygienist average** (typically $140–$160 range) but below specialty providers (e.g., DDS/DMI).  \n",
      "\n",
      "### 3. **Key Insights**:  \n",
      "- **Strengths**:  \n",
      "  - 2024 fee increase suggests potential **higher-value services** or fee adjustments.  \n",
      "- **Concerns**:  \n",
      "  - **2023 dip** may reflect discounts, insurance changes, or less complex procedures.  \n",
      "- **Implications**:  \n",
      "  - Stable fees indicate **consistent patient value**, but monitor 2024’s higher fee sustainability (low patient volume that year).  \n",
      "\n",
      "### 4. **Suggested Follow-ups**:  \n",
      "1. Why did Emily’s average fee drop in 2023 despite higher patient volume?  \n",
      "2. What specific services contributed to her 2024 fee increase?  \n",
      "3. How do Emily’s fees compare to the practice’s fee schedule benchmarks?  \n",
      "\n",
      "*(Analysis strictly limited to average visit fee as requested.)*\n"
     ]
    }
   ],
   "source": [
    "# Load data\n",
    "practice_data = DentalPracticeData(\n",
    "    json_file_path=\"demo_clinic.json\",\n",
    "    productivity_csv=\"CSVs/productivity_2022_2025_all.csv\",\n",
    "    procedures_csv=\"CSVs/procedures_2022_2025_all.csv\"\n",
    ")\n",
    "\n",
    "# Test various questions - the LLM will handle them all\n",
    "test_questions = [\n",
    "    \"What is the average visit fee for Emily Hawkins, RDH?\"\n",
    "]\n",
    "\n",
    "#\"What is the average visit fee for Emily Hawkins, RDH?\",\n",
    "#\"Show me the productivity trend for Peter S. Chang, DDS\",\n",
    "#\"What are the collection rates for Michele Chiafulio-Zasada, RDH?\",\n",
    "#\"How many patients did Harvey Seybold, DDS see?\",\n",
    "#\"What is the total production for Farah Rahman, RDH?\"\n",
    "\n",
    "for q in test_questions:\n",
    "    print(f\"\\n{'='*60}\")\n",
    "    print(f\"Question: {q}\")\n",
    "    result = process_question_with_visualizations(q, practice_data)\n",
    "    print(f\"\\nAnswer: {result['answer'][:5000]}\")"
   ]
  },
  {
   "cell_type": "code",
   "execution_count": null,
   "id": "039fcef4-d5e0-4c51-8e3c-c9a5651c2533",
   "metadata": {},
   "outputs": [],
   "source": []
  },
  {
   "cell_type": "code",
   "execution_count": null,
   "id": "d93270bf-f6e0-4328-bd95-ae1eb2a5ab14",
   "metadata": {},
   "outputs": [],
   "source": []
  }
 ],
 "metadata": {
  "kernelspec": {
   "display_name": "Python 3 (ipykernel)",
   "language": "python",
   "name": "python3"
  },
  "language_info": {
   "codemirror_mode": {
    "name": "ipython",
    "version": 3
   },
   "file_extension": ".py",
   "mimetype": "text/x-python",
   "name": "python",
   "nbconvert_exporter": "python",
   "pygments_lexer": "ipython3",
   "version": "3.11.13"
  }
 },
 "nbformat": 4,
 "nbformat_minor": 5
}
