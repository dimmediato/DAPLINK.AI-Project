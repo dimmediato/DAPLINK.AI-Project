{
 "cells": [
  {
   "cell_type": "code",
   "execution_count": 9,
   "id": "5cbe2ca2-59bb-4024-857c-985a290e46cd",
   "metadata": {},
   "outputs": [
    {
     "data": {
      "text/plain": [
       "False"
      ]
     },
     "execution_count": 9,
     "metadata": {},
     "output_type": "execute_result"
    }
   ],
   "source": [
    "# Cell 1: Import Required Libraries\n",
    "# =====================================\n",
    "\n",
    "# Core Python libraries\n",
    "import json\n",
    "import os\n",
    "from typing import Dict, List, Any, Optional, Tuple\n",
    "from datetime import datetime\n",
    "import base64\n",
    "from io import BytesIO\n",
    "\n",
    "# Data manipulation and analysis\n",
    "import pandas as pd\n",
    "import numpy as np\n",
    "\n",
    "# Visualization libraries\n",
    "import matplotlib.pyplot as plt\n",
    "import plotly.graph_objects as go\n",
    "import plotly.express as px\n",
    "from plotly.subplots import make_subplots\n",
    "import seaborn as sns\n",
    "\n",
    "# HTTP requests for API calls\n",
    "import requests\n",
    "\n",
    "# Environment variables (for API keys)\n",
    "from dotenv import load_dotenv\n",
    "\n",
    "# Rich text formatting for better notebook output\n",
    "from IPython.display import display, HTML, Image, Markdown\n",
    "\n",
    "# Warnings management\n",
    "import warnings\n",
    "warnings.filterwarnings('ignore')\n",
    "\n",
    "# Set visualization defaults\n",
    "plt.style.use('seaborn-v0_8-darkgrid')\n",
    "sns.set_palette(\"husl\")\n",
    "\n",
    "# Load environment variables if .env file exists\n",
    "load_dotenv()"
   ]
  },
  {
   "cell_type": "code",
   "execution_count": 15,
   "id": "8c259543-b3c1-4168-8b22-92dd58a4308d",
   "metadata": {},
   "outputs": [
    {
     "name": "stdout",
     "output_type": "stream",
     "text": [
      "==================================================\n",
      "DENTAL PRACTICE VALUATION Q&A SYSTEM\n",
      "==================================================\n",
      "\n",
      "🔧 Configuration loaded successfully!\n",
      "🤖 Using model: deepseek/deepseek-chat-v3-0324:free\n",
      "\n",
      "📡 Testing API connection...\n",
      "--------------------------------------------------\n",
      "✅ API Connection Test Successful!\n",
      "📡 Model: deepseek/deepseek-chat-v3-0324:free\n",
      "💬 Response: Connection successful!\n",
      "--------------------------------------------------\n",
      "✅ System ready for use!\n"
     ]
    }
   ],
   "source": [
    "# Cell 2: Configuration and API Setup\n",
    "# =====================================\n",
    "\n",
    "# API Configuration\n",
    "OPENROUTER_API_KEY = \"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\"\n",
    "OPENROUTER_BASE_URL = \"https://openrouter.ai/api/v1/chat/completions\"\n",
    "MODEL_NAME = \"deepseek/deepseek-chat-v3-0324:free\"  # Deepseek model via OpenRouter.\n",
    "# Deepseek Free is often rate-limited due to the amount of people using it at once. Sometimes you may need to wait 1-5 minutes between requests. \n",
    "\n",
    "# Headers for API requests\n",
    "HEADERS = {\n",
    "    \"Authorization\": f\"Bearer {OPENROUTER_API_KEY}\",\n",
    "    \"Content-Type\": \"application/json\",\n",
    "    \"HTTP-Referer\": \"http://localhost:8888\",  # Required for OpenRouter\n",
    "    \"X-Title\": \"Dental Practice Valuation Q&A\"  # Optional, helps with OpenRouter analytics\n",
    "}\n",
    "\n",
    "# Question Categories (for routing to appropriate handlers)\n",
    "QUESTION_CATEGORIES = {\n",
    "    \"P&L_ANALYSIS\": [\"profit\", \"revenue\", \"expense\", \"margin\", \"ebitda\", \"income\"],\n",
    "    \"TAX\": [\"tax\", \"deduction\", \"write-off\", \"depreciation\", \"amortization\"],\n",
    "    \"VALUATION\": [\"multiple\", \"valuation\", \"worth\", \"value\", \"price\"],\n",
    "    \"OPERATIONS\": [\"patient\", \"operatories\", \"technology\", \"location\", \"service\"],\n",
    "    \"SDE\": [\"sde\", \"seller\", \"discretionary\", \"earnings\", \"addback\", \"adjustment\"],\n",
    "    \"SWOT\": [\"strength\", \"weakness\", \"opportunity\", \"threat\", \"swot\", \"growth\"],\n",
    "    \"DEBT\": [\"debt\", \"loan\", \"financing\", \"interest\", \"service\"],\n",
    "    \"GENERAL\": [\"tell me about\", \"overview\", \"summary\", \"explain\"]\n",
    "}\n",
    "\n",
    "# Visualization preferences\n",
    "VIZ_CONFIG = {\n",
    "    \"figure_size\": (10, 6),\n",
    "    \"color_scheme\": [\"#2E86AB\", \"#A23B72\", \"#F18F01\", \"#C73E1D\", \"#6A994E\"],\n",
    "    \"font_size\": 12,\n",
    "    \"title_size\": 14,\n",
    "    \"dpi\": 100,\n",
    "    \"style\": \"seaborn-v0_8-darkgrid\"\n",
    "}\n",
    "\n",
    "# Financial formatting preferences\n",
    "FINANCIAL_CONFIG = {\n",
    "    \"currency_symbol\": \"$\",\n",
    "    \"thousands_separator\": \",\",\n",
    "    \"decimal_places\": 0,\n",
    "    \"percentage_decimal\": 1\n",
    "}\n",
    "\n",
    "# System prompt for the LLM\n",
    "SYSTEM_PROMPT = \"\"\"You are a dental practice valuation expert AI assistant. You analyze financial data, \n",
    "operational metrics, and practice characteristics to provide insights about dental practice valuations.\n",
    "\n",
    "Your responses should be:\n",
    "1. Accurate and based solely on the provided data\n",
    "2. Professional but accessible to non-financial professionals\n",
    "3. Focused on actionable insights\n",
    "4. Clear about calculations and methodologies used\n",
    "\n",
    "When analyzing data:\n",
    "- Always show key calculations\n",
    "- Explain financial terms when first used\n",
    "- Highlight important ratios and benchmarks\n",
    "- Provide context for valuation multiples\n",
    "\"\"\"\n",
    "\n",
    "# Test API connection\n",
    "def test_api_connection():\n",
    "    \"\"\"Test the OpenRouter API connection with Deepseek\"\"\"\n",
    "    test_payload = {\n",
    "        \"model\": MODEL_NAME,\n",
    "        \"messages\": [\n",
    "            {\"role\": \"system\", \"content\": \"You are a helpful assistant.\"},\n",
    "            {\"role\": \"user\", \"content\": \"Respond with 'Connection successful!' if you receive this.\"}\n",
    "        ],\n",
    "        \"max_tokens\": 50,\n",
    "        \"temperature\": 0.1\n",
    "    }\n",
    "    \n",
    "    try:\n",
    "        response = requests.post(\n",
    "            OPENROUTER_BASE_URL,\n",
    "            headers=HEADERS,\n",
    "            json=test_payload\n",
    "        )\n",
    "        \n",
    "        if response.status_code == 200:\n",
    "            result = response.json()\n",
    "            message = result['choices'][0]['message']['content']\n",
    "            print(f\"✅ API Connection Test Successful!\")\n",
    "            print(f\"📡 Model: {MODEL_NAME}\")\n",
    "            print(f\"💬 Response: {message}\")\n",
    "            return True\n",
    "        else:\n",
    "            print(f\"❌ API Connection Failed!\")\n",
    "            print(f\"Status Code: {response.status_code}\")\n",
    "            print(f\"Error: {response.text}\")\n",
    "            return False\n",
    "            \n",
    "    except Exception as e:\n",
    "        print(f\"❌ Connection Error: {str(e)}\")\n",
    "        return False\n",
    "\n",
    "# Run connection test\n",
    "print(\"=\" * 50)\n",
    "print(\"DENTAL PRACTICE VALUATION Q&A SYSTEM\")\n",
    "print(\"=\" * 50)\n",
    "print(f\"\\n🔧 Configuration loaded successfully!\")\n",
    "print(f\"🤖 Using model: {MODEL_NAME}\")\n",
    "print(f\"\\n📡 Testing API connection...\")\n",
    "print(\"-\" * 50)\n",
    "\n",
    "connection_status = test_api_connection()\n",
    "\n",
    "if connection_status:\n",
    "    print(\"-\" * 50)\n",
    "    print(\"✅ System ready for use!\")\n",
    "else:\n",
    "    print(\"-\" * 50)\n",
    "    print(\"⚠️  Please check your API key and connection\")"
   ]
  },
  {
   "cell_type": "code",
   "execution_count": 11,
   "id": "bfe3aed2-64b6-4666-8a7e-161ec8df2110",
   "metadata": {},
   "outputs": [
    {
     "name": "stdout",
     "output_type": "stream",
     "text": [
      "Testing data loading with demo_clinic.json...\n",
      "------------------------------------------------------------\n",
      "✅ Successfully loaded data from demo_clinic.json\n",
      "✅ Data validation successful!\n",
      "\n",
      "============================================================\n",
      "PRACTICE: Demo Dental NYC\n",
      "============================================================\n",
      "\n",
      "📍 PRACTICE DETAILS:\n",
      "   Location: Midtown Manhattan, NY\n",
      "   Patient Base: 95% Fee‑For‑Service, 2100 active patients\n",
      "   Operatories: 6\n",
      "   Technology: Digital X‑ray, Itero Scanner, CBCT\n",
      "\n",
      "💰 KEY FINANCIAL METRICS:\n",
      "   Revenue (TTM): $1,546,696\n",
      "   EBITDA (TTM): $545,301\n",
      "   Total SDE: $460,000\n",
      "   EBITDA Margin: 35.3%\n",
      "   SDE Margin: 29.7%\n",
      "   Implied Value (EBITDA): $2,453,854\n",
      "   Implied Value (Revenue): $1,237,357\n",
      "   Debt Service Coverage: 3.25x\n",
      "\n",
      "📊 SWOT HIGHLIGHTS:\n",
      "   Key Strength: High FFS revenue\n",
      "   Top Opportunity: Add implant services\n",
      "\n",
      "📊 Summary DataFrame:\n"
     ]
    },
    {
     "data": {
      "text/html": [
       "<div>\n",
       "<style scoped>\n",
       "    .dataframe tbody tr th:only-of-type {\n",
       "        vertical-align: middle;\n",
       "    }\n",
       "\n",
       "    .dataframe tbody tr th {\n",
       "        vertical-align: top;\n",
       "    }\n",
       "\n",
       "    .dataframe thead th {\n",
       "        text-align: right;\n",
       "    }\n",
       "</style>\n",
       "<table border=\"1\" class=\"dataframe\">\n",
       "  <thead>\n",
       "    <tr style=\"text-align: right;\">\n",
       "      <th></th>\n",
       "      <th>Metric</th>\n",
       "      <th>Value</th>\n",
       "      <th>Category</th>\n",
       "    </tr>\n",
       "  </thead>\n",
       "  <tbody>\n",
       "    <tr>\n",
       "      <th>0</th>\n",
       "      <td>Revenue (TTM)</td>\n",
       "      <td>$1,546,696</td>\n",
       "      <td>Revenue</td>\n",
       "    </tr>\n",
       "    <tr>\n",
       "      <th>1</th>\n",
       "      <td>EBITDA (TTM)</td>\n",
       "      <td>$545,301</td>\n",
       "      <td>Profitability</td>\n",
       "    </tr>\n",
       "    <tr>\n",
       "      <th>2</th>\n",
       "      <td>Total SDE</td>\n",
       "      <td>$460,000</td>\n",
       "      <td>Profitability</td>\n",
       "    </tr>\n",
       "    <tr>\n",
       "      <th>3</th>\n",
       "      <td>EBITDA Margin</td>\n",
       "      <td>35.3%</td>\n",
       "      <td>Profitability</td>\n",
       "    </tr>\n",
       "    <tr>\n",
       "      <th>4</th>\n",
       "      <td>SDE Margin</td>\n",
       "      <td>29.7%</td>\n",
       "      <td>Profitability</td>\n",
       "    </tr>\n",
       "    <tr>\n",
       "      <th>5</th>\n",
       "      <td>Implied Value (EBITDA)</td>\n",
       "      <td>$2,453,854</td>\n",
       "      <td>Valuation</td>\n",
       "    </tr>\n",
       "    <tr>\n",
       "      <th>6</th>\n",
       "      <td>Implied Value (Revenue)</td>\n",
       "      <td>$1,237,357</td>\n",
       "      <td>Valuation</td>\n",
       "    </tr>\n",
       "    <tr>\n",
       "      <th>7</th>\n",
       "      <td>Debt Service Coverage</td>\n",
       "      <td>3.25x</td>\n",
       "      <td>Debt</td>\n",
       "    </tr>\n",
       "  </tbody>\n",
       "</table>\n",
       "</div>"
      ],
      "text/plain": [
       "                    Metric       Value       Category\n",
       "0            Revenue (TTM)  $1,546,696        Revenue\n",
       "1             EBITDA (TTM)    $545,301  Profitability\n",
       "2                Total SDE    $460,000  Profitability\n",
       "3            EBITDA Margin       35.3%  Profitability\n",
       "4               SDE Margin       29.7%  Profitability\n",
       "5   Implied Value (EBITDA)  $2,453,854      Valuation\n",
       "6  Implied Value (Revenue)  $1,237,357      Valuation\n",
       "7    Debt Service Coverage       3.25x           Debt"
      ]
     },
     "metadata": {},
     "output_type": "display_data"
    },
    {
     "name": "stdout",
     "output_type": "stream",
     "text": [
      "\n",
      "✅ Data loading module ready!\n"
     ]
    }
   ],
   "source": [
    "# Cell 3: Data Loading and Validation Functions\n",
    "# ===============================================\n",
    "\n",
    "class DentalPracticeData:\n",
    "    \"\"\"\n",
    "    Main class to handle all dental practice valuation data.\n",
    "    Think of this as a container that holds and processes all the practice's financial info.\n",
    "    \"\"\"\n",
    "    \n",
    "    def __init__(self, json_path: str = None, json_data: dict = None):\n",
    "        \"\"\"\n",
    "        Initialize the class when creating a new instance.\n",
    "        You can either:\n",
    "        1. Pass a file path to load JSON from a file, OR\n",
    "        2. Pass the JSON data directly as a dictionary\n",
    "        \n",
    "        Example usage:\n",
    "        - From file: practice_data = DentalPracticeData(json_path=\"demo_clinic.json\")\n",
    "        - From dict: practice_data = DentalPracticeData(json_data=my_json_dict)\n",
    "        \"\"\"\n",
    "        if json_path:\n",
    "            self.data = self.load_from_file(json_path)  # Load from file\n",
    "        elif json_data:\n",
    "            self.data = json_data  # Use provided dictionary\n",
    "        else:\n",
    "            raise ValueError(\"Must provide either json_path or json_data\")\n",
    "        \n",
    "        # After loading, validate the data has all required fields\n",
    "        self.validate_data()\n",
    "        \n",
    "        # Calculate additional metrics that aren't in the raw data\n",
    "        # (like margins, ratios, etc.)\n",
    "        self.calculate_derived_metrics()\n",
    "    \n",
    "    def load_from_file(self, filepath: str) -> dict:\n",
    "        \"\"\"\n",
    "        Loads JSON data from a file on disk.\n",
    "        \n",
    "        Parameters:\n",
    "        - filepath: The path to the JSON file (e.g., \"demo_clinic.json\")\n",
    "        \n",
    "        Returns:\n",
    "        - Dictionary containing all the JSON data\n",
    "        \n",
    "        What it does:\n",
    "        1. Opens the file\n",
    "        2. Reads the JSON content\n",
    "        3. Converts it to a Python dictionary\n",
    "        4. Returns the dictionary for use\n",
    "        \"\"\"\n",
    "        try:\n",
    "            with open(filepath, 'r') as f:  # Open file in read mode\n",
    "                data = json.load(f)  # Parse JSON into Python dict\n",
    "            print(f\"✅ Successfully loaded data from {filepath}\")\n",
    "            return data\n",
    "        except FileNotFoundError:\n",
    "            print(f\"❌ File not found: {filepath}\")\n",
    "            raise  # Re-raise the error so caller knows what happened\n",
    "        except json.JSONDecodeError as e:\n",
    "            print(f\"❌ Invalid JSON format: {e}\")\n",
    "            raise\n",
    "    \n",
    "    def validate_data(self):\n",
    "        \"\"\"\n",
    "        Checks that the JSON has all the fields we need for analysis.\n",
    "        Think of this as a quality check before we start processing.\n",
    "        \n",
    "        What it checks:\n",
    "        1. All main required fields are present (Revenue, EBITDA, etc.)\n",
    "        2. All SDE components are included (for the SDE waterfall chart)\n",
    "        3. Prints warnings if anything is missing\n",
    "        \n",
    "        Why this matters:\n",
    "        - Prevents errors later when we try to access missing data\n",
    "        - Ensures we can generate all visualizations properly\n",
    "        \"\"\"\n",
    "        # List of fields that MUST be in the JSON\n",
    "        required_fields = [\n",
    "            \"Clinic\",               # Practice name\n",
    "            \"Revenue_Trailing12\",   # Last 12 months revenue\n",
    "            \"EBITDA_Trailing12\",    # Last 12 months EBITDA\n",
    "            \"Total_SDE\",           # Seller's Discretionary Earnings total\n",
    "            \"SDE\",                 # Breakdown of SDE components\n",
    "            \"Valuation_Multiples\"  # Multiples for valuation calculations\n",
    "        ]\n",
    "        \n",
    "        # Check each required field\n",
    "        missing_fields = []\n",
    "        for field in required_fields:\n",
    "            if field not in self.data:  # If field is missing\n",
    "                missing_fields.append(field)\n",
    "        \n",
    "        # If any required fields are missing, stop and report error\n",
    "        if missing_fields:\n",
    "            raise ValueError(f\"Missing required fields: {missing_fields}\")\n",
    "        \n",
    "        # Check SDE components (these show how we calculated SDE)\n",
    "        sde_components = [\n",
    "            \"Net_Profit_pre_tax\",      # Base profit before taxes\n",
    "            \"Owner_Salary_minus_Market\", # Excess owner compensation\n",
    "            \"Owner_Perks\",             # Personal expenses paid by business\n",
    "            \"Interest\",                # Interest (will be restructured)\n",
    "            \"Depreciation\",            # Non-cash expense\n",
    "            \"Amortization\",            # Non-cash expense\n",
    "            \"Non_Recurring\"            # One-time expenses\n",
    "        ]\n",
    "        \n",
    "        # Check if all SDE components are present\n",
    "        if \"SDE\" in self.data:\n",
    "            missing_sde = [c for c in sde_components if c not in self.data[\"SDE\"]]\n",
    "            if missing_sde:\n",
    "                print(f\"⚠️  Warning: Missing SDE components: {missing_sde}\")\n",
    "        \n",
    "        print(\"✅ Data validation successful!\")\n",
    "    \n",
    "    def calculate_derived_metrics(self):\n",
    "        \"\"\"\n",
    "        Calculates additional financial metrics from the base data.\n",
    "        These are metrics that aren't directly in the JSON but are useful for analysis.\n",
    "        \n",
    "        What it calculates:\n",
    "        1. EBITDA Margin % = (EBITDA / Revenue) * 100\n",
    "        2. SDE Margin % = (SDE / Revenue) * 100  \n",
    "        3. Implied practice value using EBITDA multiple\n",
    "        4. Implied practice value using Revenue multiple\n",
    "        5. Debt Service Coverage Ratio (DSCR) = EBITDA / Annual Debt Payment\n",
    "        6. After-tax SDE and cash flow\n",
    "        \n",
    "        These metrics help answer questions like:\n",
    "        - \"How profitable is the practice?\"\n",
    "        - \"What's the practice worth?\"\n",
    "        - \"Can it support the debt payments?\"\n",
    "        \"\"\"\n",
    "        # Create a dictionary to store calculated metrics\n",
    "        self.metrics = {}\n",
    "        \n",
    "        # --- PROFITABILITY METRICS ---\n",
    "        revenue = self.data.get(\"Revenue_Trailing12\", 0)  # Get revenue, default to 0 if missing\n",
    "        \n",
    "        if revenue > 0:  # Only calculate if we have revenue (avoid division by zero)\n",
    "            # EBITDA Margin: What % of revenue becomes EBITDA?\n",
    "            self.metrics[\"EBITDA_Margin\"] = (self.data.get(\"EBITDA_Trailing12\", 0) / revenue) * 100\n",
    "            \n",
    "            # SDE Margin: What % of revenue becomes SDE?\n",
    "            self.metrics[\"SDE_Margin\"] = (self.data.get(\"Total_SDE\", 0) / revenue) * 100\n",
    "        \n",
    "        # --- VALUATION METRICS ---\n",
    "        if \"Valuation_Multiples\" in self.data:\n",
    "            multiples = self.data[\"Valuation_Multiples\"]\n",
    "            \n",
    "            # Practice value = EBITDA × EBITDA multiple\n",
    "            # Example: $545,301 × 4.5 = $2,453,854\n",
    "            self.metrics[\"Implied_Value_EBITDA\"] = (\n",
    "                self.data.get(\"EBITDA_Trailing12\", 0) * \n",
    "                multiples.get(\"EBITDA_multiple\", 0)\n",
    "            )\n",
    "            \n",
    "            # Practice value = Revenue × Revenue multiple  \n",
    "            # Example: $1,546,696 × 0.8 = $1,237,356\n",
    "            self.metrics[\"Implied_Value_Revenue\"] = (\n",
    "                revenue * multiples.get(\"Revenue_multiple\", 0)\n",
    "            )\n",
    "        \n",
    "        # --- DEBT SERVICE METRICS ---\n",
    "        # DSCR shows if practice generates enough cash to pay debts\n",
    "        # DSCR > 1.25 is typically considered healthy\n",
    "        if \"Debt_Service_Annual\" in self.data and self.data[\"Debt_Service_Annual\"] > 0:\n",
    "            self.metrics[\"DSCR\"] = (\n",
    "                self.data.get(\"EBITDA_Trailing12\", 0) / \n",
    "                self.data[\"Debt_Service_Annual\"]\n",
    "            )\n",
    "        \n",
    "        # --- AFTER-TAX CALCULATIONS ---\n",
    "        # Shows what buyer keeps after paying taxes\n",
    "        if \"Buyer_Tax_Rate\" in self.data:\n",
    "            tax_rate = self.data[\"Buyer_Tax_Rate\"]  # e.g., 0.25 = 25%\n",
    "            \n",
    "            # After-tax SDE = SDE × (1 - tax rate)\n",
    "            # Example: $460,000 × (1 - 0.25) = $345,000\n",
    "            self.metrics[\"After_Tax_SDE\"] = (\n",
    "                self.data.get(\"Total_SDE\", 0) * (1 - tax_rate)\n",
    "            )\n",
    "            \n",
    "            # Cash flow after taxes AND debt payments\n",
    "            # This is what the buyer actually keeps\n",
    "            if \"Debt_Service_Annual\" in self.data:\n",
    "                self.metrics[\"After_Tax_Cash_Flow\"] = (\n",
    "                    self.metrics[\"After_Tax_SDE\"] - \n",
    "                    self.data[\"Debt_Service_Annual\"]\n",
    "                )\n",
    "    \n",
    "    def get_summary(self) -> pd.DataFrame:\n",
    "        \"\"\"\n",
    "        Creates a clean summary table of all key metrics.\n",
    "        \n",
    "        Returns:\n",
    "        - A pandas DataFrame (table) with three columns:\n",
    "          1. Metric name\n",
    "          2. Formatted value (with $ signs and commas)\n",
    "          3. Category (Revenue, Profitability, Valuation, etc.)\n",
    "        \n",
    "        This table is perfect for:\n",
    "        - Quick overview presentations\n",
    "        - Exporting to Excel\n",
    "        - Showing to clients\n",
    "        \"\"\"\n",
    "        # Initialize empty lists to build our table\n",
    "        summary_data = {\n",
    "            \"Metric\": [],      # Name of the metric\n",
    "            \"Value\": [],       # Formatted value\n",
    "            \"Category\": []     # Type of metric\n",
    "        }\n",
    "        \n",
    "        # --- Add Revenue metrics ---\n",
    "        summary_data[\"Metric\"].append(\"Revenue (TTM)\")  # TTM = Trailing Twelve Months\n",
    "        summary_data[\"Value\"].append(f\"${self.data.get('Revenue_Trailing12', 0):,.0f}\")  # Format with commas\n",
    "        summary_data[\"Category\"].append(\"Revenue\")\n",
    "        \n",
    "        # --- Add Profitability metrics ---\n",
    "        summary_data[\"Metric\"].append(\"EBITDA (TTM)\")\n",
    "        summary_data[\"Value\"].append(f\"${self.data.get('EBITDA_Trailing12', 0):,.0f}\")\n",
    "        summary_data[\"Category\"].append(\"Profitability\")\n",
    "        \n",
    "        summary_data[\"Metric\"].append(\"Total SDE\")\n",
    "        summary_data[\"Value\"].append(f\"${self.data.get('Total_SDE', 0):,.0f}\")\n",
    "        summary_data[\"Category\"].append(\"Profitability\")\n",
    "        \n",
    "        # --- Add Margin percentages (if calculated) ---\n",
    "        if \"EBITDA_Margin\" in self.metrics:\n",
    "            summary_data[\"Metric\"].append(\"EBITDA Margin\")\n",
    "            summary_data[\"Value\"].append(f\"{self.metrics['EBITDA_Margin']:.1f}%\")  # 1 decimal place\n",
    "            summary_data[\"Category\"].append(\"Profitability\")\n",
    "        \n",
    "        if \"SDE_Margin\" in self.metrics:\n",
    "            summary_data[\"Metric\"].append(\"SDE Margin\")\n",
    "            summary_data[\"Value\"].append(f\"{self.metrics['SDE_Margin']:.1f}%\")\n",
    "            summary_data[\"Category\"].append(\"Profitability\")\n",
    "        \n",
    "        # --- Add Valuation estimates ---\n",
    "        if \"Implied_Value_EBITDA\" in self.metrics:\n",
    "            summary_data[\"Metric\"].append(\"Implied Value (EBITDA)\")\n",
    "            summary_data[\"Value\"].append(f\"${self.metrics['Implied_Value_EBITDA']:,.0f}\")\n",
    "            summary_data[\"Category\"].append(\"Valuation\")\n",
    "        \n",
    "        if \"Implied_Value_Revenue\" in self.metrics:\n",
    "            summary_data[\"Metric\"].append(\"Implied Value (Revenue)\")\n",
    "            summary_data[\"Value\"].append(f\"${self.metrics['Implied_Value_Revenue']:,.0f}\")\n",
    "            summary_data[\"Category\"].append(\"Valuation\")\n",
    "        \n",
    "        # --- Add Debt metrics ---\n",
    "        if \"DSCR\" in self.metrics:\n",
    "            summary_data[\"Metric\"].append(\"Debt Service Coverage\")\n",
    "            summary_data[\"Value\"].append(f\"{self.metrics['DSCR']:.2f}x\")  # Show as \"2.45x\"\n",
    "            summary_data[\"Category\"].append(\"Debt\")\n",
    "        \n",
    "        # Convert to pandas DataFrame for nice display\n",
    "        return pd.DataFrame(summary_data)\n",
    "    \n",
    "    def display_practice_overview(self):\n",
    "        \"\"\"\n",
    "        Prints a nicely formatted overview of the practice.\n",
    "        This is what you'd show a client for a quick summary.\n",
    "        \n",
    "        Displays:\n",
    "        1. Practice name\n",
    "        2. Location and operational details\n",
    "        3. Key financial metrics\n",
    "        4. SWOT highlights (main strength and opportunity)\n",
    "        \n",
    "        This gives a complete picture in a easy-to-read format.\n",
    "        \"\"\"\n",
    "        # Print header with practice name\n",
    "        print(\"\\n\" + \"=\"*60)\n",
    "        print(f\"PRACTICE: {self.data.get('Clinic', 'Unknown')}\")\n",
    "        print(\"=\"*60)\n",
    "        \n",
    "        # --- Display practice details (if available) ---\n",
    "        if \"Practice_Overview\" in self.data:\n",
    "            overview = self.data[\"Practice_Overview\"]\n",
    "            print(\"\\n📍 PRACTICE DETAILS:\")\n",
    "            print(f\"   Location: {overview.get('Location', 'N/A')}\")\n",
    "            print(f\"   Patient Base: {overview.get('Patient_Base', 'N/A')}\")\n",
    "            print(f\"   Operatories: {overview.get('Operatories', 'N/A')}\")\n",
    "            \n",
    "            # List all technology (join array into comma-separated string)\n",
    "            if \"Technology\" in overview:\n",
    "                print(f\"   Technology: {', '.join(overview['Technology'])}\")\n",
    "        \n",
    "        # --- Display financial metrics ---\n",
    "        print(\"\\n💰 KEY FINANCIAL METRICS:\")\n",
    "        summary_df = self.get_summary()  # Get the summary table\n",
    "        for _, row in summary_df.iterrows():  # Loop through each row\n",
    "            print(f\"   {row['Metric']}: {row['Value']}\")\n",
    "        \n",
    "        # --- Display SWOT highlights (just the first/most important) ---\n",
    "        if \"SWOT\" in self.data:\n",
    "            swot = self.data[\"SWOT\"]\n",
    "            print(\"\\n📊 SWOT HIGHLIGHTS:\")\n",
    "            \n",
    "            # Show first strength (most important)\n",
    "            if \"Strengths\" in swot and swot[\"Strengths\"]:\n",
    "                print(f\"   Key Strength: {swot['Strengths'][0]}\")\n",
    "            \n",
    "            # Show first opportunity (highest potential)\n",
    "            if \"Opportunities\" in swot and swot[\"Opportunities\"]:\n",
    "                print(f\"   Top Opportunity: {swot['Opportunities'][0]}\")\n",
    "\n",
    "# ===============================================\n",
    "# TEST THE CLASS WITH DEMO DATA\n",
    "# ===============================================\n",
    "\n",
    "print(\"Testing data loading with demo_clinic.json...\")\n",
    "print(\"-\" * 60)\n",
    "\n",
    "# Try to load the demo data file\n",
    "try:\n",
    "    # Create an instance of our class with the demo file\n",
    "    practice_data = DentalPracticeData(json_path=\"demo_clinic.json\")\n",
    "    \n",
    "    # Display the overview\n",
    "    practice_data.display_practice_overview()\n",
    "    \n",
    "    # Show the summary table\n",
    "    print(\"\\n📊 Summary DataFrame:\")\n",
    "    display(practice_data.get_summary())\n",
    "    \n",
    "    print(\"\\n✅ Data loading module ready!\")\n",
    "    \n",
    "except FileNotFoundError:\n",
    "    # If file doesn't exist, create it from the sample data\n",
    "    print(\"\\n⚠️  demo_clinic.json not found. Creating from provided data...\")\n",
    "    \n",
    "    # This is the complete demo data structure\n",
    "    demo_data = {\n",
    "        \"Clinic\": \"Demo Dental NYC\",\n",
    "        \"Valuation_Date\": \"2025-07-22\",\n",
    "        \"Revenue_Trailing12\": 1546696,\n",
    "        \"EBITDA_Trailing12\": 545301,\n",
    "        \"Total_SDE\": 460000,\n",
    "        \"SDE\": {\n",
    "            \"Net_Profit_pre_tax\": 350000,\n",
    "            \"Owner_Salary_minus_Market\": 60000,\n",
    "            \"Owner_Perks\": 18000,\n",
    "            \"Interest\": 12000,\n",
    "            \"Depreciation\": 9000,\n",
    "            \"Amortization\": 4000,\n",
    "            \"Non_Recurring\": 7000\n",
    "        },\n",
    "        \"Addback_Justifications\": {\n",
    "            \"Net_Profit_pre_tax\": \"Base accounting profit before income tax adjustments.\",\n",
    "            \"Owner_Salary_minus_Market\": \"Portion of DDS salary above fair‑market compensation.\",\n",
    "            \"Owner_Perks\": \"Clinic‑paid personal auto, phone, and family health insurance.\",\n",
    "            \"Interest\": \"Financing cost—assumed refinanced by buyer, thus added back.\",\n",
    "            \"Depreciation\": \"Non‑cash charge; added back to reflect cash flow.\",\n",
    "            \"Amortization\": \"Non‑cash; pertains to prior goodwill amortization.\",\n",
    "            \"Non_Recurring\": \"One‑time legal settlement expense in FY 2024.\"\n",
    "        },\n",
    "        \"Valuation_Multiples\": {\"EBITDA_multiple\": 4.5, \"Revenue_multiple\": 0.8},\n",
    "        \"Debt_Service_Annual\": 168008,\n",
    "        \"Buyer_Tax_Rate\": 0.25,\n",
    "        \"Practice_Overview\": {\n",
    "            \"Location\": \"Midtown Manhattan, NY\",\n",
    "            \"Patient_Base\": \"95% Fee‑For‑Service, 2100 active patients\",\n",
    "            \"Operatories\": 6,\n",
    "            \"Technology\": [\"Digital X‑ray\", \"Itero Scanner\", \"CBCT\"]\n",
    "        },\n",
    "        \"SWOT\": {\n",
    "            \"Strengths\": [\"High FFS revenue\", \"Prime Manhattan location\", \"Robust hygiene program\"],\n",
    "            \"Weaknesses\": [\"Limited Saturday hours\"],\n",
    "            \"Opportunities\": [\"Add implant services\", \"Expand evening hours\"],\n",
    "            \"Threats\": [\"Rising rent costs\"]\n",
    "        }\n",
    "    }\n",
    "    \n",
    "    # Save the demo data to a file\n",
    "    with open(\"demo_clinic.json\", \"w\") as f:\n",
    "        json.dump(demo_data, f, indent=2)  # indent=2 makes it readable\n",
    "    \n",
    "    print(\"✅ Created demo_clinic.json\")\n",
    "    \n",
    "    # Now load it using our class\n",
    "    practice_data = DentalPracticeData(json_path=\"demo_clinic.json\")\n",
    "    practice_data.display_practice_overview()\n",
    "    \n",
    "    print(\"\\n📊 Summary DataFrame:\")\n",
    "    display(practice_data.get_summary())\n",
    "    \n",
    "    print(\"\\n✅ Data loading module ready!\")"
   ]
  },
  {
   "cell_type": "code",
   "execution_count": 13,
   "id": "4d5144ac-30f8-4042-8a89-3e41c95dcaa4",
   "metadata": {},
   "outputs": [
    {
     "name": "stdout",
     "output_type": "stream",
     "text": [
      "\n",
      "============================================================\n",
      "🧪 TESTING Q&A SYSTEM\n",
      "============================================================\n",
      "\n",
      "============================================================\n",
      "📝 QUESTION: What is the SDE for this practice and how is it calculated?\n",
      "============================================================\n",
      "📊 Category detected: SDE\n",
      "🤖 Calling DeepSeek API...\n",
      "✅ Response received!\n",
      "\n",
      "💡 ANSWER:\n",
      "### **Seller's Discretionary Earnings (SDE) Analysis for Demo Dental NYC**  \n",
      "\n",
      "#### **1. Definition of SDE**  \n",
      "SDE represents the total financial benefit available to a single owner-operator of the practice, including:  \n",
      "- **Net profit** (pre-tax)  \n",
      "- **Owner-specific addbacks** (compensation above market rate, perks, non-cash expenses, etc.)  \n",
      "- **Non-recurring expenses**  \n",
      "\n",
      "It is a key metric for small dental practice valuations, as it reflects the true cash flow available to a buyer.  \n",
      "\n",
      "---\n",
      "\n",
      "#### **2. SDE Calculation Breakdown**  \n",
      "The SDE for **Demo Dental NYC** is **$460,000**, derived as follows:  \n",
      "\n",
      "| **Component**                     | **Amount ($)** | **Type**       | **Justification** |\n",
      "|-----------------------------------|---------------|---------------|------------------|\n",
      "| Net Profit (Pre-Tax)              | 350,000       | Base Earnings | Accounting profit before tax adjustments. |\n",
      "| + Owner Salary Above Market       | 60,000        | Cash Addback  | Portion of owner’s salary exceeding fair-market compensation for a dentist in NYC. |\n",
      "| + Owner Perks                     | 18,000        | Cash Addback  | Clinic-paid personal expenses (auto, phone, family health insurance). |\n",
      "| + Interest Expense                | 12,000        | Cash Addback  | Assumed refinanced by buyer, so added back. |\n",
      "| + Depreciation                    | 9,000         | Non-Cash      | Accounting expense not affecting cash flow. |\n",
      "| + Amortization                    | 4,000         | Non-Cash      | Goodwill amortization from prior transactions. |\n",
      "| + Non-Recurring Expense           | 7,000         | One-Time Cost | Legal settlement in FY 2024 (not expected to repeat). |\n",
      "| **Total SDE**                     | **460,000**   |               | **Final discretionary earnings.** |\n",
      "\n",
      "---\n",
      "\n",
      "#### **3. Key Observations**  \n",
      "- **Cash vs. Non-Cash Adjustments:**  \n",
      "  - **$90,000** ($60K + $18K + $12K) are **cash-related addbacks** (owner benefits and interest).  \n",
      "  - **$13,000** ($9K + $4K) are **non-cash accounting adjustments**.  \n",
      "  - **$7,000** is a **one-time expense** excluded from recurring earnings.  \n",
      "\n",
      "- **SDE Margin:**  \n",
      "  - **29.7%** ($460K / $1,546,696 revenue), which is **strong** for a general dental practice (typical range: 25–40%).  \n",
      "\n",
      "- **Owner Compensation Impact:**  \n",
      "  - The **$60K salary addback** suggests the owner was paying themselves **above market rate**, common in profitable practices.  \n",
      "\n",
      "---\n",
      "\n",
      "#### **4. Suggested Visualizations**  \n",
      "To better illustrate SDE composition:  \n",
      "1. **Pie Chart:** Breakdown of SDE components (Net Profit vs. Addbacks).  \n",
      "2. **Bar Graph:** Comparison of cash vs. non-cash adjustments.  \n",
      "3. **Trend Line:** Historical SDE (if prior years’ data is available) to assess stability.  \n",
      "\n",
      "---\n",
      "\n",
      "#### **5. Valuation Implications**  \n",
      "- The **$460K SDE** supports a valuation range of **$2.0M–$2.5M** (using typical multiples of **4.5–5.5x SDE** for NYC practices).  \n",
      "- The **high SDE margin (29.7%)** indicates strong profitability, justifying premium multiples.  \n",
      "\n",
      "Would you like further analysis on how SDE translates into valuation or debt service coverage?\n",
      "\n",
      "📊 Recommended Visualizations:\n",
      "  - SDE Build-up Analysis: Shows how we get from Net Profit to SDE\n",
      "\n",
      "📈 Key Metrics Referenced:\n",
      "  - SDE: $460,000\n",
      "\n",
      "✅ LLM interaction module ready!\n"
     ]
    }
   ],
   "source": [
    "# Cell 4: LLM Interaction Functions\n",
    "# ===================================\n",
    "\n",
    "def categorize_question(question: str) -> str:\n",
    "    \"\"\"\n",
    "    Determines what type of question the user is asking.\n",
    "    This helps us route to the right type of analysis and visualization.\n",
    "    \n",
    "    Parameters:\n",
    "    - question: The user's question as a string\n",
    "    \n",
    "    Returns:\n",
    "    - Category name (e.g., \"SDE\", \"VALUATION\", \"TAX\", etc.)\n",
    "    \n",
    "    How it works:\n",
    "    1. Converts question to lowercase for matching\n",
    "    2. Checks for keywords associated with each category\n",
    "    3. Returns the first matching category\n",
    "    4. Defaults to \"GENERAL\" if no specific match\n",
    "    \"\"\"\n",
    "    question_lower = question.lower()\n",
    "    \n",
    "    # Check each category's keywords\n",
    "    for category, keywords in QUESTION_CATEGORIES.items():\n",
    "        for keyword in keywords:\n",
    "            if keyword in question_lower:\n",
    "                return category\n",
    "    \n",
    "    return \"GENERAL\"  # Default category\n",
    "\n",
    "def create_context_prompt(practice_data: DentalPracticeData, question: str, category: str) -> str:\n",
    "    \"\"\"\n",
    "    Creates a detailed prompt for the LLM with all relevant practice data.\n",
    "    This gives DeepSeek all the context it needs to answer accurately.\n",
    "    \n",
    "    Parameters:\n",
    "    - practice_data: The DentalPracticeData object with all financial info\n",
    "    - question: The user's question\n",
    "    - category: The question category (from categorize_question)\n",
    "    \n",
    "    Returns:\n",
    "    - A complete prompt string for the LLM\n",
    "    \n",
    "    The prompt includes:\n",
    "    1. The full practice data as JSON\n",
    "    2. Calculated metrics (margins, ratios, etc.)\n",
    "    3. Specific instructions based on question category\n",
    "    4. The user's actual question\n",
    "    \"\"\"\n",
    "    \n",
    "    # Convert all practice data to a formatted string\n",
    "    data_context = json.dumps(practice_data.data, indent=2)\n",
    "    \n",
    "    # Add calculated metrics to context\n",
    "    metrics_context = \"\\nCALCULATED METRICS:\\n\"\n",
    "    for metric_name, metric_value in practice_data.metrics.items():\n",
    "        if isinstance(metric_value, float):\n",
    "            if \"margin\" in metric_name.lower() or \"rate\" in metric_name.lower():\n",
    "                metrics_context += f\"- {metric_name}: {metric_value:.1f}%\\n\"\n",
    "            else:\n",
    "                metrics_context += f\"- {metric_name}: ${metric_value:,.0f}\\n\"\n",
    "        else:\n",
    "            metrics_context += f\"- {metric_name}: {metric_value}\\n\"\n",
    "    \n",
    "    # Create category-specific instructions\n",
    "    category_instructions = {\n",
    "        \"SDE\": \"\"\"\n",
    "        Focus on Seller's Discretionary Earnings (SDE) components and calculations.\n",
    "        Explain each addback and its justification. Show the build-up from Net Profit to SDE.\n",
    "        Highlight which components are cash vs non-cash adjustments.\n",
    "        \"\"\",\n",
    "        \n",
    "        \"VALUATION\": \"\"\"\n",
    "        Explain the valuation multiples and how they're applied.\n",
    "        Compare EBITDA-based vs Revenue-based valuations.\n",
    "        Discuss what these multiples mean in the dental industry context.\n",
    "        Mention typical ranges for dental practices if relevant.\n",
    "        \"\"\",\n",
    "        \n",
    "        \"TAX\": \"\"\"\n",
    "        Focus on tax implications and after-tax returns.\n",
    "        Explain how depreciation and amortization affect taxes.\n",
    "        Calculate after-tax cash flows for the buyer.\n",
    "        Consider the impact of the buyer's tax rate.\n",
    "        \"\"\",\n",
    "        \n",
    "        \"P&L_ANALYSIS\": \"\"\"\n",
    "        Analyze profitability metrics and margins.\n",
    "        Compare to industry benchmarks where relevant.\n",
    "        Identify areas of strong performance or concern.\n",
    "        Focus on EBITDA and operating margins.\n",
    "        \"\"\",\n",
    "        \n",
    "        \"SWOT\": \"\"\"\n",
    "        Provide detailed analysis of Strengths, Weaknesses, Opportunities, and Threats.\n",
    "        Explain how each factor impacts practice value.\n",
    "        Suggest actionable recommendations based on the SWOT.\n",
    "        \"\"\",\n",
    "        \n",
    "        \"OPERATIONS\": \"\"\"\n",
    "        Discuss operational aspects like patient base, technology, and capacity.\n",
    "        Explain how these factors affect practice value and efficiency.\n",
    "        Consider growth potential based on current operations.\n",
    "        \"\"\",\n",
    "        \n",
    "        \"DEBT\": \"\"\"\n",
    "        Analyze debt service coverage and financing implications.\n",
    "        Calculate how debt payments affect buyer cash flow.\n",
    "        Discuss the sustainability of current debt levels.\n",
    "        \"\"\",\n",
    "        \n",
    "        \"GENERAL\": \"\"\"\n",
    "        Provide a comprehensive answer based on all available data.\n",
    "        Focus on the most relevant metrics for the question asked.\n",
    "        Be specific and use actual numbers from the practice data.\n",
    "        \"\"\"\n",
    "    }\n",
    "    \n",
    "    # Build the complete prompt\n",
    "    prompt = f\"\"\"You are analyzing a dental practice valuation. Here is the complete practice data:\n",
    "\n",
    "PRACTICE DATA:\n",
    "{data_context}\n",
    "\n",
    "{metrics_context}\n",
    "\n",
    "QUESTION CATEGORY: {category}\n",
    "\n",
    "SPECIFIC INSTRUCTIONS:\n",
    "{category_instructions.get(category, category_instructions[\"GENERAL\"])}\n",
    "\n",
    "USER QUESTION: {question}\n",
    "\n",
    "Please provide a detailed, professional response that:\n",
    "1. Directly answers the question using specific data from this practice\n",
    "2. Shows relevant calculations where appropriate\n",
    "3. Provides context and interpretation of the numbers\n",
    "4. Suggests what visualizations would be helpful (we'll generate these separately)\n",
    "\n",
    "Be specific with numbers and avoid generic responses. Format your response clearly with sections if needed.\"\"\"\n",
    "    \n",
    "    return prompt\n",
    "\n",
    "def call_llm(prompt: str, temperature: float = 0.3) -> str:\n",
    "    \"\"\"\n",
    "    Sends the prompt to DeepSeek and gets the response.\n",
    "    \n",
    "    Parameters:\n",
    "    - prompt: The complete prompt to send\n",
    "    - temperature: Controls randomness (0=deterministic, 1=creative)\n",
    "                  Default 0.3 for factual financial analysis\n",
    "    \n",
    "    Returns:\n",
    "    - The LLM's response as a string\n",
    "    \n",
    "    Error handling:\n",
    "    - Catches API errors and returns helpful error messages\n",
    "    - Logs the error for debugging\n",
    "    \"\"\"\n",
    "    \n",
    "    # Prepare the API request\n",
    "    payload = {\n",
    "        \"model\": MODEL_NAME,  # deepseek/deepseek-chat-v3-0324:free\n",
    "        \"messages\": [\n",
    "            {\"role\": \"system\", \"content\": SYSTEM_PROMPT},  # Set the LLM's role\n",
    "            {\"role\": \"user\", \"content\": prompt}  # The actual question/prompt\n",
    "        ],\n",
    "        \"max_tokens\": 1500,  # Limit response length\n",
    "        \"temperature\": temperature  # Control randomness\n",
    "    }\n",
    "    \n",
    "    try:\n",
    "        # Make the API call\n",
    "        print(\"🤖 Calling DeepSeek API...\")\n",
    "        response = requests.post(\n",
    "            OPENROUTER_BASE_URL,\n",
    "            headers=HEADERS,\n",
    "            json=payload,\n",
    "            timeout=30  # 30 second timeout\n",
    "        )\n",
    "        \n",
    "        # Check if request was successful\n",
    "        if response.status_code == 200:\n",
    "            result = response.json()\n",
    "            # Extract the actual message from the response\n",
    "            llm_response = result['choices'][0]['message']['content']\n",
    "            print(\"✅ Response received!\")\n",
    "            return llm_response\n",
    "        else:\n",
    "            # API returned an error\n",
    "            error_msg = f\"API Error: {response.status_code} - {response.text}\"\n",
    "            print(f\"❌ {error_msg}\")\n",
    "            return f\"Sorry, I encountered an error: {error_msg}\"\n",
    "            \n",
    "    except requests.exceptions.Timeout:\n",
    "        return \"Sorry, the request timed out. Please try again.\"\n",
    "    except requests.exceptions.RequestException as e:\n",
    "        return f\"Sorry, I encountered a connection error: {str(e)}\"\n",
    "    except Exception as e:\n",
    "        return f\"Sorry, an unexpected error occurred: {str(e)}\"\n",
    "\n",
    "def get_visualization_recommendations(question: str, category: str, practice_data: DentalPracticeData) -> list:\n",
    "    \"\"\"\n",
    "    Determines what visualizations would be helpful for the question.\n",
    "    Returns a list of recommended chart types with specifications.\n",
    "    \n",
    "    Parameters:\n",
    "    - question: The user's question\n",
    "    - category: Question category\n",
    "    - practice_data: The practice data object\n",
    "    \n",
    "    Returns:\n",
    "    - List of dictionaries, each describing a visualization to create\n",
    "    \n",
    "    This function acts as a \"visualization router\" that decides\n",
    "    what charts would best support the answer.\n",
    "    \"\"\"\n",
    "    \n",
    "    recommendations = []\n",
    "    \n",
    "    # SDE questions → Waterfall chart showing build-up\n",
    "    if category == \"SDE\":\n",
    "        recommendations.append({\n",
    "            \"type\": \"waterfall\",\n",
    "            \"title\": \"SDE Build-up Analysis\",\n",
    "            \"description\": \"Shows how we get from Net Profit to SDE\",\n",
    "            \"data\": \"SDE components\"\n",
    "        })\n",
    "    \n",
    "    # Valuation questions → Comparison bar chart\n",
    "    elif category == \"VALUATION\":\n",
    "        recommendations.append({\n",
    "            \"type\": \"bar_comparison\",\n",
    "            \"title\": \"Valuation Methods Comparison\",\n",
    "            \"description\": \"EBITDA-based vs Revenue-based valuations\",\n",
    "            \"data\": \"Valuation multiples\"\n",
    "        })\n",
    "    \n",
    "    # P&L Analysis → Margin charts\n",
    "    elif category == \"P&L_ANALYSIS\":\n",
    "        recommendations.append({\n",
    "            \"type\": \"bar_chart\",\n",
    "            \"title\": \"Profitability Margins\",\n",
    "            \"description\": \"Key margin percentages\",\n",
    "            \"data\": \"Margins\"\n",
    "        })\n",
    "        recommendations.append({\n",
    "            \"type\": \"pie_chart\",\n",
    "            \"title\": \"Expense Breakdown\",\n",
    "            \"description\": \"Where the money goes\",\n",
    "            \"data\": \"Expense categories\"\n",
    "        })\n",
    "    \n",
    "    # SWOT → Matrix visualization\n",
    "    elif category == \"SWOT\":\n",
    "        recommendations.append({\n",
    "            \"type\": \"swot_matrix\",\n",
    "            \"title\": \"SWOT Analysis Matrix\",\n",
    "            \"description\": \"Strategic position overview\",\n",
    "            \"data\": \"SWOT\"\n",
    "        })\n",
    "    \n",
    "    # Tax questions → After-tax cash flow\n",
    "    elif category == \"TAX\":\n",
    "        recommendations.append({\n",
    "            \"type\": \"funnel_chart\",\n",
    "            \"title\": \"After-Tax Cash Flow\",\n",
    "            \"description\": \"From SDE to take-home cash\",\n",
    "            \"data\": \"Tax calculations\"\n",
    "        })\n",
    "    \n",
    "    # Debt questions → Coverage ratio gauge\n",
    "    elif category == \"DEBT\":\n",
    "        recommendations.append({\n",
    "            \"type\": \"gauge_chart\",\n",
    "            \"title\": \"Debt Service Coverage Ratio\",\n",
    "            \"description\": \"Ability to service debt\",\n",
    "            \"data\": \"DSCR\"\n",
    "        })\n",
    "    \n",
    "    # General questions → Dashboard overview\n",
    "    else:\n",
    "        recommendations.append({\n",
    "            \"type\": \"dashboard\",\n",
    "            \"title\": \"Practice Overview Dashboard\",\n",
    "            \"description\": \"Key metrics at a glance\",\n",
    "            \"data\": \"Summary metrics\"\n",
    "        })\n",
    "    \n",
    "    return recommendations\n",
    "\n",
    "def answer_question(practice_data: DentalPracticeData, question: str) -> dict:\n",
    "    \"\"\"\n",
    "    Main function that orchestrates the entire Q&A process.\n",
    "    This is what you'll call to get an answer to any question.\n",
    "    \n",
    "    Parameters:\n",
    "    - practice_data: The loaded practice data\n",
    "    - question: The user's question\n",
    "    \n",
    "    Returns:\n",
    "    - Dictionary containing:\n",
    "      - 'question': The original question\n",
    "      - 'category': Detected category\n",
    "      - 'answer': The LLM's response\n",
    "      - 'visualizations': Recommended charts to create\n",
    "      - 'metrics_used': Key metrics referenced in the answer\n",
    "    \n",
    "    Process:\n",
    "    1. Categorize the question\n",
    "    2. Build context-aware prompt\n",
    "    3. Get LLM response\n",
    "    4. Determine visualizations needed\n",
    "    5. Package everything together\n",
    "    \"\"\"\n",
    "    \n",
    "    print(f\"\\n{'='*60}\")\n",
    "    print(f\"📝 QUESTION: {question}\")\n",
    "    print(f\"{'='*60}\")\n",
    "    \n",
    "    # Step 1: Categorize the question\n",
    "    category = categorize_question(question)\n",
    "    print(f\"📊 Category detected: {category}\")\n",
    "    \n",
    "    # Step 2: Create the prompt with all context\n",
    "    prompt = create_context_prompt(practice_data, question, category)\n",
    "    \n",
    "    # Step 3: Get the LLM's answer\n",
    "    answer = call_llm(prompt)\n",
    "    \n",
    "    # Step 4: Get visualization recommendations\n",
    "    viz_recommendations = get_visualization_recommendations(question, category, practice_data)\n",
    "    \n",
    "    # Step 5: Extract key metrics mentioned (for highlighting)\n",
    "    metrics_used = []\n",
    "    if \"EBITDA\" in answer:\n",
    "        metrics_used.append(f\"EBITDA: ${practice_data.data.get('EBITDA_Trailing12', 0):,.0f}\")\n",
    "    if \"SDE\" in answer or \"Seller\" in answer:\n",
    "        metrics_used.append(f\"SDE: ${practice_data.data.get('Total_SDE', 0):,.0f}\")\n",
    "    if \"Revenue\" in answer:\n",
    "        metrics_used.append(f\"Revenue: ${practice_data.data.get('Revenue_Trailing12', 0):,.0f}\")\n",
    "    \n",
    "    # Return complete response package\n",
    "    result = {\n",
    "        'question': question,\n",
    "        'category': category,\n",
    "        'answer': answer,\n",
    "        'visualizations': viz_recommendations,\n",
    "        'metrics_used': metrics_used\n",
    "    }\n",
    "    \n",
    "    return result\n",
    "\n",
    "# ===================================\n",
    "# TEST THE Q&A SYSTEM\n",
    "# ===================================\n",
    "\n",
    "# Make sure we have practice data loaded\n",
    "if 'practice_data' not in locals():\n",
    "    print(\"⚠️ Loading practice data first...\")\n",
    "    practice_data = DentalPracticeData(json_path=\"demo_clinic.json\")\n",
    "\n",
    "# Test with different types of questions\n",
    "test_questions = [\n",
    "    \"What is the SDE for this practice and how is it calculated?\",\n",
    "    \"What is this practice worth based on the valuation multiples?\",\n",
    "    \"Can this practice afford its debt payments?\"\n",
    "]\n",
    "\n",
    "print(\"\\n\" + \"=\"*60)\n",
    "print(\"🧪 TESTING Q&A SYSTEM\")\n",
    "print(\"=\"*60)\n",
    "\n",
    "# Test with the first question\n",
    "test_question = test_questions[0]\n",
    "result = answer_question(practice_data, test_question)\n",
    "\n",
    "print(f\"\\n💡 ANSWER:\\n{result['answer']}\")\n",
    "print(f\"\\n📊 Recommended Visualizations:\")\n",
    "for viz in result['visualizations']:\n",
    "    print(f\"  - {viz['title']}: {viz['description']}\")\n",
    "print(f\"\\n📈 Key Metrics Referenced:\")\n",
    "for metric in result['metrics_used']:\n",
    "    print(f\"  - {metric}\")\n",
    "\n",
    "print(\"\\n✅ LLM interaction module ready!\")"
   ]
  },
  {
   "cell_type": "code",
   "execution_count": 17,
   "id": "f48499ce-373d-4346-a602-268f31749ea1",
   "metadata": {},
   "outputs": [
    {
     "name": "stdout",
     "output_type": "stream",
     "text": [
      "============================================================\n",
      "🎨 TESTING VISUALIZATION FUNCTIONS\n",
      "============================================================\n",
      "\n",
      "1. Creating SDE Waterfall Chart...\n",
      "   Purpose: Shows step-by-step how Net Profit becomes SDE\n"
     ]
    },
    {
     "data": {
      "application/vnd.plotly.v1+json": {
       "config": {
        "plotlyServerURL": "https://plot.ly"
       },
       "data": [
        {
         "connector": {
          "line": {
           "color": "rgb(63, 63, 63)"
          }
         },
         "decreasing": {
          "marker": {
           "color": "#C73E1D"
          }
         },
         "increasing": {
          "marker": {
           "color": "#F18F01"
          }
         },
         "measure": [
          "absolute",
          "relative",
          "relative",
          "relative",
          "relative",
          "relative",
          "relative",
          "total"
         ],
         "name": "SDE Build-up",
         "orientation": "v",
         "text": [
          "$350,000",
          "+$60,000",
          "+$18,000",
          "+$12,000",
          "+$9,000",
          "+$4,000",
          "+$7,000",
          "$460,000"
         ],
         "textposition": "outside",
         "totals": {
          "marker": {
           "color": "#2E86AB"
          }
         },
         "type": "waterfall",
         "x": [
          "Net Profit (Pre-tax)",
          "Owner Salary Adjustment",
          "Owner Perks",
          "Interest",
          "Depreciation",
          "Amortization",
          "Non-Recurring",
          "Total SDE"
         ],
         "y": [
          350000,
          60000,
          18000,
          12000,
          9000,
          4000,
          7000,
          null
         ]
        }
       ],
       "layout": {
        "autosize": true,
        "hovermode": "x unified",
        "plot_bgcolor": "white",
        "showlegend": false,
        "template": {
         "data": {
          "bar": [
           {
            "error_x": {
             "color": "#2a3f5f"
            },
            "error_y": {
             "color": "#2a3f5f"
            },
            "marker": {
             "line": {
              "color": "#E5ECF6",
              "width": 0.5
             },
             "pattern": {
              "fillmode": "overlay",
              "size": 10,
              "solidity": 0.2
             }
            },
            "type": "bar"
           }
          ],
          "barpolar": [
           {
            "marker": {
             "line": {
              "color": "#E5ECF6",
              "width": 0.5
             },
             "pattern": {
              "fillmode": "overlay",
              "size": 10,
              "solidity": 0.2
             }
            },
            "type": "barpolar"
           }
          ],
          "carpet": [
           {
            "aaxis": {
             "endlinecolor": "#2a3f5f",
             "gridcolor": "white",
             "linecolor": "white",
             "minorgridcolor": "white",
             "startlinecolor": "#2a3f5f"
            },
            "baxis": {
             "endlinecolor": "#2a3f5f",
             "gridcolor": "white",
             "linecolor": "white",
             "minorgridcolor": "white",
             "startlinecolor": "#2a3f5f"
            },
            "type": "carpet"
           }
          ],
          "choropleth": [
           {
            "colorbar": {
             "outlinewidth": 0,
             "ticks": ""
            },
            "type": "choropleth"
           }
          ],
          "contour": [
           {
            "colorbar": {
             "outlinewidth": 0,
             "ticks": ""
            },
            "colorscale": [
             [
              0,
              "#0d0887"
             ],
             [
              0.1111111111111111,
              "#46039f"
             ],
             [
              0.2222222222222222,
              "#7201a8"
             ],
             [
              0.3333333333333333,
              "#9c179e"
             ],
             [
              0.4444444444444444,
              "#bd3786"
             ],
             [
              0.5555555555555556,
              "#d8576b"
             ],
             [
              0.6666666666666666,
              "#ed7953"
             ],
             [
              0.7777777777777778,
              "#fb9f3a"
             ],
             [
              0.8888888888888888,
              "#fdca26"
             ],
             [
              1,
              "#f0f921"
             ]
            ],
            "type": "contour"
           }
          ],
          "contourcarpet": [
           {
            "colorbar": {
             "outlinewidth": 0,
             "ticks": ""
            },
            "type": "contourcarpet"
           }
          ],
          "heatmap": [
           {
            "colorbar": {
             "outlinewidth": 0,
             "ticks": ""
            },
            "colorscale": [
             [
              0,
              "#0d0887"
             ],
             [
              0.1111111111111111,
              "#46039f"
             ],
             [
              0.2222222222222222,
              "#7201a8"
             ],
             [
              0.3333333333333333,
              "#9c179e"
             ],
             [
              0.4444444444444444,
              "#bd3786"
             ],
             [
              0.5555555555555556,
              "#d8576b"
             ],
             [
              0.6666666666666666,
              "#ed7953"
             ],
             [
              0.7777777777777778,
              "#fb9f3a"
             ],
             [
              0.8888888888888888,
              "#fdca26"
             ],
             [
              1,
              "#f0f921"
             ]
            ],
            "type": "heatmap"
           }
          ],
          "heatmapgl": [
           {
            "colorbar": {
             "outlinewidth": 0,
             "ticks": ""
            },
            "colorscale": [
             [
              0,
              "#0d0887"
             ],
             [
              0.1111111111111111,
              "#46039f"
             ],
             [
              0.2222222222222222,
              "#7201a8"
             ],
             [
              0.3333333333333333,
              "#9c179e"
             ],
             [
              0.4444444444444444,
              "#bd3786"
             ],
             [
              0.5555555555555556,
              "#d8576b"
             ],
             [
              0.6666666666666666,
              "#ed7953"
             ],
             [
              0.7777777777777778,
              "#fb9f3a"
             ],
             [
              0.8888888888888888,
              "#fdca26"
             ],
             [
              1,
              "#f0f921"
             ]
            ],
            "type": "heatmapgl"
           }
          ],
          "histogram": [
           {
            "marker": {
             "pattern": {
              "fillmode": "overlay",
              "size": 10,
              "solidity": 0.2
             }
            },
            "type": "histogram"
           }
          ],
          "histogram2d": [
           {
            "colorbar": {
             "outlinewidth": 0,
             "ticks": ""
            },
            "colorscale": [
             [
              0,
              "#0d0887"
             ],
             [
              0.1111111111111111,
              "#46039f"
             ],
             [
              0.2222222222222222,
              "#7201a8"
             ],
             [
              0.3333333333333333,
              "#9c179e"
             ],
             [
              0.4444444444444444,
              "#bd3786"
             ],
             [
              0.5555555555555556,
              "#d8576b"
             ],
             [
              0.6666666666666666,
              "#ed7953"
             ],
             [
              0.7777777777777778,
              "#fb9f3a"
             ],
             [
              0.8888888888888888,
              "#fdca26"
             ],
             [
              1,
              "#f0f921"
             ]
            ],
            "type": "histogram2d"
           }
          ],
          "histogram2dcontour": [
           {
            "colorbar": {
             "outlinewidth": 0,
             "ticks": ""
            },
            "colorscale": [
             [
              0,
              "#0d0887"
             ],
             [
              0.1111111111111111,
              "#46039f"
             ],
             [
              0.2222222222222222,
              "#7201a8"
             ],
             [
              0.3333333333333333,
              "#9c179e"
             ],
             [
              0.4444444444444444,
              "#bd3786"
             ],
             [
              0.5555555555555556,
              "#d8576b"
             ],
             [
              0.6666666666666666,
              "#ed7953"
             ],
             [
              0.7777777777777778,
              "#fb9f3a"
             ],
             [
              0.8888888888888888,
              "#fdca26"
             ],
             [
              1,
              "#f0f921"
             ]
            ],
            "type": "histogram2dcontour"
           }
          ],
          "mesh3d": [
           {
            "colorbar": {
             "outlinewidth": 0,
             "ticks": ""
            },
            "type": "mesh3d"
           }
          ],
          "parcoords": [
           {
            "line": {
             "colorbar": {
              "outlinewidth": 0,
              "ticks": ""
             }
            },
            "type": "parcoords"
           }
          ],
          "pie": [
           {
            "automargin": true,
            "type": "pie"
           }
          ],
          "scatter": [
           {
            "fillpattern": {
             "fillmode": "overlay",
             "size": 10,
             "solidity": 0.2
            },
            "type": "scatter"
           }
          ],
          "scatter3d": [
           {
            "line": {
             "colorbar": {
              "outlinewidth": 0,
              "ticks": ""
             }
            },
            "marker": {
             "colorbar": {
              "outlinewidth": 0,
              "ticks": ""
             }
            },
            "type": "scatter3d"
           }
          ],
          "scattercarpet": [
           {
            "marker": {
             "colorbar": {
              "outlinewidth": 0,
              "ticks": ""
             }
            },
            "type": "scattercarpet"
           }
          ],
          "scattergeo": [
           {
            "marker": {
             "colorbar": {
              "outlinewidth": 0,
              "ticks": ""
             }
            },
            "type": "scattergeo"
           }
          ],
          "scattergl": [
           {
            "marker": {
             "colorbar": {
              "outlinewidth": 0,
              "ticks": ""
             }
            },
            "type": "scattergl"
           }
          ],
          "scattermapbox": [
           {
            "marker": {
             "colorbar": {
              "outlinewidth": 0,
              "ticks": ""
             }
            },
            "type": "scattermapbox"
           }
          ],
          "scatterpolar": [
           {
            "marker": {
             "colorbar": {
              "outlinewidth": 0,
              "ticks": ""
             }
            },
            "type": "scatterpolar"
           }
          ],
          "scatterpolargl": [
           {
            "marker": {
             "colorbar": {
              "outlinewidth": 0,
              "ticks": ""
             }
            },
            "type": "scatterpolargl"
           }
          ],
          "scatterternary": [
           {
            "marker": {
             "colorbar": {
              "outlinewidth": 0,
              "ticks": ""
             }
            },
            "type": "scatterternary"
           }
          ],
          "surface": [
           {
            "colorbar": {
             "outlinewidth": 0,
             "ticks": ""
            },
            "colorscale": [
             [
              0,
              "#0d0887"
             ],
             [
              0.1111111111111111,
              "#46039f"
             ],
             [
              0.2222222222222222,
              "#7201a8"
             ],
             [
              0.3333333333333333,
              "#9c179e"
             ],
             [
              0.4444444444444444,
              "#bd3786"
             ],
             [
              0.5555555555555556,
              "#d8576b"
             ],
             [
              0.6666666666666666,
              "#ed7953"
             ],
             [
              0.7777777777777778,
              "#fb9f3a"
             ],
             [
              0.8888888888888888,
              "#fdca26"
             ],
             [
              1,
              "#f0f921"
             ]
            ],
            "type": "surface"
           }
          ],
          "table": [
           {
            "cells": {
             "fill": {
              "color": "#EBF0F8"
             },
             "line": {
              "color": "white"
             }
            },
            "header": {
             "fill": {
              "color": "#C8D4E3"
             },
             "line": {
              "color": "white"
             }
            },
            "type": "table"
           }
          ]
         },
         "layout": {
          "annotationdefaults": {
           "arrowcolor": "#2a3f5f",
           "arrowhead": 0,
           "arrowwidth": 1
          },
          "autotypenumbers": "strict",
          "coloraxis": {
           "colorbar": {
            "outlinewidth": 0,
            "ticks": ""
           }
          },
          "colorscale": {
           "diverging": [
            [
             0,
             "#8e0152"
            ],
            [
             0.1,
             "#c51b7d"
            ],
            [
             0.2,
             "#de77ae"
            ],
            [
             0.3,
             "#f1b6da"
            ],
            [
             0.4,
             "#fde0ef"
            ],
            [
             0.5,
             "#f7f7f7"
            ],
            [
             0.6,
             "#e6f5d0"
            ],
            [
             0.7,
             "#b8e186"
            ],
            [
             0.8,
             "#7fbc41"
            ],
            [
             0.9,
             "#4d9221"
            ],
            [
             1,
             "#276419"
            ]
           ],
           "sequential": [
            [
             0,
             "#0d0887"
            ],
            [
             0.1111111111111111,
             "#46039f"
            ],
            [
             0.2222222222222222,
             "#7201a8"
            ],
            [
             0.3333333333333333,
             "#9c179e"
            ],
            [
             0.4444444444444444,
             "#bd3786"
            ],
            [
             0.5555555555555556,
             "#d8576b"
            ],
            [
             0.6666666666666666,
             "#ed7953"
            ],
            [
             0.7777777777777778,
             "#fb9f3a"
            ],
            [
             0.8888888888888888,
             "#fdca26"
            ],
            [
             1,
             "#f0f921"
            ]
           ],
           "sequentialminus": [
            [
             0,
             "#0d0887"
            ],
            [
             0.1111111111111111,
             "#46039f"
            ],
            [
             0.2222222222222222,
             "#7201a8"
            ],
            [
             0.3333333333333333,
             "#9c179e"
            ],
            [
             0.4444444444444444,
             "#bd3786"
            ],
            [
             0.5555555555555556,
             "#d8576b"
            ],
            [
             0.6666666666666666,
             "#ed7953"
            ],
            [
             0.7777777777777778,
             "#fb9f3a"
            ],
            [
             0.8888888888888888,
             "#fdca26"
            ],
            [
             1,
             "#f0f921"
            ]
           ]
          },
          "colorway": [
           "#636efa",
           "#EF553B",
           "#00cc96",
           "#ab63fa",
           "#FFA15A",
           "#19d3f3",
           "#FF6692",
           "#B6E880",
           "#FF97FF",
           "#FECB52"
          ],
          "font": {
           "color": "#2a3f5f"
          },
          "geo": {
           "bgcolor": "white",
           "lakecolor": "white",
           "landcolor": "#E5ECF6",
           "showlakes": true,
           "showland": true,
           "subunitcolor": "white"
          },
          "hoverlabel": {
           "align": "left"
          },
          "hovermode": "closest",
          "mapbox": {
           "style": "light"
          },
          "paper_bgcolor": "white",
          "plot_bgcolor": "#E5ECF6",
          "polar": {
           "angularaxis": {
            "gridcolor": "white",
            "linecolor": "white",
            "ticks": ""
           },
           "bgcolor": "#E5ECF6",
           "radialaxis": {
            "gridcolor": "white",
            "linecolor": "white",
            "ticks": ""
           }
          },
          "scene": {
           "xaxis": {
            "backgroundcolor": "#E5ECF6",
            "gridcolor": "white",
            "gridwidth": 2,
            "linecolor": "white",
            "showbackground": true,
            "ticks": "",
            "zerolinecolor": "white"
           },
           "yaxis": {
            "backgroundcolor": "#E5ECF6",
            "gridcolor": "white",
            "gridwidth": 2,
            "linecolor": "white",
            "showbackground": true,
            "ticks": "",
            "zerolinecolor": "white"
           },
           "zaxis": {
            "backgroundcolor": "#E5ECF6",
            "gridcolor": "white",
            "gridwidth": 2,
            "linecolor": "white",
            "showbackground": true,
            "ticks": "",
            "zerolinecolor": "white"
           }
          },
          "shapedefaults": {
           "line": {
            "color": "#2a3f5f"
           }
          },
          "ternary": {
           "aaxis": {
            "gridcolor": "white",
            "linecolor": "white",
            "ticks": ""
           },
           "baxis": {
            "gridcolor": "white",
            "linecolor": "white",
            "ticks": ""
           },
           "bgcolor": "#E5ECF6",
           "caxis": {
            "gridcolor": "white",
            "linecolor": "white",
            "ticks": ""
           }
          },
          "title": {
           "x": 0.05
          },
          "xaxis": {
           "automargin": true,
           "gridcolor": "white",
           "linecolor": "white",
           "ticks": "",
           "title": {
            "standoff": 15
           },
           "zerolinecolor": "white",
           "zerolinewidth": 2
          },
          "yaxis": {
           "automargin": true,
           "gridcolor": "white",
           "linecolor": "white",
           "ticks": "",
           "title": {
            "standoff": 15
           },
           "zerolinecolor": "white",
           "zerolinewidth": 2
          }
         }
        },
        "title": {
         "text": "SDE Build-up Analysis - Demo Dental NYC",
         "x": 0.5,
         "xanchor": "center"
        },
        "xaxis": {
         "autorange": false,
         "range": [
          -4.5,
          11.5
         ],
         "title": {
          "text": ""
         },
         "type": "category"
        },
        "yaxis": {
         "autorange": false,
         "gridcolor": "lightgray",
         "range": [
          -242105.26315789475,
          726315.7894736843
         ],
         "tickformat": "$,.0f",
         "title": {
          "text": "Amount ($)"
         },
         "type": "linear"
        }
       }
      },
      "image/png": "[encoded data removed]",
      "text/html": [
       "<div>                            <div id=\"a702f294-32dd-4cc2-ae40-4d94f731bb28\" class=\"plotly-graph-div\" style=\"height:500px; width:100%;\"></div>            <script type=\"text/javascript\">                require([\"plotly\"], function(Plotly) {                    window.PLOTLYENV=window.PLOTLYENV || {};                                    if (document.getElementById(\"a702f294-32dd-4cc2-ae40-4d94f731bb28\")) {                    Plotly.newPlot(                        \"a702f294-32dd-4cc2-ae40-4d94f731bb28\",                        [{\"connector\":{\"line\":{\"color\":\"rgb(63, 63, 63)\"}},\"decreasing\":{\"marker\":{\"color\":\"#C73E1D\"}},\"increasing\":{\"marker\":{\"color\":\"#F18F01\"}},\"measure\":[\"absolute\",\"relative\",\"relative\",\"relative\",\"relative\",\"relative\",\"relative\",\"total\"],\"name\":\"SDE Build-up\",\"orientation\":\"v\",\"text\":[\"$350,000\",\"+$60,000\",\"+$18,000\",\"+$12,000\",\"+$9,000\",\"+$4,000\",\"+$7,000\",\"$460,000\"],\"textposition\":\"outside\",\"totals\":{\"marker\":{\"color\":\"#2E86AB\"}},\"x\":[\"Net Profit (Pre-tax)\",\"Owner Salary Adjustment\",\"Owner Perks\",\"Interest\",\"Depreciation\",\"Amortization\",\"Non-Recurring\",\"Total SDE\"],\"y\":[350000,60000,18000,12000,9000,4000,7000,null],\"type\":\"waterfall\"}],                        {\"template\":{\"data\":{\"histogram2dcontour\":[{\"type\":\"histogram2dcontour\",\"colorbar\":{\"outlinewidth\":0,\"ticks\":\"\"},\"colorscale\":[[0.0,\"#0d0887\"],[0.1111111111111111,\"#46039f\"],[0.2222222222222222,\"#7201a8\"],[0.3333333333333333,\"#9c179e\"],[0.4444444444444444,\"#bd3786\"],[0.5555555555555556,\"#d8576b\"],[0.6666666666666666,\"#ed7953\"],[0.7777777777777778,\"#fb9f3a\"],[0.8888888888888888,\"#fdca26\"],[1.0,\"#f0f921\"]]}],\"choropleth\":[{\"type\":\"choropleth\",\"colorbar\":{\"outlinewidth\":0,\"ticks\":\"\"}}],\"histogram2d\":[{\"type\":\"histogram2d\",\"colorbar\":{\"outlinewidth\":0,\"ticks\":\"\"},\"colorscale\":[[0.0,\"#0d0887\"],[0.1111111111111111,\"#46039f\"],[0.2222222222222222,\"#7201a8\"],[0.3333333333333333,\"#9c179e\"],[0.4444444444444444,\"#bd3786\"],[0.5555555555555556,\"#d8576b\"],[0.6666666666666666,\"#ed7953\"],[0.7777777777777778,\"#fb9f3a\"],[0.8888888888888888,\"#fdca26\"],[1.0,\"#f0f921\"]]}],\"heatmap\":[{\"type\":\"heatmap\",\"colorbar\":{\"outlinewidth\":0,\"ticks\":\"\"},\"colorscale\":[[0.0,\"#0d0887\"],[0.1111111111111111,\"#46039f\"],[0.2222222222222222,\"#7201a8\"],[0.3333333333333333,\"#9c179e\"],[0.4444444444444444,\"#bd3786\"],[0.5555555555555556,\"#d8576b\"],[0.6666666666666666,\"#ed7953\"],[0.7777777777777778,\"#fb9f3a\"],[0.8888888888888888,\"#fdca26\"],[1.0,\"#f0f921\"]]}],\"heatmapgl\":[{\"type\":\"heatmapgl\",\"colorbar\":{\"outlinewidth\":0,\"ticks\":\"\"},\"colorscale\":[[0.0,\"#0d0887\"],[0.1111111111111111,\"#46039f\"],[0.2222222222222222,\"#7201a8\"],[0.3333333333333333,\"#9c179e\"],[0.4444444444444444,\"#bd3786\"],[0.5555555555555556,\"#d8576b\"],[0.6666666666666666,\"#ed7953\"],[0.7777777777777778,\"#fb9f3a\"],[0.8888888888888888,\"#fdca26\"],[1.0,\"#f0f921\"]]}],\"contourcarpet\":[{\"type\":\"contourcarpet\",\"colorbar\":{\"outlinewidth\":0,\"ticks\":\"\"}}],\"contour\":[{\"type\":\"contour\",\"colorbar\":{\"outlinewidth\":0,\"ticks\":\"\"},\"colorscale\":[[0.0,\"#0d0887\"],[0.1111111111111111,\"#46039f\"],[0.2222222222222222,\"#7201a8\"],[0.3333333333333333,\"#9c179e\"],[0.4444444444444444,\"#bd3786\"],[0.5555555555555556,\"#d8576b\"],[0.6666666666666666,\"#ed7953\"],[0.7777777777777778,\"#fb9f3a\"],[0.8888888888888888,\"#fdca26\"],[1.0,\"#f0f921\"]]}],\"surface\":[{\"type\":\"surface\",\"colorbar\":{\"outlinewidth\":0,\"ticks\":\"\"},\"colorscale\":[[0.0,\"#0d0887\"],[0.1111111111111111,\"#46039f\"],[0.2222222222222222,\"#7201a8\"],[0.3333333333333333,\"#9c179e\"],[0.4444444444444444,\"#bd3786\"],[0.5555555555555556,\"#d8576b\"],[0.6666666666666666,\"#ed7953\"],[0.7777777777777778,\"#fb9f3a\"],[0.8888888888888888,\"#fdca26\"],[1.0,\"#f0f921\"]]}],\"mesh3d\":[{\"type\":\"mesh3d\",\"colorbar\":{\"outlinewidth\":0,\"ticks\":\"\"}}],\"scatter\":[{\"fillpattern\":{\"fillmode\":\"overlay\",\"size\":10,\"solidity\":0.2},\"type\":\"scatter\"}],\"parcoords\":[{\"type\":\"parcoords\",\"line\":{\"colorbar\":{\"outlinewidth\":0,\"ticks\":\"\"}}}],\"scatterpolargl\":[{\"type\":\"scatterpolargl\",\"marker\":{\"colorbar\":{\"outlinewidth\":0,\"ticks\":\"\"}}}],\"bar\":[{\"error_x\":{\"color\":\"#2a3f5f\"},\"error_y\":{\"color\":\"#2a3f5f\"},\"marker\":{\"line\":{\"color\":\"#E5ECF6\",\"width\":0.5},\"pattern\":{\"fillmode\":\"overlay\",\"size\":10,\"solidity\":0.2}},\"type\":\"bar\"}],\"scattergeo\":[{\"type\":\"scattergeo\",\"marker\":{\"colorbar\":{\"outlinewidth\":0,\"ticks\":\"\"}}}],\"scatterpolar\":[{\"type\":\"scatterpolar\",\"marker\":{\"colorbar\":{\"outlinewidth\":0,\"ticks\":\"\"}}}],\"histogram\":[{\"marker\":{\"pattern\":{\"fillmode\":\"overlay\",\"size\":10,\"solidity\":0.2}},\"type\":\"histogram\"}],\"scattergl\":[{\"type\":\"scattergl\",\"marker\":{\"colorbar\":{\"outlinewidth\":0,\"ticks\":\"\"}}}],\"scatter3d\":[{\"type\":\"scatter3d\",\"line\":{\"colorbar\":{\"outlinewidth\":0,\"ticks\":\"\"}},\"marker\":{\"colorbar\":{\"outlinewidth\":0,\"ticks\":\"\"}}}],\"scattermapbox\":[{\"type\":\"scattermapbox\",\"marker\":{\"colorbar\":{\"outlinewidth\":0,\"ticks\":\"\"}}}],\"scatterternary\":[{\"type\":\"scatterternary\",\"marker\":{\"colorbar\":{\"outlinewidth\":0,\"ticks\":\"\"}}}],\"scattercarpet\":[{\"type\":\"scattercarpet\",\"marker\":{\"colorbar\":{\"outlinewidth\":0,\"ticks\":\"\"}}}],\"carpet\":[{\"aaxis\":{\"endlinecolor\":\"#2a3f5f\",\"gridcolor\":\"white\",\"linecolor\":\"white\",\"minorgridcolor\":\"white\",\"startlinecolor\":\"#2a3f5f\"},\"baxis\":{\"endlinecolor\":\"#2a3f5f\",\"gridcolor\":\"white\",\"linecolor\":\"white\",\"minorgridcolor\":\"white\",\"startlinecolor\":\"#2a3f5f\"},\"type\":\"carpet\"}],\"table\":[{\"cells\":{\"fill\":{\"color\":\"#EBF0F8\"},\"line\":{\"color\":\"white\"}},\"header\":{\"fill\":{\"color\":\"#C8D4E3\"},\"line\":{\"color\":\"white\"}},\"type\":\"table\"}],\"barpolar\":[{\"marker\":{\"line\":{\"color\":\"#E5ECF6\",\"width\":0.5},\"pattern\":{\"fillmode\":\"overlay\",\"size\":10,\"solidity\":0.2}},\"type\":\"barpolar\"}],\"pie\":[{\"automargin\":true,\"type\":\"pie\"}]},\"layout\":{\"autotypenumbers\":\"strict\",\"colorway\":[\"#636efa\",\"#EF553B\",\"#00cc96\",\"#ab63fa\",\"#FFA15A\",\"#19d3f3\",\"#FF6692\",\"#B6E880\",\"#FF97FF\",\"#FECB52\"],\"font\":{\"color\":\"#2a3f5f\"},\"hovermode\":\"closest\",\"hoverlabel\":{\"align\":\"left\"},\"paper_bgcolor\":\"white\",\"plot_bgcolor\":\"#E5ECF6\",\"polar\":{\"bgcolor\":\"#E5ECF6\",\"angularaxis\":{\"gridcolor\":\"white\",\"linecolor\":\"white\",\"ticks\":\"\"},\"radialaxis\":{\"gridcolor\":\"white\",\"linecolor\":\"white\",\"ticks\":\"\"}},\"ternary\":{\"bgcolor\":\"#E5ECF6\",\"aaxis\":{\"gridcolor\":\"white\",\"linecolor\":\"white\",\"ticks\":\"\"},\"baxis\":{\"gridcolor\":\"white\",\"linecolor\":\"white\",\"ticks\":\"\"},\"caxis\":{\"gridcolor\":\"white\",\"linecolor\":\"white\",\"ticks\":\"\"}},\"coloraxis\":{\"colorbar\":{\"outlinewidth\":0,\"ticks\":\"\"}},\"colorscale\":{\"sequential\":[[0.0,\"#0d0887\"],[0.1111111111111111,\"#46039f\"],[0.2222222222222222,\"#7201a8\"],[0.3333333333333333,\"#9c179e\"],[0.4444444444444444,\"#bd3786\"],[0.5555555555555556,\"#d8576b\"],[0.6666666666666666,\"#ed7953\"],[0.7777777777777778,\"#fb9f3a\"],[0.8888888888888888,\"#fdca26\"],[1.0,\"#f0f921\"]],\"sequentialminus\":[[0.0,\"#0d0887\"],[0.1111111111111111,\"#46039f\"],[0.2222222222222222,\"#7201a8\"],[0.3333333333333333,\"#9c179e\"],[0.4444444444444444,\"#bd3786\"],[0.5555555555555556,\"#d8576b\"],[0.6666666666666666,\"#ed7953\"],[0.7777777777777778,\"#fb9f3a\"],[0.8888888888888888,\"#fdca26\"],[1.0,\"#f0f921\"]],\"diverging\":[[0,\"#8e0152\"],[0.1,\"#c51b7d\"],[0.2,\"#de77ae\"],[0.3,\"#f1b6da\"],[0.4,\"#fde0ef\"],[0.5,\"#f7f7f7\"],[0.6,\"#e6f5d0\"],[0.7,\"#b8e186\"],[0.8,\"#7fbc41\"],[0.9,\"#4d9221\"],[1,\"#276419\"]]},\"xaxis\":{\"gridcolor\":\"white\",\"linecolor\":\"white\",\"ticks\":\"\",\"title\":{\"standoff\":15},\"zerolinecolor\":\"white\",\"automargin\":true,\"zerolinewidth\":2},\"yaxis\":{\"gridcolor\":\"white\",\"linecolor\":\"white\",\"ticks\":\"\",\"title\":{\"standoff\":15},\"zerolinecolor\":\"white\",\"automargin\":true,\"zerolinewidth\":2},\"scene\":{\"xaxis\":{\"backgroundcolor\":\"#E5ECF6\",\"gridcolor\":\"white\",\"linecolor\":\"white\",\"showbackground\":true,\"ticks\":\"\",\"zerolinecolor\":\"white\",\"gridwidth\":2},\"yaxis\":{\"backgroundcolor\":\"#E5ECF6\",\"gridcolor\":\"white\",\"linecolor\":\"white\",\"showbackground\":true,\"ticks\":\"\",\"zerolinecolor\":\"white\",\"gridwidth\":2},\"zaxis\":{\"backgroundcolor\":\"#E5ECF6\",\"gridcolor\":\"white\",\"linecolor\":\"white\",\"showbackground\":true,\"ticks\":\"\",\"zerolinecolor\":\"white\",\"gridwidth\":2}},\"shapedefaults\":{\"line\":{\"color\":\"#2a3f5f\"}},\"annotationdefaults\":{\"arrowcolor\":\"#2a3f5f\",\"arrowhead\":0,\"arrowwidth\":1},\"geo\":{\"bgcolor\":\"white\",\"landcolor\":\"#E5ECF6\",\"subunitcolor\":\"white\",\"showland\":true,\"showlakes\":true,\"lakecolor\":\"white\"},\"title\":{\"x\":0.05},\"mapbox\":{\"style\":\"light\"}}},\"title\":{\"text\":\"SDE Build-up Analysis - Demo Dental NYC\",\"x\":0.5,\"xanchor\":\"center\"},\"yaxis\":{\"title\":{\"text\":\"Amount ($)\"},\"gridcolor\":\"lightgray\",\"tickformat\":\"$,.0f\"},\"xaxis\":{\"title\":{\"text\":\"\"}},\"height\":500,\"showlegend\":false,\"hovermode\":\"x unified\",\"plot_bgcolor\":\"white\"},                        {\"responsive\": true}                    ).then(function(){\n",
       "                            \n",
       "var gd = document.getElementById('a702f294-32dd-4cc2-ae40-4d94f731bb28');\n",
       "var x = new MutationObserver(function (mutations, observer) {{\n",
       "        var display = window.getComputedStyle(gd).display;\n",
       "        if (!display || display === 'none') {{\n",
       "            console.log([gd, 'removed!']);\n",
       "            Plotly.purge(gd);\n",
       "            observer.disconnect();\n",
       "        }}\n",
       "}});\n",
       "\n",
       "// Listen for the removal of the full notebook cells\n",
       "var notebookContainer = gd.closest('#notebook-container');\n",
       "if (notebookContainer) {{\n",
       "    x.observe(notebookContainer, {childList: true});\n",
       "}}\n",
       "\n",
       "// Listen for the clearing of the current output cell\n",
       "var outputEl = gd.closest('.output');\n",
       "if (outputEl) {{\n",
       "    x.observe(outputEl, {childList: true});\n",
       "}}\n",
       "\n",
       "                        })                };                });            </script>        </div>"
      ]
     },
     "metadata": {},
     "output_type": "display_data"
    },
    {
     "name": "stdout",
     "output_type": "stream",
     "text": [
      "   ✅ SDE Waterfall created\n",
      "\n",
      "2. Creating Valuation Comparison Chart...\n",
      "   Purpose: Shows practice value using different methods\n"
     ]
    },
    {
     "data": {
      "application/vnd.plotly.v1+json": {
       "config": {
        "plotlyServerURL": "https://plot.ly"
       },
       "data": [
        {
         "marker": {
          "color": [
           "#2E86AB",
           "#A23B72"
          ]
         },
         "name": "Valuation",
         "text": [
          "$2,453,854",
          "$1,237,357"
         ],
         "textposition": "outside",
         "type": "bar",
         "x": [
          "EBITDA-Based",
          "Revenue-Based"
         ],
         "y": [
          2453854.5,
          1237356.8
         ]
        }
       ],
       "layout": {
        "annotations": [
         {
          "showarrow": false,
          "text": "Average: $1,845,606",
          "x": 1,
          "xanchor": "left",
          "xref": "x domain",
          "y": 1845605.65,
          "yanchor": "middle",
          "yref": "y"
         },
         {
          "bgcolor": "white",
          "bordercolor": "gray",
          "borderwidth": 1,
          "showarrow": false,
          "text": "EBITDA Multiple: 4.5x<br>Revenue Multiple: 0.8x",
          "x": 0.02,
          "xref": "paper",
          "y": 0.98,
          "yref": "paper"
         }
        ],
        "autosize": true,
        "bargap": 0.3,
        "plot_bgcolor": "white",
        "shapes": [
         {
          "line": {
           "color": "gray",
           "dash": "dash"
          },
          "type": "line",
          "x0": 0,
          "x1": 1,
          "xref": "x domain",
          "y0": 1845605.65,
          "y1": 1845605.65,
          "yref": "y"
         }
        ],
        "showlegend": false,
        "template": {
         "data": {
          "bar": [
           {
            "error_x": {
             "color": "#2a3f5f"
            },
            "error_y": {
             "color": "#2a3f5f"
            },
            "marker": {
             "line": {
              "color": "#E5ECF6",
              "width": 0.5
             },
             "pattern": {
              "fillmode": "overlay",
              "size": 10,
              "solidity": 0.2
             }
            },
            "type": "bar"
           }
          ],
          "barpolar": [
           {
            "marker": {
             "line": {
              "color": "#E5ECF6",
              "width": 0.5
             },
             "pattern": {
              "fillmode": "overlay",
              "size": 10,
              "solidity": 0.2
             }
            },
            "type": "barpolar"
           }
          ],
          "carpet": [
           {
            "aaxis": {
             "endlinecolor": "#2a3f5f",
             "gridcolor": "white",
             "linecolor": "white",
             "minorgridcolor": "white",
             "startlinecolor": "#2a3f5f"
            },
            "baxis": {
             "endlinecolor": "#2a3f5f",
             "gridcolor": "white",
             "linecolor": "white",
             "minorgridcolor": "white",
             "startlinecolor": "#2a3f5f"
            },
            "type": "carpet"
           }
          ],
          "choropleth": [
           {
            "colorbar": {
             "outlinewidth": 0,
             "ticks": ""
            },
            "type": "choropleth"
           }
          ],
          "contour": [
           {
            "colorbar": {
             "outlinewidth": 0,
             "ticks": ""
            },
            "colorscale": [
             [
              0,
              "#0d0887"
             ],
             [
              0.1111111111111111,
              "#46039f"
             ],
             [
              0.2222222222222222,
              "#7201a8"
             ],
             [
              0.3333333333333333,
              "#9c179e"
             ],
             [
              0.4444444444444444,
              "#bd3786"
             ],
             [
              0.5555555555555556,
              "#d8576b"
             ],
             [
              0.6666666666666666,
              "#ed7953"
             ],
             [
              0.7777777777777778,
              "#fb9f3a"
             ],
             [
              0.8888888888888888,
              "#fdca26"
             ],
             [
              1,
              "#f0f921"
             ]
            ],
            "type": "contour"
           }
          ],
          "contourcarpet": [
           {
            "colorbar": {
             "outlinewidth": 0,
             "ticks": ""
            },
            "type": "contourcarpet"
           }
          ],
          "heatmap": [
           {
            "colorbar": {
             "outlinewidth": 0,
             "ticks": ""
            },
            "colorscale": [
             [
              0,
              "#0d0887"
             ],
             [
              0.1111111111111111,
              "#46039f"
             ],
             [
              0.2222222222222222,
              "#7201a8"
             ],
             [
              0.3333333333333333,
              "#9c179e"
             ],
             [
              0.4444444444444444,
              "#bd3786"
             ],
             [
              0.5555555555555556,
              "#d8576b"
             ],
             [
              0.6666666666666666,
              "#ed7953"
             ],
             [
              0.7777777777777778,
              "#fb9f3a"
             ],
             [
              0.8888888888888888,
              "#fdca26"
             ],
             [
              1,
              "#f0f921"
             ]
            ],
            "type": "heatmap"
           }
          ],
          "heatmapgl": [
           {
            "colorbar": {
             "outlinewidth": 0,
             "ticks": ""
            },
            "colorscale": [
             [
              0,
              "#0d0887"
             ],
             [
              0.1111111111111111,
              "#46039f"
             ],
             [
              0.2222222222222222,
              "#7201a8"
             ],
             [
              0.3333333333333333,
              "#9c179e"
             ],
             [
              0.4444444444444444,
              "#bd3786"
             ],
             [
              0.5555555555555556,
              "#d8576b"
             ],
             [
              0.6666666666666666,
              "#ed7953"
             ],
             [
              0.7777777777777778,
              "#fb9f3a"
             ],
             [
              0.8888888888888888,
              "#fdca26"
             ],
             [
              1,
              "#f0f921"
             ]
            ],
            "type": "heatmapgl"
           }
          ],
          "histogram": [
           {
            "marker": {
             "pattern": {
              "fillmode": "overlay",
              "size": 10,
              "solidity": 0.2
             }
            },
            "type": "histogram"
           }
          ],
          "histogram2d": [
           {
            "colorbar": {
             "outlinewidth": 0,
             "ticks": ""
            },
            "colorscale": [
             [
              0,
              "#0d0887"
             ],
             [
              0.1111111111111111,
              "#46039f"
             ],
             [
              0.2222222222222222,
              "#7201a8"
             ],
             [
              0.3333333333333333,
              "#9c179e"
             ],
             [
              0.4444444444444444,
              "#bd3786"
             ],
             [
              0.5555555555555556,
              "#d8576b"
             ],
             [
              0.6666666666666666,
              "#ed7953"
             ],
             [
              0.7777777777777778,
              "#fb9f3a"
             ],
             [
              0.8888888888888888,
              "#fdca26"
             ],
             [
              1,
              "#f0f921"
             ]
            ],
            "type": "histogram2d"
           }
          ],
          "histogram2dcontour": [
           {
            "colorbar": {
             "outlinewidth": 0,
             "ticks": ""
            },
            "colorscale": [
             [
              0,
              "#0d0887"
             ],
             [
              0.1111111111111111,
              "#46039f"
             ],
             [
              0.2222222222222222,
              "#7201a8"
             ],
             [
              0.3333333333333333,
              "#9c179e"
             ],
             [
              0.4444444444444444,
              "#bd3786"
             ],
             [
              0.5555555555555556,
              "#d8576b"
             ],
             [
              0.6666666666666666,
              "#ed7953"
             ],
             [
              0.7777777777777778,
              "#fb9f3a"
             ],
             [
              0.8888888888888888,
              "#fdca26"
             ],
             [
              1,
              "#f0f921"
             ]
            ],
            "type": "histogram2dcontour"
           }
          ],
          "mesh3d": [
           {
            "colorbar": {
             "outlinewidth": 0,
             "ticks": ""
            },
            "type": "mesh3d"
           }
          ],
          "parcoords": [
           {
            "line": {
             "colorbar": {
              "outlinewidth": 0,
              "ticks": ""
             }
            },
            "type": "parcoords"
           }
          ],
          "pie": [
           {
            "automargin": true,
            "type": "pie"
           }
          ],
          "scatter": [
           {
            "fillpattern": {
             "fillmode": "overlay",
             "size": 10,
             "solidity": 0.2
            },
            "type": "scatter"
           }
          ],
          "scatter3d": [
           {
            "line": {
             "colorbar": {
              "outlinewidth": 0,
              "ticks": ""
             }
            },
            "marker": {
             "colorbar": {
              "outlinewidth": 0,
              "ticks": ""
             }
            },
            "type": "scatter3d"
           }
          ],
          "scattercarpet": [
           {
            "marker": {
             "colorbar": {
              "outlinewidth": 0,
              "ticks": ""
             }
            },
            "type": "scattercarpet"
           }
          ],
          "scattergeo": [
           {
            "marker": {
             "colorbar": {
              "outlinewidth": 0,
              "ticks": ""
             }
            },
            "type": "scattergeo"
           }
          ],
          "scattergl": [
           {
            "marker": {
             "colorbar": {
              "outlinewidth": 0,
              "ticks": ""
             }
            },
            "type": "scattergl"
           }
          ],
          "scattermapbox": [
           {
            "marker": {
             "colorbar": {
              "outlinewidth": 0,
              "ticks": ""
             }
            },
            "type": "scattermapbox"
           }
          ],
          "scatterpolar": [
           {
            "marker": {
             "colorbar": {
              "outlinewidth": 0,
              "ticks": ""
             }
            },
            "type": "scatterpolar"
           }
          ],
          "scatterpolargl": [
           {
            "marker": {
             "colorbar": {
              "outlinewidth": 0,
              "ticks": ""
             }
            },
            "type": "scatterpolargl"
           }
          ],
          "scatterternary": [
           {
            "marker": {
             "colorbar": {
              "outlinewidth": 0,
              "ticks": ""
             }
            },
            "type": "scatterternary"
           }
          ],
          "surface": [
           {
            "colorbar": {
             "outlinewidth": 0,
             "ticks": ""
            },
            "colorscale": [
             [
              0,
              "#0d0887"
             ],
             [
              0.1111111111111111,
              "#46039f"
             ],
             [
              0.2222222222222222,
              "#7201a8"
             ],
             [
              0.3333333333333333,
              "#9c179e"
             ],
             [
              0.4444444444444444,
              "#bd3786"
             ],
             [
              0.5555555555555556,
              "#d8576b"
             ],
             [
              0.6666666666666666,
              "#ed7953"
             ],
             [
              0.7777777777777778,
              "#fb9f3a"
             ],
             [
              0.8888888888888888,
              "#fdca26"
             ],
             [
              1,
              "#f0f921"
             ]
            ],
            "type": "surface"
           }
          ],
          "table": [
           {
            "cells": {
             "fill": {
              "color": "#EBF0F8"
             },
             "line": {
              "color": "white"
             }
            },
            "header": {
             "fill": {
              "color": "#C8D4E3"
             },
             "line": {
              "color": "white"
             }
            },
            "type": "table"
           }
          ]
         },
         "layout": {
          "annotationdefaults": {
           "arrowcolor": "#2a3f5f",
           "arrowhead": 0,
           "arrowwidth": 1
          },
          "autotypenumbers": "strict",
          "coloraxis": {
           "colorbar": {
            "outlinewidth": 0,
            "ticks": ""
           }
          },
          "colorscale": {
           "diverging": [
            [
             0,
             "#8e0152"
            ],
            [
             0.1,
             "#c51b7d"
            ],
            [
             0.2,
             "#de77ae"
            ],
            [
             0.3,
             "#f1b6da"
            ],
            [
             0.4,
             "#fde0ef"
            ],
            [
             0.5,
             "#f7f7f7"
            ],
            [
             0.6,
             "#e6f5d0"
            ],
            [
             0.7,
             "#b8e186"
            ],
            [
             0.8,
             "#7fbc41"
            ],
            [
             0.9,
             "#4d9221"
            ],
            [
             1,
             "#276419"
            ]
           ],
           "sequential": [
            [
             0,
             "#0d0887"
            ],
            [
             0.1111111111111111,
             "#46039f"
            ],
            [
             0.2222222222222222,
             "#7201a8"
            ],
            [
             0.3333333333333333,
             "#9c179e"
            ],
            [
             0.4444444444444444,
             "#bd3786"
            ],
            [
             0.5555555555555556,
             "#d8576b"
            ],
            [
             0.6666666666666666,
             "#ed7953"
            ],
            [
             0.7777777777777778,
             "#fb9f3a"
            ],
            [
             0.8888888888888888,
             "#fdca26"
            ],
            [
             1,
             "#f0f921"
            ]
           ],
           "sequentialminus": [
            [
             0,
             "#0d0887"
            ],
            [
             0.1111111111111111,
             "#46039f"
            ],
            [
             0.2222222222222222,
             "#7201a8"
            ],
            [
             0.3333333333333333,
             "#9c179e"
            ],
            [
             0.4444444444444444,
             "#bd3786"
            ],
            [
             0.5555555555555556,
             "#d8576b"
            ],
            [
             0.6666666666666666,
             "#ed7953"
            ],
            [
             0.7777777777777778,
             "#fb9f3a"
            ],
            [
             0.8888888888888888,
             "#fdca26"
            ],
            [
             1,
             "#f0f921"
            ]
           ]
          },
          "colorway": [
           "#636efa",
           "#EF553B",
           "#00cc96",
           "#ab63fa",
           "#FFA15A",
           "#19d3f3",
           "#FF6692",
           "#B6E880",
           "#FF97FF",
           "#FECB52"
          ],
          "font": {
           "color": "#2a3f5f"
          },
          "geo": {
           "bgcolor": "white",
           "lakecolor": "white",
           "landcolor": "#E5ECF6",
           "showlakes": true,
           "showland": true,
           "subunitcolor": "white"
          },
          "hoverlabel": {
           "align": "left"
          },
          "hovermode": "closest",
          "mapbox": {
           "style": "light"
          },
          "paper_bgcolor": "white",
          "plot_bgcolor": "#E5ECF6",
          "polar": {
           "angularaxis": {
            "gridcolor": "white",
            "linecolor": "white",
            "ticks": ""
           },
           "bgcolor": "#E5ECF6",
           "radialaxis": {
            "gridcolor": "white",
            "linecolor": "white",
            "ticks": ""
           }
          },
          "scene": {
           "xaxis": {
            "backgroundcolor": "#E5ECF6",
            "gridcolor": "white",
            "gridwidth": 2,
            "linecolor": "white",
            "showbackground": true,
            "ticks": "",
            "zerolinecolor": "white"
           },
           "yaxis": {
            "backgroundcolor": "#E5ECF6",
            "gridcolor": "white",
            "gridwidth": 2,
            "linecolor": "white",
            "showbackground": true,
            "ticks": "",
            "zerolinecolor": "white"
           },
           "zaxis": {
            "backgroundcolor": "#E5ECF6",
            "gridcolor": "white",
            "gridwidth": 2,
            "linecolor": "white",
            "showbackground": true,
            "ticks": "",
            "zerolinecolor": "white"
           }
          },
          "shapedefaults": {
           "line": {
            "color": "#2a3f5f"
           }
          },
          "ternary": {
           "aaxis": {
            "gridcolor": "white",
            "linecolor": "white",
            "ticks": ""
           },
           "baxis": {
            "gridcolor": "white",
            "linecolor": "white",
            "ticks": ""
           },
           "bgcolor": "#E5ECF6",
           "caxis": {
            "gridcolor": "white",
            "linecolor": "white",
            "ticks": ""
           }
          },
          "title": {
           "x": 0.05
          },
          "xaxis": {
           "automargin": true,
           "gridcolor": "white",
           "linecolor": "white",
           "ticks": "",
           "title": {
            "standoff": 15
           },
           "zerolinecolor": "white",
           "zerolinewidth": 2
          },
          "yaxis": {
           "automargin": true,
           "gridcolor": "white",
           "linecolor": "white",
           "ticks": "",
           "title": {
            "standoff": 15
           },
           "zerolinecolor": "white",
           "zerolinewidth": 2
          }
         }
        },
        "title": {
         "text": "Practice Valuation Comparison - Demo Dental NYC",
         "x": 0.5,
         "xanchor": "center"
        },
        "xaxis": {
         "autorange": true,
         "range": [
          -0.5,
          1.5
         ],
         "title": {
          "text": "Valuation Method"
         },
         "type": "category"
        },
        "yaxis": {
         "autorange": true,
         "gridcolor": "lightgray",
         "range": [
          0,
          2583004.736842105
         ],
         "tickformat": "$,.0f",
         "title": {
          "text": "Valuation ($)"
         },
         "type": "linear"
        }
       }
      },
      "image/png": "[encoded data removed]",
      "text/html": [
       "<div>                            <div id=\"c422f163-f165-4007-9638-ad3c36bbbadc\" class=\"plotly-graph-div\" style=\"height:400px; width:100%;\"></div>            <script type=\"text/javascript\">                require([\"plotly\"], function(Plotly) {                    window.PLOTLYENV=window.PLOTLYENV || {};                                    if (document.getElementById(\"c422f163-f165-4007-9638-ad3c36bbbadc\")) {                    Plotly.newPlot(                        \"c422f163-f165-4007-9638-ad3c36bbbadc\",                        [{\"marker\":{\"color\":[\"#2E86AB\",\"#A23B72\"]},\"name\":\"Valuation\",\"text\":[\"$2,453,854\",\"$1,237,357\"],\"textposition\":\"outside\",\"x\":[\"EBITDA-Based\",\"Revenue-Based\"],\"y\":[2453854.5,1237356.8],\"type\":\"bar\"}],                        {\"template\":{\"data\":{\"histogram2dcontour\":[{\"type\":\"histogram2dcontour\",\"colorbar\":{\"outlinewidth\":0,\"ticks\":\"\"},\"colorscale\":[[0.0,\"#0d0887\"],[0.1111111111111111,\"#46039f\"],[0.2222222222222222,\"#7201a8\"],[0.3333333333333333,\"#9c179e\"],[0.4444444444444444,\"#bd3786\"],[0.5555555555555556,\"#d8576b\"],[0.6666666666666666,\"#ed7953\"],[0.7777777777777778,\"#fb9f3a\"],[0.8888888888888888,\"#fdca26\"],[1.0,\"#f0f921\"]]}],\"choropleth\":[{\"type\":\"choropleth\",\"colorbar\":{\"outlinewidth\":0,\"ticks\":\"\"}}],\"histogram2d\":[{\"type\":\"histogram2d\",\"colorbar\":{\"outlinewidth\":0,\"ticks\":\"\"},\"colorscale\":[[0.0,\"#0d0887\"],[0.1111111111111111,\"#46039f\"],[0.2222222222222222,\"#7201a8\"],[0.3333333333333333,\"#9c179e\"],[0.4444444444444444,\"#bd3786\"],[0.5555555555555556,\"#d8576b\"],[0.6666666666666666,\"#ed7953\"],[0.7777777777777778,\"#fb9f3a\"],[0.8888888888888888,\"#fdca26\"],[1.0,\"#f0f921\"]]}],\"heatmap\":[{\"type\":\"heatmap\",\"colorbar\":{\"outlinewidth\":0,\"ticks\":\"\"},\"colorscale\":[[0.0,\"#0d0887\"],[0.1111111111111111,\"#46039f\"],[0.2222222222222222,\"#7201a8\"],[0.3333333333333333,\"#9c179e\"],[0.4444444444444444,\"#bd3786\"],[0.5555555555555556,\"#d8576b\"],[0.6666666666666666,\"#ed7953\"],[0.7777777777777778,\"#fb9f3a\"],[0.8888888888888888,\"#fdca26\"],[1.0,\"#f0f921\"]]}],\"heatmapgl\":[{\"type\":\"heatmapgl\",\"colorbar\":{\"outlinewidth\":0,\"ticks\":\"\"},\"colorscale\":[[0.0,\"#0d0887\"],[0.1111111111111111,\"#46039f\"],[0.2222222222222222,\"#7201a8\"],[0.3333333333333333,\"#9c179e\"],[0.4444444444444444,\"#bd3786\"],[0.5555555555555556,\"#d8576b\"],[0.6666666666666666,\"#ed7953\"],[0.7777777777777778,\"#fb9f3a\"],[0.8888888888888888,\"#fdca26\"],[1.0,\"#f0f921\"]]}],\"contourcarpet\":[{\"type\":\"contourcarpet\",\"colorbar\":{\"outlinewidth\":0,\"ticks\":\"\"}}],\"contour\":[{\"type\":\"contour\",\"colorbar\":{\"outlinewidth\":0,\"ticks\":\"\"},\"colorscale\":[[0.0,\"#0d0887\"],[0.1111111111111111,\"#46039f\"],[0.2222222222222222,\"#7201a8\"],[0.3333333333333333,\"#9c179e\"],[0.4444444444444444,\"#bd3786\"],[0.5555555555555556,\"#d8576b\"],[0.6666666666666666,\"#ed7953\"],[0.7777777777777778,\"#fb9f3a\"],[0.8888888888888888,\"#fdca26\"],[1.0,\"#f0f921\"]]}],\"surface\":[{\"type\":\"surface\",\"colorbar\":{\"outlinewidth\":0,\"ticks\":\"\"},\"colorscale\":[[0.0,\"#0d0887\"],[0.1111111111111111,\"#46039f\"],[0.2222222222222222,\"#7201a8\"],[0.3333333333333333,\"#9c179e\"],[0.4444444444444444,\"#bd3786\"],[0.5555555555555556,\"#d8576b\"],[0.6666666666666666,\"#ed7953\"],[0.7777777777777778,\"#fb9f3a\"],[0.8888888888888888,\"#fdca26\"],[1.0,\"#f0f921\"]]}],\"mesh3d\":[{\"type\":\"mesh3d\",\"colorbar\":{\"outlinewidth\":0,\"ticks\":\"\"}}],\"scatter\":[{\"fillpattern\":{\"fillmode\":\"overlay\",\"size\":10,\"solidity\":0.2},\"type\":\"scatter\"}],\"parcoords\":[{\"type\":\"parcoords\",\"line\":{\"colorbar\":{\"outlinewidth\":0,\"ticks\":\"\"}}}],\"scatterpolargl\":[{\"type\":\"scatterpolargl\",\"marker\":{\"colorbar\":{\"outlinewidth\":0,\"ticks\":\"\"}}}],\"bar\":[{\"error_x\":{\"color\":\"#2a3f5f\"},\"error_y\":{\"color\":\"#2a3f5f\"},\"marker\":{\"line\":{\"color\":\"#E5ECF6\",\"width\":0.5},\"pattern\":{\"fillmode\":\"overlay\",\"size\":10,\"solidity\":0.2}},\"type\":\"bar\"}],\"scattergeo\":[{\"type\":\"scattergeo\",\"marker\":{\"colorbar\":{\"outlinewidth\":0,\"ticks\":\"\"}}}],\"scatterpolar\":[{\"type\":\"scatterpolar\",\"marker\":{\"colorbar\":{\"outlinewidth\":0,\"ticks\":\"\"}}}],\"histogram\":[{\"marker\":{\"pattern\":{\"fillmode\":\"overlay\",\"size\":10,\"solidity\":0.2}},\"type\":\"histogram\"}],\"scattergl\":[{\"type\":\"scattergl\",\"marker\":{\"colorbar\":{\"outlinewidth\":0,\"ticks\":\"\"}}}],\"scatter3d\":[{\"type\":\"scatter3d\",\"line\":{\"colorbar\":{\"outlinewidth\":0,\"ticks\":\"\"}},\"marker\":{\"colorbar\":{\"outlinewidth\":0,\"ticks\":\"\"}}}],\"scattermapbox\":[{\"type\":\"scattermapbox\",\"marker\":{\"colorbar\":{\"outlinewidth\":0,\"ticks\":\"\"}}}],\"scatterternary\":[{\"type\":\"scatterternary\",\"marker\":{\"colorbar\":{\"outlinewidth\":0,\"ticks\":\"\"}}}],\"scattercarpet\":[{\"type\":\"scattercarpet\",\"marker\":{\"colorbar\":{\"outlinewidth\":0,\"ticks\":\"\"}}}],\"carpet\":[{\"aaxis\":{\"endlinecolor\":\"#2a3f5f\",\"gridcolor\":\"white\",\"linecolor\":\"white\",\"minorgridcolor\":\"white\",\"startlinecolor\":\"#2a3f5f\"},\"baxis\":{\"endlinecolor\":\"#2a3f5f\",\"gridcolor\":\"white\",\"linecolor\":\"white\",\"minorgridcolor\":\"white\",\"startlinecolor\":\"#2a3f5f\"},\"type\":\"carpet\"}],\"table\":[{\"cells\":{\"fill\":{\"color\":\"#EBF0F8\"},\"line\":{\"color\":\"white\"}},\"header\":{\"fill\":{\"color\":\"#C8D4E3\"},\"line\":{\"color\":\"white\"}},\"type\":\"table\"}],\"barpolar\":[{\"marker\":{\"line\":{\"color\":\"#E5ECF6\",\"width\":0.5},\"pattern\":{\"fillmode\":\"overlay\",\"size\":10,\"solidity\":0.2}},\"type\":\"barpolar\"}],\"pie\":[{\"automargin\":true,\"type\":\"pie\"}]},\"layout\":{\"autotypenumbers\":\"strict\",\"colorway\":[\"#636efa\",\"#EF553B\",\"#00cc96\",\"#ab63fa\",\"#FFA15A\",\"#19d3f3\",\"#FF6692\",\"#B6E880\",\"#FF97FF\",\"#FECB52\"],\"font\":{\"color\":\"#2a3f5f\"},\"hovermode\":\"closest\",\"hoverlabel\":{\"align\":\"left\"},\"paper_bgcolor\":\"white\",\"plot_bgcolor\":\"#E5ECF6\",\"polar\":{\"bgcolor\":\"#E5ECF6\",\"angularaxis\":{\"gridcolor\":\"white\",\"linecolor\":\"white\",\"ticks\":\"\"},\"radialaxis\":{\"gridcolor\":\"white\",\"linecolor\":\"white\",\"ticks\":\"\"}},\"ternary\":{\"bgcolor\":\"#E5ECF6\",\"aaxis\":{\"gridcolor\":\"white\",\"linecolor\":\"white\",\"ticks\":\"\"},\"baxis\":{\"gridcolor\":\"white\",\"linecolor\":\"white\",\"ticks\":\"\"},\"caxis\":{\"gridcolor\":\"white\",\"linecolor\":\"white\",\"ticks\":\"\"}},\"coloraxis\":{\"colorbar\":{\"outlinewidth\":0,\"ticks\":\"\"}},\"colorscale\":{\"sequential\":[[0.0,\"#0d0887\"],[0.1111111111111111,\"#46039f\"],[0.2222222222222222,\"#7201a8\"],[0.3333333333333333,\"#9c179e\"],[0.4444444444444444,\"#bd3786\"],[0.5555555555555556,\"#d8576b\"],[0.6666666666666666,\"#ed7953\"],[0.7777777777777778,\"#fb9f3a\"],[0.8888888888888888,\"#fdca26\"],[1.0,\"#f0f921\"]],\"sequentialminus\":[[0.0,\"#0d0887\"],[0.1111111111111111,\"#46039f\"],[0.2222222222222222,\"#7201a8\"],[0.3333333333333333,\"#9c179e\"],[0.4444444444444444,\"#bd3786\"],[0.5555555555555556,\"#d8576b\"],[0.6666666666666666,\"#ed7953\"],[0.7777777777777778,\"#fb9f3a\"],[0.8888888888888888,\"#fdca26\"],[1.0,\"#f0f921\"]],\"diverging\":[[0,\"#8e0152\"],[0.1,\"#c51b7d\"],[0.2,\"#de77ae\"],[0.3,\"#f1b6da\"],[0.4,\"#fde0ef\"],[0.5,\"#f7f7f7\"],[0.6,\"#e6f5d0\"],[0.7,\"#b8e186\"],[0.8,\"#7fbc41\"],[0.9,\"#4d9221\"],[1,\"#276419\"]]},\"xaxis\":{\"gridcolor\":\"white\",\"linecolor\":\"white\",\"ticks\":\"\",\"title\":{\"standoff\":15},\"zerolinecolor\":\"white\",\"automargin\":true,\"zerolinewidth\":2},\"yaxis\":{\"gridcolor\":\"white\",\"linecolor\":\"white\",\"ticks\":\"\",\"title\":{\"standoff\":15},\"zerolinecolor\":\"white\",\"automargin\":true,\"zerolinewidth\":2},\"scene\":{\"xaxis\":{\"backgroundcolor\":\"#E5ECF6\",\"gridcolor\":\"white\",\"linecolor\":\"white\",\"showbackground\":true,\"ticks\":\"\",\"zerolinecolor\":\"white\",\"gridwidth\":2},\"yaxis\":{\"backgroundcolor\":\"#E5ECF6\",\"gridcolor\":\"white\",\"linecolor\":\"white\",\"showbackground\":true,\"ticks\":\"\",\"zerolinecolor\":\"white\",\"gridwidth\":2},\"zaxis\":{\"backgroundcolor\":\"#E5ECF6\",\"gridcolor\":\"white\",\"linecolor\":\"white\",\"showbackground\":true,\"ticks\":\"\",\"zerolinecolor\":\"white\",\"gridwidth\":2}},\"shapedefaults\":{\"line\":{\"color\":\"#2a3f5f\"}},\"annotationdefaults\":{\"arrowcolor\":\"#2a3f5f\",\"arrowhead\":0,\"arrowwidth\":1},\"geo\":{\"bgcolor\":\"white\",\"landcolor\":\"#E5ECF6\",\"subunitcolor\":\"white\",\"showland\":true,\"showlakes\":true,\"lakecolor\":\"white\"},\"title\":{\"x\":0.05},\"mapbox\":{\"style\":\"light\"}}},\"shapes\":[{\"line\":{\"color\":\"gray\",\"dash\":\"dash\"},\"type\":\"line\",\"x0\":0,\"x1\":1,\"xref\":\"x domain\",\"y0\":1845605.65,\"y1\":1845605.65,\"yref\":\"y\"}],\"annotations\":[{\"showarrow\":false,\"text\":\"Average: $1,845,606\",\"x\":1,\"xanchor\":\"left\",\"xref\":\"x domain\",\"y\":1845605.65,\"yanchor\":\"middle\",\"yref\":\"y\"},{\"bgcolor\":\"white\",\"bordercolor\":\"gray\",\"borderwidth\":1,\"showarrow\":false,\"text\":\"EBITDA Multiple: 4.5x<br>Revenue Multiple: 0.8x\",\"x\":0.02,\"xref\":\"paper\",\"y\":0.98,\"yref\":\"paper\"}],\"title\":{\"text\":\"Practice Valuation Comparison - Demo Dental NYC\",\"x\":0.5,\"xanchor\":\"center\"},\"yaxis\":{\"title\":{\"text\":\"Valuation ($)\"},\"gridcolor\":\"lightgray\",\"tickformat\":\"$,.0f\"},\"xaxis\":{\"title\":{\"text\":\"Valuation Method\"}},\"height\":400,\"showlegend\":false,\"plot_bgcolor\":\"white\",\"bargap\":0.3},                        {\"responsive\": true}                    ).then(function(){\n",
       "                            \n",
       "var gd = document.getElementById('c422f163-f165-4007-9638-ad3c36bbbadc');\n",
       "var x = new MutationObserver(function (mutations, observer) {{\n",
       "        var display = window.getComputedStyle(gd).display;\n",
       "        if (!display || display === 'none') {{\n",
       "            console.log([gd, 'removed!']);\n",
       "            Plotly.purge(gd);\n",
       "            observer.disconnect();\n",
       "        }}\n",
       "}});\n",
       "\n",
       "// Listen for the removal of the full notebook cells\n",
       "var notebookContainer = gd.closest('#notebook-container');\n",
       "if (notebookContainer) {{\n",
       "    x.observe(notebookContainer, {childList: true});\n",
       "}}\n",
       "\n",
       "// Listen for the clearing of the current output cell\n",
       "var outputEl = gd.closest('.output');\n",
       "if (outputEl) {{\n",
       "    x.observe(outputEl, {childList: true});\n",
       "}}\n",
       "\n",
       "                        })                };                });            </script>        </div>"
      ]
     },
     "metadata": {},
     "output_type": "display_data"
    },
    {
     "name": "stdout",
     "output_type": "stream",
     "text": [
      "   ✅ Valuation Comparison created\n",
      "\n",
      "3. Creating Key Metrics Dashboard...\n",
      "   Purpose: One-page overview of all key metrics\n"
     ]
    },
    {
     "data": {
      "application/vnd.plotly.v1+json": {
       "config": {
        "plotlyServerURL": "https://plot.ly"
       },
       "data": [
        {
         "marker": {
          "color": [
           "#2E86AB",
           "#A23B72",
           "#F18F01"
          ]
         },
         "text": [
          "$1,546,696",
          "$545,301",
          "$460,000"
         ],
         "textposition": "outside",
         "type": "bar",
         "x": [
          "Revenue",
          "EBITDA",
          "SDE"
         ],
         "xaxis": "x",
         "y": [
          1546696,
          545301,
          460000
         ],
         "yaxis": "y"
        },
        {
         "marker": {
          "color": [
           "#A23B72",
           "#F18F01"
          ]
         },
         "text": [
          "35.3%",
          "29.7%"
         ],
         "textposition": "outside",
         "type": "bar",
         "x": [
          "EBITDA %",
          "SDE %"
         ],
         "xaxis": "x2",
         "y": [
          35.25586152676415,
          29.740815260400232
         ],
         "yaxis": "y2"
        },
        {
         "marker": {
          "color": [
           "#2E86AB",
           "#A23B72"
          ],
          "size": 15
         },
         "mode": "markers",
         "showlegend": false,
         "text": [
          "Revenue: $1,237,357",
          "EBITDA: $2,453,854"
         ],
         "type": "scatter",
         "x": [
          1237356.8,
          2453854.5
         ],
         "xaxis": "x3",
         "y": [
          "Valuation",
          "Valuation"
         ],
         "yaxis": "y3"
        },
        {
         "domain": {
          "x": [
           0,
           0.25333333333333335
          ],
          "y": [
           0,
           0.425
          ]
         },
         "hole": 0.3,
         "labels": [
          "Net_Profit_pre_tax",
          "Owner_Salary_minus_Market",
          "Owner_Perks",
          "Interest",
          "Depreciation",
          "Amortization",
          "Non_Recurring"
         ],
         "marker": {
          "colors": [
           "#2E86AB",
           "#A23B72",
           "#F18F01",
           "#C73E1D",
           "#6A994E"
          ]
         },
         "type": "pie",
         "values": [
          350000,
          60000,
          18000,
          12000,
          9000,
          4000,
          7000
         ]
        },
        {
         "domain": {
          "x": [
           0.37333333333333335,
           0.6266666666666667
          ],
          "y": [
           0,
           0.425
          ]
         },
         "gauge": {
          "axis": {
           "range": [
            0,
            3
           ]
          },
          "bar": {
           "color": "green"
          }
         },
         "mode": "number+gauge",
         "title": {
          "text": "DSCR"
         },
         "type": "indicator",
         "value": 3.245684729298605
        },
        {
         "cells": {
          "align": "left",
          "fill": {
           "color": "lavender"
          },
          "values": [
           [
            "Revenue (TTM)",
            "EBITDA (TTM)",
            "Total SDE",
            "EBITDA Margin",
            "SDE Margin"
           ],
           [
            "$1,546,696",
            "$545,301",
            "$460,000",
            "35.3%",
            "29.7%"
           ]
          ]
         },
         "domain": {
          "x": [
           0.7466666666666667,
           1
          ],
          "y": [
           0,
           0.425
          ]
         },
         "header": {
          "align": "left",
          "fill": {
           "color": "paleturquoise"
          },
          "values": [
           "Metric",
           "Value"
          ]
         },
         "type": "table"
        }
       ],
       "layout": {
        "annotations": [
         {
          "font": {
           "size": 16
          },
          "showarrow": false,
          "text": "Revenue & Profitability",
          "x": 0.12666666666666668,
          "xanchor": "center",
          "xref": "paper",
          "y": 1,
          "yanchor": "bottom",
          "yref": "paper"
         },
         {
          "font": {
           "size": 16
          },
          "showarrow": false,
          "text": "Margins Comparison",
          "x": 0.5,
          "xanchor": "center",
          "xref": "paper",
          "y": 1,
          "yanchor": "bottom",
          "yref": "paper"
         },
         {
          "font": {
           "size": 16
          },
          "showarrow": false,
          "text": "Valuation Range",
          "x": 0.8733333333333333,
          "xanchor": "center",
          "xref": "paper",
          "y": 1,
          "yanchor": "bottom",
          "yref": "paper"
         },
         {
          "font": {
           "size": 16
          },
          "showarrow": false,
          "text": "SDE Components",
          "x": 0.12666666666666668,
          "xanchor": "center",
          "xref": "paper",
          "y": 0.425,
          "yanchor": "bottom",
          "yref": "paper"
         },
         {
          "font": {
           "size": 16
          },
          "showarrow": false,
          "text": "Debt Coverage",
          "x": 0.5,
          "xanchor": "center",
          "xref": "paper",
          "y": 0.425,
          "yanchor": "bottom",
          "yref": "paper"
         },
         {
          "font": {
           "size": 16
          },
          "showarrow": false,
          "text": "Practice Metrics",
          "x": 0.8733333333333333,
          "xanchor": "center",
          "xref": "paper",
          "y": 0.425,
          "yanchor": "bottom",
          "yref": "paper"
         }
        ],
        "autosize": true,
        "showlegend": false,
        "template": {
         "data": {
          "bar": [
           {
            "error_x": {
             "color": "#2a3f5f"
            },
            "error_y": {
             "color": "#2a3f5f"
            },
            "marker": {
             "line": {
              "color": "#E5ECF6",
              "width": 0.5
             },
             "pattern": {
              "fillmode": "overlay",
              "size": 10,
              "solidity": 0.2
             }
            },
            "type": "bar"
           }
          ],
          "barpolar": [
           {
            "marker": {
             "line": {
              "color": "#E5ECF6",
              "width": 0.5
             },
             "pattern": {
              "fillmode": "overlay",
              "size": 10,
              "solidity": 0.2
             }
            },
            "type": "barpolar"
           }
          ],
          "carpet": [
           {
            "aaxis": {
             "endlinecolor": "#2a3f5f",
             "gridcolor": "white",
             "linecolor": "white",
             "minorgridcolor": "white",
             "startlinecolor": "#2a3f5f"
            },
            "baxis": {
             "endlinecolor": "#2a3f5f",
             "gridcolor": "white",
             "linecolor": "white",
             "minorgridcolor": "white",
             "startlinecolor": "#2a3f5f"
            },
            "type": "carpet"
           }
          ],
          "choropleth": [
           {
            "colorbar": {
             "outlinewidth": 0,
             "ticks": ""
            },
            "type": "choropleth"
           }
          ],
          "contour": [
           {
            "colorbar": {
             "outlinewidth": 0,
             "ticks": ""
            },
            "colorscale": [
             [
              0,
              "#0d0887"
             ],
             [
              0.1111111111111111,
              "#46039f"
             ],
             [
              0.2222222222222222,
              "#7201a8"
             ],
             [
              0.3333333333333333,
              "#9c179e"
             ],
             [
              0.4444444444444444,
              "#bd3786"
             ],
             [
              0.5555555555555556,
              "#d8576b"
             ],
             [
              0.6666666666666666,
              "#ed7953"
             ],
             [
              0.7777777777777778,
              "#fb9f3a"
             ],
             [
              0.8888888888888888,
              "#fdca26"
             ],
             [
              1,
              "#f0f921"
             ]
            ],
            "type": "contour"
           }
          ],
          "contourcarpet": [
           {
            "colorbar": {
             "outlinewidth": 0,
             "ticks": ""
            },
            "type": "contourcarpet"
           }
          ],
          "heatmap": [
           {
            "colorbar": {
             "outlinewidth": 0,
             "ticks": ""
            },
            "colorscale": [
             [
              0,
              "#0d0887"
             ],
             [
              0.1111111111111111,
              "#46039f"
             ],
             [
              0.2222222222222222,
              "#7201a8"
             ],
             [
              0.3333333333333333,
              "#9c179e"
             ],
             [
              0.4444444444444444,
              "#bd3786"
             ],
             [
              0.5555555555555556,
              "#d8576b"
             ],
             [
              0.6666666666666666,
              "#ed7953"
             ],
             [
              0.7777777777777778,
              "#fb9f3a"
             ],
             [
              0.8888888888888888,
              "#fdca26"
             ],
             [
              1,
              "#f0f921"
             ]
            ],
            "type": "heatmap"
           }
          ],
          "heatmapgl": [
           {
            "colorbar": {
             "outlinewidth": 0,
             "ticks": ""
            },
            "colorscale": [
             [
              0,
              "#0d0887"
             ],
             [
              0.1111111111111111,
              "#46039f"
             ],
             [
              0.2222222222222222,
              "#7201a8"
             ],
             [
              0.3333333333333333,
              "#9c179e"
             ],
             [
              0.4444444444444444,
              "#bd3786"
             ],
             [
              0.5555555555555556,
              "#d8576b"
             ],
             [
              0.6666666666666666,
              "#ed7953"
             ],
             [
              0.7777777777777778,
              "#fb9f3a"
             ],
             [
              0.8888888888888888,
              "#fdca26"
             ],
             [
              1,
              "#f0f921"
             ]
            ],
            "type": "heatmapgl"
           }
          ],
          "histogram": [
           {
            "marker": {
             "pattern": {
              "fillmode": "overlay",
              "size": 10,
              "solidity": 0.2
             }
            },
            "type": "histogram"
           }
          ],
          "histogram2d": [
           {
            "colorbar": {
             "outlinewidth": 0,
             "ticks": ""
            },
            "colorscale": [
             [
              0,
              "#0d0887"
             ],
             [
              0.1111111111111111,
              "#46039f"
             ],
             [
              0.2222222222222222,
              "#7201a8"
             ],
             [
              0.3333333333333333,
              "#9c179e"
             ],
             [
              0.4444444444444444,
              "#bd3786"
             ],
             [
              0.5555555555555556,
              "#d8576b"
             ],
             [
              0.6666666666666666,
              "#ed7953"
             ],
             [
              0.7777777777777778,
              "#fb9f3a"
             ],
             [
              0.8888888888888888,
              "#fdca26"
             ],
             [
              1,
              "#f0f921"
             ]
            ],
            "type": "histogram2d"
           }
          ],
          "histogram2dcontour": [
           {
            "colorbar": {
             "outlinewidth": 0,
             "ticks": ""
            },
            "colorscale": [
             [
              0,
              "#0d0887"
             ],
             [
              0.1111111111111111,
              "#46039f"
             ],
             [
              0.2222222222222222,
              "#7201a8"
             ],
             [
              0.3333333333333333,
              "#9c179e"
             ],
             [
              0.4444444444444444,
              "#bd3786"
             ],
             [
              0.5555555555555556,
              "#d8576b"
             ],
             [
              0.6666666666666666,
              "#ed7953"
             ],
             [
              0.7777777777777778,
              "#fb9f3a"
             ],
             [
              0.8888888888888888,
              "#fdca26"
             ],
             [
              1,
              "#f0f921"
             ]
            ],
            "type": "histogram2dcontour"
           }
          ],
          "mesh3d": [
           {
            "colorbar": {
             "outlinewidth": 0,
             "ticks": ""
            },
            "type": "mesh3d"
           }
          ],
          "parcoords": [
           {
            "line": {
             "colorbar": {
              "outlinewidth": 0,
              "ticks": ""
             }
            },
            "type": "parcoords"
           }
          ],
          "pie": [
           {
            "automargin": true,
            "type": "pie"
           }
          ],
          "scatter": [
           {
            "fillpattern": {
             "fillmode": "overlay",
             "size": 10,
             "solidity": 0.2
            },
            "type": "scatter"
           }
          ],
          "scatter3d": [
           {
            "line": {
             "colorbar": {
              "outlinewidth": 0,
              "ticks": ""
             }
            },
            "marker": {
             "colorbar": {
              "outlinewidth": 0,
              "ticks": ""
             }
            },
            "type": "scatter3d"
           }
          ],
          "scattercarpet": [
           {
            "marker": {
             "colorbar": {
              "outlinewidth": 0,
              "ticks": ""
             }
            },
            "type": "scattercarpet"
           }
          ],
          "scattergeo": [
           {
            "marker": {
             "colorbar": {
              "outlinewidth": 0,
              "ticks": ""
             }
            },
            "type": "scattergeo"
           }
          ],
          "scattergl": [
           {
            "marker": {
             "colorbar": {
              "outlinewidth": 0,
              "ticks": ""
             }
            },
            "type": "scattergl"
           }
          ],
          "scattermapbox": [
           {
            "marker": {
             "colorbar": {
              "outlinewidth": 0,
              "ticks": ""
             }
            },
            "type": "scattermapbox"
           }
          ],
          "scatterpolar": [
           {
            "marker": {
             "colorbar": {
              "outlinewidth": 0,
              "ticks": ""
             }
            },
            "type": "scatterpolar"
           }
          ],
          "scatterpolargl": [
           {
            "marker": {
             "colorbar": {
              "outlinewidth": 0,
              "ticks": ""
             }
            },
            "type": "scatterpolargl"
           }
          ],
          "scatterternary": [
           {
            "marker": {
             "colorbar": {
              "outlinewidth": 0,
              "ticks": ""
             }
            },
            "type": "scatterternary"
           }
          ],
          "surface": [
           {
            "colorbar": {
             "outlinewidth": 0,
             "ticks": ""
            },
            "colorscale": [
             [
              0,
              "#0d0887"
             ],
             [
              0.1111111111111111,
              "#46039f"
             ],
             [
              0.2222222222222222,
              "#7201a8"
             ],
             [
              0.3333333333333333,
              "#9c179e"
             ],
             [
              0.4444444444444444,
              "#bd3786"
             ],
             [
              0.5555555555555556,
              "#d8576b"
             ],
             [
              0.6666666666666666,
              "#ed7953"
             ],
             [
              0.7777777777777778,
              "#fb9f3a"
             ],
             [
              0.8888888888888888,
              "#fdca26"
             ],
             [
              1,
              "#f0f921"
             ]
            ],
            "type": "surface"
           }
          ],
          "table": [
           {
            "cells": {
             "fill": {
              "color": "#EBF0F8"
             },
             "line": {
              "color": "white"
             }
            },
            "header": {
             "fill": {
              "color": "#C8D4E3"
             },
             "line": {
              "color": "white"
             }
            },
            "type": "table"
           }
          ]
         },
         "layout": {
          "annotationdefaults": {
           "arrowcolor": "#2a3f5f",
           "arrowhead": 0,
           "arrowwidth": 1
          },
          "autotypenumbers": "strict",
          "coloraxis": {
           "colorbar": {
            "outlinewidth": 0,
            "ticks": ""
           }
          },
          "colorscale": {
           "diverging": [
            [
             0,
             "#8e0152"
            ],
            [
             0.1,
             "#c51b7d"
            ],
            [
             0.2,
             "#de77ae"
            ],
            [
             0.3,
             "#f1b6da"
            ],
            [
             0.4,
             "#fde0ef"
            ],
            [
             0.5,
             "#f7f7f7"
            ],
            [
             0.6,
             "#e6f5d0"
            ],
            [
             0.7,
             "#b8e186"
            ],
            [
             0.8,
             "#7fbc41"
            ],
            [
             0.9,
             "#4d9221"
            ],
            [
             1,
             "#276419"
            ]
           ],
           "sequential": [
            [
             0,
             "#0d0887"
            ],
            [
             0.1111111111111111,
             "#46039f"
            ],
            [
             0.2222222222222222,
             "#7201a8"
            ],
            [
             0.3333333333333333,
             "#9c179e"
            ],
            [
             0.4444444444444444,
             "#bd3786"
            ],
            [
             0.5555555555555556,
             "#d8576b"
            ],
            [
             0.6666666666666666,
             "#ed7953"
            ],
            [
             0.7777777777777778,
             "#fb9f3a"
            ],
            [
             0.8888888888888888,
             "#fdca26"
            ],
            [
             1,
             "#f0f921"
            ]
           ],
           "sequentialminus": [
            [
             0,
             "#0d0887"
            ],
            [
             0.1111111111111111,
             "#46039f"
            ],
            [
             0.2222222222222222,
             "#7201a8"
            ],
            [
             0.3333333333333333,
             "#9c179e"
            ],
            [
             0.4444444444444444,
             "#bd3786"
            ],
            [
             0.5555555555555556,
             "#d8576b"
            ],
            [
             0.6666666666666666,
             "#ed7953"
            ],
            [
             0.7777777777777778,
             "#fb9f3a"
            ],
            [
             0.8888888888888888,
             "#fdca26"
            ],
            [
             1,
             "#f0f921"
            ]
           ]
          },
          "colorway": [
           "#636efa",
           "#EF553B",
           "#00cc96",
           "#ab63fa",
           "#FFA15A",
           "#19d3f3",
           "#FF6692",
           "#B6E880",
           "#FF97FF",
           "#FECB52"
          ],
          "font": {
           "color": "#2a3f5f"
          },
          "geo": {
           "bgcolor": "white",
           "lakecolor": "white",
           "landcolor": "#E5ECF6",
           "showlakes": true,
           "showland": true,
           "subunitcolor": "white"
          },
          "hoverlabel": {
           "align": "left"
          },
          "hovermode": "closest",
          "mapbox": {
           "style": "light"
          },
          "paper_bgcolor": "white",
          "plot_bgcolor": "#E5ECF6",
          "polar": {
           "angularaxis": {
            "gridcolor": "white",
            "linecolor": "white",
            "ticks": ""
           },
           "bgcolor": "#E5ECF6",
           "radialaxis": {
            "gridcolor": "white",
            "linecolor": "white",
            "ticks": ""
           }
          },
          "scene": {
           "xaxis": {
            "backgroundcolor": "#E5ECF6",
            "gridcolor": "white",
            "gridwidth": 2,
            "linecolor": "white",
            "showbackground": true,
            "ticks": "",
            "zerolinecolor": "white"
           },
           "yaxis": {
            "backgroundcolor": "#E5ECF6",
            "gridcolor": "white",
            "gridwidth": 2,
            "linecolor": "white",
            "showbackground": true,
            "ticks": "",
            "zerolinecolor": "white"
           },
           "zaxis": {
            "backgroundcolor": "#E5ECF6",
            "gridcolor": "white",
            "gridwidth": 2,
            "linecolor": "white",
            "showbackground": true,
            "ticks": "",
            "zerolinecolor": "white"
           }
          },
          "shapedefaults": {
           "line": {
            "color": "#2a3f5f"
           }
          },
          "ternary": {
           "aaxis": {
            "gridcolor": "white",
            "linecolor": "white",
            "ticks": ""
           },
           "baxis": {
            "gridcolor": "white",
            "linecolor": "white",
            "ticks": ""
           },
           "bgcolor": "#E5ECF6",
           "caxis": {
            "gridcolor": "white",
            "linecolor": "white",
            "ticks": ""
           }
          },
          "title": {
           "x": 0.05
          },
          "xaxis": {
           "automargin": true,
           "gridcolor": "white",
           "linecolor": "white",
           "ticks": "",
           "title": {
            "standoff": 15
           },
           "zerolinecolor": "white",
           "zerolinewidth": 2
          },
          "yaxis": {
           "automargin": true,
           "gridcolor": "white",
           "linecolor": "white",
           "ticks": "",
           "title": {
            "standoff": 15
           },
           "zerolinecolor": "white",
           "zerolinewidth": 2
          }
         }
        },
        "title": {
         "text": "Practice Dashboard - Demo Dental NYC",
         "x": 0.5,
         "xanchor": "center"
        },
        "xaxis": {
         "anchor": "y",
         "autorange": true,
         "domain": [
          0,
          0.25333333333333335
         ],
         "range": [
          -0.5,
          2.5
         ],
         "type": "category"
        },
        "xaxis2": {
         "anchor": "y2",
         "autorange": true,
         "domain": [
          0.37333333333333335,
          0.6266666666666667
         ],
         "range": [
          -0.5,
          1.5
         ],
         "type": "category"
        },
        "xaxis3": {
         "anchor": "y3",
         "autorange": true,
         "domain": [
          0.7466666666666667,
          1
         ],
         "range": [
          1106310.8950360755,
          2584900.4049639245
         ],
         "type": "linear"
        },
        "yaxis": {
         "anchor": "x",
         "autorange": true,
         "domain": [
          0.575,
          1
         ],
         "range": [
          0,
          1628101.0526315789
         ],
         "type": "linear"
        },
        "yaxis2": {
         "anchor": "x2",
         "autorange": true,
         "domain": [
          0.575,
          1
         ],
         "range": [
          0,
          37.11143318606753
         ],
         "type": "linear"
        },
        "yaxis3": {
         "anchor": "x3",
         "autorange": true,
         "domain": [
          0.575,
          1
         ],
         "range": [
          -1,
          1
         ],
         "type": "category"
        }
       }
      },
      "image/png": "[encoded data removed]",
      "text/html": [
       "<div>                            <div id=\"563498d7-85e0-43d5-9643-c15fa6c0237a\" class=\"plotly-graph-div\" style=\"height:700px; width:100%;\"></div>            <script type=\"text/javascript\">                require([\"plotly\"], function(Plotly) {                    window.PLOTLYENV=window.PLOTLYENV || {};                                    if (document.getElementById(\"563498d7-85e0-43d5-9643-c15fa6c0237a\")) {                    Plotly.newPlot(                        \"563498d7-85e0-43d5-9643-c15fa6c0237a\",                        [{\"marker\":{\"color\":[\"#2E86AB\",\"#A23B72\",\"#F18F01\"]},\"text\":[\"$1,546,696\",\"$545,301\",\"$460,000\"],\"textposition\":\"outside\",\"x\":[\"Revenue\",\"EBITDA\",\"SDE\"],\"y\":[1546696,545301,460000],\"type\":\"bar\",\"xaxis\":\"x\",\"yaxis\":\"y\"},{\"marker\":{\"color\":[\"#A23B72\",\"#F18F01\"]},\"text\":[\"35.3%\",\"29.7%\"],\"textposition\":\"outside\",\"x\":[\"EBITDA %\",\"SDE %\"],\"y\":[35.25586152676415,29.740815260400232],\"type\":\"bar\",\"xaxis\":\"x2\",\"yaxis\":\"y2\"},{\"marker\":{\"color\":[\"#2E86AB\",\"#A23B72\"],\"size\":15},\"mode\":\"markers\",\"showlegend\":false,\"text\":[\"Revenue: $1,237,357\",\"EBITDA: $2,453,854\"],\"x\":[1237356.8,2453854.5],\"y\":[\"Valuation\",\"Valuation\"],\"type\":\"scatter\",\"xaxis\":\"x3\",\"yaxis\":\"y3\"},{\"hole\":0.3,\"labels\":[\"Net_Profit_pre_tax\",\"Owner_Salary_minus_Market\",\"Owner_Perks\",\"Interest\",\"Depreciation\",\"Amortization\",\"Non_Recurring\"],\"marker\":{\"colors\":[\"#2E86AB\",\"#A23B72\",\"#F18F01\",\"#C73E1D\",\"#6A994E\"]},\"values\":[350000,60000,18000,12000,9000,4000,7000],\"type\":\"pie\",\"domain\":{\"x\":[0.0,0.25333333333333335],\"y\":[0.0,0.425]}},{\"gauge\":{\"axis\":{\"range\":[0,3]},\"bar\":{\"color\":\"green\"}},\"mode\":\"number+gauge\",\"title\":{\"text\":\"DSCR\"},\"value\":3.245684729298605,\"type\":\"indicator\",\"domain\":{\"x\":[0.37333333333333335,0.6266666666666667],\"y\":[0.0,0.425]}},{\"cells\":{\"align\":\"left\",\"fill\":{\"color\":\"lavender\"},\"values\":[[\"Revenue (TTM)\",\"EBITDA (TTM)\",\"Total SDE\",\"EBITDA Margin\",\"SDE Margin\"],[\"$1,546,696\",\"$545,301\",\"$460,000\",\"35.3%\",\"29.7%\"]]},\"header\":{\"align\":\"left\",\"fill\":{\"color\":\"paleturquoise\"},\"values\":[\"Metric\",\"Value\"]},\"type\":\"table\",\"domain\":{\"x\":[0.7466666666666667,1.0],\"y\":[0.0,0.425]}}],                        {\"template\":{\"data\":{\"histogram2dcontour\":[{\"type\":\"histogram2dcontour\",\"colorbar\":{\"outlinewidth\":0,\"ticks\":\"\"},\"colorscale\":[[0.0,\"#0d0887\"],[0.1111111111111111,\"#46039f\"],[0.2222222222222222,\"#7201a8\"],[0.3333333333333333,\"#9c179e\"],[0.4444444444444444,\"#bd3786\"],[0.5555555555555556,\"#d8576b\"],[0.6666666666666666,\"#ed7953\"],[0.7777777777777778,\"#fb9f3a\"],[0.8888888888888888,\"#fdca26\"],[1.0,\"#f0f921\"]]}],\"choropleth\":[{\"type\":\"choropleth\",\"colorbar\":{\"outlinewidth\":0,\"ticks\":\"\"}}],\"histogram2d\":[{\"type\":\"histogram2d\",\"colorbar\":{\"outlinewidth\":0,\"ticks\":\"\"},\"colorscale\":[[0.0,\"#0d0887\"],[0.1111111111111111,\"#46039f\"],[0.2222222222222222,\"#7201a8\"],[0.3333333333333333,\"#9c179e\"],[0.4444444444444444,\"#bd3786\"],[0.5555555555555556,\"#d8576b\"],[0.6666666666666666,\"#ed7953\"],[0.7777777777777778,\"#fb9f3a\"],[0.8888888888888888,\"#fdca26\"],[1.0,\"#f0f921\"]]}],\"heatmap\":[{\"type\":\"heatmap\",\"colorbar\":{\"outlinewidth\":0,\"ticks\":\"\"},\"colorscale\":[[0.0,\"#0d0887\"],[0.1111111111111111,\"#46039f\"],[0.2222222222222222,\"#7201a8\"],[0.3333333333333333,\"#9c179e\"],[0.4444444444444444,\"#bd3786\"],[0.5555555555555556,\"#d8576b\"],[0.6666666666666666,\"#ed7953\"],[0.7777777777777778,\"#fb9f3a\"],[0.8888888888888888,\"#fdca26\"],[1.0,\"#f0f921\"]]}],\"heatmapgl\":[{\"type\":\"heatmapgl\",\"colorbar\":{\"outlinewidth\":0,\"ticks\":\"\"},\"colorscale\":[[0.0,\"#0d0887\"],[0.1111111111111111,\"#46039f\"],[0.2222222222222222,\"#7201a8\"],[0.3333333333333333,\"#9c179e\"],[0.4444444444444444,\"#bd3786\"],[0.5555555555555556,\"#d8576b\"],[0.6666666666666666,\"#ed7953\"],[0.7777777777777778,\"#fb9f3a\"],[0.8888888888888888,\"#fdca26\"],[1.0,\"#f0f921\"]]}],\"contourcarpet\":[{\"type\":\"contourcarpet\",\"colorbar\":{\"outlinewidth\":0,\"ticks\":\"\"}}],\"contour\":[{\"type\":\"contour\",\"colorbar\":{\"outlinewidth\":0,\"ticks\":\"\"},\"colorscale\":[[0.0,\"#0d0887\"],[0.1111111111111111,\"#46039f\"],[0.2222222222222222,\"#7201a8\"],[0.3333333333333333,\"#9c179e\"],[0.4444444444444444,\"#bd3786\"],[0.5555555555555556,\"#d8576b\"],[0.6666666666666666,\"#ed7953\"],[0.7777777777777778,\"#fb9f3a\"],[0.8888888888888888,\"#fdca26\"],[1.0,\"#f0f921\"]]}],\"surface\":[{\"type\":\"surface\",\"colorbar\":{\"outlinewidth\":0,\"ticks\":\"\"},\"colorscale\":[[0.0,\"#0d0887\"],[0.1111111111111111,\"#46039f\"],[0.2222222222222222,\"#7201a8\"],[0.3333333333333333,\"#9c179e\"],[0.4444444444444444,\"#bd3786\"],[0.5555555555555556,\"#d8576b\"],[0.6666666666666666,\"#ed7953\"],[0.7777777777777778,\"#fb9f3a\"],[0.8888888888888888,\"#fdca26\"],[1.0,\"#f0f921\"]]}],\"mesh3d\":[{\"type\":\"mesh3d\",\"colorbar\":{\"outlinewidth\":0,\"ticks\":\"\"}}],\"scatter\":[{\"fillpattern\":{\"fillmode\":\"overlay\",\"size\":10,\"solidity\":0.2},\"type\":\"scatter\"}],\"parcoords\":[{\"type\":\"parcoords\",\"line\":{\"colorbar\":{\"outlinewidth\":0,\"ticks\":\"\"}}}],\"scatterpolargl\":[{\"type\":\"scatterpolargl\",\"marker\":{\"colorbar\":{\"outlinewidth\":0,\"ticks\":\"\"}}}],\"bar\":[{\"error_x\":{\"color\":\"#2a3f5f\"},\"error_y\":{\"color\":\"#2a3f5f\"},\"marker\":{\"line\":{\"color\":\"#E5ECF6\",\"width\":0.5},\"pattern\":{\"fillmode\":\"overlay\",\"size\":10,\"solidity\":0.2}},\"type\":\"bar\"}],\"scattergeo\":[{\"type\":\"scattergeo\",\"marker\":{\"colorbar\":{\"outlinewidth\":0,\"ticks\":\"\"}}}],\"scatterpolar\":[{\"type\":\"scatterpolar\",\"marker\":{\"colorbar\":{\"outlinewidth\":0,\"ticks\":\"\"}}}],\"histogram\":[{\"marker\":{\"pattern\":{\"fillmode\":\"overlay\",\"size\":10,\"solidity\":0.2}},\"type\":\"histogram\"}],\"scattergl\":[{\"type\":\"scattergl\",\"marker\":{\"colorbar\":{\"outlinewidth\":0,\"ticks\":\"\"}}}],\"scatter3d\":[{\"type\":\"scatter3d\",\"line\":{\"colorbar\":{\"outlinewidth\":0,\"ticks\":\"\"}},\"marker\":{\"colorbar\":{\"outlinewidth\":0,\"ticks\":\"\"}}}],\"scattermapbox\":[{\"type\":\"scattermapbox\",\"marker\":{\"colorbar\":{\"outlinewidth\":0,\"ticks\":\"\"}}}],\"scatterternary\":[{\"type\":\"scatterternary\",\"marker\":{\"colorbar\":{\"outlinewidth\":0,\"ticks\":\"\"}}}],\"scattercarpet\":[{\"type\":\"scattercarpet\",\"marker\":{\"colorbar\":{\"outlinewidth\":0,\"ticks\":\"\"}}}],\"carpet\":[{\"aaxis\":{\"endlinecolor\":\"#2a3f5f\",\"gridcolor\":\"white\",\"linecolor\":\"white\",\"minorgridcolor\":\"white\",\"startlinecolor\":\"#2a3f5f\"},\"baxis\":{\"endlinecolor\":\"#2a3f5f\",\"gridcolor\":\"white\",\"linecolor\":\"white\",\"minorgridcolor\":\"white\",\"startlinecolor\":\"#2a3f5f\"},\"type\":\"carpet\"}],\"table\":[{\"cells\":{\"fill\":{\"color\":\"#EBF0F8\"},\"line\":{\"color\":\"white\"}},\"header\":{\"fill\":{\"color\":\"#C8D4E3\"},\"line\":{\"color\":\"white\"}},\"type\":\"table\"}],\"barpolar\":[{\"marker\":{\"line\":{\"color\":\"#E5ECF6\",\"width\":0.5},\"pattern\":{\"fillmode\":\"overlay\",\"size\":10,\"solidity\":0.2}},\"type\":\"barpolar\"}],\"pie\":[{\"automargin\":true,\"type\":\"pie\"}]},\"layout\":{\"autotypenumbers\":\"strict\",\"colorway\":[\"#636efa\",\"#EF553B\",\"#00cc96\",\"#ab63fa\",\"#FFA15A\",\"#19d3f3\",\"#FF6692\",\"#B6E880\",\"#FF97FF\",\"#FECB52\"],\"font\":{\"color\":\"#2a3f5f\"},\"hovermode\":\"closest\",\"hoverlabel\":{\"align\":\"left\"},\"paper_bgcolor\":\"white\",\"plot_bgcolor\":\"#E5ECF6\",\"polar\":{\"bgcolor\":\"#E5ECF6\",\"angularaxis\":{\"gridcolor\":\"white\",\"linecolor\":\"white\",\"ticks\":\"\"},\"radialaxis\":{\"gridcolor\":\"white\",\"linecolor\":\"white\",\"ticks\":\"\"}},\"ternary\":{\"bgcolor\":\"#E5ECF6\",\"aaxis\":{\"gridcolor\":\"white\",\"linecolor\":\"white\",\"ticks\":\"\"},\"baxis\":{\"gridcolor\":\"white\",\"linecolor\":\"white\",\"ticks\":\"\"},\"caxis\":{\"gridcolor\":\"white\",\"linecolor\":\"white\",\"ticks\":\"\"}},\"coloraxis\":{\"colorbar\":{\"outlinewidth\":0,\"ticks\":\"\"}},\"colorscale\":{\"sequential\":[[0.0,\"#0d0887\"],[0.1111111111111111,\"#46039f\"],[0.2222222222222222,\"#7201a8\"],[0.3333333333333333,\"#9c179e\"],[0.4444444444444444,\"#bd3786\"],[0.5555555555555556,\"#d8576b\"],[0.6666666666666666,\"#ed7953\"],[0.7777777777777778,\"#fb9f3a\"],[0.8888888888888888,\"#fdca26\"],[1.0,\"#f0f921\"]],\"sequentialminus\":[[0.0,\"#0d0887\"],[0.1111111111111111,\"#46039f\"],[0.2222222222222222,\"#7201a8\"],[0.3333333333333333,\"#9c179e\"],[0.4444444444444444,\"#bd3786\"],[0.5555555555555556,\"#d8576b\"],[0.6666666666666666,\"#ed7953\"],[0.7777777777777778,\"#fb9f3a\"],[0.8888888888888888,\"#fdca26\"],[1.0,\"#f0f921\"]],\"diverging\":[[0,\"#8e0152\"],[0.1,\"#c51b7d\"],[0.2,\"#de77ae\"],[0.3,\"#f1b6da\"],[0.4,\"#fde0ef\"],[0.5,\"#f7f7f7\"],[0.6,\"#e6f5d0\"],[0.7,\"#b8e186\"],[0.8,\"#7fbc41\"],[0.9,\"#4d9221\"],[1,\"#276419\"]]},\"xaxis\":{\"gridcolor\":\"white\",\"linecolor\":\"white\",\"ticks\":\"\",\"title\":{\"standoff\":15},\"zerolinecolor\":\"white\",\"automargin\":true,\"zerolinewidth\":2},\"yaxis\":{\"gridcolor\":\"white\",\"linecolor\":\"white\",\"ticks\":\"\",\"title\":{\"standoff\":15},\"zerolinecolor\":\"white\",\"automargin\":true,\"zerolinewidth\":2},\"scene\":{\"xaxis\":{\"backgroundcolor\":\"#E5ECF6\",\"gridcolor\":\"white\",\"linecolor\":\"white\",\"showbackground\":true,\"ticks\":\"\",\"zerolinecolor\":\"white\",\"gridwidth\":2},\"yaxis\":{\"backgroundcolor\":\"#E5ECF6\",\"gridcolor\":\"white\",\"linecolor\":\"white\",\"showbackground\":true,\"ticks\":\"\",\"zerolinecolor\":\"white\",\"gridwidth\":2},\"zaxis\":{\"backgroundcolor\":\"#E5ECF6\",\"gridcolor\":\"white\",\"linecolor\":\"white\",\"showbackground\":true,\"ticks\":\"\",\"zerolinecolor\":\"white\",\"gridwidth\":2}},\"shapedefaults\":{\"line\":{\"color\":\"#2a3f5f\"}},\"annotationdefaults\":{\"arrowcolor\":\"#2a3f5f\",\"arrowhead\":0,\"arrowwidth\":1},\"geo\":{\"bgcolor\":\"white\",\"landcolor\":\"#E5ECF6\",\"subunitcolor\":\"white\",\"showland\":true,\"showlakes\":true,\"lakecolor\":\"white\"},\"title\":{\"x\":0.05},\"mapbox\":{\"style\":\"light\"}}},\"xaxis\":{\"anchor\":\"y\",\"domain\":[0.0,0.25333333333333335]},\"yaxis\":{\"anchor\":\"x\",\"domain\":[0.575,1.0]},\"xaxis2\":{\"anchor\":\"y2\",\"domain\":[0.37333333333333335,0.6266666666666667]},\"yaxis2\":{\"anchor\":\"x2\",\"domain\":[0.575,1.0]},\"xaxis3\":{\"anchor\":\"y3\",\"domain\":[0.7466666666666667,1.0]},\"yaxis3\":{\"anchor\":\"x3\",\"domain\":[0.575,1.0]},\"annotations\":[{\"font\":{\"size\":16},\"showarrow\":false,\"text\":\"Revenue & Profitability\",\"x\":0.12666666666666668,\"xanchor\":\"center\",\"xref\":\"paper\",\"y\":1.0,\"yanchor\":\"bottom\",\"yref\":\"paper\"},{\"font\":{\"size\":16},\"showarrow\":false,\"text\":\"Margins Comparison\",\"x\":0.5,\"xanchor\":\"center\",\"xref\":\"paper\",\"y\":1.0,\"yanchor\":\"bottom\",\"yref\":\"paper\"},{\"font\":{\"size\":16},\"showarrow\":false,\"text\":\"Valuation Range\",\"x\":0.8733333333333333,\"xanchor\":\"center\",\"xref\":\"paper\",\"y\":1.0,\"yanchor\":\"bottom\",\"yref\":\"paper\"},{\"font\":{\"size\":16},\"showarrow\":false,\"text\":\"SDE Components\",\"x\":0.12666666666666668,\"xanchor\":\"center\",\"xref\":\"paper\",\"y\":0.425,\"yanchor\":\"bottom\",\"yref\":\"paper\"},{\"font\":{\"size\":16},\"showarrow\":false,\"text\":\"Debt Coverage\",\"x\":0.5,\"xanchor\":\"center\",\"xref\":\"paper\",\"y\":0.425,\"yanchor\":\"bottom\",\"yref\":\"paper\"},{\"font\":{\"size\":16},\"showarrow\":false,\"text\":\"Practice Metrics\",\"x\":0.8733333333333333,\"xanchor\":\"center\",\"xref\":\"paper\",\"y\":0.425,\"yanchor\":\"bottom\",\"yref\":\"paper\"}],\"title\":{\"text\":\"Practice Dashboard - Demo Dental NYC\",\"x\":0.5,\"xanchor\":\"center\"},\"height\":700,\"showlegend\":false},                        {\"responsive\": true}                    ).then(function(){\n",
       "                            \n",
       "var gd = document.getElementById('563498d7-85e0-43d5-9643-c15fa6c0237a');\n",
       "var x = new MutationObserver(function (mutations, observer) {{\n",
       "        var display = window.getComputedStyle(gd).display;\n",
       "        if (!display || display === 'none') {{\n",
       "            console.log([gd, 'removed!']);\n",
       "            Plotly.purge(gd);\n",
       "            observer.disconnect();\n",
       "        }}\n",
       "}});\n",
       "\n",
       "// Listen for the removal of the full notebook cells\n",
       "var notebookContainer = gd.closest('#notebook-container');\n",
       "if (notebookContainer) {{\n",
       "    x.observe(notebookContainer, {childList: true});\n",
       "}}\n",
       "\n",
       "// Listen for the clearing of the current output cell\n",
       "var outputEl = gd.closest('.output');\n",
       "if (outputEl) {{\n",
       "    x.observe(outputEl, {childList: true});\n",
       "}}\n",
       "\n",
       "                        })                };                });            </script>        </div>"
      ]
     },
     "metadata": {},
     "output_type": "display_data"
    },
    {
     "name": "stdout",
     "output_type": "stream",
     "text": [
      "   ✅ Dashboard created\n",
      "\n",
      "============================================================\n",
      "✅ Visualization module ready!\n",
      "\n",
      "Available visualization types:\n",
      "  • waterfall - SDE build-up analysis (shows profit adjustments)\n",
      "  • bar_comparison - Valuation methods comparison (EBITDA vs Revenue)\n",
      "  • bar_chart - Profitability margins (practice vs industry)\n",
      "  • swot_matrix - SWOT analysis grid (strengths/weaknesses/opportunities/threats)\n",
      "  • gauge_chart - Debt coverage ratio (financial health indicator)\n",
      "  • dashboard - Complete metrics overview (6-panel summary)\n",
      "============================================================\n"
     ]
    }
   ],
   "source": [
    "# Cell 5: Visualization Generation Functions\n",
    "# ===========================================\n",
    "\n",
    "def create_sde_waterfall_chart(practice_data: DentalPracticeData):\n",
    "    \"\"\"\n",
    "    Creates a WATERFALL CHART showing how SDE (Seller's Discretionary Earnings) is calculated.\n",
    "    \n",
    "    WHAT IS SDE?\n",
    "    - SDE is the \"true\" profit available to a practice owner\n",
    "    - It's what the owner actually takes home + what they could take home\n",
    "    - Banks use SDE to determine if a buyer can afford to purchase the practice\n",
    "    \n",
    "    WHAT IS A WATERFALL CHART?\n",
    "    - Shows step-by-step how we get from one number to another\n",
    "    - Each bar adds to (green) or subtracts from (red) the total\n",
    "    - Like climbing stairs - each step takes you higher (or lower)\n",
    "    \n",
    "    HOW TO READ THIS CHART:\n",
    "    1. Start with Net Profit (what the tax return shows)\n",
    "    2. Add back owner's excess salary (owner pays themselves above market rate)\n",
    "    3. Add back owner perks (personal car, phone, etc. paid by business)\n",
    "    4. Add back interest (buyer will have different financing)\n",
    "    5. Add back depreciation (non-cash expense for tax purposes)\n",
    "    6. Add back amortization (another non-cash expense)\n",
    "    7. Add back one-time expenses (won't happen again)\n",
    "    8. Final bar shows Total SDE\n",
    "    \n",
    "    WHY THIS MATTERS:\n",
    "    - Shows the \"real\" earning power of the practice\n",
    "    - Helps buyers understand what cash flow they can expect\n",
    "    - Banks require this for loan approval\n",
    "    \n",
    "    Parameters:\n",
    "    - practice_data: The DentalPracticeData object containing all financial info\n",
    "    \n",
    "    Returns:\n",
    "    - Interactive Plotly chart that users can hover over for details\n",
    "    \"\"\"\n",
    "    \n",
    "    # Get SDE components from the data\n",
    "    sde_components = practice_data.data.get(\"SDE\", {})\n",
    "    \n",
    "    # Build the waterfall data\n",
    "    # Each item needs: name, measure type, and value\n",
    "    waterfall_data = []\n",
    "    \n",
    "    # Starting point: Net Profit (what's on the tax return)\n",
    "    waterfall_data.append({\n",
    "        'name': 'Net Profit (Pre-tax)',\n",
    "        'measure': 'absolute',  # This is our starting point\n",
    "        'value': sde_components.get('Net_Profit_pre_tax', 0),\n",
    "        'text': f\"${sde_components.get('Net_Profit_pre_tax', 0):,.0f}\"\n",
    "    })\n",
    "    \n",
    "    # Add each adjustment (these are \"add-backs\" - amounts we add back to profit)\n",
    "    adjustments = [\n",
    "        ('Owner Salary Adjustment', 'Owner_Salary_minus_Market'),  # Owner overpays themselves\n",
    "        ('Owner Perks', 'Owner_Perks'),                           # Personal expenses in business\n",
    "        ('Interest', 'Interest'),                                 # Current loan interest\n",
    "        ('Depreciation', 'Depreciation'),                        # Non-cash tax deduction\n",
    "        ('Amortization', 'Amortization'),                        # Non-cash tax deduction\n",
    "        ('Non-Recurring', 'Non_Recurring')                       # One-time expenses\n",
    "    ]\n",
    "    \n",
    "    for display_name, data_key in adjustments:\n",
    "        value = sde_components.get(data_key, 0)\n",
    "        if value > 0:  # Only add if there's a value\n",
    "            waterfall_data.append({\n",
    "                'name': display_name,\n",
    "                'measure': 'relative',  # These add to the total\n",
    "                'value': value,\n",
    "                'text': f\"+${value:,.0f}\"\n",
    "            })\n",
    "    \n",
    "    # Final total (this is what the practice really earns)\n",
    "    waterfall_data.append({\n",
    "        'name': 'Total SDE',\n",
    "        'measure': 'total',  # This shows the final sum\n",
    "        'value': practice_data.data.get('Total_SDE', 0),\n",
    "        'text': f\"${practice_data.data.get('Total_SDE', 0):,.0f}\"\n",
    "    })\n",
    "    \n",
    "    # Create the waterfall chart using Plotly\n",
    "    fig = go.Figure(go.Waterfall(\n",
    "        name=\"SDE Build-up\",\n",
    "        orientation=\"v\",  # Vertical bars\n",
    "        x=[d['name'] for d in waterfall_data],\n",
    "        y=[d['value'] if d['measure'] != 'total' else None for d in waterfall_data],\n",
    "        text=[d['text'] for d in waterfall_data],\n",
    "        textposition=\"outside\",\n",
    "        measure=[d['measure'] for d in waterfall_data],\n",
    "        connector={\"line\": {\"color\": \"rgb(63, 63, 63)\"}},  # Lines connecting bars\n",
    "        increasing={\"marker\": {\"color\": VIZ_CONFIG['color_scheme'][2]}},  # Green for additions\n",
    "        decreasing={\"marker\": {\"color\": VIZ_CONFIG['color_scheme'][3]}},  # Red for subtractions\n",
    "        totals={\"marker\": {\"color\": VIZ_CONFIG['color_scheme'][0]}}  # Blue for totals\n",
    "    ))\n",
    "    \n",
    "    # Update layout for better appearance\n",
    "    fig.update_layout(\n",
    "        title={\n",
    "            'text': f\"SDE Build-up Analysis - {practice_data.data.get('Clinic', 'Dental Practice')}\",\n",
    "            'x': 0.5,\n",
    "            'xanchor': 'center'\n",
    "        },\n",
    "        yaxis_title=\"Amount ($)\",\n",
    "        xaxis_title=\"\",\n",
    "        height=500,\n",
    "        showlegend=False,\n",
    "        hovermode='x unified',\n",
    "        plot_bgcolor='white',\n",
    "        yaxis=dict(gridcolor='lightgray', tickformat='$,.0f')\n",
    "    )\n",
    "    \n",
    "    return fig\n",
    "\n",
    "def create_valuation_comparison_chart(practice_data: DentalPracticeData):\n",
    "    \"\"\"\n",
    "    Creates a BAR CHART comparing different methods of valuing the practice.\n",
    "    \n",
    "    WHAT IS PRACTICE VALUATION?\n",
    "    - The estimated selling price of the dental practice\n",
    "    - Like appraising a house - there are different methods\n",
    "    - Usually results in a range, not a single number\n",
    "    \n",
    "    TWO MAIN VALUATION METHODS:\n",
    "    1. EBITDA Multiple Method:\n",
    "       - Takes EBITDA (earnings) × industry multiple (typically 3-6x)\n",
    "       - More accurate because it's based on profitability\n",
    "       - Preferred by sophisticated buyers\n",
    "    \n",
    "    2. Revenue Multiple Method:\n",
    "       - Takes total revenue × industry multiple (typically 0.6-1.0x)\n",
    "       - Simpler but less accurate\n",
    "       - Quick \"rule of thumb\" estimate\n",
    "    \n",
    "    HOW TO READ THIS CHART:\n",
    "    - Two bars showing the practice value using each method\n",
    "    - Dotted line shows the average of both methods\n",
    "    - Higher bar = higher valuation\n",
    "    - The gap between bars shows negotiation range\n",
    "    \n",
    "    WHY THIS MATTERS:\n",
    "    - Sellers want to know what their practice is worth\n",
    "    - Buyers need to know if the asking price is fair\n",
    "    - Banks use these multiples for loan decisions\n",
    "    - Wide gaps suggest more negotiation needed\n",
    "    \n",
    "    Parameters:\n",
    "    - practice_data: The DentalPracticeData object\n",
    "    \n",
    "    Returns:\n",
    "    - Interactive bar chart comparing valuations\n",
    "    \"\"\"\n",
    "    \n",
    "    # Get valuation data (calculated in the data loading step)\n",
    "    valuations = {\n",
    "        'EBITDA-Based': practice_data.metrics.get('Implied_Value_EBITDA', 0),\n",
    "        'Revenue-Based': practice_data.metrics.get('Implied_Value_Revenue', 0)\n",
    "    }\n",
    "    \n",
    "    # Calculate average for reference (midpoint of the range)\n",
    "    avg_valuation = sum(valuations.values()) / len(valuations)\n",
    "    \n",
    "    # Create bar chart\n",
    "    fig = go.Figure()\n",
    "    \n",
    "    # Add bars for each valuation method\n",
    "    fig.add_trace(go.Bar(\n",
    "        x=list(valuations.keys()),\n",
    "        y=list(valuations.values()),\n",
    "        text=[f\"${v:,.0f}\" for v in valuations.values()],  # Show dollar amounts on bars\n",
    "        textposition='outside',\n",
    "        marker_color=[VIZ_CONFIG['color_scheme'][0], VIZ_CONFIG['color_scheme'][1]],\n",
    "        name='Valuation'\n",
    "    ))\n",
    "    \n",
    "    # Add average line for reference (helps show the midpoint)\n",
    "    fig.add_hline(\n",
    "        y=avg_valuation, \n",
    "        line_dash=\"dash\", \n",
    "        line_color=\"gray\",\n",
    "        annotation_text=f\"Average: ${avg_valuation:,.0f}\",\n",
    "        annotation_position=\"right\"\n",
    "    )\n",
    "    \n",
    "    # Update layout\n",
    "    fig.update_layout(\n",
    "        title={\n",
    "            'text': f\"Practice Valuation Comparison - {practice_data.data.get('Clinic', 'Dental Practice')}\",\n",
    "            'x': 0.5,\n",
    "            'xanchor': 'center'\n",
    "        },\n",
    "        yaxis_title=\"Valuation ($)\",\n",
    "        xaxis_title=\"Valuation Method\",\n",
    "        height=400,\n",
    "        showlegend=False,\n",
    "        plot_bgcolor='white',\n",
    "        yaxis=dict(gridcolor='lightgray', tickformat='$,.0f'),\n",
    "        bargap=0.3  # Space between bars\n",
    "    )\n",
    "    \n",
    "    # Add annotation box explaining the multiples used\n",
    "    multiples = practice_data.data.get('Valuation_Multiples', {})\n",
    "    fig.add_annotation(\n",
    "        text=f\"EBITDA Multiple: {multiples.get('EBITDA_multiple', 0)}x<br>\" +\n",
    "             f\"Revenue Multiple: {multiples.get('Revenue_multiple', 0)}x\",\n",
    "        xref=\"paper\", yref=\"paper\",\n",
    "        x=0.02, y=0.98,\n",
    "        showarrow=False,\n",
    "        bgcolor=\"white\",\n",
    "        bordercolor=\"gray\",\n",
    "        borderwidth=1\n",
    "    )\n",
    "    \n",
    "    return fig\n",
    "\n",
    "def create_profitability_margins_chart(practice_data: DentalPracticeData):\n",
    "    \"\"\"\n",
    "    Creates a GROUPED BAR CHART showing profitability margins vs industry averages.\n",
    "    \n",
    "    WHAT ARE MARGINS?\n",
    "    - Margins show what percentage of revenue becomes profit\n",
    "    - Like a grade on efficiency - higher is better\n",
    "    - Shows how well the practice controls costs\n",
    "    \n",
    "    TWO KEY MARGINS:\n",
    "    1. EBITDA Margin:\n",
    "       - (EBITDA ÷ Revenue) × 100\n",
    "       - Shows operating efficiency\n",
    "       - Typical dental: 30-40%\n",
    "    \n",
    "    2. SDE Margin:\n",
    "       - (SDE ÷ Revenue) × 100\n",
    "       - Shows true owner benefit\n",
    "       - Typical dental: 25-35%\n",
    "    \n",
    "    HOW TO READ THIS CHART:\n",
    "    - Blue bars = This practice's actual margins\n",
    "    - Gray bars = Industry average margins\n",
    "    - Higher bars = better profitability\n",
    "    - If blue > gray, practice is above average\n",
    "    \n",
    "    WHY THIS MATTERS:\n",
    "    - High margins = well-run practice\n",
    "    - Low margins = potential problems or opportunities\n",
    "    - Buyers pay more for high-margin practices\n",
    "    - Shows where improvements can be made\n",
    "    \n",
    "    Parameters:\n",
    "    - practice_data: The DentalPracticeData object\n",
    "    \n",
    "    Returns:\n",
    "    - Grouped bar chart comparing margins\n",
    "    \"\"\"\n",
    "    \n",
    "    # Get this practice's margins\n",
    "    margins = {\n",
    "        'EBITDA Margin': practice_data.metrics.get('EBITDA_Margin', 0),\n",
    "        'SDE Margin': practice_data.metrics.get('SDE_Margin', 0)\n",
    "    }\n",
    "    \n",
    "    # Industry benchmarks for comparison (typical dental practice ranges)\n",
    "    # These are rough averages - actual benchmarks vary by location/specialty\n",
    "    benchmarks = {\n",
    "        'EBITDA Margin': 35,  # Industry average EBITDA margin\n",
    "        'SDE Margin': 30      # Industry average SDE margin\n",
    "    }\n",
    "    \n",
    "    # Create grouped bar chart\n",
    "    fig = go.Figure()\n",
    "    \n",
    "    # This practice's actual margins\n",
    "    fig.add_trace(go.Bar(\n",
    "        name='This Practice',\n",
    "        x=list(margins.keys()),\n",
    "        y=list(margins.values()),\n",
    "        text=[f\"{v:.1f}%\" for v in margins.values()],\n",
    "        textposition='outside',\n",
    "        marker_color=VIZ_CONFIG['color_scheme'][0]\n",
    "    ))\n",
    "    \n",
    "    # Industry benchmark margins\n",
    "    fig.add_trace(go.Bar(\n",
    "        name='Industry Avg',\n",
    "        x=list(benchmarks.keys()),\n",
    "        y=list(benchmarks.values()),\n",
    "        text=[f\"{v:.0f}%\" for v in benchmarks.values()],\n",
    "        textposition='outside',\n",
    "        marker_color=VIZ_CONFIG['color_scheme'][4],\n",
    "        opacity=0.6  # Make slightly transparent\n",
    "    ))\n",
    "    \n",
    "    # Update layout\n",
    "    fig.update_layout(\n",
    "        title={\n",
    "            'text': f\"Profitability Margins Analysis - {practice_data.data.get('Clinic', 'Dental Practice')}\",\n",
    "            'x': 0.5,\n",
    "            'xanchor': 'center'\n",
    "        },\n",
    "        yaxis_title=\"Margin (%)\",\n",
    "        xaxis_title=\"\",\n",
    "        height=400,\n",
    "        barmode='group',  # Put bars side by side\n",
    "        plot_bgcolor='white',\n",
    "        yaxis=dict(gridcolor='lightgray', tickformat='.0f', ticksuffix='%'),\n",
    "        legend=dict(orientation=\"h\", y=1.1, x=0.5, xanchor='center')\n",
    "    )\n",
    "    \n",
    "    return fig\n",
    "\n",
    "def create_swot_matrix(practice_data: DentalPracticeData):\n",
    "    \"\"\"\n",
    "    Creates a SWOT ANALYSIS MATRIX - a 2x2 grid showing strategic position.\n",
    "    \n",
    "    WHAT IS SWOT?\n",
    "    S.W.O.T. stands for:\n",
    "    - Strengths: What the practice does well (internal positive)\n",
    "    - Weaknesses: What needs improvement (internal negative)\n",
    "    - Opportunities: External factors that could help growth\n",
    "    - Threats: External factors that could hurt the practice\n",
    "    \n",
    "    HOW TO READ THIS CHART:\n",
    "    - Top row (Strengths & Weaknesses) = Internal factors (can control)\n",
    "    - Bottom row (Opportunities & Threats) = External factors (can't control)\n",
    "    - Left column (Strengths & Opportunities) = Positive factors\n",
    "    - Right column (Weaknesses & Threats) = Negative factors\n",
    "    \n",
    "    WHY THIS MATTERS:\n",
    "    - Buyers see the full picture of the practice\n",
    "    - Identifies growth potential (opportunities)\n",
    "    - Shows risks that need managing (threats)\n",
    "    - Helps justify the asking price\n",
    "    - Guides post-acquisition strategy\n",
    "    \n",
    "    EXAMPLE INTERPRETATIONS:\n",
    "    - Many strengths + opportunities = Premium valuation\n",
    "    - Several weaknesses = Buyer may negotiate lower price\n",
    "    - Unaddressed threats = Risk factors affecting value\n",
    "    \n",
    "    Parameters:\n",
    "    - practice_data: The DentalPracticeData object\n",
    "    \n",
    "    Returns:\n",
    "    - 2x2 matrix visualization (static matplotlib figure)\n",
    "    \"\"\"\n",
    "    \n",
    "    swot_data = practice_data.data.get('SWOT', {})\n",
    "    \n",
    "    # Create figure with 2x2 subplots (4 quadrants)\n",
    "    fig, axes = plt.subplots(2, 2, figsize=(12, 8))\n",
    "    fig.suptitle(f'SWOT Analysis - {practice_data.data.get(\"Clinic\", \"Dental Practice\")}', \n",
    "                 fontsize=16, fontweight='bold')\n",
    "    \n",
    "    # Define quadrants with their data and colors\n",
    "    # Green for strengths (positive), Red for weaknesses (negative)\n",
    "    # Blue for opportunities (potential), Orange for threats (risks)\n",
    "    quadrants = [\n",
    "        ('Strengths', swot_data.get('Strengths', []), axes[0, 0], VIZ_CONFIG['color_scheme'][2]),\n",
    "        ('Weaknesses', swot_data.get('Weaknesses', []), axes[0, 1], VIZ_CONFIG['color_scheme'][3]),\n",
    "        ('Opportunities', swot_data.get('Opportunities', []), axes[1, 0], VIZ_CONFIG['color_scheme'][1]),\n",
    "        ('Threats', swot_data.get('Threats', []), axes[1, 1], VIZ_CONFIG['color_scheme'][0])\n",
    "    ]\n",
    "    \n",
    "    # Fill each quadrant\n",
    "    for title, items, ax, color in quadrants:\n",
    "        # Set background color (light version with transparency)\n",
    "        ax.set_facecolor(color + '20')  # Add transparency\n",
    "        \n",
    "        # Add quadrant title\n",
    "        ax.text(0.5, 0.9, title, fontsize=14, fontweight='bold',\n",
    "                ha='center', transform=ax.transAxes)\n",
    "        \n",
    "        # Add items as bullet points\n",
    "        y_position = 0.7\n",
    "        for item in items[:5]:  # Limit to 5 items per quadrant for readability\n",
    "            ax.text(0.1, y_position, f'• {item}', fontsize=11,\n",
    "                   transform=ax.transAxes, wrap=True)\n",
    "            y_position -= 0.15\n",
    "        \n",
    "        # Remove axes for cleaner look\n",
    "        ax.set_xticks([])\n",
    "        ax.set_yticks([])\n",
    "        \n",
    "        # Add colored border\n",
    "        for spine in ax.spines.values():\n",
    "            spine.set_edgecolor(color)\n",
    "            spine.set_linewidth(2)\n",
    "    \n",
    "    plt.tight_layout()\n",
    "    return fig\n",
    "\n",
    "def create_debt_coverage_gauge(practice_data: DentalPracticeData):\n",
    "    \"\"\"\n",
    "    Creates a GAUGE CHART showing Debt Service Coverage Ratio (DSCR).\n",
    "    \n",
    "    WHAT IS DSCR?\n",
    "    - Debt Service Coverage Ratio\n",
    "    - Formula: EBITDA ÷ Annual Debt Payments\n",
    "    - Shows if practice generates enough cash to pay its loans\n",
    "    - Banks require minimum DSCR of 1.2-1.25 for loans\n",
    "    \n",
    "    HOW TO READ THIS GAUGE:\n",
    "    - Red Zone (0-1.0): DANGER - Cannot cover debt payments\n",
    "    - Yellow Zone (1.0-1.25): CAUTION - Tight coverage, risky\n",
    "    - Green Zone (1.25+): GOOD - Comfortable debt coverage\n",
    "    \n",
    "    WHAT THE NUMBERS MEAN:\n",
    "    - DSCR = 1.0: Breaking even on debt (no cushion)\n",
    "    - DSCR = 1.25: Have 25% cushion above debt payments\n",
    "    - DSCR = 2.0: Generate 2x the cash needed for debt\n",
    "    \n",
    "    WHY THIS MATTERS:\n",
    "    - Banks won't lend if DSCR < 1.2\n",
    "    - Low DSCR = practice is overleveraged\n",
    "    - High DSCR = room for more debt or distributions\n",
    "    - Critical metric for buyer financing approval\n",
    "    \n",
    "    BUYER IMPLICATIONS:\n",
    "    - DSCR < 1.0: Need to inject cash or renegotiate debt\n",
    "    - DSCR 1.0-1.25: Limited cash for owner or growth\n",
    "    - DSCR > 1.25: Healthy cash flow after debt service\n",
    "    \n",
    "    Parameters:\n",
    "    - practice_data: The DentalPracticeData object\n",
    "    \n",
    "    Returns:\n",
    "    - Gauge chart visualization (like a speedometer)\n",
    "    \"\"\"\n",
    "    \n",
    "    dscr = practice_data.metrics.get('DSCR', 0)\n",
    "    \n",
    "    # Create gauge chart\n",
    "    fig = go.Figure(go.Indicator(\n",
    "        mode=\"gauge+number+delta\",\n",
    "        value=dscr,\n",
    "        title={'text': \"Debt Service Coverage Ratio\"},\n",
    "        delta={'reference': 1.25, 'relative': False},  # Compare to healthy threshold\n",
    "        gauge={\n",
    "            'axis': {'range': [0, 3], 'tickwidth': 1},\n",
    "            'bar': {'color': \"darkblue\"},  # The needle color\n",
    "            'steps': [  # Background zones\n",
    "                {'range': [0, 1], 'color': \"lightgray\"},        # Can't cover debt\n",
    "                {'range': [1, 1.25], 'color': \"lightyellow\"},   # Tight coverage\n",
    "                {'range': [1.25, 3], 'color': \"lightgreen\"}     # Healthy coverage\n",
    "            ],\n",
    "            'threshold': {  # Red line at minimum viable level\n",
    "                'line': {'color': \"red\", 'width': 4},\n",
    "                'thickness': 0.75,\n",
    "                'value': 1  # Minimum viable DSCR\n",
    "            }\n",
    "        }\n",
    "    ))\n",
    "    \n",
    "    # Update layout\n",
    "    fig.update_layout(\n",
    "        height=400,\n",
    "        title={\n",
    "            'text': f\"Debt Coverage Analysis - {practice_data.data.get('Clinic', 'Dental Practice')}\",\n",
    "            'x': 0.5,\n",
    "            'xanchor': 'center'\n",
    "        }\n",
    "    )\n",
    "    \n",
    "    # Add interpretation text based on DSCR value\n",
    "    if dscr < 1:\n",
    "        interpretation = \"⚠️ Warning: Insufficient cash flow to cover debt payments\"\n",
    "    elif dscr < 1.25:\n",
    "        interpretation = \"⚡ Caution: Tight debt coverage - limited margin for error\"\n",
    "    else:\n",
    "        interpretation = \"✅ Healthy: Strong debt coverage with comfortable cushion\"\n",
    "    \n",
    "    fig.add_annotation(\n",
    "        text=interpretation,\n",
    "        xref=\"paper\", yref=\"paper\",\n",
    "        x=0.5, y=-0.1,\n",
    "        showarrow=False,\n",
    "        font=dict(size=12)\n",
    "    )\n",
    "    \n",
    "    return fig\n",
    "\n",
    "def create_key_metrics_dashboard(practice_data: DentalPracticeData):\n",
    "    \"\"\"\n",
    "    Creates a COMPREHENSIVE DASHBOARD with 6 panels of key information.\n",
    "    \n",
    "    WHAT IS THIS DASHBOARD?\n",
    "    - A one-page overview of all critical practice metrics\n",
    "    - Like a car dashboard - shows everything at a glance\n",
    "    - Used for initial assessment and presentations\n",
    "    \n",
    "    THE 6 PANELS:\n",
    "    1. Revenue & Profitability: Size and earnings of practice\n",
    "    2. Margins Comparison: Efficiency vs industry\n",
    "    3. Valuation Range: What the practice is worth\n",
    "    4. SDE Components: Where the profit comes from\n",
    "    5. Debt Coverage: Financial health indicator\n",
    "    6. Practice Metrics: Key operational data\n",
    "    \n",
    "    HOW TO USE THIS:\n",
    "    - First thing to show potential buyers\n",
    "    - Quick health check of the practice\n",
    "    - Identifies areas needing deeper analysis\n",
    "    - Executive summary for decision makers\n",
    "    \n",
    "    WHY THIS MATTERS:\n",
    "    - Saves time by showing everything at once\n",
    "    - Helps identify red flags quickly\n",
    "    - Provides context for detailed discussions\n",
    "    - Professional presentation for stakeholders\n",
    "    \n",
    "    Parameters:\n",
    "    - practice_data: The DentalPracticeData object\n",
    "    \n",
    "    Returns:\n",
    "    - Multi-panel Plotly dashboard\n",
    "    \"\"\"\n",
    "    \n",
    "    # Create subplots with different chart types\n",
    "    fig = make_subplots(\n",
    "        rows=2, cols=3,  # 2 rows, 3 columns = 6 panels\n",
    "        subplot_titles=(\n",
    "            'Revenue & Profitability',  # Shows practice size\n",
    "            'Margins Comparison',        # Shows efficiency\n",
    "            'Valuation Range',          # Shows worth\n",
    "            'SDE Components',           # Shows profit makeup\n",
    "            'Debt Coverage',            # Shows financial health\n",
    "            'Practice Metrics'          # Shows key numbers\n",
    "        ),\n",
    "        specs=[  # Define what type of chart goes in each position\n",
    "            [{'type': 'bar'}, {'type': 'bar'}, {'type': 'scatter'}],\n",
    "            [{'type': 'pie'}, {'type': 'indicator'}, {'type': 'table'}]\n",
    "        ],\n",
    "        vertical_spacing=0.15,\n",
    "        horizontal_spacing=0.12\n",
    "    )\n",
    "    \n",
    "    # 1. Revenue & Profitability bars (top-left)\n",
    "    # Shows the cascade from revenue → EBITDA → SDE\n",
    "    fig.add_trace(\n",
    "        go.Bar(\n",
    "            x=['Revenue', 'EBITDA', 'SDE'],\n",
    "            y=[\n",
    "                practice_data.data.get('Revenue_Trailing12', 0),\n",
    "                practice_data.data.get('EBITDA_Trailing12', 0),\n",
    "                practice_data.data.get('Total_SDE', 0)\n",
    "            ],\n",
    "            text=[\n",
    "                f\"${practice_data.data.get('Revenue_Trailing12', 0):,.0f}\",\n",
    "                f\"${practice_data.data.get('EBITDA_Trailing12', 0):,.0f}\",\n",
    "                f\"${practice_data.data.get('Total_SDE', 0):,.0f}\"\n",
    "            ],\n",
    "            textposition='outside',\n",
    "            marker_color=VIZ_CONFIG['color_scheme'][:3]\n",
    "        ),\n",
    "        row=1, col=1\n",
    "    )\n",
    "    \n",
    "    # 2. Margins comparison (top-middle)\n",
    "    # Shows profitability percentages\n",
    "    fig.add_trace(\n",
    "        go.Bar(\n",
    "            x=['EBITDA %', 'SDE %'],\n",
    "            y=[\n",
    "                practice_data.metrics.get('EBITDA_Margin', 0),\n",
    "                practice_data.metrics.get('SDE_Margin', 0)\n",
    "            ],\n",
    "            text=[\n",
    "                f\"{practice_data.metrics.get('EBITDA_Margin', 0):.1f}%\",\n",
    "                f\"{practice_data.metrics.get('SDE_Margin', 0):.1f}%\"\n",
    "            ],\n",
    "            textposition='outside',\n",
    "            marker_color=[VIZ_CONFIG['color_scheme'][1], VIZ_CONFIG['color_scheme'][2]]\n",
    "        ),\n",
    "        row=1, col=2\n",
    "    )\n",
    "    \n",
    "    # 3. Valuation range (top-right)\n",
    "    # Shows the spread between valuation methods\n",
    "    valuations = [\n",
    "        practice_data.metrics.get('Implied_Value_Revenue', 0),\n",
    "        practice_data.metrics.get('Implied_Value_EBITDA', 0)\n",
    "    ]\n",
    "    fig.add_trace(\n",
    "        go.Scatter(\n",
    "            x=valuations,\n",
    "            y=['Valuation', 'Valuation'],\n",
    "            mode='markers',\n",
    "            marker=dict(size=15, color=VIZ_CONFIG['color_scheme'][:2]),\n",
    "            text=[f\"Revenue: ${valuations[0]:,.0f}\", f\"EBITDA: ${valuations[1]:,.0f}\"],\n",
    "            showlegend=False\n",
    "        ),\n",
    "        row=1, col=3\n",
    "    )\n",
    "    \n",
    "    # 4. SDE Components pie chart (bottom-left)\n",
    "    # Shows what makes up the SDE\n",
    "    sde_components = practice_data.data.get('SDE', {})\n",
    "    fig.add_trace(\n",
    "        go.Pie(\n",
    "            labels=list(sde_components.keys()),\n",
    "            values=list(sde_components.values()),\n",
    "            hole=0.3,  # Donut chart\n",
    "            marker_colors=VIZ_CONFIG['color_scheme']\n",
    "        ),\n",
    "        row=2, col=1\n",
    "    )\n",
    "    \n",
    "    # 5. Debt Coverage gauge (bottom-middle)\n",
    "    # Quick visual of DSCR health\n",
    "    dscr = practice_data.metrics.get('DSCR', 0)\n",
    "    fig.add_trace(\n",
    "        go.Indicator(\n",
    "            mode=\"number+gauge\",\n",
    "            value=dscr,\n",
    "            gauge={'axis': {'range': [0, 3]},\n",
    "                   'bar': {'color': \"green\" if dscr > 1.25 else \"yellow\" if dscr > 1 else \"red\"}},\n",
    "            title={'text': \"DSCR\"}\n",
    "        ),\n",
    "        row=2, col=2\n",
    "    )\n",
    "    \n",
    "    # 6. Key metrics table (bottom-right)\n",
    "    # Quick reference for important numbers\n",
    "    summary_df = practice_data.get_summary()\n",
    "    fig.add_trace(\n",
    "        go.Table(\n",
    "            header=dict(values=['Metric', 'Value'],\n",
    "                       fill_color='paleturquoise',\n",
    "                       align='left'),\n",
    "            cells=dict(values=[summary_df['Metric'][:5], summary_df['Value'][:5]],\n",
    "                      fill_color='lavender',\n",
    "                      align='left')\n",
    "        ),\n",
    "        row=2, col=3\n",
    "    )\n",
    "    \n",
    "    # Update overall layout\n",
    "    fig.update_layout(\n",
    "        title={\n",
    "            'text': f\"Practice Dashboard - {practice_data.data.get('Clinic', 'Dental Practice')}\",\n",
    "            'x': 0.5,\n",
    "            'xanchor': 'center'\n",
    "        },\n",
    "        height=700,\n",
    "        showlegend=False\n",
    "    )\n",
    "    \n",
    "    return fig\n",
    "\n",
    "def generate_visualization(viz_type: str, practice_data: DentalPracticeData):\n",
    "    \"\"\"\n",
    "    Main routing function that generates any visualization based on type.\n",
    "    This is the function you call when you need a specific chart.\n",
    "    \n",
    "    HOW TO USE:\n",
    "    figure = generate_visualization('waterfall', practice_data)\n",
    "    figure.show()  # Display the chart\n",
    "    \n",
    "    AVAILABLE VISUALIZATION TYPES:\n",
    "    - 'waterfall': SDE build-up from Net Profit\n",
    "    - 'bar_comparison': Valuation methods comparison  \n",
    "    - 'bar_chart': Profitability margins vs industry\n",
    "    - 'swot_matrix': 2x2 SWOT analysis grid\n",
    "    - 'gauge_chart': Debt coverage ratio gauge\n",
    "    - 'dashboard': Complete 6-panel overview\n",
    "    \n",
    "    Parameters:\n",
    "    - viz_type: String specifying which chart to create\n",
    "    - practice_data: The DentalPracticeData object with all info\n",
    "    \n",
    "    Returns:\n",
    "    - Figure object that can be displayed or saved\n",
    "    - Returns None if there's an error\n",
    "    \"\"\"\n",
    "    \n",
    "    # Map visualization types to their creation functions\n",
    "    viz_functions = {\n",
    "        'waterfall': create_sde_waterfall_chart,\n",
    "        'bar_comparison': create_valuation_comparison_chart,\n",
    "        'bar_chart': create_profitability_margins_chart,\n",
    "        'swot_matrix': create_swot_matrix,\n",
    "        'gauge_chart': create_debt_coverage_gauge,\n",
    "        'dashboard': create_key_metrics_dashboard\n",
    "    }\n",
    "    \n",
    "    # Get the appropriate function for the requested type\n",
    "    viz_function = viz_functions.get(viz_type)\n",
    "    \n",
    "    if viz_function:\n",
    "        try:\n",
    "            return viz_function(practice_data)\n",
    "        except Exception as e:\n",
    "            print(f\"❌ Error creating {viz_type}: {str(e)}\")\n",
    "            return None\n",
    "    else:\n",
    "        print(f\"⚠️ Unknown visualization type: {viz_type}\")\n",
    "        return None\n",
    "\n",
    "# ===================================\n",
    "# TEST VISUALIZATIONS\n",
    "# ===================================\n",
    "\n",
    "# Make sure we have practice data loaded\n",
    "if 'practice_data' not in locals():\n",
    "    print(\"⚠️ Loading practice data first...\")\n",
    "    practice_data = DentalPracticeData(json_path=\"demo_clinic.json\")\n",
    "\n",
    "print(\"=\"*60)\n",
    "print(\"🎨 TESTING VISUALIZATION FUNCTIONS\")\n",
    "print(\"=\"*60)\n",
    "\n",
    "# Test 1: SDE Waterfall Chart\n",
    "# This shows how profit builds up to SDE\n",
    "print(\"\\n1. Creating SDE Waterfall Chart...\")\n",
    "print(\"   Purpose: Shows step-by-step how Net Profit becomes SDE\")\n",
    "fig1 = create_sde_waterfall_chart(practice_data)\n",
    "if fig1:\n",
    "    fig1.show()\n",
    "    print(\"   ✅ SDE Waterfall created\")\n",
    "\n",
    "# Test 2: Valuation Comparison\n",
    "# This compares different ways to value the practice\n",
    "print(\"\\n2. Creating Valuation Comparison Chart...\")\n",
    "print(\"   Purpose: Shows practice value using different methods\")\n",
    "fig2 = create_valuation_comparison_chart(practice_data)\n",
    "if fig2:\n",
    "    fig2.show()\n",
    "    print(\"   ✅ Valuation Comparison created\")\n",
    "\n",
    "# Test 3: Dashboard\n",
    "# This gives the complete overview in one view\n",
    "print(\"\\n3. Creating Key Metrics Dashboard...\")\n",
    "print(\"   Purpose: One-page overview of all key metrics\")\n",
    "fig3 = create_key_metrics_dashboard(practice_data)\n",
    "if fig3:\n",
    "    fig3.show()\n",
    "    print(\"   ✅ Dashboard created\")\n",
    "\n",
    "print(\"\\n\" + \"=\"*60)\n",
    "print(\"✅ Visualization module ready!\")\n",
    "print(\"\\nAvailable visualization types:\")\n",
    "print(\"  • waterfall - SDE build-up analysis (shows profit adjustments)\")\n",
    "print(\"  • bar_comparison - Valuation methods comparison (EBITDA vs Revenue)\")\n",
    "print(\"  • bar_chart - Profitability margins (practice vs industry)\")\n",
    "print(\"  • swot_matrix - SWOT analysis grid (strengths/weaknesses/opportunities/threats)\")\n",
    "print(\"  • gauge_chart - Debt coverage ratio (financial health indicator)\")\n",
    "print(\"  • dashboard - Complete metrics overview (6-panel summary)\")\n",
    "print(\"=\"*60)"
   ]
  },
  {
   "cell_type": "code",
   "execution_count": 19,
   "id": "38a3c4cc-a814-4943-aeb4-1693888a6ae7",
   "metadata": {},
   "outputs": [
    {
     "name": "stdout",
     "output_type": "stream",
     "text": [
      "\n",
      "======================================================================\n",
      "🚀 DENTAL PRACTICE VALUATION Q&A PIPELINE READY!\n",
      "======================================================================\n",
      "\n",
      "📌 DEMO: Processing a sample question...\n",
      "Question: 'What is the SDE for this practice and explain how it's calculated?'\n",
      "----------------------------------------------------------------------\n",
      "\n",
      "======================================================================\n",
      "🦷 DENTAL PRACTICE VALUATION Q&A SYSTEM\n",
      "======================================================================\n",
      "⏰ Timestamp: 2025-08-07 18:36:19\n",
      "📝 Question: What is the SDE for this practice and explain how it's calculated?\n",
      "----------------------------------------------------------------------\n",
      "📊 Category detected: SDE\n",
      "🤖 Getting AI analysis...\n",
      "🤖 Calling DeepSeek API...\n",
      "✅ Response received!\n",
      "📈 Creating 1 visualization(s)...\n",
      "   - Creating SDE Build-up Analysis...\n"
     ]
    },
    {
     "data": {
      "application/vnd.plotly.v1+json": {
       "config": {
        "plotlyServerURL": "https://plot.ly"
       },
       "data": [
        {
         "connector": {
          "line": {
           "color": "rgb(63, 63, 63)"
          }
         },
         "decreasing": {
          "marker": {
           "color": "#C73E1D"
          }
         },
         "increasing": {
          "marker": {
           "color": "#F18F01"
          }
         },
         "measure": [
          "absolute",
          "relative",
          "relative",
          "relative",
          "relative",
          "relative",
          "relative",
          "total"
         ],
         "name": "SDE Build-up",
         "orientation": "v",
         "text": [
          "$350,000",
          "+$60,000",
          "+$18,000",
          "+$12,000",
          "+$9,000",
          "+$4,000",
          "+$7,000",
          "$460,000"
         ],
         "textposition": "outside",
         "totals": {
          "marker": {
           "color": "#2E86AB"
          }
         },
         "type": "waterfall",
         "x": [
          "Net Profit (Pre-tax)",
          "Owner Salary Adjustment",
          "Owner Perks",
          "Interest",
          "Depreciation",
          "Amortization",
          "Non-Recurring",
          "Total SDE"
         ],
         "y": [
          350000,
          60000,
          18000,
          12000,
          9000,
          4000,
          7000,
          null
         ]
        }
       ],
       "layout": {
        "autosize": true,
        "hovermode": "x unified",
        "plot_bgcolor": "white",
        "showlegend": false,
        "template": {
         "data": {
          "bar": [
           {
            "error_x": {
             "color": "#2a3f5f"
            },
            "error_y": {
             "color": "#2a3f5f"
            },
            "marker": {
             "line": {
              "color": "#E5ECF6",
              "width": 0.5
             },
             "pattern": {
              "fillmode": "overlay",
              "size": 10,
              "solidity": 0.2
             }
            },
            "type": "bar"
           }
          ],
          "barpolar": [
           {
            "marker": {
             "line": {
              "color": "#E5ECF6",
              "width": 0.5
             },
             "pattern": {
              "fillmode": "overlay",
              "size": 10,
              "solidity": 0.2
             }
            },
            "type": "barpolar"
           }
          ],
          "carpet": [
           {
            "aaxis": {
             "endlinecolor": "#2a3f5f",
             "gridcolor": "white",
             "linecolor": "white",
             "minorgridcolor": "white",
             "startlinecolor": "#2a3f5f"
            },
            "baxis": {
             "endlinecolor": "#2a3f5f",
             "gridcolor": "white",
             "linecolor": "white",
             "minorgridcolor": "white",
             "startlinecolor": "#2a3f5f"
            },
            "type": "carpet"
           }
          ],
          "choropleth": [
           {
            "colorbar": {
             "outlinewidth": 0,
             "ticks": ""
            },
            "type": "choropleth"
           }
          ],
          "contour": [
           {
            "colorbar": {
             "outlinewidth": 0,
             "ticks": ""
            },
            "colorscale": [
             [
              0,
              "#0d0887"
             ],
             [
              0.1111111111111111,
              "#46039f"
             ],
             [
              0.2222222222222222,
              "#7201a8"
             ],
             [
              0.3333333333333333,
              "#9c179e"
             ],
             [
              0.4444444444444444,
              "#bd3786"
             ],
             [
              0.5555555555555556,
              "#d8576b"
             ],
             [
              0.6666666666666666,
              "#ed7953"
             ],
             [
              0.7777777777777778,
              "#fb9f3a"
             ],
             [
              0.8888888888888888,
              "#fdca26"
             ],
             [
              1,
              "#f0f921"
             ]
            ],
            "type": "contour"
           }
          ],
          "contourcarpet": [
           {
            "colorbar": {
             "outlinewidth": 0,
             "ticks": ""
            },
            "type": "contourcarpet"
           }
          ],
          "heatmap": [
           {
            "colorbar": {
             "outlinewidth": 0,
             "ticks": ""
            },
            "colorscale": [
             [
              0,
              "#0d0887"
             ],
             [
              0.1111111111111111,
              "#46039f"
             ],
             [
              0.2222222222222222,
              "#7201a8"
             ],
             [
              0.3333333333333333,
              "#9c179e"
             ],
             [
              0.4444444444444444,
              "#bd3786"
             ],
             [
              0.5555555555555556,
              "#d8576b"
             ],
             [
              0.6666666666666666,
              "#ed7953"
             ],
             [
              0.7777777777777778,
              "#fb9f3a"
             ],
             [
              0.8888888888888888,
              "#fdca26"
             ],
             [
              1,
              "#f0f921"
             ]
            ],
            "type": "heatmap"
           }
          ],
          "heatmapgl": [
           {
            "colorbar": {
             "outlinewidth": 0,
             "ticks": ""
            },
            "colorscale": [
             [
              0,
              "#0d0887"
             ],
             [
              0.1111111111111111,
              "#46039f"
             ],
             [
              0.2222222222222222,
              "#7201a8"
             ],
             [
              0.3333333333333333,
              "#9c179e"
             ],
             [
              0.4444444444444444,
              "#bd3786"
             ],
             [
              0.5555555555555556,
              "#d8576b"
             ],
             [
              0.6666666666666666,
              "#ed7953"
             ],
             [
              0.7777777777777778,
              "#fb9f3a"
             ],
             [
              0.8888888888888888,
              "#fdca26"
             ],
             [
              1,
              "#f0f921"
             ]
            ],
            "type": "heatmapgl"
           }
          ],
          "histogram": [
           {
            "marker": {
             "pattern": {
              "fillmode": "overlay",
              "size": 10,
              "solidity": 0.2
             }
            },
            "type": "histogram"
           }
          ],
          "histogram2d": [
           {
            "colorbar": {
             "outlinewidth": 0,
             "ticks": ""
            },
            "colorscale": [
             [
              0,
              "#0d0887"
             ],
             [
              0.1111111111111111,
              "#46039f"
             ],
             [
              0.2222222222222222,
              "#7201a8"
             ],
             [
              0.3333333333333333,
              "#9c179e"
             ],
             [
              0.4444444444444444,
              "#bd3786"
             ],
             [
              0.5555555555555556,
              "#d8576b"
             ],
             [
              0.6666666666666666,
              "#ed7953"
             ],
             [
              0.7777777777777778,
              "#fb9f3a"
             ],
             [
              0.8888888888888888,
              "#fdca26"
             ],
             [
              1,
              "#f0f921"
             ]
            ],
            "type": "histogram2d"
           }
          ],
          "histogram2dcontour": [
           {
            "colorbar": {
             "outlinewidth": 0,
             "ticks": ""
            },
            "colorscale": [
             [
              0,
              "#0d0887"
             ],
             [
              0.1111111111111111,
              "#46039f"
             ],
             [
              0.2222222222222222,
              "#7201a8"
             ],
             [
              0.3333333333333333,
              "#9c179e"
             ],
             [
              0.4444444444444444,
              "#bd3786"
             ],
             [
              0.5555555555555556,
              "#d8576b"
             ],
             [
              0.6666666666666666,
              "#ed7953"
             ],
             [
              0.7777777777777778,
              "#fb9f3a"
             ],
             [
              0.8888888888888888,
              "#fdca26"
             ],
             [
              1,
              "#f0f921"
             ]
            ],
            "type": "histogram2dcontour"
           }
          ],
          "mesh3d": [
           {
            "colorbar": {
             "outlinewidth": 0,
             "ticks": ""
            },
            "type": "mesh3d"
           }
          ],
          "parcoords": [
           {
            "line": {
             "colorbar": {
              "outlinewidth": 0,
              "ticks": ""
             }
            },
            "type": "parcoords"
           }
          ],
          "pie": [
           {
            "automargin": true,
            "type": "pie"
           }
          ],
          "scatter": [
           {
            "fillpattern": {
             "fillmode": "overlay",
             "size": 10,
             "solidity": 0.2
            },
            "type": "scatter"
           }
          ],
          "scatter3d": [
           {
            "line": {
             "colorbar": {
              "outlinewidth": 0,
              "ticks": ""
             }
            },
            "marker": {
             "colorbar": {
              "outlinewidth": 0,
              "ticks": ""
             }
            },
            "type": "scatter3d"
           }
          ],
          "scattercarpet": [
           {
            "marker": {
             "colorbar": {
              "outlinewidth": 0,
              "ticks": ""
             }
            },
            "type": "scattercarpet"
           }
          ],
          "scattergeo": [
           {
            "marker": {
             "colorbar": {
              "outlinewidth": 0,
              "ticks": ""
             }
            },
            "type": "scattergeo"
           }
          ],
          "scattergl": [
           {
            "marker": {
             "colorbar": {
              "outlinewidth": 0,
              "ticks": ""
             }
            },
            "type": "scattergl"
           }
          ],
          "scattermapbox": [
           {
            "marker": {
             "colorbar": {
              "outlinewidth": 0,
              "ticks": ""
             }
            },
            "type": "scattermapbox"
           }
          ],
          "scatterpolar": [
           {
            "marker": {
             "colorbar": {
              "outlinewidth": 0,
              "ticks": ""
             }
            },
            "type": "scatterpolar"
           }
          ],
          "scatterpolargl": [
           {
            "marker": {
             "colorbar": {
              "outlinewidth": 0,
              "ticks": ""
             }
            },
            "type": "scatterpolargl"
           }
          ],
          "scatterternary": [
           {
            "marker": {
             "colorbar": {
              "outlinewidth": 0,
              "ticks": ""
             }
            },
            "type": "scatterternary"
           }
          ],
          "surface": [
           {
            "colorbar": {
             "outlinewidth": 0,
             "ticks": ""
            },
            "colorscale": [
             [
              0,
              "#0d0887"
             ],
             [
              0.1111111111111111,
              "#46039f"
             ],
             [
              0.2222222222222222,
              "#7201a8"
             ],
             [
              0.3333333333333333,
              "#9c179e"
             ],
             [
              0.4444444444444444,
              "#bd3786"
             ],
             [
              0.5555555555555556,
              "#d8576b"
             ],
             [
              0.6666666666666666,
              "#ed7953"
             ],
             [
              0.7777777777777778,
              "#fb9f3a"
             ],
             [
              0.8888888888888888,
              "#fdca26"
             ],
             [
              1,
              "#f0f921"
             ]
            ],
            "type": "surface"
           }
          ],
          "table": [
           {
            "cells": {
             "fill": {
              "color": "#EBF0F8"
             },
             "line": {
              "color": "white"
             }
            },
            "header": {
             "fill": {
              "color": "#C8D4E3"
             },
             "line": {
              "color": "white"
             }
            },
            "type": "table"
           }
          ]
         },
         "layout": {
          "annotationdefaults": {
           "arrowcolor": "#2a3f5f",
           "arrowhead": 0,
           "arrowwidth": 1
          },
          "autotypenumbers": "strict",
          "coloraxis": {
           "colorbar": {
            "outlinewidth": 0,
            "ticks": ""
           }
          },
          "colorscale": {
           "diverging": [
            [
             0,
             "#8e0152"
            ],
            [
             0.1,
             "#c51b7d"
            ],
            [
             0.2,
             "#de77ae"
            ],
            [
             0.3,
             "#f1b6da"
            ],
            [
             0.4,
             "#fde0ef"
            ],
            [
             0.5,
             "#f7f7f7"
            ],
            [
             0.6,
             "#e6f5d0"
            ],
            [
             0.7,
             "#b8e186"
            ],
            [
             0.8,
             "#7fbc41"
            ],
            [
             0.9,
             "#4d9221"
            ],
            [
             1,
             "#276419"
            ]
           ],
           "sequential": [
            [
             0,
             "#0d0887"
            ],
            [
             0.1111111111111111,
             "#46039f"
            ],
            [
             0.2222222222222222,
             "#7201a8"
            ],
            [
             0.3333333333333333,
             "#9c179e"
            ],
            [
             0.4444444444444444,
             "#bd3786"
            ],
            [
             0.5555555555555556,
             "#d8576b"
            ],
            [
             0.6666666666666666,
             "#ed7953"
            ],
            [
             0.7777777777777778,
             "#fb9f3a"
            ],
            [
             0.8888888888888888,
             "#fdca26"
            ],
            [
             1,
             "#f0f921"
            ]
           ],
           "sequentialminus": [
            [
             0,
             "#0d0887"
            ],
            [
             0.1111111111111111,
             "#46039f"
            ],
            [
             0.2222222222222222,
             "#7201a8"
            ],
            [
             0.3333333333333333,
             "#9c179e"
            ],
            [
             0.4444444444444444,
             "#bd3786"
            ],
            [
             0.5555555555555556,
             "#d8576b"
            ],
            [
             0.6666666666666666,
             "#ed7953"
            ],
            [
             0.7777777777777778,
             "#fb9f3a"
            ],
            [
             0.8888888888888888,
             "#fdca26"
            ],
            [
             1,
             "#f0f921"
            ]
           ]
          },
          "colorway": [
           "#636efa",
           "#EF553B",
           "#00cc96",
           "#ab63fa",
           "#FFA15A",
           "#19d3f3",
           "#FF6692",
           "#B6E880",
           "#FF97FF",
           "#FECB52"
          ],
          "font": {
           "color": "#2a3f5f"
          },
          "geo": {
           "bgcolor": "white",
           "lakecolor": "white",
           "landcolor": "#E5ECF6",
           "showlakes": true,
           "showland": true,
           "subunitcolor": "white"
          },
          "hoverlabel": {
           "align": "left"
          },
          "hovermode": "closest",
          "mapbox": {
           "style": "light"
          },
          "paper_bgcolor": "white",
          "plot_bgcolor": "#E5ECF6",
          "polar": {
           "angularaxis": {
            "gridcolor": "white",
            "linecolor": "white",
            "ticks": ""
           },
           "bgcolor": "#E5ECF6",
           "radialaxis": {
            "gridcolor": "white",
            "linecolor": "white",
            "ticks": ""
           }
          },
          "scene": {
           "xaxis": {
            "backgroundcolor": "#E5ECF6",
            "gridcolor": "white",
            "gridwidth": 2,
            "linecolor": "white",
            "showbackground": true,
            "ticks": "",
            "zerolinecolor": "white"
           },
           "yaxis": {
            "backgroundcolor": "#E5ECF6",
            "gridcolor": "white",
            "gridwidth": 2,
            "linecolor": "white",
            "showbackground": true,
            "ticks": "",
            "zerolinecolor": "white"
           },
           "zaxis": {
            "backgroundcolor": "#E5ECF6",
            "gridcolor": "white",
            "gridwidth": 2,
            "linecolor": "white",
            "showbackground": true,
            "ticks": "",
            "zerolinecolor": "white"
           }
          },
          "shapedefaults": {
           "line": {
            "color": "#2a3f5f"
           }
          },
          "ternary": {
           "aaxis": {
            "gridcolor": "white",
            "linecolor": "white",
            "ticks": ""
           },
           "baxis": {
            "gridcolor": "white",
            "linecolor": "white",
            "ticks": ""
           },
           "bgcolor": "#E5ECF6",
           "caxis": {
            "gridcolor": "white",
            "linecolor": "white",
            "ticks": ""
           }
          },
          "title": {
           "x": 0.05
          },
          "xaxis": {
           "automargin": true,
           "gridcolor": "white",
           "linecolor": "white",
           "ticks": "",
           "title": {
            "standoff": 15
           },
           "zerolinecolor": "white",
           "zerolinewidth": 2
          },
          "yaxis": {
           "automargin": true,
           "gridcolor": "white",
           "linecolor": "white",
           "ticks": "",
           "title": {
            "standoff": 15
           },
           "zerolinecolor": "white",
           "zerolinewidth": 2
          }
         }
        },
        "title": {
         "text": "SDE Build-up Analysis - Demo Dental NYC",
         "x": 0.5,
         "xanchor": "center"
        },
        "xaxis": {
         "autorange": true,
         "range": [
          -0.5,
          7.5
         ],
         "title": {
          "text": ""
         },
         "type": "category"
        },
        "yaxis": {
         "autorange": true,
         "gridcolor": "lightgray",
         "range": [
          0,
          484210.5263157895
         ],
         "tickformat": "$,.0f",
         "title": {
          "text": "Amount ($)"
         },
         "type": "linear"
        }
       }
      },
      "image/png": "[encoded data removed]",
      "text/html": [
       "<div>                            <div id=\"8e1a29e0-14ab-4b9f-8fa5-4904a64d7b4c\" class=\"plotly-graph-div\" style=\"height:500px; width:100%;\"></div>            <script type=\"text/javascript\">                require([\"plotly\"], function(Plotly) {                    window.PLOTLYENV=window.PLOTLYENV || {};                                    if (document.getElementById(\"8e1a29e0-14ab-4b9f-8fa5-4904a64d7b4c\")) {                    Plotly.newPlot(                        \"8e1a29e0-14ab-4b9f-8fa5-4904a64d7b4c\",                        [{\"connector\":{\"line\":{\"color\":\"rgb(63, 63, 63)\"}},\"decreasing\":{\"marker\":{\"color\":\"#C73E1D\"}},\"increasing\":{\"marker\":{\"color\":\"#F18F01\"}},\"measure\":[\"absolute\",\"relative\",\"relative\",\"relative\",\"relative\",\"relative\",\"relative\",\"total\"],\"name\":\"SDE Build-up\",\"orientation\":\"v\",\"text\":[\"$350,000\",\"+$60,000\",\"+$18,000\",\"+$12,000\",\"+$9,000\",\"+$4,000\",\"+$7,000\",\"$460,000\"],\"textposition\":\"outside\",\"totals\":{\"marker\":{\"color\":\"#2E86AB\"}},\"x\":[\"Net Profit (Pre-tax)\",\"Owner Salary Adjustment\",\"Owner Perks\",\"Interest\",\"Depreciation\",\"Amortization\",\"Non-Recurring\",\"Total SDE\"],\"y\":[350000,60000,18000,12000,9000,4000,7000,null],\"type\":\"waterfall\"}],                        {\"template\":{\"data\":{\"histogram2dcontour\":[{\"type\":\"histogram2dcontour\",\"colorbar\":{\"outlinewidth\":0,\"ticks\":\"\"},\"colorscale\":[[0.0,\"#0d0887\"],[0.1111111111111111,\"#46039f\"],[0.2222222222222222,\"#7201a8\"],[0.3333333333333333,\"#9c179e\"],[0.4444444444444444,\"#bd3786\"],[0.5555555555555556,\"#d8576b\"],[0.6666666666666666,\"#ed7953\"],[0.7777777777777778,\"#fb9f3a\"],[0.8888888888888888,\"#fdca26\"],[1.0,\"#f0f921\"]]}],\"choropleth\":[{\"type\":\"choropleth\",\"colorbar\":{\"outlinewidth\":0,\"ticks\":\"\"}}],\"histogram2d\":[{\"type\":\"histogram2d\",\"colorbar\":{\"outlinewidth\":0,\"ticks\":\"\"},\"colorscale\":[[0.0,\"#0d0887\"],[0.1111111111111111,\"#46039f\"],[0.2222222222222222,\"#7201a8\"],[0.3333333333333333,\"#9c179e\"],[0.4444444444444444,\"#bd3786\"],[0.5555555555555556,\"#d8576b\"],[0.6666666666666666,\"#ed7953\"],[0.7777777777777778,\"#fb9f3a\"],[0.8888888888888888,\"#fdca26\"],[1.0,\"#f0f921\"]]}],\"heatmap\":[{\"type\":\"heatmap\",\"colorbar\":{\"outlinewidth\":0,\"ticks\":\"\"},\"colorscale\":[[0.0,\"#0d0887\"],[0.1111111111111111,\"#46039f\"],[0.2222222222222222,\"#7201a8\"],[0.3333333333333333,\"#9c179e\"],[0.4444444444444444,\"#bd3786\"],[0.5555555555555556,\"#d8576b\"],[0.6666666666666666,\"#ed7953\"],[0.7777777777777778,\"#fb9f3a\"],[0.8888888888888888,\"#fdca26\"],[1.0,\"#f0f921\"]]}],\"heatmapgl\":[{\"type\":\"heatmapgl\",\"colorbar\":{\"outlinewidth\":0,\"ticks\":\"\"},\"colorscale\":[[0.0,\"#0d0887\"],[0.1111111111111111,\"#46039f\"],[0.2222222222222222,\"#7201a8\"],[0.3333333333333333,\"#9c179e\"],[0.4444444444444444,\"#bd3786\"],[0.5555555555555556,\"#d8576b\"],[0.6666666666666666,\"#ed7953\"],[0.7777777777777778,\"#fb9f3a\"],[0.8888888888888888,\"#fdca26\"],[1.0,\"#f0f921\"]]}],\"contourcarpet\":[{\"type\":\"contourcarpet\",\"colorbar\":{\"outlinewidth\":0,\"ticks\":\"\"}}],\"contour\":[{\"type\":\"contour\",\"colorbar\":{\"outlinewidth\":0,\"ticks\":\"\"},\"colorscale\":[[0.0,\"#0d0887\"],[0.1111111111111111,\"#46039f\"],[0.2222222222222222,\"#7201a8\"],[0.3333333333333333,\"#9c179e\"],[0.4444444444444444,\"#bd3786\"],[0.5555555555555556,\"#d8576b\"],[0.6666666666666666,\"#ed7953\"],[0.7777777777777778,\"#fb9f3a\"],[0.8888888888888888,\"#fdca26\"],[1.0,\"#f0f921\"]]}],\"surface\":[{\"type\":\"surface\",\"colorbar\":{\"outlinewidth\":0,\"ticks\":\"\"},\"colorscale\":[[0.0,\"#0d0887\"],[0.1111111111111111,\"#46039f\"],[0.2222222222222222,\"#7201a8\"],[0.3333333333333333,\"#9c179e\"],[0.4444444444444444,\"#bd3786\"],[0.5555555555555556,\"#d8576b\"],[0.6666666666666666,\"#ed7953\"],[0.7777777777777778,\"#fb9f3a\"],[0.8888888888888888,\"#fdca26\"],[1.0,\"#f0f921\"]]}],\"mesh3d\":[{\"type\":\"mesh3d\",\"colorbar\":{\"outlinewidth\":0,\"ticks\":\"\"}}],\"scatter\":[{\"fillpattern\":{\"fillmode\":\"overlay\",\"size\":10,\"solidity\":0.2},\"type\":\"scatter\"}],\"parcoords\":[{\"type\":\"parcoords\",\"line\":{\"colorbar\":{\"outlinewidth\":0,\"ticks\":\"\"}}}],\"scatterpolargl\":[{\"type\":\"scatterpolargl\",\"marker\":{\"colorbar\":{\"outlinewidth\":0,\"ticks\":\"\"}}}],\"bar\":[{\"error_x\":{\"color\":\"#2a3f5f\"},\"error_y\":{\"color\":\"#2a3f5f\"},\"marker\":{\"line\":{\"color\":\"#E5ECF6\",\"width\":0.5},\"pattern\":{\"fillmode\":\"overlay\",\"size\":10,\"solidity\":0.2}},\"type\":\"bar\"}],\"scattergeo\":[{\"type\":\"scattergeo\",\"marker\":{\"colorbar\":{\"outlinewidth\":0,\"ticks\":\"\"}}}],\"scatterpolar\":[{\"type\":\"scatterpolar\",\"marker\":{\"colorbar\":{\"outlinewidth\":0,\"ticks\":\"\"}}}],\"histogram\":[{\"marker\":{\"pattern\":{\"fillmode\":\"overlay\",\"size\":10,\"solidity\":0.2}},\"type\":\"histogram\"}],\"scattergl\":[{\"type\":\"scattergl\",\"marker\":{\"colorbar\":{\"outlinewidth\":0,\"ticks\":\"\"}}}],\"scatter3d\":[{\"type\":\"scatter3d\",\"line\":{\"colorbar\":{\"outlinewidth\":0,\"ticks\":\"\"}},\"marker\":{\"colorbar\":{\"outlinewidth\":0,\"ticks\":\"\"}}}],\"scattermapbox\":[{\"type\":\"scattermapbox\",\"marker\":{\"colorbar\":{\"outlinewidth\":0,\"ticks\":\"\"}}}],\"scatterternary\":[{\"type\":\"scatterternary\",\"marker\":{\"colorbar\":{\"outlinewidth\":0,\"ticks\":\"\"}}}],\"scattercarpet\":[{\"type\":\"scattercarpet\",\"marker\":{\"colorbar\":{\"outlinewidth\":0,\"ticks\":\"\"}}}],\"carpet\":[{\"aaxis\":{\"endlinecolor\":\"#2a3f5f\",\"gridcolor\":\"white\",\"linecolor\":\"white\",\"minorgridcolor\":\"white\",\"startlinecolor\":\"#2a3f5f\"},\"baxis\":{\"endlinecolor\":\"#2a3f5f\",\"gridcolor\":\"white\",\"linecolor\":\"white\",\"minorgridcolor\":\"white\",\"startlinecolor\":\"#2a3f5f\"},\"type\":\"carpet\"}],\"table\":[{\"cells\":{\"fill\":{\"color\":\"#EBF0F8\"},\"line\":{\"color\":\"white\"}},\"header\":{\"fill\":{\"color\":\"#C8D4E3\"},\"line\":{\"color\":\"white\"}},\"type\":\"table\"}],\"barpolar\":[{\"marker\":{\"line\":{\"color\":\"#E5ECF6\",\"width\":0.5},\"pattern\":{\"fillmode\":\"overlay\",\"size\":10,\"solidity\":0.2}},\"type\":\"barpolar\"}],\"pie\":[{\"automargin\":true,\"type\":\"pie\"}]},\"layout\":{\"autotypenumbers\":\"strict\",\"colorway\":[\"#636efa\",\"#EF553B\",\"#00cc96\",\"#ab63fa\",\"#FFA15A\",\"#19d3f3\",\"#FF6692\",\"#B6E880\",\"#FF97FF\",\"#FECB52\"],\"font\":{\"color\":\"#2a3f5f\"},\"hovermode\":\"closest\",\"hoverlabel\":{\"align\":\"left\"},\"paper_bgcolor\":\"white\",\"plot_bgcolor\":\"#E5ECF6\",\"polar\":{\"bgcolor\":\"#E5ECF6\",\"angularaxis\":{\"gridcolor\":\"white\",\"linecolor\":\"white\",\"ticks\":\"\"},\"radialaxis\":{\"gridcolor\":\"white\",\"linecolor\":\"white\",\"ticks\":\"\"}},\"ternary\":{\"bgcolor\":\"#E5ECF6\",\"aaxis\":{\"gridcolor\":\"white\",\"linecolor\":\"white\",\"ticks\":\"\"},\"baxis\":{\"gridcolor\":\"white\",\"linecolor\":\"white\",\"ticks\":\"\"},\"caxis\":{\"gridcolor\":\"white\",\"linecolor\":\"white\",\"ticks\":\"\"}},\"coloraxis\":{\"colorbar\":{\"outlinewidth\":0,\"ticks\":\"\"}},\"colorscale\":{\"sequential\":[[0.0,\"#0d0887\"],[0.1111111111111111,\"#46039f\"],[0.2222222222222222,\"#7201a8\"],[0.3333333333333333,\"#9c179e\"],[0.4444444444444444,\"#bd3786\"],[0.5555555555555556,\"#d8576b\"],[0.6666666666666666,\"#ed7953\"],[0.7777777777777778,\"#fb9f3a\"],[0.8888888888888888,\"#fdca26\"],[1.0,\"#f0f921\"]],\"sequentialminus\":[[0.0,\"#0d0887\"],[0.1111111111111111,\"#46039f\"],[0.2222222222222222,\"#7201a8\"],[0.3333333333333333,\"#9c179e\"],[0.4444444444444444,\"#bd3786\"],[0.5555555555555556,\"#d8576b\"],[0.6666666666666666,\"#ed7953\"],[0.7777777777777778,\"#fb9f3a\"],[0.8888888888888888,\"#fdca26\"],[1.0,\"#f0f921\"]],\"diverging\":[[0,\"#8e0152\"],[0.1,\"#c51b7d\"],[0.2,\"#de77ae\"],[0.3,\"#f1b6da\"],[0.4,\"#fde0ef\"],[0.5,\"#f7f7f7\"],[0.6,\"#e6f5d0\"],[0.7,\"#b8e186\"],[0.8,\"#7fbc41\"],[0.9,\"#4d9221\"],[1,\"#276419\"]]},\"xaxis\":{\"gridcolor\":\"white\",\"linecolor\":\"white\",\"ticks\":\"\",\"title\":{\"standoff\":15},\"zerolinecolor\":\"white\",\"automargin\":true,\"zerolinewidth\":2},\"yaxis\":{\"gridcolor\":\"white\",\"linecolor\":\"white\",\"ticks\":\"\",\"title\":{\"standoff\":15},\"zerolinecolor\":\"white\",\"automargin\":true,\"zerolinewidth\":2},\"scene\":{\"xaxis\":{\"backgroundcolor\":\"#E5ECF6\",\"gridcolor\":\"white\",\"linecolor\":\"white\",\"showbackground\":true,\"ticks\":\"\",\"zerolinecolor\":\"white\",\"gridwidth\":2},\"yaxis\":{\"backgroundcolor\":\"#E5ECF6\",\"gridcolor\":\"white\",\"linecolor\":\"white\",\"showbackground\":true,\"ticks\":\"\",\"zerolinecolor\":\"white\",\"gridwidth\":2},\"zaxis\":{\"backgroundcolor\":\"#E5ECF6\",\"gridcolor\":\"white\",\"linecolor\":\"white\",\"showbackground\":true,\"ticks\":\"\",\"zerolinecolor\":\"white\",\"gridwidth\":2}},\"shapedefaults\":{\"line\":{\"color\":\"#2a3f5f\"}},\"annotationdefaults\":{\"arrowcolor\":\"#2a3f5f\",\"arrowhead\":0,\"arrowwidth\":1},\"geo\":{\"bgcolor\":\"white\",\"landcolor\":\"#E5ECF6\",\"subunitcolor\":\"white\",\"showland\":true,\"showlakes\":true,\"lakecolor\":\"white\"},\"title\":{\"x\":0.05},\"mapbox\":{\"style\":\"light\"}}},\"title\":{\"text\":\"SDE Build-up Analysis - Demo Dental NYC\",\"x\":0.5,\"xanchor\":\"center\"},\"yaxis\":{\"title\":{\"text\":\"Amount ($)\"},\"gridcolor\":\"lightgray\",\"tickformat\":\"$,.0f\"},\"xaxis\":{\"title\":{\"text\":\"\"}},\"height\":500,\"showlegend\":false,\"hovermode\":\"x unified\",\"plot_bgcolor\":\"white\"},                        {\"responsive\": true}                    ).then(function(){\n",
       "                            \n",
       "var gd = document.getElementById('8e1a29e0-14ab-4b9f-8fa5-4904a64d7b4c');\n",
       "var x = new MutationObserver(function (mutations, observer) {{\n",
       "        var display = window.getComputedStyle(gd).display;\n",
       "        if (!display || display === 'none') {{\n",
       "            console.log([gd, 'removed!']);\n",
       "            Plotly.purge(gd);\n",
       "            observer.disconnect();\n",
       "        }}\n",
       "}});\n",
       "\n",
       "// Listen for the removal of the full notebook cells\n",
       "var notebookContainer = gd.closest('#notebook-container');\n",
       "if (notebookContainer) {{\n",
       "    x.observe(notebookContainer, {childList: true});\n",
       "}}\n",
       "\n",
       "// Listen for the clearing of the current output cell\n",
       "var outputEl = gd.closest('.output');\n",
       "if (outputEl) {{\n",
       "    x.observe(outputEl, {childList: true});\n",
       "}}\n",
       "\n",
       "                        })                };                });            </script>        </div>"
      ]
     },
     "metadata": {},
     "output_type": "display_data"
    },
    {
     "name": "stdout",
     "output_type": "stream",
     "text": [
      "----------------------------------------------------------------------\n",
      "✅ Question processed successfully!\n",
      "======================================================================\n"
     ]
    },
    {
     "data": {
      "text/markdown": [
       "\n",
       "### 📝 Question\n",
       "**What is the SDE for this practice and explain how it's calculated?**\n",
       "\n",
       "---\n",
       "\n",
       "### 📊 Analysis Category\n",
       "`SDE`\n",
       "\n",
       "---\n",
       "\n",
       "### 💡 Answer\n",
       "### **Seller's Discretionary Earnings (SDE) Analysis for Demo Dental NYC**  \n",
       "\n",
       "#### **1. Definition of SDE**  \n",
       "Seller's Discretionary Earnings (SDE) represents the total financial benefit a single owner-operator derives from the practice, including both profits and discretionary expenses. It is a key metric for valuing small to mid-sized dental practices.  \n",
       "\n",
       "#### **2. SDE Calculation Breakdown**  \n",
       "The SDE for **Demo Dental NYC** is **$460,000**, calculated as follows:  \n",
       "\n",
       "| **Component**                     | **Amount ($)** | **Type**  | **Justification** |\n",
       "|-----------------------------------|---------------|-----------|------------------|\n",
       "| Net Profit (Pre-Tax)              | 350,000       | Cash      | Base accounting profit before tax adjustments. |\n",
       "| + Owner Salary Above Market       | 60,000        | Cash      | Portion of the owner's salary exceeding fair-market compensation for a dentist in NYC. |\n",
       "| + Owner Perks                     | 18,000        | Cash      | Clinic-paid personal expenses (auto, phone, family health insurance). |\n",
       "| + Interest Expense                | 12,000        | Cash      | Financing costs—assumed refinanced by buyer. |\n",
       "| + Depreciation                    | 9,000         | Non-Cash  | Non-cash accounting expense (equipment wear & tear). |\n",
       "| + Amortization                    | 4,000         | Non-Cash  | Non-cash expense (prior goodwill amortization). |\n",
       "| + Non-Recurring Expense           | 7,000         | Cash      | One-time legal settlement (FY 2024). |\n",
       "| **Total SDE**                     | **460,000**   |           | **Sum of all adjustments to net profit.** |\n",
       "\n",
       "#### **3. Key Observations**  \n",
       "- **Cash vs. Non-Cash Adjustments:**  \n",
       "  - **Cash Addbacks ($97,000 total):**  \n",
       "    - Owner salary above market ($60K)  \n",
       "    - Owner perks ($18K)  \n",
       "    - Interest ($12K)  \n",
       "    - Non-recurring expense ($7K)  \n",
       "  - **Non-Cash Addbacks ($13,000 total):**  \n",
       "    - Depreciation ($9K)  \n",
       "    - Amortization ($4K)  \n",
       "\n",
       "- **SDE Margin:**  \n",
       "  - **29.7%** ($460K SDE / $1,546,696 Revenue)  \n",
       "  - **Industry Benchmark:** Typically 25-40% for well-run FFS practices. Demo Dental is in the upper range, indicating strong profitability.  \n",
       "\n",
       "#### **4. Visualizations That Would Help**  \n",
       "To better illustrate the SDE composition, the following visuals would be useful:  \n",
       "1. **SDE Breakdown Pie Chart** – Showing the contribution of each addback component.  \n",
       "2. **Cash vs. Non-Cash Addbacks Bar Chart** – Highlighting the split between real cash savings and accounting adjustments.  \n",
       "3. **SDE Margin Trend (if historical data available)** – To assess profitability consistency.  \n",
       "\n",
       "#### **5. Valuation Implications**  \n",
       "- **SDE-Based Valuation:** Using a typical multiple of **4.0x–5.0x SDE**, the practice could be valued between **$1.84M–$2.3M**.  \n",
       "- **EBITDA vs. SDE:** Since SDE includes owner compensation, it is typically higher than EBITDA ($545K vs. $460K).  \n",
       "\n",
       "#### **Conclusion**  \n",
       "Demo Dental NYC generates a strong **$460K SDE**, supported by high FFS revenue and efficient operations. The addbacks are well-justified, with a healthy mix of cash and non-cash adjustments. Buyers should focus on maintaining the high SDE margin while exploring growth opportunities (e.g., expanded hours, implant services).  \n",
       "\n",
       "Would you like further breakdowns on valuation multiples or debt service coverage?\n",
       "\n",
       "---\n",
       "\n",
       "### 📈 Visualizations Generated\n",
       "- **SDE Build-up Analysis**: Shows how we get from Net Profit to SDE\n",
       "\n",
       "---\n",
       "*Generated: 2025-08-07 18:36:19*"
      ],
      "text/plain": [
       "<IPython.core.display.Markdown object>"
      ]
     },
     "metadata": {},
     "output_type": "display_data"
    },
    {
     "name": "stdout",
     "output_type": "stream",
     "text": [
      "\n",
      "======================================================================\n",
      "📚 AVAILABLE FUNCTIONS:\n",
      "======================================================================\n",
      "\n",
      "1. process_question_with_visualizations()\n",
      "   - Main pipeline function\n",
      "   - Takes question → returns answer + visualizations\n",
      "   \n",
      "2. run_interactive_qa_session()\n",
      "   - Interactive mode for multiple questions\n",
      "   - Type questions one at a time\n",
      "   \n",
      "3. batch_process_questions()\n",
      "   - Process multiple questions at once\n",
      "   - Generate comprehensive reports\n",
      "\n",
      "4. Common question examples:\n",
      "   - \"What is this practice worth?\"\n",
      "   - \"Can the practice support its debt?\"\n",
      "   - \"How does profitability compare to industry?\"\n",
      "   - \"What are the key risks and opportunities?\"\n",
      "   - \"Calculate the buyer's after-tax cash flow\"\n",
      "\n",
      "\n",
      "💡 TIP: To start an interactive session, run:\n",
      "   run_interactive_qa_session(practice_data)\n",
      "\n",
      "✅ System fully integrated and ready for use!\n",
      "======================================================================\n"
     ]
    }
   ],
   "source": [
    "# Cell 6: Main Pipeline Integration\n",
    "# ===================================\n",
    "# This cell brings everything together into a complete Q&A system\n",
    "\n",
    "def process_question_with_visualizations(\n",
    "    question: str, \n",
    "    practice_data: DentalPracticeData,\n",
    "    show_visualizations: bool = True,\n",
    "    save_outputs: bool = False,\n",
    "    output_dir: str = \"valuation_outputs\"\n",
    ") -> dict:\n",
    "    \"\"\"\n",
    "    MAIN PIPELINE FUNCTION - This is the complete system in one function.\n",
    "    Takes a question and returns an answer with relevant visualizations.\n",
    "    \n",
    "    WHAT THIS DOES:\n",
    "    1. Accepts a question about the dental practice\n",
    "    2. Categorizes the question type\n",
    "    3. Gets an intelligent answer from the LLM\n",
    "    4. Creates relevant visualizations\n",
    "    5. Optionally saves everything to files\n",
    "    \n",
    "    Parameters:\n",
    "    - question: The user's question (string)\n",
    "    - practice_data: The loaded practice data object\n",
    "    - show_visualizations: Whether to display charts (default True)\n",
    "    - save_outputs: Whether to save results to files (default False)\n",
    "    - output_dir: Directory to save outputs if save_outputs=True\n",
    "    \n",
    "    Returns:\n",
    "    - Dictionary containing:\n",
    "      - 'question': Original question\n",
    "      - 'category': Detected question type\n",
    "      - 'answer': LLM's detailed response\n",
    "      - 'visualizations': List of generated charts\n",
    "      - 'timestamp': When the question was processed\n",
    "      - 'files_saved': List of saved file paths (if save_outputs=True)\n",
    "    \"\"\"\n",
    "    \n",
    "    import os\n",
    "    from datetime import datetime\n",
    "    \n",
    "    # Record when this question was processed\n",
    "    timestamp = datetime.now().strftime(\"%Y-%m-%d %H:%M:%S\")\n",
    "    \n",
    "    print(\"\\n\" + \"=\"*70)\n",
    "    print(\"🦷 DENTAL PRACTICE VALUATION Q&A SYSTEM\")\n",
    "    print(\"=\"*70)\n",
    "    print(f\"⏰ Timestamp: {timestamp}\")\n",
    "    print(f\"📝 Question: {question}\")\n",
    "    print(\"-\"*70)\n",
    "    \n",
    "    # Step 1: Categorize the question\n",
    "    category = categorize_question(question)\n",
    "    print(f\"📊 Category detected: {category}\")\n",
    "    \n",
    "    # Step 2: Get LLM answer\n",
    "    print(\"🤖 Getting AI analysis...\")\n",
    "    prompt = create_context_prompt(practice_data, question, category)\n",
    "    answer = call_llm(prompt)\n",
    "    \n",
    "    # Step 3: Get visualization recommendations\n",
    "    viz_recommendations = get_visualization_recommendations(question, category, practice_data)\n",
    "    \n",
    "    # Step 4: Generate visualizations\n",
    "    generated_visualizations = []\n",
    "    print(f\"📈 Creating {len(viz_recommendations)} visualization(s)...\")\n",
    "    \n",
    "    for viz_rec in viz_recommendations:\n",
    "        viz_type = viz_rec['type']\n",
    "        print(f\"   - Creating {viz_rec['title']}...\")\n",
    "        \n",
    "        try:\n",
    "            fig = generate_visualization(viz_type, practice_data)\n",
    "            if fig:\n",
    "                generated_visualizations.append({\n",
    "                    'type': viz_type,\n",
    "                    'title': viz_rec['title'],\n",
    "                    'description': viz_rec['description'],\n",
    "                    'figure': fig\n",
    "                })\n",
    "                \n",
    "                # Display the visualization if requested\n",
    "                if show_visualizations:\n",
    "                    if hasattr(fig, 'show'):  # Plotly figure\n",
    "                        fig.show()\n",
    "                    else:  # Matplotlib figure\n",
    "                        plt.show()\n",
    "                        \n",
    "        except Exception as e:\n",
    "            print(f\"   ⚠️ Could not create {viz_type}: {str(e)}\")\n",
    "    \n",
    "    # Step 5: Save outputs if requested\n",
    "    files_saved = []\n",
    "    if save_outputs:\n",
    "        # Create output directory if it doesn't exist\n",
    "        os.makedirs(output_dir, exist_ok=True)\n",
    "        \n",
    "        # Generate safe filename from timestamp\n",
    "        safe_timestamp = timestamp.replace(\":\", \"-\").replace(\" \", \"_\")\n",
    "        \n",
    "        # Save the Q&A as a markdown file\n",
    "        qa_filename = os.path.join(output_dir, f\"qa_{safe_timestamp}.md\")\n",
    "        with open(qa_filename, 'w') as f:\n",
    "            f.write(f\"# Dental Practice Valuation Q&A\\n\\n\")\n",
    "            f.write(f\"**Practice:** {practice_data.data.get('Clinic', 'Unknown')}\\n\")\n",
    "            f.write(f\"**Date:** {timestamp}\\n\\n\")\n",
    "            f.write(f\"## Question\\n{question}\\n\\n\")\n",
    "            f.write(f\"**Category:** {category}\\n\\n\")\n",
    "            f.write(f\"## Answer\\n{answer}\\n\\n\")\n",
    "            f.write(f\"## Visualizations Created\\n\")\n",
    "            for viz in generated_visualizations:\n",
    "                f.write(f\"- {viz['title']}: {viz['description']}\\n\")\n",
    "        \n",
    "        files_saved.append(qa_filename)\n",
    "        print(f\"   ✅ Saved Q&A to: {qa_filename}\")\n",
    "        \n",
    "        # Save visualizations\n",
    "        for i, viz in enumerate(generated_visualizations):\n",
    "            fig = viz['figure']\n",
    "            viz_filename = os.path.join(output_dir, f\"viz_{i+1}_{viz['type']}_{safe_timestamp}\")\n",
    "            \n",
    "            if hasattr(fig, 'write_html'):  # Plotly figure\n",
    "                fig.write_html(f\"{viz_filename}.html\")\n",
    "                files_saved.append(f\"{viz_filename}.html\")\n",
    "                print(f\"   ✅ Saved {viz['title']} to: {viz_filename}.html\")\n",
    "            else:  # Matplotlib figure\n",
    "                fig.savefig(f\"{viz_filename}.png\", dpi=150, bbox_inches='tight')\n",
    "                files_saved.append(f\"{viz_filename}.png\")\n",
    "                print(f\"   ✅ Saved {viz['title']} to: {viz_filename}.png\")\n",
    "    \n",
    "    # Compile results\n",
    "    result = {\n",
    "        'question': question,\n",
    "        'category': category,\n",
    "        'answer': answer,\n",
    "        'visualizations': generated_visualizations,\n",
    "        'timestamp': timestamp,\n",
    "        'files_saved': files_saved\n",
    "    }\n",
    "    \n",
    "    print(\"-\"*70)\n",
    "    print(\"✅ Question processed successfully!\")\n",
    "    print(\"=\"*70)\n",
    "    \n",
    "    return result\n",
    "\n",
    "def display_formatted_answer(result: dict):\n",
    "    \"\"\"\n",
    "    Displays the Q&A result in a nicely formatted way for Jupyter notebooks.\n",
    "    \n",
    "    Parameters:\n",
    "    - result: The dictionary returned by process_question_with_visualizations\n",
    "    \n",
    "    This creates a clean, professional display of the answer with:\n",
    "    - Formatted markdown\n",
    "    - Highlighted key metrics\n",
    "    - Clear sections\n",
    "    \"\"\"\n",
    "    \n",
    "    from IPython.display import display, Markdown\n",
    "    \n",
    "    # Build formatted markdown output\n",
    "    output = f\"\"\"\n",
    "### 📝 Question\n",
    "**{result['question']}**\n",
    "\n",
    "---\n",
    "\n",
    "### 📊 Analysis Category\n",
    "`{result['category']}`\n",
    "\n",
    "---\n",
    "\n",
    "### 💡 Answer\n",
    "{result['answer']}\n",
    "\n",
    "---\n",
    "\n",
    "### 📈 Visualizations Generated\n",
    "\"\"\"\n",
    "    \n",
    "    for viz in result['visualizations']:\n",
    "        output += f\"- **{viz['title']}**: {viz['description']}\\n\"\n",
    "    \n",
    "    if result['files_saved']:\n",
    "        output += f\"\\n---\\n### 💾 Files Saved\\n\"\n",
    "        for file in result['files_saved']:\n",
    "            output += f\"- `{file}`\\n\"\n",
    "    \n",
    "    output += f\"\\n---\\n*Generated: {result['timestamp']}*\"\n",
    "    \n",
    "    display(Markdown(output))\n",
    "\n",
    "def run_interactive_qa_session(practice_data: DentalPracticeData):\n",
    "    \"\"\"\n",
    "    Runs an interactive Q&A session where users can ask multiple questions.\n",
    "    This is useful for demonstrations or training.\n",
    "    \n",
    "    Parameters:\n",
    "    - practice_data: The loaded practice data\n",
    "    \n",
    "    How it works:\n",
    "    - Prompts user for questions\n",
    "    - Processes each question\n",
    "    - Type 'quit' or 'exit' to stop\n",
    "    \"\"\"\n",
    "    \n",
    "    print(\"\\n\" + \"=\"*70)\n",
    "    print(\"🦷 INTERACTIVE DENTAL PRACTICE VALUATION Q&A\")\n",
    "    print(\"=\"*70)\n",
    "    print(f\"Practice: {practice_data.data.get('Clinic', 'Unknown')}\")\n",
    "    print(\"Type 'quit' or 'exit' to end the session\")\n",
    "    print(\"Type 'help' for example questions\")\n",
    "    print(\"=\"*70)\n",
    "    \n",
    "    # Example questions for users\n",
    "    example_questions = [\n",
    "        \"What is the SDE for this practice and how is it calculated?\",\n",
    "        \"What is this practice worth based on the valuation multiples?\",\n",
    "        \"How do the margins compare to industry standards?\",\n",
    "        \"Can this practice afford its debt payments?\",\n",
    "        \"What are the main strengths and weaknesses?\",\n",
    "        \"What's the after-tax cash flow for a buyer?\",\n",
    "        \"Explain the EBITDA and how it relates to practice value\",\n",
    "        \"What growth opportunities exist for this practice?\"\n",
    "    ]\n",
    "    \n",
    "    while True:\n",
    "        print(\"\\n\")\n",
    "        question = input(\"Enter your question (or 'help' for examples): \").strip()\n",
    "        \n",
    "        if question.lower() in ['quit', 'exit']:\n",
    "            print(\"\\n👋 Thank you for using the Dental Practice Valuation Q&A System!\")\n",
    "            break\n",
    "        \n",
    "        elif question.lower() == 'help':\n",
    "            print(\"\\n📚 Example Questions:\")\n",
    "            for i, q in enumerate(example_questions, 1):\n",
    "                print(f\"   {i}. {q}\")\n",
    "            continue\n",
    "        \n",
    "        elif question == \"\":\n",
    "            print(\"⚠️ Please enter a question.\")\n",
    "            continue\n",
    "        \n",
    "        else:\n",
    "            # Process the question\n",
    "            result = process_question_with_visualizations(\n",
    "                question=question,\n",
    "                practice_data=practice_data,\n",
    "                show_visualizations=True,\n",
    "                save_outputs=False  # Change to True to save files\n",
    "            )\n",
    "            \n",
    "            # Display formatted answer\n",
    "            display_formatted_answer(result)\n",
    "\n",
    "def batch_process_questions(\n",
    "    questions: list,\n",
    "    practice_data: DentalPracticeData,\n",
    "    save_report: bool = True\n",
    ") -> list:\n",
    "    \"\"\"\n",
    "    Processes multiple questions at once and optionally creates a report.\n",
    "    Useful for generating comprehensive practice assessments.\n",
    "    \n",
    "    Parameters:\n",
    "    - questions: List of questions to process\n",
    "    - practice_data: The loaded practice data\n",
    "    - save_report: Whether to save a combined report\n",
    "    \n",
    "    Returns:\n",
    "    - List of results for each question\n",
    "    \n",
    "    Use case:\n",
    "    - Generate a standard report for every practice\n",
    "    - Answer common buyer questions all at once\n",
    "    - Create documentation for due diligence\n",
    "    \"\"\"\n",
    "    \n",
    "    results = []\n",
    "    \n",
    "    print(\"\\n\" + \"=\"*70)\n",
    "    print(\"📋 BATCH PROCESSING QUESTIONS\")\n",
    "    print(\"=\"*70)\n",
    "    print(f\"Processing {len(questions)} questions...\")\n",
    "    \n",
    "    for i, question in enumerate(questions, 1):\n",
    "        print(f\"\\n[{i}/{len(questions)}] Processing: {question[:50]}...\")\n",
    "        \n",
    "        result = process_question_with_visualizations(\n",
    "            question=question,\n",
    "            practice_data=practice_data,\n",
    "            show_visualizations=False,  # Don't show each chart\n",
    "            save_outputs=False  # We'll save combined report instead\n",
    "        )\n",
    "        results.append(result)\n",
    "    \n",
    "    if save_report:\n",
    "        # Create comprehensive report\n",
    "        timestamp = datetime.now().strftime(\"%Y-%m-%d_%H-%M-%S\")\n",
    "        report_filename = f\"valuation_report_{timestamp}.md\"\n",
    "        \n",
    "        with open(report_filename, 'w') as f:\n",
    "            f.write(f\"# Dental Practice Valuation Report\\n\\n\")\n",
    "            f.write(f\"**Practice:** {practice_data.data.get('Clinic', 'Unknown')}\\n\")\n",
    "            f.write(f\"**Report Date:** {datetime.now().strftime('%Y-%m-%d %H:%M:%S')}\\n\\n\")\n",
    "            f.write(f\"---\\n\\n\")\n",
    "            \n",
    "            # Add summary metrics\n",
    "            f.write(f\"## Executive Summary\\n\\n\")\n",
    "            f.write(f\"- **Revenue (TTM):** ${practice_data.data.get('Revenue_Trailing12', 0):,.0f}\\n\")\n",
    "            f.write(f\"- **EBITDA (TTM):** ${practice_data.data.get('EBITDA_Trailing12', 0):,.0f}\\n\")\n",
    "            f.write(f\"- **Total SDE:** ${practice_data.data.get('Total_SDE', 0):,.0f}\\n\")\n",
    "            f.write(f\"- **EBITDA Margin:** {practice_data.metrics.get('EBITDA_Margin', 0):.1f}%\\n\")\n",
    "            f.write(f\"- **Implied Value (EBITDA):** ${practice_data.metrics.get('Implied_Value_EBITDA', 0):,.0f}\\n\")\n",
    "            f.write(f\"\\n---\\n\\n\")\n",
    "            \n",
    "            # Add each Q&A\n",
    "            for i, result in enumerate(results, 1):\n",
    "                f.write(f\"## Question {i}\\n\\n\")\n",
    "                f.write(f\"**{result['question']}**\\n\\n\")\n",
    "                f.write(f\"### Answer\\n{result['answer']}\\n\\n\")\n",
    "                f.write(f\"---\\n\\n\")\n",
    "        \n",
    "        print(f\"\\n✅ Report saved to: {report_filename}\")\n",
    "    \n",
    "    print(\"\\n\" + \"=\"*70)\n",
    "    print(f\"✅ Processed {len(results)} questions successfully!\")\n",
    "    \n",
    "    return results\n",
    "\n",
    "# ===================================\n",
    "# DEMONSTRATION AND TESTING\n",
    "# ===================================\n",
    "\n",
    "# Make sure we have practice data loaded\n",
    "if 'practice_data' not in locals():\n",
    "    print(\"⚠️ Loading practice data first...\")\n",
    "    practice_data = DentalPracticeData(json_path=\"demo_clinic.json\")\n",
    "\n",
    "print(\"\\n\" + \"=\"*70)\n",
    "print(\"🚀 DENTAL PRACTICE VALUATION Q&A PIPELINE READY!\")\n",
    "print(\"=\"*70)\n",
    "\n",
    "# Demonstrate with a sample question\n",
    "demo_question = \"What is the SDE for this practice and explain how it's calculated?\"\n",
    "\n",
    "print(\"\\n📌 DEMO: Processing a sample question...\")\n",
    "print(f\"Question: '{demo_question}'\")\n",
    "print(\"-\"*70)\n",
    "\n",
    "# Process the question\n",
    "demo_result = process_question_with_visualizations(\n",
    "    question=demo_question,\n",
    "    practice_data=practice_data,\n",
    "    show_visualizations=True,\n",
    "    save_outputs=False  # Set to True to save files\n",
    ")\n",
    "\n",
    "# Display the formatted answer\n",
    "display_formatted_answer(demo_result)\n",
    "\n",
    "# Show available functions\n",
    "print(\"\\n\" + \"=\"*70)\n",
    "print(\"📚 AVAILABLE FUNCTIONS:\")\n",
    "print(\"=\"*70)\n",
    "print(\"\"\"\n",
    "1. process_question_with_visualizations()\n",
    "   - Main pipeline function\n",
    "   - Takes question → returns answer + visualizations\n",
    "   \n",
    "2. run_interactive_qa_session()\n",
    "   - Interactive mode for multiple questions\n",
    "   - Type questions one at a time\n",
    "   \n",
    "3. batch_process_questions()\n",
    "   - Process multiple questions at once\n",
    "   - Generate comprehensive reports\n",
    "\n",
    "4. Common question examples:\n",
    "   - \"What is this practice worth?\"\n",
    "   - \"Can the practice support its debt?\"\n",
    "   - \"How does profitability compare to industry?\"\n",
    "   - \"What are the key risks and opportunities?\"\n",
    "   - \"Calculate the buyer's after-tax cash flow\"\n",
    "\"\"\")\n",
    "\n",
    "print(\"\\n💡 TIP: To start an interactive session, run:\")\n",
    "print(\"   run_interactive_qa_session(practice_data)\")\n",
    "print(\"\\n✅ System fully integrated and ready for use!\")\n",
    "print(\"=\"*70)"
   ]
  },
  {
   "cell_type": "code",
   "execution_count": null,
   "id": "ad2d5a40-03e1-4da8-8ee9-923b718ec43c",
   "metadata": {},
   "outputs": [],
   "source": []
  }
 ],
 "metadata": {
  "kernelspec": {
   "display_name": "Python 3 (ipykernel)",
   "language": "python",
   "name": "python3"
  },
  "language_info": {
   "codemirror_mode": {
    "name": "ipython",
    "version": 3
   },
   "file_extension": ".py",
   "mimetype": "text/x-python",
   "name": "python",
   "nbconvert_exporter": "python",
   "pygments_lexer": "ipython3",
   "version": "3.11.7"
  }
 },
 "nbformat": 4,
 "nbformat_minor": 5
}
